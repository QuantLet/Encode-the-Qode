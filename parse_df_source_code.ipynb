{
 "cells": [
  {
   "cell_type": "code",
   "execution_count": 6,
   "metadata": {},
   "outputs": [],
   "source": [
    "import os\n",
    "import pandas as pd\n",
    "import time\n",
    "import re\n",
    "import tqdm\n",
    "from ast import literal_eval"
   ]
  },
  {
   "cell_type": "code",
   "execution_count": 7,
   "metadata": {},
   "outputs": [],
   "source": [
    "PATH = './data/sorted/python/prepared'\n",
    "REPOS = os.listdir(PATH)\n",
    "DEV = True\n",
    "REMOVE_ONE_LETTER = True\n",
    "\n",
    "\n",
    "if DEV: \n",
    "    f = 'DeepLearning'"
   ]
  },
  {
   "cell_type": "code",
   "execution_count": 8,
   "metadata": {},
   "outputs": [],
   "source": [
    "df = pd.read_csv('./data/python_quantlets.csv', converters={'Sourcecode': literal_eval})"
   ]
  },
  {
   "cell_type": "code",
   "execution_count": 4,
   "metadata": {},
   "outputs": [],
   "source": [
    "df = pd.read_csv('./data/python_quantlets.csv', converters={'Sourcecode': literal_eval})\n",
    "df = df.explode('Sourcecode')\n",
    "df = df[df.Sourcecode!='BEGINNING OF CODE']\n",
    "df['Sourcecode'] = df['Sourcecode'].apply(lambda x: ' '.join(x))\n",
    "df = df.reset_index(drop=True)\n",
    "\n",
    "if DEV:\n",
    "    df = df[~df.Sourcecode.str.startswith('{')]"
   ]
  },
  {
   "cell_type": "code",
   "execution_count": 5,
   "metadata": {},
   "outputs": [],
   "source": [
    "def parse_imports(code):\n",
    "    pattern_import = re.compile('(?<=import\\s)\\w+')\n",
    "    matches_import = pattern_import.findall(code)\n",
    "\n",
    "    pattern_from = re.compile('(?<=from\\s)[\\w|.]+(?=\\simport)')\n",
    "    matches_from = pattern_from.findall(df.Sourcecode[0])\n",
    "\n",
    "    matches_import.extend(matches_from)\n",
    "    return ' '.join(matches_import)\n",
    "\n",
    "\n",
    "def parse_func_name(code):\n",
    "    pattern = re.compile('(?<=def\\s)[\\w|.]+(?=\\()')\n",
    "    matches = pattern.findall(code)\n",
    "    return ' '.join(matches)\n",
    "\n",
    "\n",
    "def parse_func_args(code, one_letter_removal=True):\n",
    "    pattern = re.compile('(?<=def).+(?=\\))')\n",
    "    matches = pattern.findall(code)\n",
    "    final_matches = ''\n",
    "    for match in matches:\n",
    "        final_matches += match.split('(')[1]\n",
    "    final_matches = final_matches.replace(',', ' ')\n",
    "\n",
    "    if one_letter_removal:\n",
    "        new_matches = []\n",
    "        for word in final_matches.split(' '):\n",
    "            if len(word)>1:\n",
    "                new_matches.append(word)\n",
    "\n",
    "        final_matches = ' '.join(new_matches)\n",
    "\n",
    "    #print(new_matches)\n",
    "\n",
    "    return final_matches\n",
    "\n",
    "def parse_vars(code):\n",
    "    pass\n",
    "\n",
    "def parse_all(code):\n",
    "    pattern = re.compile('(?<=import\\s)\\w+|(?<=from\\s)[\\w|.]+(?=\\simport)|(?<=def\\s).+(?=\\))|(?<=#).+')\n",
    "    matches = pattern.findall(code)\n",
    "    new_matches = []\n",
    "    for match in matches:\n",
    "        if '(' in match:\n",
    "            new_matches.extend(match.split('('))\n",
    "        else:\n",
    "            new_matches.append(match)\n",
    "        \n",
    "    return ' '.join(new_matches).replace(',', ' ')\n",
    "\n",
    "def parse_comments(code):\n",
    "    pattern = re.compile('(?<=#).+')#|(?<=\\\"\\\"\\\")(?s).+(?=\\\"\\\"\\\")\n",
    "    matches = pattern.findall(code)\n",
    "    return matches\n",
    "\n",
    "def parse_docstrings(code):\n",
    "    pattern = re.compile('(?<=\\\"\\\"\\\")(?s).+?(?=\\\"\\\"\\\")')\n",
    "    matches = pattern.findall(code)\n",
    "    return matches\n",
    "    \n"
   ]
  },
  {
   "cell_type": "code",
   "execution_count": 6,
   "metadata": {},
   "outputs": [],
   "source": [
    "df['ParsedSource'] = df.Sourcecode.apply(parse_all)"
   ]
  },
  {
   "cell_type": "code",
   "execution_count": 7,
   "metadata": {},
   "outputs": [],
   "source": [
    "df['num_parsed_code_tokens'] = df['ParsedSource'].apply(lambda x: len(x.split()))"
   ]
  },
  {
   "cell_type": "code",
   "execution_count": 21,
   "metadata": {},
   "outputs": [],
   "source": [
    "df.to_csv('data/parsed_source_code_df.csv', index=False)"
   ]
  },
  {
   "cell_type": "code",
   "execution_count": null,
   "metadata": {},
   "outputs": [],
   "source": [
    "# TODOS:\n",
    "\n",
    "# remove ------- from comments\n",
    "# remove ##### from comments\n",
    "# remove one letter variables\n",
    "# remove \n",
    "# split Camel Cases\n",
    "# split on _ \n",
    "# split on ."
   ]
  },
  {
   "cell_type": "code",
   "execution_count": null,
   "metadata": {},
   "outputs": [],
   "source": [
    "##### ENCODE THE DESCRIPTION"
   ]
  },
  {
   "cell_type": "code",
   "execution_count": null,
   "metadata": {},
   "outputs": [],
   "source": [
    "##### ENCODE THE CODE"
   ]
  },
  {
   "cell_type": "code",
   "execution_count": null,
   "metadata": {},
   "outputs": [],
   "source": [
    "##### ENCODE THE KEYWORDS"
   ]
  }
 ],
 "metadata": {
  "interpreter": {
   "hash": "b5068c5f83f27504f643fbd77082c0ce556ae27ae78fa94fc3f8daafe95bc05c"
  },
  "kernelspec": {
   "display_name": "Python 3.9.12 ('encode_code')",
   "language": "python",
   "name": "python3"
  },
  "language_info": {
   "codemirror_mode": {
    "name": "ipython",
    "version": 3
   },
   "file_extension": ".py",
   "mimetype": "text/x-python",
   "name": "python",
   "nbconvert_exporter": "python",
   "pygments_lexer": "ipython3",
   "version": "3.9.12"
  },
  "orig_nbformat": 4
 },
 "nbformat": 4,
 "nbformat_minor": 2
}

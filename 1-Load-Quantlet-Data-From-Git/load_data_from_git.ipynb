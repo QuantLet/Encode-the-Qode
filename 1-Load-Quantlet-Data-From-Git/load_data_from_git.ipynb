{
 "cells": [
  {
   "cell_type": "markdown",
   "metadata": {},
   "source": [
    "## Load Quantlets from GitHub\n",
    "\n",
    "Objective: to load Quantlet repositories to local machine.\n",
    "\n",
    "***Note***: you need the *token.txt* file with the GitHub API token to access the Quanlet/LvB org. "
   ]
  },
  {
   "cell_type": "markdown",
   "metadata": {},
   "source": [
    "#### 1. Preparations"
   ]
  },
  {
   "cell_type": "code",
   "execution_count": null,
   "metadata": {},
   "outputs": [],
   "source": [
    "##### IMPORT DEPENDENCIES\n",
    "\n",
    "from github import Github # type: ignore\n",
    "import os\n",
    "import time\n",
    "import subprocess\n",
    "\n",
    "##### CONSTANTS AND PATHS\n",
    "\n",
    "DATA_PATH = \"../../data\"\n",
    "POST_CLEANUP = False"
   ]
  },
  {
   "cell_type": "markdown",
   "metadata": {},
   "source": [
    "2. Loading Quantlet repositories' names usign GitHub API"
   ]
  },
  {
   "cell_type": "code",
   "execution_count": null,
   "metadata": {},
   "outputs": [],
   "source": [
    "##### CONNECT TO THE QUANTLET REPO\n",
    "\n",
    "# Read the token\n",
    "try: \n",
    "    with open('token.txt') as f:\n",
    "        token = f.readlines()[0]\n",
    "except FileNotFoundError:\n",
    "    print('Token file not found, please add it to the 1-Load-Quantlet-Data-From-Git directory or paste it below')\n",
    "\n",
    "# or paste it here\n",
    "if 'token' not in globals():\n",
    "    token =   'YOUR TOKEN'\n",
    "\n",
    "# authenticate using the token\n",
    "g = Github(token)\n",
    "\n",
    "# Logging into the organization\n",
    "org = g.get_organization(\"QuantLet\")\n",
    "org.login"
   ]
  },
  {
   "cell_type": "code",
   "execution_count": null,
   "metadata": {},
   "outputs": [],
   "source": [
    "##### LIST AND INDEX QUANTLETS\n",
    "\n",
    "names = []\n",
    "for element in org.get_repos(type='public'):\n",
    "   names.append(element.full_name)\n",
    "\n",
    "if os.path.exists(os.path.join(DATA_PATH, 'QuantLet')):\n",
    "    existing_Qs = os.listdir(os.path.join(DATA_PATH, 'QuantLet'))\n",
    "    existing_Qs = [f'QuantLet/{quantlet}'for quantlet in existing_Qs]\n",
    "    print(f'Number of existing Quantlets: {len(existing_Qs)}')\n",
    "else:\n",
    "    existing_Qs = []\n",
    "    print('Number of existing Quantlets: 0')\n",
    "\n",
    "new_Qs = set(names).difference(existing_Qs)\n",
    "print(f'Number of new Quantlets: {len(new_Qs)}')"
   ]
  },
  {
   "cell_type": "code",
   "execution_count": null,
   "metadata": {},
   "outputs": [],
   "source": [
    "##### CLONE REPOSITORIES AS IS\n",
    "\n",
    "for i, name in enumerate(new_Qs):\n",
    "    print(i)\n",
    "    print(name)\n",
    "    subprocess.Popen(f\"git clone https://github.com/{name} {DATA_PATH}/{name}\", shell=True)\n",
    "    if i%10==0:\n",
    "        time.sleep(60)\n",
    "    else:\n",
    "        time.sleep(15)"
   ]
  },
  {
   "cell_type": "code",
   "execution_count": null,
   "metadata": {},
   "outputs": [],
   "source": [
    "##### REMOVE GIT FILES FROM DIRECTORIES\n",
    "\n",
    "if POST_CLEANUP:\n",
    "    for i, (root, directories, files) in enumerate(os.walk(\"data/QuantLet/\")):\n",
    "            if '.git' in directories:\n",
    "                print(root)\n",
    "            for file in files:\n",
    "                if file.split(\".\")[-1] in set([\"png\", \"jpg\"]):                 \n",
    "                    os.remove(os.path.join(root, file))"
   ]
  }
 ],
 "metadata": {
  "kernelspec": {
   "display_name": "encode_code",
   "language": "python",
   "name": "python3"
  },
  "language_info": {
   "codemirror_mode": {
    "name": "ipython",
    "version": 3
   },
   "file_extension": ".py",
   "mimetype": "text/x-python",
   "name": "python",
   "nbconvert_exporter": "python",
   "pygments_lexer": "ipython3",
   "version": "3.9.12"
  },
  "orig_nbformat": 4
 },
 "nbformat": 4,
 "nbformat_minor": 2
}

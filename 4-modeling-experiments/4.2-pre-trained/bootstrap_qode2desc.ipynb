{
 "cells": [
  {
   "cell_type": "code",
   "execution_count": null,
   "metadata": {
    "id": "JZal6ahJZQBU",
    "tags": []
   },
   "outputs": [],
   "source": [
    "%%capture\n",
    "#%pip install protobuf==3.20.1\n",
    "%pip install transformers[torch]\n",
    "%pip install -q sentencepiece\n",
    "%pip install datasets==2.13.1\n",
    "%pip install evaluate\n",
    "%pip install rouge_score\n",
    "#%pip install git+https://github.com/huggingface/nlp.git@fix-bad-type-in-overflow-check"
   ]
  },
  {
   "cell_type": "code",
   "execution_count": null,
   "metadata": {
    "id": "O5Mlzgdzaliu",
    "tags": []
   },
   "outputs": [],
   "source": [
    "import os\n",
    "QPATH = \"Quantlet/4-qode2desc\"\n",
    "os.environ[\"CUDA_VISIBLE_DEVICES\"] = \"1\"\n",
    "\n",
    "os.environ[\"TOKENIZERS_PARALLELISM\"] = \"false\"\n",
    "os.environ[\"WANDB_DISABLED\"] = \"true\""
   ]
  },
  {
   "cell_type": "code",
   "execution_count": null,
   "metadata": {
    "id": "oRmp1O7SZgaI",
    "tags": []
   },
   "outputs": [],
   "source": [
    "import sys\n",
    "IN_COLAB = 'google.colab' in sys.modules\n",
    "\n",
    "import os\n",
    "if IN_COLAB:\n",
    "  os.chdir(f'/content/drive/MyDrive/ColabNotebooks/IRTG/Encode_the_Qode/Encode-the-Qode/{QPATH}')\n",
    "\n",
    "import pickle\n",
    "import json\n",
    "import re\n",
    "import sys\n",
    "from IPython.display import display\n",
    "import datetime\n",
    "\n",
    "from tqdm import tqdm\n",
    "import pandas as pd\n",
    "import numpy as np\n",
    "tqdm.pandas()\n",
    "\n",
    "\n",
    "import matplotlib.pyplot as plt\n",
    "import seaborn as sns\n",
    "\n",
    "import torch\n",
    "from torch.utils.data import  DataLoader\n",
    "from transformers import AutoTokenizer, AutoModelWithLMHead, SummarizationPipeline\n",
    "from transformers import AdamW\n",
    "from datasets import load_dataset\n",
    "\n",
    "from transformers import (\n",
    "    AutoModelForSeq2SeqLM,\n",
    "    AutoTokenizer,\n",
    "    Seq2SeqTrainingArguments,\n",
    "    Seq2SeqTrainer,\n",
    "    DataCollatorForSeq2Seq\n",
    ")\n",
    "\n",
    "import nltk\n",
    "nltk.download('punkt')\n",
    "import evaluate\n",
    "\n",
    "from sklearn.model_selection import train_test_split\n",
    "\n",
    "import importlib\n",
    "import analysis_modules\n",
    "importlib.reload(analysis_modules)\n",
    "\n",
    "import torch, gc"
   ]
  },
  {
   "cell_type": "code",
   "execution_count": null,
   "metadata": {
    "id": "CbZX3Y3_q1pw",
    "tags": []
   },
   "outputs": [],
   "source": [
    "#model_name = '../4-qode2desc/reports/analysis_report_CodeT5_no_context_test_20231104/results/checkpoint-11000'\n",
    "#model_name = 'CodeT5'\n",
    "model_name = \"../4-qode2desc/reports/analysis_report_CodeT5_no_context_test_20231119_normal/results/checkpoint-11400\"\n",
    "SAMPLE = 'test'\n",
    "if SAMPLE == 'test':\n",
    "  load_best_model_at_end=False\n",
    "else:\n",
    "  load_best_model_at_end=None\n",
    "\n",
    "# tokenization\n",
    "encoder_max_length = 512\n",
    "decoder_max_length = 150\n",
    "RS = 42\n",
    "LR = 5e-5\n",
    "\n",
    "EPOCHS = 10\n",
    "TRAIN_BATCH = 16\n",
    "EVAL_BATCH  = 4\n",
    "\n",
    "WARMUP_STEPS  = 500\n",
    "WEIGHT_DECAY  = 0.1\n",
    "LOGGING_STEPS = 100\n",
    "SAVE_TOTAL_LIM = 1\n",
    "SAVE_STRATEGY = 'no'\n",
    "\n",
    "LABEL_SMOOTHING  = 0.1\n",
    "PREDICT_GENERATE = True\n",
    "\n",
    "EVAL_COLUMNS = ['eval_loss',\n",
    "                'eval_rouge1',\n",
    "                'eval_rouge2',\n",
    "                'eval_rougeL',\n",
    "                'eval_rougeLsum',\n",
    "                'eval_bleu',\n",
    "                'eval_gen_len']\n",
    "\n",
    "DATE = str(datetime.date.today())\n",
    "\n",
    "analysis_name = 'FT_test_CodeT5_bootstrap'\n",
    "print(analysis_name)"
   ]
  },
  {
   "cell_type": "code",
   "execution_count": null,
   "metadata": {
    "id": "FRHaw5S7X81D",
    "tags": []
   },
   "outputs": [],
   "source": [
    "gc.collect()\n",
    "torch.cuda.empty_cache()"
   ]
  },
  {
   "cell_type": "code",
   "execution_count": null,
   "metadata": {
    "tags": []
   },
   "outputs": [],
   "source": [
    "DATA_PATH = '20231119_normal'\n",
    "MODE = 'no_context'"
   ]
  },
  {
   "cell_type": "code",
   "execution_count": null,
   "metadata": {
    "id": "9t6d_nrX_lyy",
    "tags": []
   },
   "outputs": [],
   "source": [
    "print(analysis_name)\n",
    "analysis_modules.bootstrap_inference(analysis_name=analysis_name,\n",
    "                                    model_name=model_name,\n",
    "                                    train_data_path=f'../../data/preprocessed/Quantlet/20231119_normal/{MODE}/',\n",
    "                                    train_data_name='full_train_dataset_20231119_normal_sample0.json',\n",
    "                                    val_data_path='../../data/preprocessed/Quantlet/20231119_normal/',\n",
    "                                    val_data_names_list=[f'test_dataset_sample_{i}.json' for i in range(1, 35)],\n",
    "                                    encoder_max_length=encoder_max_length,\n",
    "                                    decoder_max_length=decoder_max_length,\n",
    "                                    random_state=RS,\n",
    "                                    eval_columns_list=EVAL_COLUMNS,\n",
    "                                    learning_rate=LR,\n",
    "                                    epochs=EPOCHS,\n",
    "                                    train_batch=TRAIN_BATCH,\n",
    "                                    eval_batch=EVAL_BATCH,\n",
    "                                    warmup_steps=WARMUP_STEPS,\n",
    "                                    weight_decay=WEIGHT_DECAY,\n",
    "                                    logging_stes=LOGGING_STEPS,\n",
    "                                    save_total_lim=SAVE_TOTAL_LIM,\n",
    "                                    save_strategy=SAVE_STRATEGY,\n",
    "                                    label_smooting=LABEL_SMOOTHING,\n",
    "                                    predict_generate=PREDICT_GENERATE,\n",
    "                                    load_best_model_at_end=load_best_model_at_end,\n",
    "                                    evaluate_only=True)"
   ]
  },
  {
   "cell_type": "code",
   "execution_count": null,
   "metadata": {
    "id": "Lvb_iN2_baaL"
   },
   "outputs": [],
   "source": []
  }
 ],
 "metadata": {
  "accelerator": "GPU",
  "colab": {
   "authorship_tag": "ABX9TyO/v0Z3w/bEcCkq77W4hBCx",
   "gpuType": "A100",
   "machine_shape": "hm",
   "mount_file_id": "1VvL_ce0aHieT6ZSJRa9LRzL9o5rBJhfC",
   "private_outputs": true,
   "provenance": []
  },
  "kernelspec": {
   "display_name": "Python 3 (ipykernel)",
   "language": "python",
   "name": "python3"
  },
  "language_info": {
   "codemirror_mode": {
    "name": "ipython",
    "version": 3
   },
   "file_extension": ".py",
   "mimetype": "text/x-python",
   "name": "python",
   "nbconvert_exporter": "python",
   "pygments_lexer": "ipython3",
   "version": "3.9.12"
  }
 },
 "nbformat": 4,
 "nbformat_minor": 4
}

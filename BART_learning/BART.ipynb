{
 "cells": [
  {
   "cell_type": "markdown",
   "metadata": {},
   "source": [
    "from transformers import pipeline\n",
    "\n",
    "summarizer = pipeline(\"summarization\", model=\"facebook/bart-large-cnn\")\n",
    "\n",
    "ARTICLE = \"\"\" New York (CNN)When Liana Barrientos was 23 years old, she got married in Westchester County, New York.\n",
    "A year later, she got married again in Westchester County, but to a different man and without divorcing her first husband.\n",
    "Only 18 days after that marriage, she got hitched yet again. Then, Barrientos declared \"I do\" five more times, sometimes only within two weeks of each other.\n",
    "In 2010, she married once more, this time in the Bronx. In an application for a marriage license, she stated it was her \"first and only\" marriage.\n",
    "Barrientos, now 39, is facing two criminal counts of \"offering a false instrument for filing in the first degree,\" referring to her false statements on the\n",
    "2010 marriage license application, according to court documents.\n",
    "Prosecutors said the marriages were part of an immigration scam.\n",
    "On Friday, she pleaded not guilty at State Supreme Court in the Bronx, according to her attorney, Christopher Wright, who declined to comment further.\n",
    "After leaving court, Barrientos was arrested and charged with theft of service and criminal trespass for allegedly sneaking into the New York subway through an emergency exit, said Detective\n",
    "Annette Markowski, a police spokeswoman. In total, Barrientos has been married 10 times, with nine of her marriages occurring between 1999 and 2002.\n",
    "All occurred either in Westchester County, Long Island, New Jersey or the Bronx. She is believed to still be married to four men, and at one time, she was married to eight men at once, prosecutors say.\n",
    "Prosecutors said the immigration scam involved some of her husbands, who filed for permanent residence status shortly after the marriages.\n",
    "Any divorces happened only after such filings were approved. It was unclear whether any of the men will be prosecuted.\n",
    "The case was referred to the Bronx District Attorney\\'s Office by Immigration and Customs Enforcement and the Department of Homeland Security\\'s\n",
    "Investigation Division. Seven of the men are from so-called \"red-flagged\" countries, including Egypt, Turkey, Georgia, Pakistan and Mali.\n",
    "Her eighth husband, Rashid Rajput, was deported in 2006 to his native Pakistan after an investigation by the Joint Terrorism Task Force.\n",
    "If convicted, Barrientos faces up to four years in prison.  Her next court appearance is scheduled for May 18.\n",
    "\"\"\"\n",
    "print(summarizer(ARTICLE, max_length=130, min_length=30, do_sample=False))"
   ]
  },
  {
   "cell_type": "markdown",
   "metadata": {},
   "source": [
    "! pip install transformers --upgrade"
   ]
  },
  {
   "cell_type": "markdown",
   "metadata": {},
   "source": [
    "! pip install transformers\n",
    "! pip install datasets\n",
    "! pip install sentencepiece\n",
    "! pip install rouge_score\n",
    "! pip install tabulate\n"
   ]
  },
  {
   "cell_type": "code",
   "execution_count": 6,
   "metadata": {},
   "outputs": [],
   "source": [
    "import torch\n",
    "import numpy as np\n",
    "import datasets\n",
    "\n",
    "from transformers import (\n",
    "    AutoModelForSeq2SeqLM,\n",
    "    AutoTokenizer,\n",
    "    Seq2SeqTrainingArguments,\n",
    "    Seq2SeqTrainer,\n",
    "    DataCollatorForSeq2Seq\n",
    ")\n",
    "\n",
    "import nltk\n",
    "from datetime import datetime"
   ]
  },
  {
   "cell_type": "code",
   "execution_count": 7,
   "metadata": {},
   "outputs": [],
   "source": [
    "model_name = \"sshleifer/distilbart-xsum-12-3\""
   ]
  },
  {
   "cell_type": "code",
   "execution_count": 8,
   "metadata": {},
   "outputs": [],
   "source": [
    "model = AutoModelForSeq2SeqLM.from_pretrained(model_name)\n",
    "tokenizer = AutoTokenizer.from_pretrained(model_name)"
   ]
  },
  {
   "cell_type": "code",
   "execution_count": 9,
   "metadata": {},
   "outputs": [
    {
     "name": "stdout",
     "output_type": "stream",
     "text": [
      "BartConfig {\n",
      "  \"_name_or_path\": \"sshleifer/distilbart-xsum-12-3\",\n",
      "  \"_num_labels\": 3,\n",
      "  \"activation_dropout\": 0.0,\n",
      "  \"activation_function\": \"gelu\",\n",
      "  \"add_bias_logits\": false,\n",
      "  \"add_final_layer_norm\": false,\n",
      "  \"architectures\": [\n",
      "    \"BartForConditionalGeneration\"\n",
      "  ],\n",
      "  \"attention_dropout\": 0.1,\n",
      "  \"bos_token_id\": 0,\n",
      "  \"classif_dropout\": 0.0,\n",
      "  \"classifier_dropout\": 0.0,\n",
      "  \"d_model\": 1024,\n",
      "  \"decoder_attention_heads\": 16,\n",
      "  \"decoder_ffn_dim\": 4096,\n",
      "  \"decoder_layerdrop\": 0.0,\n",
      "  \"decoder_layers\": 3,\n",
      "  \"decoder_start_token_id\": 2,\n",
      "  \"dropout\": 0.1,\n",
      "  \"early_stopping\": true,\n",
      "  \"encoder_attention_heads\": 16,\n",
      "  \"encoder_ffn_dim\": 4096,\n",
      "  \"encoder_layerdrop\": 0.0,\n",
      "  \"encoder_layers\": 12,\n",
      "  \"eos_token_id\": 2,\n",
      "  \"eos_token_ids\": [\n",
      "    2\n",
      "  ],\n",
      "  \"extra_pos_embeddings\": 2,\n",
      "  \"force_bos_token_to_be_generated\": false,\n",
      "  \"forced_eos_token_id\": 2,\n",
      "  \"gradient_checkpointing\": false,\n",
      "  \"id2label\": {\n",
      "    \"0\": \"LABEL_0\",\n",
      "    \"1\": \"LABEL_1\",\n",
      "    \"2\": \"LABEL_2\"\n",
      "  },\n",
      "  \"init_std\": 0.02,\n",
      "  \"is_encoder_decoder\": true,\n",
      "  \"label2id\": {\n",
      "    \"LABEL_0\": 0,\n",
      "    \"LABEL_1\": 1,\n",
      "    \"LABEL_2\": 2\n",
      "  },\n",
      "  \"max_length\": 62,\n",
      "  \"max_position_embeddings\": 1024,\n",
      "  \"min_length\": 11,\n",
      "  \"model_type\": \"bart\",\n",
      "  \"no_repeat_ngram_size\": 3,\n",
      "  \"normalize_before\": false,\n",
      "  \"normalize_embedding\": true,\n",
      "  \"num_beams\": 6,\n",
      "  \"num_hidden_layers\": 12,\n",
      "  \"output_past\": true,\n",
      "  \"pad_token_id\": 1,\n",
      "  \"prefix\": \" \",\n",
      "  \"save_step\": 58,\n",
      "  \"scale_embedding\": false,\n",
      "  \"static_position_embeddings\": false,\n",
      "  \"task_specific_params\": {},\n",
      "  \"transformers_version\": \"4.27.4\",\n",
      "  \"use_cache\": true,\n",
      "  \"vocab_size\": 50264\n",
      "}\n",
      "\n"
     ]
    }
   ],
   "source": [
    "print(model.config)"
   ]
  },
  {
   "cell_type": "code",
   "execution_count": 10,
   "metadata": {},
   "outputs": [],
   "source": [
    "# tokenization\n",
    "encoder_max_length = 256  # demo\n",
    "decoder_max_length = 64"
   ]
  },
  {
   "cell_type": "code",
   "execution_count": 11,
   "metadata": {},
   "outputs": [
    {
     "name": "stderr",
     "output_type": "stream",
     "text": [
      "No config specified, defaulting to: wiki_lingua/english\n",
      "Found cached dataset wiki_lingua (/home/RDC/zinovyee.hub/.cache/huggingface/datasets/wiki_lingua/english/1.1.1/dad5f0710d1bb1a2ed1eb7633802fe147ebd27a3812985f5641bb7aca6ba5c08)\n"
     ]
    },
    {
     "name": "stdout",
     "output_type": "stream",
     "text": [
      "section_name\n",
      "['Finding Other Transportation', 'Designating a Driver', 'Staying Safe']\n",
      "document\n",
      "['make sure that the area is a safe place, especially if you plan on walking home at night.  It’s always a good idea to practice the buddy system.  Have a friend meet up and walk with you. Research the bus, train, or streetcar routes available in your area to find safe and affordable travel to your destination.  Make sure you check the schedule for your outgoing and return travel.  Some public transportation will cease to run late at night.  Be sure if you take public transportation to the venue that you will also be able to get home late at night. Check the routes.  Even if some public transit is still running late at night, the routing may change.  Some may run express past many of the stops, or not travel all the way to the ends.  Be sure that your stop will still be available when you need it for your return trip. If you are taking public transit in a vulnerable state after drinking, it is always a good idea to travel in groups.  Having friends available is a good way to stay safe and make sure that you reach your destination. This is more expensive option than a taxi or ride share service, but could be a fun and fancy way to stay safe and ensure that you will have a ride home. Plan this service in advance with a scheduled time to pick you up from your home and the venue.  You want to be sure that the service will still be available when you need to get home. This may be easy in a large city, but taxis may be less frequent in smaller towns.  This is especially true late at night, so this is a less reliable option than scheduling a ride in advance.  Have a friend accompany you and help you flag a cab to make sure you are able to get one. Set up a plan to call a friend when you get home to make sure that you made it safely to your destination. If there are no taxis readily available call a local service to send a car to pick you up. You can share a ride with your friends, or other people using the app at the same moment.  If you are in a vulnerable state it is best to share the ride with your friends to make sure you get home safe. You can request the car to yourself rather than sharing rides with strangers. If you travel home on your own or are the last of your group to be dropped off, make plans to call a friend when you get home so they know you made it safely to your destination. There may be a designated driver service in your area which can chauffeur your group.  Make reservations with them in advance and keep their contact information handy while you are drinking.', \"Designating a driver is a very popular tactic to avoid drinking and driving.  It is important to plan in advance, because your brain function will slow down and your decision making skills will be impaired once you start drinking. Decide before you begin drinking that you will not drive.  Figure out who will be getting you home before you leave. Make sure this person is responsible and keep them in your sight while you are drinking.  Have their contact information handy in case you can’t find them when you are ready to leave.  Choose a friend who doesn’t drink alcohol.  You likely have someone in your friend group who doesn’t drink.  This person is the most likely to remain sober. Decide on one person who will remain sober.  You can take turns within your friend group, alternating who will be the designated driver on each occasion.  Be sure that the designated driver actually remains sober.  The person who has drank the least is still not sober. If you don’t have your car with you, you can guarantee that you won’t make the choice to drive it home. If you are drinking at your home.  Give your keys to a responsible friend to ensure that you don't choose to drive somewhere after you have been drinking. It may be tempting to stay longer or leave with someone else.  Stick to the plan you made in advance and only leave with your sober, designated driver.  Keep the phone number of your driver handy in case you can't find them when you are ready to leave. If your designated driver drinks alcohol, find alternate transportation to get home.\", 'If you have been drinking at all you are at least on the spectrum of drunkenness.  You could be showing signs of impairment and slower brain function including lack of motor skills and slower reaction time, leading to the inability to operate a motor vehicle.  Some of these signs could be:  Poor balance or stumbling.  Difficulty speaking clearly and slurred words.  Abnormal behavior leading to you doing things you wouldn’t normally do if you were sober. As soon as you notice that you are showing signs of impairment, give your keys to a friend, the host or the bartender to ensure that you won’t drive until you are sober.  Make sure to only give them your car key.  Hold onto your house keys. If your friend, the host or the bartender are advising you not to drive, you are likely too drunk.  Listen to their advice and acknowledge that they are trying to help you. Bystander intervention is common when it comes to drinking and driving.  Many people will be willing to step in, take your keys and help you get home safely.  If no one if offering to help, you may need to ask.  Take a ride from a sober friend.  It is best to get in a car with someone you trust when you are in this vulnerable state. Allow the host or bartender to call a cab or car service to take you home. If you are having a difficult time finding a safe way to get home, find a place to stay which does not involve you driving.  Ask the host of the party if there is a place you can sleep.  Give them your keys and ask that they keep them in a safe place until the morning. Stay with a friend if they live nearby and are on their way home. Find a hotel within walking distance.  Call them to book a room, or have a friend help you secure one.  Ask the friend if they will walk you to the hotel and make sure you get checked in safely. There are people in your life who care about you and want to be sure that you are safe.  It may seem scary or embarrassing to call your parents or your siblings if you are too drunk to drive, but they will be glad you did.  Your safety is the most important. You may need your phone to call someone for a ride or get help from a friend.  Be sure to charge your phone before you leave the house.  It is also a good idea to bring a charger with you in case your battery dies before the end of the night or you end up staying where you are and need to get home the next morning. You may also want to invest in a portable battery charger for your phone should there not be a power outlet available.  Make sure it is fully charged before you leave your house.  Keep it handy in your pocket or your bag throughout the night.']\n",
      "summary\n",
      "['Walk to the venue where you will be drinking if it is close enough. Take public transit. Show up in style by hiring a limo or black car service. Flag a taxi cab for a convenient option to get where you’re going. Request a rideshare service like Uber or Lyft using an app on your phone. Reserve a designated driver service.', 'Plan in advance. Assign a designated driver. Leave your car at home. Leave the venue with your designated driver.', 'Pay attention to your body. Give up your keys. Listen to other people. Accept help. Stay where you are. Have an emergency back-up plan. Make sure that your phone is charged.']\n"
     ]
    }
   ],
   "source": [
    "data = datasets.load_dataset(\"wiki_lingua\", split=\"train[:2000]\")\n",
    "\n",
    "# Take a look at the data\n",
    "for k, v in data[\"article\"][0].items():\n",
    "    print(k)\n",
    "    print(v)"
   ]
  },
  {
   "cell_type": "code",
   "execution_count": 12,
   "metadata": {},
   "outputs": [
    {
     "name": "stderr",
     "output_type": "stream",
     "text": [
      "Loading cached processed dataset at /home/RDC/zinovyee.hub/.cache/huggingface/datasets/wiki_lingua/english/1.1.1/dad5f0710d1bb1a2ed1eb7633802fe147ebd27a3812985f5641bb7aca6ba5c08/cache-08652080026855d2.arrow\n",
      "Loading cached processed dataset at /home/RDC/zinovyee.hub/.cache/huggingface/datasets/wiki_lingua/english/1.1.1/dad5f0710d1bb1a2ed1eb7633802fe147ebd27a3812985f5641bb7aca6ba5c08/cache-6aacdb450ac52973.arrow\n"
     ]
    }
   ],
   "source": [
    "def flatten(example):\n",
    "    return {\n",
    "        \"document\": example[\"article\"][\"document\"],\n",
    "        \"summary\": example[\"article\"][\"summary\"],\n",
    "    }\n",
    "\n",
    "\n",
    "def list2samples(example):\n",
    "    documents = []\n",
    "    summaries = []\n",
    "    for sample in zip(example[\"document\"], example[\"summary\"]):\n",
    "        if len(sample[0]) > 0:\n",
    "            documents += sample[0]\n",
    "            summaries += sample[1]\n",
    "    return {\"document\": documents, \"summary\": summaries}\n",
    "\n",
    "\n",
    "dataset = data.map(flatten, remove_columns=[\"article\", \"url\"])\n",
    "dataset = dataset.map(list2samples, batched=True)\n",
    "\n",
    "train_data_txt, validation_data_txt = dataset.train_test_split(test_size=0.1).values()"
   ]
  },
  {
   "cell_type": "code",
   "execution_count": 13,
   "metadata": {},
   "outputs": [
    {
     "data": {
      "text/plain": [
       "Dataset({\n",
       "    features: ['document', 'summary'],\n",
       "    num_rows: 4351\n",
       "})"
      ]
     },
     "execution_count": 13,
     "metadata": {},
     "output_type": "execute_result"
    }
   ],
   "source": [
    "train_data_txt"
   ]
  },
  {
   "cell_type": "code",
   "execution_count": 14,
   "metadata": {},
   "outputs": [
    {
     "data": {
      "application/vnd.jupyter.widget-view+json": {
       "model_id": "adbd4fc71cc44bf9a1c28a84b68747b8",
       "version_major": 2,
       "version_minor": 0
      },
      "text/plain": [
       "Map:   0%|          | 0/4351 [00:00<?, ? examples/s]"
      ]
     },
     "metadata": {},
     "output_type": "display_data"
    },
    {
     "data": {
      "application/vnd.jupyter.widget-view+json": {
       "model_id": "545f35bf9d3e497b80bfd2bba565dccd",
       "version_major": 2,
       "version_minor": 0
      },
      "text/plain": [
       "Map:   0%|          | 0/484 [00:00<?, ? examples/s]"
      ]
     },
     "metadata": {},
     "output_type": "display_data"
    }
   ],
   "source": [
    "def batch_tokenize_preprocess(batch, tokenizer, max_source_length, max_target_length):\n",
    "    source, target = batch[\"document\"], batch[\"summary\"]\n",
    "    source_tokenized = tokenizer(\n",
    "        source, padding=\"max_length\", truncation=True, max_length=max_source_length\n",
    "    )\n",
    "    target_tokenized = tokenizer(\n",
    "        target, padding=\"max_length\", truncation=True, max_length=max_target_length\n",
    "    )\n",
    "\n",
    "    batch = {k: v for k, v in source_tokenized.items()}\n",
    "    # Ignore padding in the loss\n",
    "    batch[\"labels\"] = [\n",
    "        [-100 if token == tokenizer.pad_token_id else token for token in l]\n",
    "        for l in target_tokenized[\"input_ids\"]\n",
    "    ]\n",
    "    return batch\n",
    "\n",
    "\n",
    "train_data = train_data_txt.map(\n",
    "    lambda batch: batch_tokenize_preprocess(\n",
    "        batch, tokenizer, encoder_max_length, decoder_max_length\n",
    "    ),\n",
    "    batched=True,\n",
    "    remove_columns=train_data_txt.column_names,\n",
    ")\n",
    "\n",
    "validation_data = validation_data_txt.map(\n",
    "    lambda batch: batch_tokenize_preprocess(\n",
    "        batch, tokenizer, encoder_max_length, decoder_max_length\n",
    "    ),\n",
    "    batched=True,\n",
    "    remove_columns=validation_data_txt.column_names,\n",
    ")"
   ]
  },
  {
   "cell_type": "code",
   "execution_count": 15,
   "metadata": {},
   "outputs": [],
   "source": [
    "import evaluate"
   ]
  },
  {
   "cell_type": "code",
   "execution_count": 34,
   "metadata": {},
   "outputs": [],
   "source": [
    "nltk.download(\"punkt\", quiet=True)\n",
    "\n",
    "metric = evaluate.load(\"rouge\")\n",
    "\n",
    "\n",
    "def postprocess_text(preds, labels):\n",
    "\n",
    "    preds = [pred.strip() for pred in preds]\n",
    "    labels = [label.strip() for label in labels]\n",
    "\n",
    "    # rougeLSum expects newline after each sentence\n",
    "    preds = [\"\\n\".join(nltk.sent_tokenize(pred)) for pred in preds]\n",
    "    labels = [\"\\n\".join(nltk.sent_tokenize(label)) for label in labels]\n",
    "\n",
    "    return preds, labels\n"
   ]
  },
  {
   "cell_type": "code",
   "execution_count": 48,
   "metadata": {},
   "outputs": [],
   "source": [
    "\n",
    "def compute_metrics(eval_preds):\n",
    "    \n",
    "    preds, labels = eval_preds\n",
    "\n",
    "    if isinstance(preds, tuple):\n",
    "        preds = preds[0]\n",
    "\n",
    "    decoded_preds = tokenizer.batch_decode(preds, skip_special_tokens=True)\n",
    "    \n",
    "    # Replace -100 in the labels as we can't decode them.\n",
    "    labels = np.where(labels != -100, labels, tokenizer.pad_token_id)\n",
    "    decoded_labels = tokenizer.batch_decode(labels, skip_special_tokens=True)\n",
    "\n",
    "    # Some simple post-processing\n",
    "    decoded_preds, decoded_labels = postprocess_text(decoded_preds, decoded_labels)\n",
    "    \n",
    "    result = metric.compute(\n",
    "        predictions=decoded_preds, references=decoded_labels, use_stemmer=True\n",
    "    )\n",
    "\n",
    "    # Extract a few results from ROUGE\n",
    "    result = {key: value * 100 for key, value in result.items()}\n",
    "\n",
    "    prediction_lens = [\n",
    "        np.count_nonzero(pred != tokenizer.pad_token_id) for pred in preds\n",
    "    ]\n",
    "    result[\"gen_len\"] = np.mean(prediction_lens)\n",
    "    result = {k: round(v, 4) for k, v in result.items()}\n",
    "    return result"
   ]
  },
  {
   "cell_type": "code",
   "execution_count": 64,
   "metadata": {},
   "outputs": [],
   "source": [
    "import os\n",
    "os.environ[\"WANDB_DISABLED\"] = \"true\"\n",
    "os.environ[\"CUDA_VISIBLE_DEVICES\"]=\"0\""
   ]
  },
  {
   "cell_type": "code",
   "execution_count": 65,
   "metadata": {},
   "outputs": [
    {
     "name": "stderr",
     "output_type": "stream",
     "text": [
      "Using the `WANDB_DISABLED` environment variable is deprecated and will be removed in v5. Use the --report_to flag to control the integrations used for logging result (for instance --report_to none).\n"
     ]
    }
   ],
   "source": [
    "training_args = Seq2SeqTrainingArguments(\n",
    "    output_dir=\"results\",\n",
    "    num_train_epochs=5,  # demo\n",
    "    do_train=True,\n",
    "    do_eval=True,\n",
    "    per_device_train_batch_size=4,  # demo\n",
    "    per_device_eval_batch_size=4,\n",
    "    # learning_rate=3e-05,\n",
    "    warmup_steps=500,\n",
    "    weight_decay=0.1,\n",
    "    label_smoothing_factor=0.1,\n",
    "    predict_with_generate=True,\n",
    "    logging_dir=\"logs\",\n",
    "    logging_steps=10,\n",
    "    save_total_limit=3,\n",
    "    report_to=None\n",
    ")\n",
    "\n",
    "data_collator = DataCollatorForSeq2Seq(tokenizer, model=model)\n",
    "\n",
    "trainer = Seq2SeqTrainer(\n",
    "    model=model,\n",
    "    args=training_args,\n",
    "    data_collator=data_collator,\n",
    "    train_dataset=train_data,\n",
    "    eval_dataset=validation_data,\n",
    "    tokenizer=tokenizer,\n",
    "    compute_metrics=compute_metrics,\n",
    ")"
   ]
  },
  {
   "cell_type": "code",
   "execution_count": 66,
   "metadata": {},
   "outputs": [
    {
     "name": "stderr",
     "output_type": "stream",
     "text": [
      "/home/RDC/zinovyee.hub/.local/lib/python3.9/site-packages/torch/nn/parallel/_functions.py:68: UserWarning: Was asked to gather along dimension 0, but all input tensors were scalars; will instead unsqueeze and return a vector.\n",
      "  warnings.warn('Was asked to gather along dimension 0, but all '\n"
     ]
    },
    {
     "data": {
      "text/html": [
       "\n",
       "    <div>\n",
       "      \n",
       "      <progress value='2' max='61' style='width:300px; height:20px; vertical-align: middle;'></progress>\n",
       "      [ 2/61 00:01 < 01:05, 0.90 it/s]\n",
       "    </div>\n",
       "    "
      ],
      "text/plain": [
       "<IPython.core.display.HTML object>"
      ]
     },
     "metadata": {},
     "output_type": "display_data"
    },
    {
     "data": {
      "text/plain": [
       "{'eval_loss': 4.177114963531494,\n",
       " 'eval_rouge1': 35.6838,\n",
       " 'eval_rouge2': 13.7282,\n",
       " 'eval_rougeL': 28.0182,\n",
       " 'eval_rougeLsum': 34.3574,\n",
       " 'eval_gen_len': 29.3678,\n",
       " 'eval_runtime': 47.0899,\n",
       " 'eval_samples_per_second': 10.278,\n",
       " 'eval_steps_per_second': 1.295}"
      ]
     },
     "execution_count": 66,
     "metadata": {},
     "output_type": "execute_result"
    }
   ],
   "source": [
    "trainer.evaluate()"
   ]
  },
  {
   "cell_type": "code",
   "execution_count": 67,
   "metadata": {},
   "outputs": [
    {
     "name": "stderr",
     "output_type": "stream",
     "text": [
      "/home/RDC/zinovyee.hub/.local/lib/python3.9/site-packages/transformers/optimization.py:391: FutureWarning: This implementation of AdamW is deprecated and will be removed in a future version. Use the PyTorch implementation torch.optim.AdamW instead, or set `no_deprecation_warning=True` to disable this warning\n",
      "  warnings.warn(\n"
     ]
    },
    {
     "data": {
      "text/html": [
       "\n",
       "    <div>\n",
       "      \n",
       "      <progress value='3' max='2720' style='width:300px; height:20px; vertical-align: middle;'></progress>\n",
       "      [   3/2720 00:00 < 11:08, 4.06 it/s, Epoch 0.00/5]\n",
       "    </div>\n",
       "    <table border=\"1\" class=\"dataframe\">\n",
       "  <thead>\n",
       " <tr style=\"text-align: left;\">\n",
       "      <th>Step</th>\n",
       "      <th>Training Loss</th>\n",
       "    </tr>\n",
       "  </thead>\n",
       "  <tbody>\n",
       "  </tbody>\n",
       "</table><p>"
      ],
      "text/plain": [
       "<IPython.core.display.HTML object>"
      ]
     },
     "metadata": {},
     "output_type": "display_data"
    },
    {
     "ename": "KeyboardInterrupt",
     "evalue": "",
     "output_type": "error",
     "traceback": [
      "\u001b[0;31m---------------------------------------------------------------------------\u001b[0m",
      "\u001b[0;31mKeyboardInterrupt\u001b[0m                         Traceback (most recent call last)",
      "Cell \u001b[0;32mIn[67], line 1\u001b[0m\n\u001b[0;32m----> 1\u001b[0m trainer\u001b[39m.\u001b[39;49mtrain()\n",
      "File \u001b[0;32m~/.local/lib/python3.9/site-packages/transformers/trainer.py:1633\u001b[0m, in \u001b[0;36mTrainer.train\u001b[0;34m(self, resume_from_checkpoint, trial, ignore_keys_for_eval, **kwargs)\u001b[0m\n\u001b[1;32m   1628\u001b[0m     \u001b[39mself\u001b[39m\u001b[39m.\u001b[39mmodel_wrapped \u001b[39m=\u001b[39m \u001b[39mself\u001b[39m\u001b[39m.\u001b[39mmodel\n\u001b[1;32m   1630\u001b[0m inner_training_loop \u001b[39m=\u001b[39m find_executable_batch_size(\n\u001b[1;32m   1631\u001b[0m     \u001b[39mself\u001b[39m\u001b[39m.\u001b[39m_inner_training_loop, \u001b[39mself\u001b[39m\u001b[39m.\u001b[39m_train_batch_size, args\u001b[39m.\u001b[39mauto_find_batch_size\n\u001b[1;32m   1632\u001b[0m )\n\u001b[0;32m-> 1633\u001b[0m \u001b[39mreturn\u001b[39;00m inner_training_loop(\n\u001b[1;32m   1634\u001b[0m     args\u001b[39m=\u001b[39;49margs,\n\u001b[1;32m   1635\u001b[0m     resume_from_checkpoint\u001b[39m=\u001b[39;49mresume_from_checkpoint,\n\u001b[1;32m   1636\u001b[0m     trial\u001b[39m=\u001b[39;49mtrial,\n\u001b[1;32m   1637\u001b[0m     ignore_keys_for_eval\u001b[39m=\u001b[39;49mignore_keys_for_eval,\n\u001b[1;32m   1638\u001b[0m )\n",
      "File \u001b[0;32m~/.local/lib/python3.9/site-packages/transformers/trainer.py:1902\u001b[0m, in \u001b[0;36mTrainer._inner_training_loop\u001b[0;34m(self, batch_size, args, resume_from_checkpoint, trial, ignore_keys_for_eval)\u001b[0m\n\u001b[1;32m   1900\u001b[0m         tr_loss_step \u001b[39m=\u001b[39m \u001b[39mself\u001b[39m\u001b[39m.\u001b[39mtraining_step(model, inputs)\n\u001b[1;32m   1901\u001b[0m \u001b[39melse\u001b[39;00m:\n\u001b[0;32m-> 1902\u001b[0m     tr_loss_step \u001b[39m=\u001b[39m \u001b[39mself\u001b[39;49m\u001b[39m.\u001b[39;49mtraining_step(model, inputs)\n\u001b[1;32m   1904\u001b[0m \u001b[39mif\u001b[39;00m (\n\u001b[1;32m   1905\u001b[0m     args\u001b[39m.\u001b[39mlogging_nan_inf_filter\n\u001b[1;32m   1906\u001b[0m     \u001b[39mand\u001b[39;00m \u001b[39mnot\u001b[39;00m is_torch_tpu_available()\n\u001b[1;32m   1907\u001b[0m     \u001b[39mand\u001b[39;00m (torch\u001b[39m.\u001b[39misnan(tr_loss_step) \u001b[39mor\u001b[39;00m torch\u001b[39m.\u001b[39misinf(tr_loss_step))\n\u001b[1;32m   1908\u001b[0m ):\n\u001b[1;32m   1909\u001b[0m     \u001b[39m# if loss is nan or inf simply add the average of previous logged losses\u001b[39;00m\n\u001b[1;32m   1910\u001b[0m     tr_loss \u001b[39m+\u001b[39m\u001b[39m=\u001b[39m tr_loss \u001b[39m/\u001b[39m (\u001b[39m1\u001b[39m \u001b[39m+\u001b[39m \u001b[39mself\u001b[39m\u001b[39m.\u001b[39mstate\u001b[39m.\u001b[39mglobal_step \u001b[39m-\u001b[39m \u001b[39mself\u001b[39m\u001b[39m.\u001b[39m_globalstep_last_logged)\n",
      "File \u001b[0;32m~/.local/lib/python3.9/site-packages/transformers/trainer.py:2645\u001b[0m, in \u001b[0;36mTrainer.training_step\u001b[0;34m(self, model, inputs)\u001b[0m\n\u001b[1;32m   2642\u001b[0m     \u001b[39mreturn\u001b[39;00m loss_mb\u001b[39m.\u001b[39mreduce_mean()\u001b[39m.\u001b[39mdetach()\u001b[39m.\u001b[39mto(\u001b[39mself\u001b[39m\u001b[39m.\u001b[39margs\u001b[39m.\u001b[39mdevice)\n\u001b[1;32m   2644\u001b[0m \u001b[39mwith\u001b[39;00m \u001b[39mself\u001b[39m\u001b[39m.\u001b[39mcompute_loss_context_manager():\n\u001b[0;32m-> 2645\u001b[0m     loss \u001b[39m=\u001b[39m \u001b[39mself\u001b[39;49m\u001b[39m.\u001b[39;49mcompute_loss(model, inputs)\n\u001b[1;32m   2647\u001b[0m \u001b[39mif\u001b[39;00m \u001b[39mself\u001b[39m\u001b[39m.\u001b[39margs\u001b[39m.\u001b[39mn_gpu \u001b[39m>\u001b[39m \u001b[39m1\u001b[39m:\n\u001b[1;32m   2648\u001b[0m     loss \u001b[39m=\u001b[39m loss\u001b[39m.\u001b[39mmean()  \u001b[39m# mean() to average on multi-gpu parallel training\u001b[39;00m\n",
      "File \u001b[0;32m~/.local/lib/python3.9/site-packages/transformers/trainer.py:2677\u001b[0m, in \u001b[0;36mTrainer.compute_loss\u001b[0;34m(self, model, inputs, return_outputs)\u001b[0m\n\u001b[1;32m   2675\u001b[0m \u001b[39melse\u001b[39;00m:\n\u001b[1;32m   2676\u001b[0m     labels \u001b[39m=\u001b[39m \u001b[39mNone\u001b[39;00m\n\u001b[0;32m-> 2677\u001b[0m outputs \u001b[39m=\u001b[39m model(\u001b[39m*\u001b[39;49m\u001b[39m*\u001b[39;49minputs)\n\u001b[1;32m   2678\u001b[0m \u001b[39m# Save past state if it exists\u001b[39;00m\n\u001b[1;32m   2679\u001b[0m \u001b[39m# TODO: this needs to be fixed and made cleaner later.\u001b[39;00m\n\u001b[1;32m   2680\u001b[0m \u001b[39mif\u001b[39;00m \u001b[39mself\u001b[39m\u001b[39m.\u001b[39margs\u001b[39m.\u001b[39mpast_index \u001b[39m>\u001b[39m\u001b[39m=\u001b[39m \u001b[39m0\u001b[39m:\n",
      "File \u001b[0;32m~/.local/lib/python3.9/site-packages/torch/nn/modules/module.py:1194\u001b[0m, in \u001b[0;36mModule._call_impl\u001b[0;34m(self, *input, **kwargs)\u001b[0m\n\u001b[1;32m   1190\u001b[0m \u001b[39m# If we don't have any hooks, we want to skip the rest of the logic in\u001b[39;00m\n\u001b[1;32m   1191\u001b[0m \u001b[39m# this function, and just call forward.\u001b[39;00m\n\u001b[1;32m   1192\u001b[0m \u001b[39mif\u001b[39;00m \u001b[39mnot\u001b[39;00m (\u001b[39mself\u001b[39m\u001b[39m.\u001b[39m_backward_hooks \u001b[39mor\u001b[39;00m \u001b[39mself\u001b[39m\u001b[39m.\u001b[39m_forward_hooks \u001b[39mor\u001b[39;00m \u001b[39mself\u001b[39m\u001b[39m.\u001b[39m_forward_pre_hooks \u001b[39mor\u001b[39;00m _global_backward_hooks\n\u001b[1;32m   1193\u001b[0m         \u001b[39mor\u001b[39;00m _global_forward_hooks \u001b[39mor\u001b[39;00m _global_forward_pre_hooks):\n\u001b[0;32m-> 1194\u001b[0m     \u001b[39mreturn\u001b[39;00m forward_call(\u001b[39m*\u001b[39;49m\u001b[39minput\u001b[39;49m, \u001b[39m*\u001b[39;49m\u001b[39m*\u001b[39;49mkwargs)\n\u001b[1;32m   1195\u001b[0m \u001b[39m# Do not call functions when jit is used\u001b[39;00m\n\u001b[1;32m   1196\u001b[0m full_backward_hooks, non_full_backward_hooks \u001b[39m=\u001b[39m [], []\n",
      "File \u001b[0;32m~/.local/lib/python3.9/site-packages/torch/nn/parallel/data_parallel.py:171\u001b[0m, in \u001b[0;36mDataParallel.forward\u001b[0;34m(self, *inputs, **kwargs)\u001b[0m\n\u001b[1;32m    169\u001b[0m     \u001b[39mreturn\u001b[39;00m \u001b[39mself\u001b[39m\u001b[39m.\u001b[39mmodule(\u001b[39m*\u001b[39minputs[\u001b[39m0\u001b[39m], \u001b[39m*\u001b[39m\u001b[39m*\u001b[39mkwargs[\u001b[39m0\u001b[39m])\n\u001b[1;32m    170\u001b[0m replicas \u001b[39m=\u001b[39m \u001b[39mself\u001b[39m\u001b[39m.\u001b[39mreplicate(\u001b[39mself\u001b[39m\u001b[39m.\u001b[39mmodule, \u001b[39mself\u001b[39m\u001b[39m.\u001b[39mdevice_ids[:\u001b[39mlen\u001b[39m(inputs)])\n\u001b[0;32m--> 171\u001b[0m outputs \u001b[39m=\u001b[39m \u001b[39mself\u001b[39;49m\u001b[39m.\u001b[39;49mparallel_apply(replicas, inputs, kwargs)\n\u001b[1;32m    172\u001b[0m \u001b[39mreturn\u001b[39;00m \u001b[39mself\u001b[39m\u001b[39m.\u001b[39mgather(outputs, \u001b[39mself\u001b[39m\u001b[39m.\u001b[39moutput_device)\n",
      "File \u001b[0;32m~/.local/lib/python3.9/site-packages/torch/nn/parallel/data_parallel.py:181\u001b[0m, in \u001b[0;36mDataParallel.parallel_apply\u001b[0;34m(self, replicas, inputs, kwargs)\u001b[0m\n\u001b[1;32m    180\u001b[0m \u001b[39mdef\u001b[39;00m \u001b[39mparallel_apply\u001b[39m(\u001b[39mself\u001b[39m, replicas, inputs, kwargs):\n\u001b[0;32m--> 181\u001b[0m     \u001b[39mreturn\u001b[39;00m parallel_apply(replicas, inputs, kwargs, \u001b[39mself\u001b[39;49m\u001b[39m.\u001b[39;49mdevice_ids[:\u001b[39mlen\u001b[39;49m(replicas)])\n",
      "File \u001b[0;32m~/.local/lib/python3.9/site-packages/torch/nn/parallel/parallel_apply.py:81\u001b[0m, in \u001b[0;36mparallel_apply\u001b[0;34m(modules, inputs, kwargs_tup, devices)\u001b[0m\n\u001b[1;32m     79\u001b[0m         thread\u001b[39m.\u001b[39mstart()\n\u001b[1;32m     80\u001b[0m     \u001b[39mfor\u001b[39;00m thread \u001b[39min\u001b[39;00m threads:\n\u001b[0;32m---> 81\u001b[0m         thread\u001b[39m.\u001b[39;49mjoin()\n\u001b[1;32m     82\u001b[0m \u001b[39melse\u001b[39;00m:\n\u001b[1;32m     83\u001b[0m     _worker(\u001b[39m0\u001b[39m, modules[\u001b[39m0\u001b[39m], inputs[\u001b[39m0\u001b[39m], kwargs_tup[\u001b[39m0\u001b[39m], devices[\u001b[39m0\u001b[39m], streams[\u001b[39m0\u001b[39m])\n",
      "File \u001b[0;32m~/.conda/envs/encode_code/lib/python3.9/threading.py:1053\u001b[0m, in \u001b[0;36mThread.join\u001b[0;34m(self, timeout)\u001b[0m\n\u001b[1;32m   1050\u001b[0m     \u001b[39mraise\u001b[39;00m \u001b[39mRuntimeError\u001b[39;00m(\u001b[39m\"\u001b[39m\u001b[39mcannot join current thread\u001b[39m\u001b[39m\"\u001b[39m)\n\u001b[1;32m   1052\u001b[0m \u001b[39mif\u001b[39;00m timeout \u001b[39mis\u001b[39;00m \u001b[39mNone\u001b[39;00m:\n\u001b[0;32m-> 1053\u001b[0m     \u001b[39mself\u001b[39;49m\u001b[39m.\u001b[39;49m_wait_for_tstate_lock()\n\u001b[1;32m   1054\u001b[0m \u001b[39melse\u001b[39;00m:\n\u001b[1;32m   1055\u001b[0m     \u001b[39m# the behavior of a negative timeout isn't documented, but\u001b[39;00m\n\u001b[1;32m   1056\u001b[0m     \u001b[39m# historically .join(timeout=x) for x<0 has acted as if timeout=0\u001b[39;00m\n\u001b[1;32m   1057\u001b[0m     \u001b[39mself\u001b[39m\u001b[39m.\u001b[39m_wait_for_tstate_lock(timeout\u001b[39m=\u001b[39m\u001b[39mmax\u001b[39m(timeout, \u001b[39m0\u001b[39m))\n",
      "File \u001b[0;32m~/.conda/envs/encode_code/lib/python3.9/threading.py:1073\u001b[0m, in \u001b[0;36mThread._wait_for_tstate_lock\u001b[0;34m(self, block, timeout)\u001b[0m\n\u001b[1;32m   1070\u001b[0m     \u001b[39mreturn\u001b[39;00m\n\u001b[1;32m   1072\u001b[0m \u001b[39mtry\u001b[39;00m:\n\u001b[0;32m-> 1073\u001b[0m     \u001b[39mif\u001b[39;00m lock\u001b[39m.\u001b[39;49macquire(block, timeout):\n\u001b[1;32m   1074\u001b[0m         lock\u001b[39m.\u001b[39mrelease()\n\u001b[1;32m   1075\u001b[0m         \u001b[39mself\u001b[39m\u001b[39m.\u001b[39m_stop()\n",
      "\u001b[0;31mKeyboardInterrupt\u001b[0m: "
     ]
    }
   ],
   "source": [
    "trainer.train()"
   ]
  },
  {
   "cell_type": "code",
   "execution_count": 31,
   "metadata": {},
   "outputs": [
    {
     "name": "stdout",
     "output_type": "stream",
     "text": [
      "huggingface/tokenizers: The current process just got forked, after parallelism has already been used. Disabling parallelism to avoid deadlocks...\n",
      "To disable this warning, you can either:\n",
      "\t- Avoid using `tokenizers` before the fork if possible\n",
      "\t- Explicitly set the environment variable TOKENIZERS_PARALLELISM=(true | false)\n",
      "Defaulting to user installation because normal site-packages is not writeable\n",
      "Requirement already satisfied: wandb in /home/RDC/zinovyee.hub/.local/lib/python3.9/site-packages (0.14.0)\n",
      "Requirement already satisfied: PyYAML in /opt/anaconda3/lib/python3.9/site-packages (from wandb) (6.0)\n",
      "Requirement already satisfied: appdirs>=1.4.3 in /opt/anaconda3/lib/python3.9/site-packages (from wandb) (1.4.4)\n",
      "Requirement already satisfied: pathtools in /home/RDC/zinovyee.hub/.local/lib/python3.9/site-packages (from wandb) (0.1.2)\n",
      "Requirement already satisfied: GitPython!=3.1.29,>=1.0.0 in /home/RDC/zinovyee.hub/.local/lib/python3.9/site-packages (from wandb) (3.1.31)\n",
      "Requirement already satisfied: protobuf!=4.21.0,<5,>=3.15.0 in /home/RDC/zinovyee.hub/.local/lib/python3.9/site-packages (from wandb) (3.20.1)\n",
      "Requirement already satisfied: sentry-sdk>=1.0.0 in /home/RDC/zinovyee.hub/.local/lib/python3.9/site-packages (from wandb) (1.18.0)\n",
      "Requirement already satisfied: psutil>=5.0.0 in /opt/anaconda3/lib/python3.9/site-packages (from wandb) (5.8.0)\n",
      "Requirement already satisfied: Click!=8.0.0,>=7.0 in /opt/anaconda3/lib/python3.9/site-packages (from wandb) (8.0.4)\n",
      "Requirement already satisfied: setuptools in /opt/anaconda3/lib/python3.9/site-packages (from wandb) (61.2.0)\n",
      "Requirement already satisfied: setproctitle in /home/RDC/zinovyee.hub/.local/lib/python3.9/site-packages (from wandb) (1.3.2)\n",
      "Requirement already satisfied: requests<3,>=2.0.0 in /opt/anaconda3/lib/python3.9/site-packages (from wandb) (2.27.1)\n",
      "Requirement already satisfied: docker-pycreds>=0.4.0 in /home/RDC/zinovyee.hub/.local/lib/python3.9/site-packages (from wandb) (0.4.0)\n",
      "Requirement already satisfied: typing-extensions in /home/RDC/zinovyee.hub/.local/lib/python3.9/site-packages (from wandb) (4.5.0)\n",
      "Requirement already satisfied: six>=1.4.0 in /opt/anaconda3/lib/python3.9/site-packages (from docker-pycreds>=0.4.0->wandb) (1.16.0)\n",
      "Requirement already satisfied: gitdb<5,>=4.0.1 in /home/RDC/zinovyee.hub/.local/lib/python3.9/site-packages (from GitPython!=3.1.29,>=1.0.0->wandb) (4.0.10)\n",
      "Requirement already satisfied: urllib3<1.27,>=1.21.1 in /home/RDC/zinovyee.hub/.local/lib/python3.9/site-packages (from requests<3,>=2.0.0->wandb) (1.26.15)\n",
      "Requirement already satisfied: certifi>=2017.4.17 in /opt/anaconda3/lib/python3.9/site-packages (from requests<3,>=2.0.0->wandb) (2021.10.8)\n",
      "Requirement already satisfied: charset-normalizer~=2.0.0 in /opt/anaconda3/lib/python3.9/site-packages (from requests<3,>=2.0.0->wandb) (2.0.4)\n",
      "Requirement already satisfied: idna<4,>=2.5 in /opt/anaconda3/lib/python3.9/site-packages (from requests<3,>=2.0.0->wandb) (3.3)\n",
      "Requirement already satisfied: smmap<6,>=3.0.1 in /home/RDC/zinovyee.hub/.local/lib/python3.9/site-packages (from gitdb<5,>=4.0.1->GitPython!=3.1.29,>=1.0.0->wandb) (5.0.0)\n"
     ]
    }
   ],
   "source": [
    "!pip install wandb"
   ]
  },
  {
   "cell_type": "code",
   "execution_count": 1,
   "metadata": {},
   "outputs": [],
   "source": [
    "import wandb"
   ]
  },
  {
   "cell_type": "code",
   "execution_count": 3,
   "metadata": {},
   "outputs": [
    {
     "name": "stderr",
     "output_type": "stream",
     "text": [
      "\u001b[34m\u001b[1mwandb\u001b[0m: Currently logged in as: \u001b[33mlizz\u001b[0m. Use \u001b[1m`wandb login --relogin`\u001b[0m to force relogin\n"
     ]
    },
    {
     "data": {
      "text/html": [
       "Tracking run with wandb version 0.14.0"
      ],
      "text/plain": [
       "<IPython.core.display.HTML object>"
      ]
     },
     "metadata": {},
     "output_type": "display_data"
    },
    {
     "data": {
      "text/html": [
       "Run data is saved locally in <code>/usr/net/zinovyee.hub/IRTG/Encode-the-Qode/BART_learning/wandb/run-20230331_222259-2r59vsyu</code>"
      ],
      "text/plain": [
       "<IPython.core.display.HTML object>"
      ]
     },
     "metadata": {},
     "output_type": "display_data"
    },
    {
     "data": {
      "text/html": [
       "Syncing run <strong><a href='https://wandb.ai/lizz/meas_dd/runs/2r59vsyu' target=\"_blank\">crisp-haze-1</a></strong> to <a href='https://wandb.ai/lizz/meas_dd' target=\"_blank\">Weights & Biases</a> (<a href='https://wandb.me/run' target=\"_blank\">docs</a>)<br/>"
      ],
      "text/plain": [
       "<IPython.core.display.HTML object>"
      ]
     },
     "metadata": {},
     "output_type": "display_data"
    },
    {
     "data": {
      "text/html": [
       " View project at <a href='https://wandb.ai/lizz/meas_dd' target=\"_blank\">https://wandb.ai/lizz/meas_dd</a>"
      ],
      "text/plain": [
       "<IPython.core.display.HTML object>"
      ]
     },
     "metadata": {},
     "output_type": "display_data"
    },
    {
     "data": {
      "text/html": [
       " View run at <a href='https://wandb.ai/lizz/meas_dd/runs/2r59vsyu' target=\"_blank\">https://wandb.ai/lizz/meas_dd/runs/2r59vsyu</a>"
      ],
      "text/plain": [
       "<IPython.core.display.HTML object>"
      ]
     },
     "metadata": {},
     "output_type": "display_data"
    },
    {
     "data": {
      "text/html": [
       "<button onClick=\"this.nextSibling.style.display='block';this.style.display='none';\">Display W&B run</button><iframe src='https://wandb.ai/lizz/meas_dd/runs/2r59vsyu?jupyter=true' style='border:none;width:100%;height:420px;display:none;'></iframe>"
      ],
      "text/plain": [
       "<wandb.sdk.wandb_run.Run at 0x7f3ab3d1dee0>"
      ]
     },
     "execution_count": 3,
     "metadata": {},
     "output_type": "execute_result"
    }
   ],
   "source": [
    "wandb.init(\n",
    "    # set the wandb project where this run will be logged\n",
    "    project=\"meas_dd\",\n",
    "    \n",
    "    # track hyperparameters and run metadata\n",
    "    config={\n",
    "    \"learning_rate\": 0.02,\n",
    "    \"architecture\": \"CNN\",\n",
    "    \"dataset\": \"CIFAR-100\",\n",
    "    \"epochs\": 10,\n",
    "    }\n",
    ")"
   ]
  },
  {
   "cell_type": "code",
   "execution_count": 53,
   "metadata": {},
   "outputs": [],
   "source": [
    "wandb.finish()"
   ]
  },
  {
   "cell_type": "code",
   "execution_count": 54,
   "metadata": {},
   "outputs": [
    {
     "name": "stderr",
     "output_type": "stream",
     "text": [
      "/home/RDC/zinovyee.hub/.local/lib/python3.9/site-packages/transformers/generation/utils.py:1288: UserWarning: Using `max_length`'s default (62) to control the generation length. This behaviour is deprecated and will be removed from the config in v5 of Transformers -- we recommend using `max_new_tokens` to control the maximum length of the generation.\n",
      "  warnings.warn(\n"
     ]
    }
   ],
   "source": [
    "def generate_summary(test_samples, model):\n",
    "    inputs = tokenizer(\n",
    "        test_samples[\"document\"],\n",
    "        padding=\"max_length\",\n",
    "        truncation=True,\n",
    "        max_length=encoder_max_length,\n",
    "        return_tensors=\"pt\",\n",
    "    )\n",
    "    input_ids = inputs.input_ids.to(model.device)\n",
    "    attention_mask = inputs.attention_mask.to(model.device)\n",
    "    outputs = model.generate(input_ids, attention_mask=attention_mask)\n",
    "    output_str = tokenizer.batch_decode(outputs, skip_special_tokens=True)\n",
    "    return outputs, output_str\n",
    "\n",
    "\n",
    "model_before_tuning = AutoModelForSeq2SeqLM.from_pretrained(model_name)\n",
    "\n",
    "test_samples = validation_data_txt.select(range(16))\n",
    "\n",
    "summaries_before_tuning = generate_summary(test_samples, model_before_tuning)[1]\n",
    "summaries_after_tuning = generate_summary(test_samples, model)[1]"
   ]
  },
  {
   "cell_type": "code",
   "execution_count": 58,
   "metadata": {},
   "outputs": [
    {
     "name": "stdout",
     "output_type": "stream",
     "text": [
      "[(0, 'Clean your guinea pig’s cage regularly.', ' Do you keep your guinea pig clean?'), (1, 'Choose some hardy varieties. Plant the gardenia. Plant your gardenia in sun and afternoon shade.', ' Gardenias are one of the most popular plants in the US.'), (2, 'Add the shea butter and xanthan gum to a bowl. Add the oil and glycerine to the gel.', ' Shea butter, coconut and vegetable glycerine are just some of the ingredients that make this moisturising gel more moisturising.'), (3, 'Position the oven to 425\\xa0°F (220\\xa0°C) in the oven. Place the wedges on the pan.', ' How do you bake your own version of potato wedges in the oven?'), (4, ' \"Add-Documents-in-Gmail-Step-4.', ' A selection of some of the best photos of the year taken bywikihow.'), (5, 'Take an oral laxative. Drink 1 cup (240\\xa0ml) of Epsom salt in a cup of water or juice.', \" If you've tried other remedies or laxatives without being able to pass stool, you could use Epsom salt as an oral laxative.\"), (6, 'Fill out the security question. Tap the toggle switch on the right part of the screen.', ' If you’re looking for a way to lock an app, how do you unlock it?'), (7, 'Clean the pennies with vinegar for 30 minutes. Rinse the vinegar from the vinegar.', ' If you use vinegar to clean up all your pennies, you might want to think again.'), (8, 'Open the Excel workbook. Click a trendline. Click the \"Trendline\" button.', ' If you want to analyze your data in a spreadsheet yet, you need to do it in Excel.'), (9, 'Recognize the damage caused by a breach of contract. Seek replacement goods or services.', ' If you are involved in a contract that involves the sale of an item, you should be entitled to a full recovery of materials if the other party does not fulfill its end of the contract.'), (10, 'Bend the bar at a 45-degree angle. Push your fulcrum fingers into the steel as you bend the bar toward each other.', \" If you're bending from the double overhand position, you should be pushing into the nail or bar through the wrapping of the bar.\"), (11, 'Understand the effect. Use the verb \"affect\" to change something.', ' Here is a glossary of the English language.'), (12, 'Make eye contact with your crush. Make eye contact if you want to talk to them.', ' If you’re going up to your crush to say hello, take a deep breath, and focus on showing confidence.'), (13, 'Open your iCloud. Tap the Settings menu. Tap Settings. Tap your Apple ID.', \" If you're not signed in to iPhone, you can now upload all of your photos to iCloud.\"), (14, 'Try a probiotic supplement. Use charcoal. Try a charcoal solution. Use Beano.', ' If you are looking for a way to reduce the amount of gas in your digestive tract, there are a number of ways to lessen bloating.'), (15, 'Turn the crayon off each side of the side.', ' CBBC is using a new type of crayon to make it easier for children to cross the road.')]\n",
      "\n",
      "Target summaries:\n",
      "\n",
      "[(0, 'Clean Use proper bedding in your guinea pig’s cage. Keep your guinea pig’s cage well ventilated. Do not overcrowd your guinea pig’s cage. Do not house rabbits and guinea pigs together. Add vitamin C to your guinea pig’s diet.'), (1, 'Pick a gardenia variety suited to your climate. Choose a place to plant your gardenia. Test the soil for acidity. Amend the soil if necessary. Plant in the spring or fall.'), (2, 'Melt the shea butter. Add the oil and glycerin. Sprinkle in the xanthan gum. Emulsify the mixture. Add the remaining ingredients. Blend the mixture. Transfer the creamy gel to a squeeze bottle and enjoy.'), (3, 'Preheat the oven Spread the potato wedges evenly over a baking sheet lined with foil or parchment. Roast for 25-30 minutes, turning potatoes to the other side after 15 minutes. Remove the potatoes when they are golden and crisp on the outside and tender on the inside.'), (4, 'Find the file you want to upload. Click the file with the left mouse button and while keeping the button pressed, drag it over to browser window with the Gmail you are writing. Drag the file or files to the area that lights up with the message \"Drop files here\".'), (5, \"Take an Epsom salt laxative if an osmotic laxative or stool softener doesn't work. Use an oral over-the-counter stimulant laxative for serious constipation.\"), (6, 'Set your security question. Draw an Unlock Pattern. Tap on \"Continue. Select the applications you want to lock.'), (7, 'Don’t soak the pennies for too long. Be sure to rinse thoroughly. Dry off the clean coins. Set aside a dedicated place for your change.'), (8, 'Open your Excel workbook. Select your graph. Click ＋. Click the arrow to the right of the \"Trendline\" box. Select a trendline option. Select data to analyze. Click OK. Save your work.'), (9, 'Identify a breach of contract. Recover your materials. Mitigate your damages. Refuse to perform. File a lawsuit against the breaching party. Consider Alternative Dispute Resolution.'), (10, 'Grasp the bar firmly. Apply force to the bar. Sweep the bar to a 90-degree bend. Crush the ends of the bar together.'), (11, 'Use “effect” as instructed. Use “affect” as instructed.'), (12, \"Gather the courage to talk to your crush by giving yourself a pep talk. Give a quick hello when you pass them in the hallways. Go up to your crush when they're free to talk to avoid interrupting them. Wait until they’re alone to talk to them in more depth. Ask them for their social media handle or phone number.\"), (13, 'Make sure that you have enough space. Open your iPhone\\'s  Settings. Tap your Apple ID. Tap iCloud. Tap Photos. Tap the white \"iCloud Photo Library\" switch . Tap the white \"My Photo Stream\" switch . Open iCloud on a computer. Log into iCloud. Click  Photos. Click the Photos tab. Select photos to download. Click the \"Download\" button .'), (14, 'Rebalance your gut bacteria with probiotics. Try activated charcoal. Experiment with products containing Simethicone. Add Beano to gassy foods. Take lactase enzyme supplements.'), (15, \"Place the crayon tip on sandpaper at an angle. Rub back and forth until it's sharpened.\")]\n",
      "\n",
      "Source documents:\n",
      "\n",
      "[(0, \"your guinea pig’s cage regularly. Once your guinea pig has been treated for a respiratory problem, you won’t want him to get another one. Keeping his cage clean is one of the best ways to prevent a future respiratory problem. Clean his cage twice a week.  To give your guinea pig’s cage a thorough cleaning, remove all cage accessories and discard the bedding. Wash the cage with hot, soapy water. Rinse the cage and let it dry completely. Each day, remove leftover food, feces, and dirty bedding. Proper bedding can also prevent respiratory infections in guinea pigs. Dust-free bedding will not irritate your guinea pig’s nose. Examples of dust-free beddings are CareFRESH® and fleece.   Do not use cedar or pine shavings. These shavings contain oils that can be very irritating to a guinea pig’s respiratory tract.  Replace the bedding whenever it becomes soiled or wet. Damp bedding can become moldy and increase your guinea pig's chances of getting sick. Adequate air circulation is important in preventing respiratory problems in guinea pigs. A wire cage would provide more ventilation than a solid glass cage. Make sure the cage is not in the direct path of a vent or draft — a constant draft of cool air could make your guinea pig sick. If you have multiple guinea pigs, they should be in a cage large enough to house all of them comfortably. If the cage is too small, your guinea pigs could develop respiratory infections from the stress of overcrowding. The stress would weaken their immune systems and make them susceptible to infection. If you have 2 guinea pigs, their cage should be at least 30 inches x 50 inches (76 cm x 127 cm). Rabbits can harbor Bordatella  in their bodies and pass it on to guinea pigs. In addition, a rabbit can bully a guinea pig, causing the guinea pig stress if it cannot find a safe place to get away. To prevent a respiratory infection, house your rabbits and guinea pigs in different cages. The stress from bullying could cause a respiratory problem by weakening your guinea pig’s immune system. Adequate amounts of vitamin C are essential to preventing respiratory problems in guinea pigs. Guinea pigs cannot produce vitamin C in their bodies, so they must get this nutrient from food. Examples of vitamin C-rich foods are broccoli, parsley, green peppers, and mustard greens.  Vitamin C dietary supplements are also available. Talk to your vet before giving your guinea pig a supplement. Your guinea pig should receive 50 mg of vitamin C per day. Your vet can help you ensure that your guinea pig receives enough daily vitamin C.\"), (1, \"Most gardenia varieties thrive in places with high humidity and plenty of rainfall, like the Southeastern US. Certain hardy varieties can make it through the winter with some protection, and others are suitable for growing in pots and bringing indoors when the temperature gets cold.  Varieties suitable for outdoor planting in humid climates include Golden Magic, Aimee, August Beauty, Miami Supreme, and Mystery. Varieties hardy enough to withstand colder temperatures include Chuck Hayes, Klein’s Hardy, Grif’s Select, and Shooting Star Varieties that do well in pots that are brought inside in the winter include White Gem, Veitchii, Radicans, and Kimura Shikazaki. Gardenias need full sun to light shade. Choose a spot that's high in the yard and not too close to other shrubs and trees, so the roots don't get crowded. If you can, plant the gardenia in close range to a window or porch so that you'll be able to enjoy its sweet scent when it blooms. In very hot parts of the southern US gardenias like morning sun and afternoon shade if possible. In cooler areas they will do well in full sun. Gardenias require acidic soil with a pH between 5 and 6. If you're not sure about your soil's pH level, get a soil testing kit and find out. Soil that's close to concrete edging and paths tends to be more acidic than soil in other spots. If the soil's pH is over 6, you'll need to amend it before planting your gardenia. If your soil has a high pH and low nutrient content, amend it by mixing in sulphur and compost. Use a tiller or a garden hoe to till the soil to the depth of 12 inches (30.5\\xa0cm) and work in the materials to distribute them evenly. Test the soil again to make sure the pH level is correct before planting. If you live in a warm climate, it's fine to plant the gardenia in either the spring or the fall. If you live in a colder climate, plant in the spring so the gardenia has time to stabilize before the cold snap comes. The gardenia will produce blooms when the weather warms.\"), (2, 'Transfer the shea butter to a medium glass bowl. Fill a larger glass or metal bowl with 1 to 2 inches (2.5 to 5.1\\xa0cm) of boiling water. Place the smaller bowl with the shea butter into the boiling water and let it sit for 10 minutes. Stir the shea butter to break up clumps, and keep stirring until it’s completely liquid. Whisk the mixture briefly to incorporate all the ingredients. The oil and glycerine in the recipe will make the gel more moisturizing, and the glycerine will also help to dissolve the xanthan gum.  You can use any carrier oil you like for this recipe, including jojoba, olive, and grapeseed. The Vegetable glycerine is available at most drug stores, health food stores, and beauty supply shops. Shake the powder over the liquid and let it sit for about a minute. As the mixture rests, the xanthan gum will absorb the liquid and start to thicken up.  Xanthan gum is a plant-based additive that’s often used to stabilize and thicken foods. It’s available in the baking aisle in most grocery stores. You can also substitute guar gum for the xanthan gum. Use half the amount of guar gum, as it can make the mixture too thick. Insert an immersion blender into the bowl and whiz the mixture for a minute. This will dissolve the xanthan gum in the glycerine, incorporate all the ingredients, and begin the thickening process. If you don’t have an immersion blender, transfer the mixture to a blender or food processor and pulse it for a minute. Remove the immersion blender from the bowl and set it aside on a plate to catch drips. Pour in the castile soap, warm water from the tap, and the essential oils, if desired.  Common essential oils to add to shower gels include ylang ylang, woody scents like cedar or spruce, and citrus oils. For an even more hydrating soap, add 1 teaspoon (5 ml) of vitamin E oil to the mixture as well. Insert the immersion blender back into the bowl. Whiz the mixture for one to two minutes, until the ingredients are fully incorporated. When the gel is ready, it will have a creamy consistency similar to that of body lotion. Insert a funnel into the mouth of a clean soap or shampoo bottle. Pour the shower gel into the bottle, remove the funnel, and screw on the lid. Move the bottle to the shower and use the gel in place of soap to wash your body and hands.'), (3, \"to 425\\xa0°F (220\\xa0°C). Position a rack on the middle or lower level of the oven. If your oven runs a little cool, use the lower rack so the wedges get hot enough to crisp. If your oven tends to over-bake things, use the middle rack instead. If you are baking sweet potatoes, make sure you have a rack on the middle or upper level of the oven, to prevent the starch from caramelizing too quickly and burning your wedges. Make sure your wedges are only a single layer deep, not piled on top of each other. Piling and crowding the potatoes on the pan will cause them to steam, not roast, and they will end up soft and soggy.  If you are worried about your potatoes sticking to the lining, use non-stick spray or drizzle with a little extra olive oil. The oil on the potatoes should keep them from sticking, but take this extra step if you want to. Lay the potatoes so that one of the cut sides is flat against the pan, with the other cut side exposed. Wedges should not be on their backs (the side with the skin), with the entire cut part (or the flesh of the potato) exposed. Use oven mitts to remove the pan and flip the potatoes with a spatula. You can burn your arms on the top of the stove if you try to reach in and flip the potatoes without first removing the pan. If you are cooking two pans of wedges at once, make sure you change their positions on the rack when you turn the potatoes. The pan that was closer to the bottom should move to the higher rack, and vice-versa. This way both trays will bake evenly and should be done about the same time. You can pierce a wedge with a fork to see if it's done--the inside should be soft and offer no resistance to the fork.  You can top the fries with additional salt or a garnish like chopped chives or parsley. Serve with a side of ketchup, hot sauce, lime and chipotle mayo, malt vinegar, or any other dipping sauce you'd like to try.\"), (4, '{\"smallUrl\":\"https:\\\\/\\\\/www.wikihow.com\\\\/images\\\\/b\\\\/bc\\\\/Add-Documents-in-Gmail-Step-4.jpg\",\"bigUrl\":\"\\\\/images\\\\/thumb\\\\/b\\\\/bc\\\\/Add-Documents-in-Gmail-Step-4.jpg\\\\/v4-400px-Add-Documents-in-Gmail-Step-4.jpg\",\"smallWidth\":460,\"smallHeight\":345,\"bigWidth\":\"400\",\"bigHeight\":\"300\",\"licensing\":\"<div class=\\\\\"mw-parser-output\\\\\"><p>License: <a rel=\\\\\"nofollow\\\\\" class=\\\\\"external text\\\\\" href=\\\\\"https:\\\\/\\\\/creativecommons.org\\\\/licenses\\\\/by-nc-sa\\\\/3.0\\\\/\\\\\">Creative Commons<\\\\/a><br>\\\\n<\\\\/p><p><br \\\\/>\\\\n<\\\\/p><\\\\/div>\"}  '), (5, \"Epsom salt contains magnesium, which can act as a laxative. To use it as an oral laxative, dissolve 2 tablespoons (29.6\\xa0ml) (30 g) of Epsom salt in 1 cup (240\\xa0ml) of water or juice. Drink the juice immediately. You should pass stool within 30 minutes to 6 hours. Avoid taking more than 1 Epsom salt laxative in a day because you can overdose on magnesium. If you've tried other remedies or laxatives without being able to pass stool, buy a laxative stimulant that contains bisacodyl or senna-sennosides. These stimulate your bowels to contract so you can pass stool.  You should only take 1 dose of stimulant laxatives a day and don't use them for more than a day or two in a row. Always try other constipation therapies before reaching for the stimulant laxative. Stimulant laxatives can cause dehydration and dependence if you use them too frequently.\"), (6, 'You need to fill out three fields:  Security Question—Enter a question that will be asked in any case you forget your digit combination password. Security Answer—Enter the answer to your security question. Password Hint—This will be a clue given to you in the event you forget your security question. Connect at least 4 dots to create an unlock pattern. Although this part can be skipped, it’s strongly suggested to set it for additional security. \" App Lock or App Protector will restart, and you’ll be prompted to enter your digit combination password. To lock an app, tap the toggle switch on the right part of the screen next to name of the application you wish to lock. The toggle switch will then change to a closed pad lock icon. To unlock the app again, tap the same toggle switch and it will change to an open pad lock.'), (7, 'After a few minutes, the same reaction that dissolves stuck-on grime can begin to eat away at the copper. This may cause the pennies to give off an odd metallic residue, staining your hands or the container they’re in. In most cases, 30 seconds to a minute, in conjunction with some manual polishing, should be enough to do the trick. This can be especially damaging for pennies that already have a significant amount of scratching and wear. A good rinsing is needed to flush the acetic acid from the vinegar off the pennies. If left on the copper, this can lead to a buildup of a chemical called malachite, which will turn the pennies a bluish-green color. Since your original goal was to return the pennies to their original copper color, it’s important not to skip this step. A quick wash will also help neutralize the overpowering odor of the vinegar. Though pennies don’t actually rust, they can corrode and develop an unsightly chemical buildup when exposed to water. To keep this from occurring, pat the pennies dry with a towel after you clean them. That way, their finish will stay brighter and more vibrant for much longer. It’s okay to let the coins air dry, as long as there’s no standing water on them. Coins can get dirty in no time at all in places like the kitchen counter or your car’s cup holders. Consider buying a coin bank that you can keep your small currency in until you cash it in or spend it. Having a central place to stash your coins will minimize their chances of contamination and prevent you from losing them.  You might also use a small drawstring bag or jar, or carry it with you in a change purse. Placing your coins in a lidded container will defend them from deterioration-causing germs and moisture.'), (8, 'Double-click the Excel workbook document in which your data is stored. If you don\\'t have the data that you want to analyze in a spreadsheet yet, you\\'ll instead open Excel and click Blank workbook to open a new workbook. You can then enter your data and create a graph from it. Click the graph to which you want to assign a trendline. If you haven\\'t yet created a graph from your data, create one before continuing. It\\'s a green button next to the upper-right corner of the graph. A drop-down menu will appear. You may need to hover your mouse over the far-right side of the \"Trendline\" box to prompt this arrow to appear. Clicking it brings up a second menu. Depending on your preferences, click one of the following options  Linear Exponential Linear Forecast Two Period Moving Average You can also click More Options... to bring up an advanced options panel after selecting data to analyze. Click a data series name (e.g., Series 1) in the pop-up window. If you named your data already, you\\'ll click the data\\'s name instead. It\\'s at the bottom of the pop-up window. Doing so adds a trendline to your graph. If you clicked More Options... earlier, you\\'ll have the option of naming your trendline or changing the trendline\\'s persuasion on the right side of the window. Press Ctrl+S to save your changes. If you\\'ve never saved this document before, you\\'ll be prompted to select a save location and file name.'), (9, 'A breach of contract occurs when one party fails to uphold his side of the contract without an adequate legal excuse. A breach of contract can be indicated by a failure to perform or by words or actions that indicate future nonperformance. If you are involved in a contract that involves materials (such as the sale of an item), you should be entitled to a full recovery of materials if the other party does not fulfill his end of the contract. For example, if you sell a boat to your neighbor and give him an owner-financed payment plan but he stops making payments, you are entitled to a full recovery of the boat, regardless of the amount your neighbor has paid towards the full amount. If you are the non-breach party in a contract, you can seek to mitigate (lessen) the damages caused by the other party’s breach of contract by seeking replacement goods or services (known as “cover.”)  If the cover costs you the same or less money than your original contract, you may not be entitled to damages.  However, if your cover costs you more, you can ask the contract-breaching party to pay the damages (the difference between the original cost and the cover.)  Finding cover as soon as possible to the breach of contract can help you show the court that you’ve done your best to avoid consequential damages, or further expenses due to your own failure to act.  For example, you may have a contract with a wedding photographer.  If your photographer backs out of the contract the week before your wedding, you may need to scramble and find a new photographer at the last minute.  If the last-minute photographer costs the same as your original photographer, there are no damages.  If the last-minute photographer charges you an additional $500 for the lack of notice, you can ask that the original photographer pay the $500 fee. If you cannot uphold your end of a contract, you can refuse to fulfill the obligations that are laid out in the contract. Refusing to perform your contractual obligations will constitute a breach of contract and may expose you to a breach of contract lawsuit. Before choosing this option, you should consult with an attorney to ensure that you completely understand all consequences of deciding to breach a contract. If the other party has breached a contract, you can file a lawsuit for damages incurred due to the breach.  Be sure that you have a copy of the contract, can specifically identify how and when the breach occurred, and document any financial or other damages that you accumulated as a result of the breach.  You can hire a lawyer to file the lawsuit for you, or you can do it yourself at your local courthouse. File the lawsuit as soon as possible after the breach.  States have varying statutes of limitations for how long after a breach a lawsuit can be filed, but waiting too long can prevent you from being able to take legal action against the breaching party. After a contract has been breached, the parties involved may want to consider using Alternative Dispute Resolution (ADR) as a tool to settle a contract dispute. With ADR, anyone involved in the contract often share the cost of hiring a neutral mediator. This person will assist all of you to work out a mutually agreeable outcome. The ADR process includes an evaluation by a neutral third-party who isn’t a lawyer. It also includes a negotiation and mediation.  Arbitration is another form of ADR. It allows you to take care of the problem without going to court. Arbitration is a good idea in complex cases or when damages are difficult to calculate.'), (10, \"If you're using either the double overhand or palms down grip, your thumbs should be pushing into the nail or bar through the wrapping, while your index, middle, and ring fingers are wrapped tightly around the bar. If you're using the double underhand grip, your pinkies should grip the bar the tightest, while your index, middle, and ring fingers grip the bar slightly less tightly. Push your fulcrum fingers into the steel as you start bending the ends of the bar toward each other. Your wrists will channel the driving force from your arm muscles, concentrated in your index fingers with the double overhand or palms down grip, the index finger of your far hand with the reverse grip, or your upper palms with the double underhand grip. Your goal is to bend the bar to at least a 45-degree angle. Keep up the bending pressure from your fulcrum fingers and your driving muscles as you bend the steel further, until your fulcrum fingers start to touch.  If you're bending from the double overhand position, you can go from making the initial bend to continuing the bend in a single motion without changing your hand grip. If you're bending from the palms down or reverse position, you may have to change to the double overhand position to continue bending the steel. Ideally, you want to make this part of the bend in a single, smooth motion. If you're not strong enough to do that, you can make multiple attempts in rapid succession, using as much force as you can muster. Don't rest too long between attempts, or the steel will cool, making it harder to bend. Press the ends of the bar together until you can lace your fingers together; the ends should be about 2 inches (5 cm) apart. Then, use your clasped hands and upper arms like a nutcracker to finish bending the steel.  You may have to remove some of the wrapping around the steel if it gets in the way. You may also have to grasp the bent steel in one hand and clasp that hand with your other hand, squeezing both the steel and your hand. As with the sweep, crush the bar's ends together should follow quickly after making the 90-degree bend so that the steel doesn't have time to cool.\"), (11, '\"Effect\" is a noun referring to something that happens as a result of something else. E.g., \"The antibiotic had little effect on the illness.\" \"Effect\" is also a verb meaning to bring something about. E.g., \"I have decided to effect a change in the scope of this article.\" The verb \"affect\" means to change something in some way. E.g., \"His steady gaze affected my ability to breathe.\" The noun \"affect\" is used fairly rarely. It refers to a display of an inner state of mind. E.g., \"Her affect is subdued this evening.\"'), (12, 'The thought of going up to your crush to say hello might be making you nervous. To help yourself find the courage to go up to them, remind yourself that your crush is a person just like you are, and talking to them shouldn\\'t be any different than talking to anyone else. Put on a smile, take a deep breath, and focus on showing confidence. Count to three if you notice yourself hesitating to talk to your crush. Once you get to three, go right up to them! If you see your crush while you\\'re walking somewhere and don’t have time for a real conversation, say hello and then their name so they know you’re talking to them. Smile as you say hello and try to make eye contact, showing that you’re friendly and would like to talk some other time.  For example, if you see your crush as you’re walking to your seat, say, “Hey, Adam!” with a smile and keep walking. Speak loudly and clear enough so that your crush hears you. Not only does making eye contact make you look more confident, but it also helps spark a connection between the two of you. Going up to your crush to say hello can be nerve-racking, but if you see a moment when they\\'re waiting outside of class or chatting with 1 or 2 people, go up to them! There\\'s no need to overthink the timing, and being proactive about it will make you feel more confident and in control. Avoid going up to them if they\\'re talking on the phone. If you don’t mind talking to them when they’re with their friends, great! Otherwise, wait for them to be alone, like when they’re at their locker or waiting for a class to start. This puts less pressure on you and makes the conversation flow more naturally.  If you just want to say a quick, “Hi, how are you?” instead of a longer conversation, it’s okay to talk to them when they’re around others. You might say something like, \"Hi Jack, I wanted to ask you how your soccer game went last weekend! Did you guys win?\" If the conversation goes well or you just want to continue talking to them, ask for their phone number if you don’t already have it. You could also add them on social media like Instagram or Snapchat to talk to them there too. After talking about interesting books, you might say, “What’s your phone number? I’ll text you the names of a few other books I think you might like.”'), (13, 'This method allows you to upload all of your photos to iCloud, at which point you can download them onto any computer with Internet access; however, your iCloud storage must exceed the amount of storage that your photos take up. You start with 5 gigabytes of free storage, but you may need to upgrade your storage before you can store your photos. Tap the Settings app icon, which resembles a grey box with gears on it. It\\'s the top section in the Settings menu that contains your name and image if you\\'ve added one. If you are not signed in, tap Sign in to iPhone, enter your Apple ID and password, then tap Sign In. It\\'s in the second section of the menu, near the middle of the screen. It\\'s near the top of the \"APPS USING ICLOUD\" section. It will turn green {\"smallUrl\":\"https:\\\\/\\\\/www.wikihow.com\\\\/images\\\\/1\\\\/15\\\\/Iphoneswitchonicon1.png\",\"bigUrl\":\"\\\\/images\\\\/thumb\\\\/1\\\\/15\\\\/Iphoneswitchonicon1.png\\\\/46px-Iphoneswitchonicon1.png\",\"smallWidth\":460,\"smallHeight\":300,\"bigWidth\":\"46\",\"bigHeight\":\"30\",\"licensing\":\"<div class=\\\\\"mw-parser-output\\\\\"><p>I edited this screenshot of an iPhone\\\\n<\\\\/p><p>License: <a rel=\\\\\"nofollow\\\\\" class=\\\\\"external text\\\\\" href=\\\\\"http:\\\\/\\\\/en.wikipedia.org\\\\/wiki\\\\/Fair_use\\\\\">Fair Use<\\\\/a><br>\\\\n<\\\\/p><\\\\/div>\"}. At this point, your existing Camera Roll photos and videos will be uploaded to your iCloud account as long as you\\'re connected to Wi-Fi.  The upload process can take several hours if you have a lot of photos, so be patient. If you\\'d like to save storage space on your iPhone, tap Optimize iPhone Storage to store smaller versions of photos on your device. It will turn green {\"smallUrl\":\"https:\\\\/\\\\/www.wikihow.com\\\\/images\\\\/1\\\\/15\\\\/Iphoneswitchonicon1.png\",\"bigUrl\":\"\\\\/images\\\\/thumb\\\\/1\\\\/15\\\\/Iphoneswitchonicon1.png\\\\/46px-Iphoneswitchonicon1.png\",\"smallWidth\":460,\"smallHeight\":300,\"bigWidth\":\"46\",\"bigHeight\":\"30\",\"licensing\":\"<div class=\\\\\"mw-parser-output\\\\\"><p>I edited this screenshot of an iPhone\\\\n<\\\\/p><p>License: <a rel=\\\\\"nofollow\\\\\" class=\\\\\"external text\\\\\" href=\\\\\"http:\\\\/\\\\/en.wikipedia.org\\\\/wiki\\\\/Fair_use\\\\\">Fair Use<\\\\/a><br>\\\\n<\\\\/p><\\\\/div>\"}. This will ensure that future photos will be uploaded to iCloud whenever you have an Internet connection. Go to https://www.icloud.com/ in a browser. Enter your Apple ID email address and password, then click →. If you\\'re already logged into iCloud, skip this step. It\\'s a multicolored pinwheel-shaped icon. You\\'ll find this in the upper-left side of the page. While holding down Ctrl (Windows) or ⌘ Command (Mac), click each photo that you want to download. It\\'s the cloud-shaped icon with a downward-facing arrow that\\'s in the top-right side of the page. Doing so will prompt the photos to download onto your computer, though you may be asked to choose a  download location first.'), (14, 'Probiotic supplements contain yeasts and bacteria that are similar to those that are in a healthy gut. These bacteria assist with digestion. They may be able to lessen bloating due to:  Diarrhea Irritable bowel syndrome Difficulty digesting fiber Though this natural remedy is frequently used, it is unclear if it is actually effective against gas. If you are interested in trying it, you can purchase it at your local pharmacy. The following contain charcoal:  Charcoal Plus CharcoCaps These medications are supposed to help break up uncomfortable gas bubbles in your digestive tract and make them easier to pass. While frequently used, these products haven’t been scientifically proven to be effective. If you try them, read and follow the manufacturer’s instructions on the packaging. Common brands include:  Mylanta Gas-X Mylicon Gelusil If you really enjoy eating beans, cabbage, and broccoli and don’t want to cut back, the solution may be to use Beano. This product contains enzymes that help your body break down foods without producing as much gas.  You can purchase Beano at your local pharmacy. It is available as tablets and drops. Read and follow the manufacturer’s instructions. Many people who are lactose intolerant may still crave dairy products like ice cream. If this describes you, you don’t have to give up dairy. You can supply your body with the enzymes it needs to process dairy in a supplement. Common brands are:  Lactaid Dairy Ease.'), (15, ' Turn the crayon as necessary to sand off each side and form a point.')]\n"
     ]
    }
   ],
   "source": [
    "print(\n",
    "    \n",
    "        list(zip(\n",
    "            range(len(summaries_after_tuning)),\n",
    "            summaries_after_tuning,\n",
    "            summaries_before_tuning,\n",
    "        ))\n",
    "    \n",
    ")\n",
    "print(\"\\nTarget summaries:\\n\")\n",
    "print(\n",
    "    list(enumerate(test_samples[\"summary\"])))\n",
    "\n",
    "print(\"\\nSource documents:\\n\")\n",
    "print(list(enumerate(test_samples[\"document\"])))"
   ]
  },
  {
   "cell_type": "code",
   "execution_count": null,
   "metadata": {},
   "outputs": [],
   "source": []
  }
 ],
 "metadata": {
  "kernelspec": {
   "display_name": "encode_code",
   "language": "python",
   "name": "encode_code"
  },
  "language_info": {
   "codemirror_mode": {
    "name": "ipython",
    "version": 3
   },
   "file_extension": ".py",
   "mimetype": "text/x-python",
   "name": "python",
   "nbconvert_exporter": "python",
   "pygments_lexer": "ipython3",
   "version": "3.9.12"
  },
  "orig_nbformat": 4
 },
 "nbformat": 4,
 "nbformat_minor": 2
}

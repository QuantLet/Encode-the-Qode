{
 "cells": [
  {
   "cell_type": "code",
   "execution_count": 1,
   "metadata": {},
   "outputs": [],
   "source": [
    "import os \n",
    "import pandas as pd\n",
    "from tqdm import tqdm\n",
    "import numpy as np"
   ]
  },
  {
   "cell_type": "code",
   "execution_count": 2,
   "metadata": {},
   "outputs": [],
   "source": [
    "PATH_TO_PARSE = '../data/QuantLet_to_parse'\n",
    "FILE_TYPES = ['m', 'py', 'r', 'R', 'M'] #'ipynb',\n",
    "TEST_PATH = '../data/Q_test'"
   ]
  },
  {
   "cell_type": "code",
   "execution_count": 16,
   "metadata": {},
   "outputs": [
    {
     "name": "stderr",
     "output_type": "stream",
     "text": [
      "[NbConvertApp] WARNING | pattern '../data/QuantLet_to_parse/alphashape_animation/Alpha' matched no files\n",
      "[NbConvertApp] WARNING | pattern 'Shapes.ipynb' matched no files\n",
      "Traceback (most recent call last):\n",
      "  File \"/Users/izzy/anaconda3/envs/encode_code/bin/jupyter-nbconvert\", line 11, in <module>\n",
      "    sys.exit(main())\n",
      "  File \"/Users/izzy/anaconda3/envs/encode_code/lib/python3.9/site-packages/jupyter_core/application.py\", line 264, in launch_instance\n",
      "    return super(JupyterApp, cls).launch_instance(argv=argv, **kwargs)\n",
      "  File \"/Users/izzy/anaconda3/envs/encode_code/lib/python3.9/site-packages/traitlets/config/application.py\", line 846, in launch_instance\n",
      "    app.start()\n",
      "  File \"/Users/izzy/anaconda3/envs/encode_code/lib/python3.9/site-packages/nbconvert/nbconvertapp.py\", line 369, in start\n",
      "    self.convert_notebooks()\n",
      "  File \"/Users/izzy/anaconda3/envs/encode_code/lib/python3.9/site-packages/nbconvert/nbconvertapp.py\", line 525, in convert_notebooks\n",
      "    self.print_help()\n",
      "  File \"/Users/izzy/anaconda3/envs/encode_code/lib/python3.9/site-packages/traitlets/config/application.py\", line 512, in print_help\n",
      "    print('\\n'.join(self.emit_help(classes=classes)))\n",
      "BrokenPipeError: [Errno 32] Broken pipe\n"
     ]
    }
   ],
   "source": [
    "# q_name, folder_name, code_script, type_script, metainfo_file\n",
    "for i, (root, directories, files) in enumerate(os.walk(PATH_TO_PARSE)):\n",
    "    for file in files:\n",
    "        language = file.split('.')[-1]\n",
    "        if (language == 'ipynb'):\n",
    "            os.popen(f\"jupyter nbconvert --to python {root}/{file}\")\n",
    "        else:\n",
    "            continue\n",
    "    "
   ]
  },
  {
   "cell_type": "code",
   "execution_count": 15,
   "metadata": {},
   "outputs": [
    {
     "data": {
      "text/plain": [
       "'../data/QuantLet_to_parse/BitcoinOptionTrading/BitcoinOptionTrading'"
      ]
     },
     "execution_count": 15,
     "metadata": {},
     "output_type": "execute_result"
    }
   ],
   "source": [
    "root"
   ]
  },
  {
   "cell_type": "code",
   "execution_count": 12,
   "metadata": {},
   "outputs": [
    {
     "data": {
      "text/plain": [
       "['02-1_rnd_hd.py',\n",
       " '01-1_rnd_data_processing.py',\n",
       " 'requirements.txt',\n",
       " '04_explore.py',\n",
       " 'config.yaml',\n",
       " 'BitcoinOptionTrading.py',\n",
       " 'README.md',\n",
       " 'Metainfo.txt',\n",
       " '02-2_rnd_hd_corrected.py',\n",
       " '01-2_hd_data_processing.py',\n",
       " '03_trading.py']"
      ]
     },
     "execution_count": 12,
     "metadata": {},
     "output_type": "execute_result"
    }
   ],
   "source": [
    "files"
   ]
  },
  {
   "cell_type": "code",
   "execution_count": 3,
   "metadata": {},
   "outputs": [],
   "source": [
    "Quantlets = []\n",
    "repos = []\n",
    "for i, (root, directories, files) in enumerate(os.walk(PATH_TO_PARSE)):\n",
    "\n",
    "        m_file = [file for file in files if file.lower()==\"metainfo.txt\"] \n",
    "        q = {}\n",
    "        q['folder_name'] = root\n",
    "\n",
    "        \n",
    "\n",
    "        if len(m_file)!=0:\n",
    "            \n",
    "            with open(f'{root}/{m_file[0]}', 'rb') as meta:\n",
    "                 metainfofile = meta.readlines()\n",
    "            \n",
    "            q['metainfo_file'] = metainfofile\n",
    "        else:\n",
    "            q['metainfo_file'] = 'empty'\n",
    "\n",
    "        code_files = [file for file in files if file.split('.')[-1] in FILE_TYPES] \n",
    "        \n",
    "        if len(code_files)!=0:\n",
    "\n",
    "            codes = []\n",
    "            languages = []\n",
    "\n",
    "            for c_file in code_files:\n",
    "                \n",
    "                language = c_file.split('.')[-1]\n",
    "                languages.append(language)\n",
    "\n",
    "                with open(f'{root}/{c_file}', 'rb') as code:\n",
    "                    sc_file = code.readlines()\n",
    "                    codes.append(sc_file)\n",
    "            \n",
    "            q['code_script'] = codes\n",
    "            q['type_script'] = languages\n",
    "        else: \n",
    "            q['code_script'] = 'empty'\n",
    "            q['type_script'] = 'empty'\n",
    "\n",
    "        repos.append(q)\n",
    "\n",
    "\n",
    "repos_df = pd.DataFrame(repos)"
   ]
  },
  {
   "cell_type": "code",
   "execution_count": 4,
   "metadata": {},
   "outputs": [],
   "source": [
    "repos_df = repos_df[~((repos_df.code_script=='empty')&(repos_df.metainfo_file=='empty')&(repos_df.type_script=='empty'))]"
   ]
  },
  {
   "cell_type": "code",
   "execution_count": 6,
   "metadata": {},
   "outputs": [
    {
     "data": {
      "text/plain": [
       "26"
      ]
     },
     "execution_count": 6,
     "metadata": {},
     "output_type": "execute_result"
    }
   ],
   "source": [
    "len('../data/QuantLet_to_parse/')"
   ]
  },
  {
   "cell_type": "code",
   "execution_count": 9,
   "metadata": {},
   "outputs": [],
   "source": [
    "repos_df['q_name'] = repos_df.folder_name.str[26:]"
   ]
  },
  {
   "cell_type": "code",
   "execution_count": 10,
   "metadata": {},
   "outputs": [
    {
     "data": {
      "text/html": [
       "<div>\n",
       "<style scoped>\n",
       "    .dataframe tbody tr th:only-of-type {\n",
       "        vertical-align: middle;\n",
       "    }\n",
       "\n",
       "    .dataframe tbody tr th {\n",
       "        vertical-align: top;\n",
       "    }\n",
       "\n",
       "    .dataframe thead th {\n",
       "        text-align: right;\n",
       "    }\n",
       "</style>\n",
       "<table border=\"1\" class=\"dataframe\">\n",
       "  <thead>\n",
       "    <tr style=\"text-align: right;\">\n",
       "      <th></th>\n",
       "      <th>folder_name</th>\n",
       "      <th>metainfo_file</th>\n",
       "      <th>code_script</th>\n",
       "      <th>type_script</th>\n",
       "      <th>q_name</th>\n",
       "    </tr>\n",
       "  </thead>\n",
       "  <tbody>\n",
       "    <tr>\n",
       "      <th>2</th>\n",
       "      <td>../data/QuantLet_to_parse/BitcoinOptionTrading...</td>\n",
       "      <td>[b\"Name of Quantlet: 'BitcoinOptionTrading'\\n\"...</td>\n",
       "      <td>[[b'import numpy as np\\n', b'import pandas as ...</td>\n",
       "      <td>[py, py, py, py, py, py, py]</td>\n",
       "      <td>BitcoinOptionTrading/BitcoinOptionTrading</td>\n",
       "    </tr>\n",
       "    <tr>\n",
       "      <th>3</th>\n",
       "      <td>../data/QuantLet_to_parse/BitcoinOptionTrading...</td>\n",
       "      <td>empty</td>\n",
       "      <td>[[b'from pathlib import Path\\n', b'import sys\\...</td>\n",
       "      <td>[py, py, py, py, py, py, py, py, py, py, py]</td>\n",
       "      <td>BitcoinOptionTrading/BitcoinOptionTrading/visu...</td>\n",
       "    </tr>\n",
       "    <tr>\n",
       "      <th>4</th>\n",
       "      <td>../data/QuantLet_to_parse/BitcoinOptionTrading...</td>\n",
       "      <td>empty</td>\n",
       "      <td>[[b'import pandas as pd\\n', b'import numpy as ...</td>\n",
       "      <td>[py, py, py, py, py, py, py, py, py]</td>\n",
       "      <td>BitcoinOptionTrading/BitcoinOptionTrading/util</td>\n",
       "    </tr>\n",
       "    <tr>\n",
       "      <th>28</th>\n",
       "      <td>../data/QuantLet_to_parse/Tenure_Satisfaction/...</td>\n",
       "      <td>[b'\\n', b\"Name of Quantlet: 'Ten_Sat_Boxplot'\\...</td>\n",
       "      <td>[[b'if(!require(\"ggplot2\")) install.packages(\"...</td>\n",
       "      <td>[R]</td>\n",
       "      <td>Tenure_Satisfaction/Boxplot_Tenure</td>\n",
       "    </tr>\n",
       "    <tr>\n",
       "      <th>29</th>\n",
       "      <td>../data/QuantLet_to_parse/Tenure_Satisfaction/...</td>\n",
       "      <td>[b\"Name of Quantlet: 'Ten_Sat_Time_Series_Tenu...</td>\n",
       "      <td>[[b'if(!require(\"ggplot2\")) install.packages(\"...</td>\n",
       "      <td>[R]</td>\n",
       "      <td>Tenure_Satisfaction/Time_Series</td>\n",
       "    </tr>\n",
       "    <tr>\n",
       "      <th>...</th>\n",
       "      <td>...</td>\n",
       "      <td>...</td>\n",
       "      <td>...</td>\n",
       "      <td>...</td>\n",
       "      <td>...</td>\n",
       "    </tr>\n",
       "    <tr>\n",
       "      <th>10715</th>\n",
       "      <td>../data/QuantLet_to_parse/VWAP_Germany/VWAP_Po...</td>\n",
       "      <td>[b'\\n', b'Name of QuantLet : VWAP_Polygonplot\\...</td>\n",
       "      <td>[[b'##########################################...</td>\n",
       "      <td>[R]</td>\n",
       "      <td>VWAP_Germany/VWAP_Polygonplot</td>\n",
       "    </tr>\n",
       "    <tr>\n",
       "      <th>10716</th>\n",
       "      <td>../data/QuantLet_to_parse/VWAP_Germany/VWAP_FP...</td>\n",
       "      <td>[b'\\n', b'Name of QuantLet : VWAP_FPCA_Trainin...</td>\n",
       "      <td>[[b'##########################################...</td>\n",
       "      <td>[R]</td>\n",
       "      <td>VWAP_Germany/VWAP_FPCA_Training</td>\n",
       "    </tr>\n",
       "    <tr>\n",
       "      <th>10717</th>\n",
       "      <td>../data/QuantLet_to_parse/UYCTR</td>\n",
       "      <td>[b'Name of Quantlet: UYCTReur\\n', b'\\n', b'Pub...</td>\n",
       "      <td>[[b'# ----------------------------------------...</td>\n",
       "      <td>[R, R, R, R]</td>\n",
       "      <td>UYCTR</td>\n",
       "    </tr>\n",
       "    <tr>\n",
       "      <th>10735</th>\n",
       "      <td>../data/QuantLet_to_parse/Metis-Shapley/Additi...</td>\n",
       "      <td>[b\"Name of Quantlet: 'Additive_Example'\\n\", b'...</td>\n",
       "      <td>[[b'#!/usr/bin/env python\\n', b'# coding: utf-...</td>\n",
       "      <td>[py]</td>\n",
       "      <td>Metis-Shapley/Additive_Example</td>\n",
       "    </tr>\n",
       "    <tr>\n",
       "      <th>10736</th>\n",
       "      <td>../data/QuantLet_to_parse/Metis-Shapley/Boosti...</td>\n",
       "      <td>[b\"Name of Quantlet: 'Boosting_example'\\n\", b'...</td>\n",
       "      <td>[[b'#!/usr/bin/env python\\n', b'# coding: utf-...</td>\n",
       "      <td>[py]</td>\n",
       "      <td>Metis-Shapley/Boosting_example</td>\n",
       "    </tr>\n",
       "  </tbody>\n",
       "</table>\n",
       "<p>3224 rows × 5 columns</p>\n",
       "</div>"
      ],
      "text/plain": [
       "                                             folder_name  \\\n",
       "2      ../data/QuantLet_to_parse/BitcoinOptionTrading...   \n",
       "3      ../data/QuantLet_to_parse/BitcoinOptionTrading...   \n",
       "4      ../data/QuantLet_to_parse/BitcoinOptionTrading...   \n",
       "28     ../data/QuantLet_to_parse/Tenure_Satisfaction/...   \n",
       "29     ../data/QuantLet_to_parse/Tenure_Satisfaction/...   \n",
       "...                                                  ...   \n",
       "10715  ../data/QuantLet_to_parse/VWAP_Germany/VWAP_Po...   \n",
       "10716  ../data/QuantLet_to_parse/VWAP_Germany/VWAP_FP...   \n",
       "10717                    ../data/QuantLet_to_parse/UYCTR   \n",
       "10735  ../data/QuantLet_to_parse/Metis-Shapley/Additi...   \n",
       "10736  ../data/QuantLet_to_parse/Metis-Shapley/Boosti...   \n",
       "\n",
       "                                           metainfo_file  \\\n",
       "2      [b\"Name of Quantlet: 'BitcoinOptionTrading'\\n\"...   \n",
       "3                                                  empty   \n",
       "4                                                  empty   \n",
       "28     [b'\\n', b\"Name of Quantlet: 'Ten_Sat_Boxplot'\\...   \n",
       "29     [b\"Name of Quantlet: 'Ten_Sat_Time_Series_Tenu...   \n",
       "...                                                  ...   \n",
       "10715  [b'\\n', b'Name of QuantLet : VWAP_Polygonplot\\...   \n",
       "10716  [b'\\n', b'Name of QuantLet : VWAP_FPCA_Trainin...   \n",
       "10717  [b'Name of Quantlet: UYCTReur\\n', b'\\n', b'Pub...   \n",
       "10735  [b\"Name of Quantlet: 'Additive_Example'\\n\", b'...   \n",
       "10736  [b\"Name of Quantlet: 'Boosting_example'\\n\", b'...   \n",
       "\n",
       "                                             code_script  \\\n",
       "2      [[b'import numpy as np\\n', b'import pandas as ...   \n",
       "3      [[b'from pathlib import Path\\n', b'import sys\\...   \n",
       "4      [[b'import pandas as pd\\n', b'import numpy as ...   \n",
       "28     [[b'if(!require(\"ggplot2\")) install.packages(\"...   \n",
       "29     [[b'if(!require(\"ggplot2\")) install.packages(\"...   \n",
       "...                                                  ...   \n",
       "10715  [[b'##########################################...   \n",
       "10716  [[b'##########################################...   \n",
       "10717  [[b'# ----------------------------------------...   \n",
       "10735  [[b'#!/usr/bin/env python\\n', b'# coding: utf-...   \n",
       "10736  [[b'#!/usr/bin/env python\\n', b'# coding: utf-...   \n",
       "\n",
       "                                        type_script  \\\n",
       "2                      [py, py, py, py, py, py, py]   \n",
       "3      [py, py, py, py, py, py, py, py, py, py, py]   \n",
       "4              [py, py, py, py, py, py, py, py, py]   \n",
       "28                                              [R]   \n",
       "29                                              [R]   \n",
       "...                                             ...   \n",
       "10715                                           [R]   \n",
       "10716                                           [R]   \n",
       "10717                                  [R, R, R, R]   \n",
       "10735                                          [py]   \n",
       "10736                                          [py]   \n",
       "\n",
       "                                                  q_name  \n",
       "2              BitcoinOptionTrading/BitcoinOptionTrading  \n",
       "3      BitcoinOptionTrading/BitcoinOptionTrading/visu...  \n",
       "4         BitcoinOptionTrading/BitcoinOptionTrading/util  \n",
       "28                    Tenure_Satisfaction/Boxplot_Tenure  \n",
       "29                       Tenure_Satisfaction/Time_Series  \n",
       "...                                                  ...  \n",
       "10715                      VWAP_Germany/VWAP_Polygonplot  \n",
       "10716                    VWAP_Germany/VWAP_FPCA_Training  \n",
       "10717                                              UYCTR  \n",
       "10735                     Metis-Shapley/Additive_Example  \n",
       "10736                     Metis-Shapley/Boosting_example  \n",
       "\n",
       "[3224 rows x 5 columns]"
      ]
     },
     "execution_count": 10,
     "metadata": {},
     "output_type": "execute_result"
    }
   ],
   "source": [
    "repos_df"
   ]
  },
  {
   "cell_type": "code",
   "execution_count": 11,
   "metadata": {},
   "outputs": [],
   "source": [
    "repos_df.to_csv('../data/Parsed_Qs_20220813.csv', header=False)"
   ]
  }
 ],
 "metadata": {
  "interpreter": {
   "hash": "b5068c5f83f27504f643fbd77082c0ce556ae27ae78fa94fc3f8daafe95bc05c"
  },
  "kernelspec": {
   "display_name": "Python 3.9.12 ('encode_code')",
   "language": "python",
   "name": "python3"
  },
  "language_info": {
   "codemirror_mode": {
    "name": "ipython",
    "version": 3
   },
   "file_extension": ".py",
   "mimetype": "text/x-python",
   "name": "python",
   "nbconvert_exporter": "python",
   "pygments_lexer": "ipython3",
   "version": "3.9.12"
  },
  "orig_nbformat": 4
 },
 "nbformat": 4,
 "nbformat_minor": 2
}

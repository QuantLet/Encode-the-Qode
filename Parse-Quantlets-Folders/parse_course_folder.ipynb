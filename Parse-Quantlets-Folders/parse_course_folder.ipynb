{
 "cells": [
  {
   "cell_type": "code",
   "execution_count": 1,
   "metadata": {},
   "outputs": [],
   "source": [
    "import os \n",
    "import subprocess\n",
    "import shutil\n",
    "import pathlib"
   ]
  },
  {
   "cell_type": "code",
   "execution_count": 23,
   "metadata": {},
   "outputs": [],
   "source": [
    "def remove_nfiles(path: str): \n",
    "    folders = os.listdir(path)\n",
    "    #print(folders)\n",
    "    for Quantlet in folders:\n",
    "        if not os.path.isdir(path + '/' + Quantlet):\n",
    "            continue\n",
    "        if Quantlet == '.git':\n",
    "            continue\n",
    "        files = os.listdir(path + '/' + Quantlet)\n",
    "        for file in files:\n",
    "            if file.split('.')[-1] not in ['m', 'r', 'M', 'R','txt']:\n",
    "                    os.remove(path + '/' + Quantlet+ '/'+ file)"
   ]
  },
  {
   "cell_type": "code",
   "execution_count": 57,
   "metadata": {},
   "outputs": [],
   "source": [
    "for folder in os.listdir('data/sorted/r'):\n",
    "    try:\n",
    "        remove_nfiles(f'data/sorted/r/{folder}')\n",
    "    except:\n",
    "        pass"
   ]
  },
  {
   "cell_type": "code",
   "execution_count": 56,
   "metadata": {},
   "outputs": [],
   "source": [
    "remove_nfiles('data/sorted/r/XFG')"
   ]
  },
  {
   "cell_type": "code",
   "execution_count": null,
   "metadata": {},
   "outputs": [],
   "source": []
  }
 ],
 "metadata": {
  "interpreter": {
   "hash": "b5068c5f83f27504f643fbd77082c0ce556ae27ae78fa94fc3f8daafe95bc05c"
  },
  "kernelspec": {
   "display_name": "Python 3.9.12 ('encode_code')",
   "language": "python",
   "name": "python3"
  },
  "language_info": {
   "codemirror_mode": {
    "name": "ipython",
    "version": 3
   },
   "file_extension": ".py",
   "mimetype": "text/x-python",
   "name": "python",
   "nbconvert_exporter": "python",
   "pygments_lexer": "ipython3",
   "version": "3.9.12"
  },
  "orig_nbformat": 4
 },
 "nbformat": 4,
 "nbformat_minor": 2
}

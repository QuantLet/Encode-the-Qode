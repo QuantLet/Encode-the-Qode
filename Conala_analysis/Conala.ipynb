{
 "cells": [
  {
   "cell_type": "code",
   "execution_count": 1,
   "metadata": {},
   "outputs": [
    {
     "name": "stdout",
     "output_type": "stream",
     "text": [
      "Defaulting to user installation because normal site-packages is not writeable\n",
      "Requirement already satisfied: protobuf==3.20.1 in /home/RDC/zinovyee.hub/.local/lib/python3.9/site-packages (3.20.1)\n"
     ]
    }
   ],
   "source": [
    "!pip install protobuf==3.20.1\n",
    "!pip install -q transformers sentencepiece"
   ]
  },
  {
   "cell_type": "code",
   "execution_count": 3,
   "metadata": {},
   "outputs": [],
   "source": [
    "from transformers import AutoTokenizer, AutoModelWithLMHead, SummarizationPipeline"
   ]
  },
  {
   "cell_type": "code",
   "execution_count": 6,
   "metadata": {},
   "outputs": [],
   "source": [
    "pipeline = SummarizationPipeline(\n",
    "    model=AutoModelWithLMHead.from_pretrained(\"SEBIS/code_trans_t5_large_source_code_summarization_python_multitask\"),\n",
    "    tokenizer=AutoTokenizer.from_pretrained(\"SEBIS/code_trans_t5_large_source_code_summarization_python_multitask\",\n",
    "    skip_special_tokens=Fa),\n",
    "    device=0\n",
    ")"
   ]
  },
  {
   "cell_type": "code",
   "execution_count": 7,
   "metadata": {},
   "outputs": [
    {
     "name": "stderr",
     "output_type": "stream",
     "text": [
      "Your max_length is set to 20, but you input_length is only 9. You might consider decreasing max_length manually, e.g. summarizer('...', max_length=50)\n"
     ]
    },
    {
     "data": {
      "text/plain": [
       "[{'summary_text': 'as matplotlib'}]"
      ]
     },
     "execution_count": 7,
     "metadata": {},
     "output_type": "execute_result"
    }
   ],
   "source": [
    "tokenized_code =  '''\n",
    "import numpy\\nimport numpy as np\\nimport matplotlib\\n\n",
    "'''\n",
    "pipeline([tokenized_code])"
   ]
  },
  {
   "cell_type": "code",
   "execution_count": 144,
   "metadata": {},
   "outputs": [
    {
     "data": {
      "application/vnd.jupyter.widget-view+json": {
       "model_id": "79fbc6a058fc4a68accf9e24461a41a9",
       "version_major": 2,
       "version_minor": 0
      },
      "text/plain": [
       "Downloading:   0%|          | 0.00/2.95G [00:00<?, ?B/s]"
      ]
     },
     "metadata": {},
     "output_type": "display_data"
    },
    {
     "data": {
      "application/vnd.jupyter.widget-view+json": {
       "model_id": "4eb77fb0ac394b61bdb20c8cece51cda",
       "version_major": 2,
       "version_minor": 0
      },
      "text/plain": [
       "Downloading:   0%|          | 0.00/797k [00:00<?, ?B/s]"
      ]
     },
     "metadata": {},
     "output_type": "display_data"
    },
    {
     "data": {
      "application/vnd.jupyter.widget-view+json": {
       "model_id": "ee225c87c73340fda4ebcbc4091cbc3e",
       "version_major": 2,
       "version_minor": 0
      },
      "text/plain": [
       "Downloading:   0%|          | 0.00/1.79k [00:00<?, ?B/s]"
      ]
     },
     "metadata": {},
     "output_type": "display_data"
    },
    {
     "data": {
      "application/vnd.jupyter.widget-view+json": {
       "model_id": "9445b80c8ad447f6978e0b56cec53df4",
       "version_major": 2,
       "version_minor": 0
      },
      "text/plain": [
       "Downloading:   0%|          | 0.00/24.0 [00:00<?, ?B/s]"
      ]
     },
     "metadata": {},
     "output_type": "display_data"
    }
   ],
   "source": [
    "model = AutoModelWithLMHead.from_pretrained(\"SEBIS/code_trans_t5_large_code_documentation_generation_python_multitask_finetune\")\n",
    "tokenizer = AutoTokenizer.from_pretrained(\"SEBIS/code_trans_t5_large_code_documentation_generation_python_multitask_finetune\",\n",
    "    skip_special_tokens=False)"
   ]
  },
  {
   "cell_type": "code",
   "execution_count": 177,
   "metadata": {},
   "outputs": [],
   "source": [
    "preprocess_text = \"\"\" \n",
    "shap_values = explainer(design)\n",
    "# visualize the first prediction's explanation\n",
    "#plt.figure(figsize=(6.4,4.8), dpi= 200) #(6.4, 4.8) baseline\n",
    "shap.plots.waterfall(shap_values[5])\n",
    "plt.tight_layout()\n",
    "# visualize the first prediction's explanation with a force plot # screenshot\n",
    "shap.initjs()\n",
    "shap.plots.force(shap_values[5])\n",
    "# summarize the effects of all the features\n",
    "shap.plots.beeswarm(shap_values)\n",
    "plt.tight_layout()\n",
    "shap.plots.bar(shap_values)\n",
    "plt.tight_layout()\n",
    "# create a dependence scatter plot to show the effect of a single feature across the whole dataset\n",
    "shap.plots.scatter(shap_values[:,\"LSTAT\"])\n",
    "plt.tight_layout()\n",
    "\n",
    "\n",
    "\n",
    "'\"\"\""
   ]
  },
  {
   "cell_type": "code",
   "execution_count": 178,
   "metadata": {},
   "outputs": [],
   "source": [
    "import torch"
   ]
  },
  {
   "cell_type": "code",
   "execution_count": 179,
   "metadata": {},
   "outputs": [],
   "source": [
    "device = torch.device(\"cuda:0\" if torch.cuda.is_available() else \"cpu\")\n"
   ]
  },
  {
   "cell_type": "code",
   "execution_count": 180,
   "metadata": {},
   "outputs": [],
   "source": [
    "model = model.to(device)"
   ]
  },
  {
   "cell_type": "code",
   "execution_count": 181,
   "metadata": {},
   "outputs": [],
   "source": [
    "tokenized_text = tokenizer.encode(preprocess_text, return_tensors=\"pt\").to(device)"
   ]
  },
  {
   "cell_type": "code",
   "execution_count": 182,
   "metadata": {},
   "outputs": [
    {
     "data": {
      "text/plain": [
       "tensor([[ 4753,   275,    14,  3206,    11,  6059,   150,   219, 15458,   402,\n",
       "           168, 30577,     8,   160, 15907,    36,    10,  9822,   168,  6620,\n",
       "            75,    35, 22702,   219, 19492,  1025,   367,   219, 17571,   135,\n",
       "         26797,  2083,   140,  4932,   367,  2044,   402,   168,   219, 17571,\n",
       "           135, 21633,   402, 14588,  4753,   275,    35,  8322,    10,    35,\n",
       "          8492, 12946,   219,  6156,   275,    14,  3206,  1046,   465,  6802,\n",
       "          9722,    35,    75,  4924,    14,  9204,  1759,   168, 30577,     8,\n",
       "           160, 15907,    36,    10,  9822,    46,    15,  1180,  3021,   168,\n",
       "         23496,  4753,   275,    35,    56,  1479,  1759,  4753,   275,    35,\n",
       "          8322,    10,    35,  7326,   219,  6156,   275,    14,  3206,  1046,\n",
       "           465,  6802,   168, 29302,     8,  4462,    18,   123,     8,  2826,\n",
       "          4753,   275,    35,  8322,    10,    35, 17751,    10,  7006,   183,\n",
       "           219,  6156,   275,    14,  3206,   402,  9722,    35,    75,  4924,\n",
       "            14,  9204,  1759,  4753,   275,    35,  8322,    10,    35,  2214,\n",
       "           219,  6156,   275,    14,  3206,   402,  9722,    35,    75,  4924,\n",
       "            14,  9204,  1759,   168,   166,    15, 23274, 24738,  3021,    17,\n",
       "           504,     8,  2253,    18,    15,   876,  1986,  1094,     8,  2387,\n",
       "          3483,  4753,   275,    35,  8322,    10,    35,  4370,  7628,   219,\n",
       "          6156,   275,    14,  3206, 18995,   135,   679,   834,  4617,  5818,\n",
       "           679,  6802,  9722,    35,    75,  4924,    14,  9204,  1759,    20,\n",
       "             1]], device='cuda:0')"
      ]
     },
     "execution_count": 182,
     "metadata": {},
     "output_type": "execute_result"
    }
   ],
   "source": [
    "tokenized_text"
   ]
  },
  {
   "cell_type": "code",
   "execution_count": 183,
   "metadata": {},
   "outputs": [],
   "source": [
    "outs = model.generate(\n",
    "            tokenized_text,\n",
    "            min_length=20,\n",
    "            max_length=100,\n",
    "            num_beams=5,\n",
    "            early_stopping=True\n",
    "           )"
   ]
  },
  {
   "cell_type": "code",
   "execution_count": 184,
   "metadata": {},
   "outputs": [
    {
     "name": "stdout",
     "output_type": "stream",
     "text": [
      "Predicted Answer:  ['<pad> Plot the first prediction of the design matrix with a waterfall plot and a scatter plot to show the effect of a single feature across a whole dataset.</s>']\n"
     ]
    }
   ],
   "source": [
    "dec = [tokenizer.decode(ids) for ids in outs]\n",
    "print(\"Predicted Answer: \", dec)"
   ]
  },
  {
   "cell_type": "code",
   "execution_count": null,
   "metadata": {},
   "outputs": [],
   "source": []
  }
 ],
 "metadata": {
  "kernelspec": {
   "display_name": "encode_code",
   "language": "python",
   "name": "encode_code"
  },
  "language_info": {
   "codemirror_mode": {
    "name": "ipython",
    "version": 3
   },
   "file_extension": ".py",
   "mimetype": "text/x-python",
   "name": "python",
   "nbconvert_exporter": "python",
   "pygments_lexer": "ipython3",
   "version": "3.9.12"
  },
  "orig_nbformat": 4
 },
 "nbformat": 4,
 "nbformat_minor": 2
}

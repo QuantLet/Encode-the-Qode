{
 "cells": [
  {
   "cell_type": "code",
   "execution_count": null,
   "metadata": {},
   "outputs": [],
   "source": [
    "!pip install nb-black\n",
    "!pip install protobuf==3.20.1\n",
    "!pip install -q transformers sentencepiece\n",
    "\n",
    "%load_ext lab_black"
   ]
  },
  {
   "cell_type": "code",
   "execution_count": 1,
   "metadata": {},
   "outputs": [],
   "source": [
    "import json\n",
    "import numpy as np\n",
    "import os\n",
    "import pandas as pd\n",
    "import torch\n",
    "\n",
    "import ast"
   ]
  },
  {
   "cell_type": "code",
   "execution_count": 15,
   "metadata": {},
   "outputs": [],
   "source": [
    "with open(\"../data/raw/Conala/conala-corpus/conala-train.json\") as f:\n",
    "    train = json.load(f)\n",
    "\n",
    "with open(\"../data/raw/Conala/conala-corpus/conala-test.json\") as f:\n",
    "    test = json.load(f)"
   ]
  },
  {
   "cell_type": "code",
   "execution_count": 16,
   "metadata": {},
   "outputs": [],
   "source": [
    "def parse_to_pandas(data):\n",
    "    df = pd.DataFrame(columns=[\"intent\", \"snippet\"])\n",
    "    for d in data:\n",
    "        df = df.append(\n",
    "            {\n",
    "                \"intent\": d[\"intent\"],\n",
    "                \"intent_std\": d[\"rewritten_intent\"],\n",
    "                \"snippet\": d[\"snippet\"],\n",
    "            },\n",
    "            ignore_index=True,\n",
    "        )\n",
    "    return df"
   ]
  },
  {
   "cell_type": "code",
   "execution_count": 17,
   "metadata": {},
   "outputs": [
    {
     "name": "stdout",
     "output_type": "stream",
     "text": [
      "(2367, 3)\n",
      "(494, 3)\n"
     ]
    }
   ],
   "source": [
    "train = parse_to_pandas(train)\n",
    "train = train.drop_duplicates()\n",
    "\n",
    "test = parse_to_pandas(test)\n",
    "test = test.drop_duplicates()\n",
    "print(train.shape)\n",
    "print(test.shape)"
   ]
  },
  {
   "attachments": {},
   "cell_type": "markdown",
   "metadata": {},
   "source": [
    "### Code Clone Detection\n",
    "#### Preparing the dataset"
   ]
  },
  {
   "attachments": {},
   "cell_type": "markdown",
   "metadata": {},
   "source": [
    "Type 1: Identical code clones except for differences in white-spaces, layouts\n",
    "and comments. It is known as exact clones. Table 1 presents an example of two\n",
    "fragments of code clones where the difference between them is the comment\n",
    "highlighted in grey. The pair of code fragments are exact copies of each other.\n",
    "Hence, they are clones of Type 1.\n",
    "– Type 2: Syntactically identical code clones except for differences in identifiers\n",
    "name, data types, whitespace, layouts, and comments are Type 2 clones. As\n",
    "shown in Table 2, the two fragments will be exact when we ignore the naming\n",
    "differences (function name, name of input variables). These two code fragments\n",
    "are Type 2 clones of each other.\n",
    "– Type 3: Code clones with some modification, addition or deletion of lines in\n",
    "addition to a difference in identifiers, data types, whitespaces, and comments.\n",
    "Examples of two Type 3 code fragments are showed in Table 3. These two\n",
    "code fragments are different in the function name and the addition of 2 lines\n",
    "for another condition in the second code fragment."
   ]
  },
  {
   "cell_type": "code",
   "execution_count": 12,
   "metadata": {},
   "outputs": [
    {
     "data": {
      "text/plain": [
       "(2379, 3)"
      ]
     },
     "execution_count": 12,
     "metadata": {},
     "output_type": "execute_result"
    }
   ],
   "source": [
    "train.shape"
   ]
  },
  {
   "cell_type": "code",
   "execution_count": 21,
   "metadata": {},
   "outputs": [
    {
     "data": {
      "text/html": [
       "<div>\n",
       "<style scoped>\n",
       "    .dataframe tbody tr th:only-of-type {\n",
       "        vertical-align: middle;\n",
       "    }\n",
       "\n",
       "    .dataframe tbody tr th {\n",
       "        vertical-align: top;\n",
       "    }\n",
       "\n",
       "    .dataframe thead th {\n",
       "        text-align: right;\n",
       "    }\n",
       "</style>\n",
       "<table border=\"1\" class=\"dataframe\">\n",
       "  <thead>\n",
       "    <tr style=\"text-align: right;\">\n",
       "      <th></th>\n",
       "      <th>intent</th>\n",
       "      <th>snippet</th>\n",
       "      <th>intent_std</th>\n",
       "    </tr>\n",
       "  </thead>\n",
       "  <tbody>\n",
       "    <tr>\n",
       "      <th>0</th>\n",
       "      <td>How to convert a list of multiple integers int...</td>\n",
       "      <td>sum(d * 10 ** i for i, d in enumerate(x[::-1]))</td>\n",
       "      <td>Concatenate elements of a list 'x' of multiple...</td>\n",
       "    </tr>\n",
       "    <tr>\n",
       "      <th>1</th>\n",
       "      <td>How to convert a list of multiple integers int...</td>\n",
       "      <td>r = int(''.join(map(str, x)))</td>\n",
       "      <td>convert a list of integers into a single integer</td>\n",
       "    </tr>\n",
       "  </tbody>\n",
       "</table>\n",
       "</div>"
      ],
      "text/plain": [
       "                                              intent  \\\n",
       "0  How to convert a list of multiple integers int...   \n",
       "1  How to convert a list of multiple integers int...   \n",
       "\n",
       "                                           snippet  \\\n",
       "0  sum(d * 10 ** i for i, d in enumerate(x[::-1]))   \n",
       "1                    r = int(''.join(map(str, x)))   \n",
       "\n",
       "                                          intent_std  \n",
       "0  Concatenate elements of a list 'x' of multiple...  \n",
       "1   convert a list of integers into a single integer  "
      ]
     },
     "execution_count": 21,
     "metadata": {},
     "output_type": "execute_result"
    }
   ],
   "source": [
    "train[train.intent=='How to convert a list of multiple integers into a single integer?']"
   ]
  },
  {
   "cell_type": "code",
   "execution_count": 26,
   "metadata": {},
   "outputs": [],
   "source": [
    "from pprint import pprint"
   ]
  },
  {
   "cell_type": "code",
   "execution_count": 28,
   "metadata": {},
   "outputs": [
    {
     "name": "stdout",
     "output_type": "stream",
     "text": [
      "Collecting astunparse\n",
      "  Downloading astunparse-1.6.3-py2.py3-none-any.whl (12 kB)\n",
      "Requirement already satisfied: six<2.0,>=1.6.1 in /home/RDC/zinovyee.hub/.conda/envs/encode_code/lib/python3.9/site-packages (from astunparse) (1.16.0)\n",
      "Requirement already satisfied: wheel<1.0,>=0.23.0 in /home/RDC/zinovyee.hub/.conda/envs/encode_code/lib/python3.9/site-packages (from astunparse) (0.37.1)\n",
      "Installing collected packages: astunparse\n",
      "Successfully installed astunparse-1.6.3\n",
      "\n",
      "\u001b[1m[\u001b[0m\u001b[34;49mnotice\u001b[0m\u001b[1;39;49m]\u001b[0m\u001b[39;49m A new release of pip is available: \u001b[0m\u001b[31;49m23.0.1\u001b[0m\u001b[39;49m -> \u001b[0m\u001b[32;49m23.1.2\u001b[0m\n",
      "\u001b[1m[\u001b[0m\u001b[34;49mnotice\u001b[0m\u001b[1;39;49m]\u001b[0m\u001b[39;49m To update, run: \u001b[0m\u001b[32;49mpip install --upgrade pip\u001b[0m\n"
     ]
    }
   ],
   "source": [
    "!pip install astunparse"
   ]
  },
  {
   "cell_type": "code",
   "execution_count": 27,
   "metadata": {},
   "outputs": [
    {
     "name": "stdout",
     "output_type": "stream",
     "text": [
      "(\"Module(body=[Expr(value=Call(func=Name(id='sum', ctx=Load()), \"\n",
      " \"args=[GeneratorExp(elt=BinOp(left=Name(id='d', ctx=Load()), op=Mult(), \"\n",
      " \"right=BinOp(left=Constant(value=10), op=Pow(), right=Name(id='i', \"\n",
      " \"ctx=Load()))), generators=[comprehension(target=Tuple(elts=[Name(id='i', \"\n",
      " \"ctx=Store()), Name(id='d', ctx=Store())], ctx=Store()), \"\n",
      " \"iter=Call(func=Name(id='enumerate', ctx=Load()), \"\n",
      " \"args=[Subscript(value=Name(id='x', ctx=Load()), \"\n",
      " 'slice=Slice(step=UnaryOp(op=USub(), operand=Constant(value=1))), '\n",
      " 'ctx=Load())], keywords=[]), ifs=[], is_async=0)])], keywords=[]))], '\n",
      " 'type_ignores=[])')\n"
     ]
    }
   ],
   "source": [
    "tree = ast.parse(train.snippet[0])\n",
    "pprint(ast.dump(tree))"
   ]
  },
  {
   "cell_type": "code",
   "execution_count": 32,
   "metadata": {},
   "outputs": [],
   "source": [
    "import inspect\n",
    "import astunparse"
   ]
  },
  {
   "cell_type": "code",
   "execution_count": 38,
   "metadata": {},
   "outputs": [
    {
     "data": {
      "text/plain": [
       "'sum(d * 10 ** i for i, d in enumerate(x[::-1]))'"
      ]
     },
     "execution_count": 38,
     "metadata": {},
     "output_type": "execute_result"
    }
   ],
   "source": [
    "train.snippet[0]"
   ]
  },
  {
   "cell_type": "code",
   "execution_count": 36,
   "metadata": {},
   "outputs": [
    {
     "name": "stdout",
     "output_type": "stream",
     "text": [
      "\n",
      "sum(((d * (10 ** i)) for (i, d) in enumerate(x[::(- 1)])))\n",
      "\n"
     ]
    }
   ],
   "source": [
    "# get back the source code\n",
    "print(astunparse.unparse(ast.parse(train.snippet[0])))"
   ]
  },
  {
   "cell_type": "code",
   "execution_count": 41,
   "metadata": {},
   "outputs": [],
   "source": [
    "tree = ast.parse(train.snippet[0])"
   ]
  },
  {
   "cell_type": "code",
   "execution_count": 49,
   "metadata": {},
   "outputs": [
    {
     "data": {
      "text/plain": [
       "<ast.Call at 0x7f6b6d2a68b0>"
      ]
     },
     "execution_count": 49,
     "metadata": {},
     "output_type": "execute_result"
    }
   ],
   "source": [
    "tree.body[0].value"
   ]
  },
  {
   "cell_type": "code",
   "execution_count": 50,
   "metadata": {},
   "outputs": [],
   "source": [
    "class AnalysisNodeVisitor(ast.NodeVisitor):\n",
    "    def visit_Import(self,node):\n",
    "        ast.NodeVisitor.generic_visit(self, node)\n",
    "\n",
    "    def visit_ImportFrom(self,node):\n",
    "        ast.NodeVisitor.generic_visit(self, node)\n",
    "\n",
    "    def visit_Assign(self,node):\n",
    "        print('Node type: Assign and fields: ', node._fields)\n",
    "        ast.NodeVisitor.generic_visit(self, node)\n",
    "    \n",
    "    def visit_BinOp(self, node):\n",
    "        print('Node type: BinOp and fields: ', node._fields)\n",
    "        ast.NodeVisitor.generic_visit(self, node)\n",
    "\n",
    "    def visit_Expr(self, node):\n",
    "        print('Node type: Expr and fields: ', node._fields)\n",
    "        ast.NodeVisitor.generic_visit(self, node)\n",
    "\n",
    "    def visit_Num(self,node):\n",
    "        print('Node type: Num and fields: ', node._fields)\n",
    "\n",
    "    def visit_Name(self,node):\n",
    "        print('Node type: Name and fields: ', node._fields)\n",
    "        ast.NodeVisitor.generic_visit(self, node)\n",
    "\n",
    "    def visit_Str(self, node):\n",
    "        print('Node type: Str and fields: ', node._fields)"
   ]
  },
  {
   "cell_type": "code",
   "execution_count": 51,
   "metadata": {},
   "outputs": [
    {
     "name": "stdout",
     "output_type": "stream",
     "text": [
      "Node type: Expr and fields:  ('value',)\n",
      "Node type: Name and fields:  ('id', 'ctx')\n",
      "Node type: BinOp and fields:  ('left', 'op', 'right')\n",
      "Node type: Name and fields:  ('id', 'ctx')\n",
      "Node type: BinOp and fields:  ('left', 'op', 'right')\n",
      "Node type: Num and fields:  ('value', 'kind')\n",
      "Node type: Name and fields:  ('id', 'ctx')\n",
      "Node type: Name and fields:  ('id', 'ctx')\n",
      "Node type: Name and fields:  ('id', 'ctx')\n",
      "Node type: Name and fields:  ('id', 'ctx')\n",
      "Node type: Name and fields:  ('id', 'ctx')\n",
      "Node type: Num and fields:  ('value', 'kind')\n"
     ]
    }
   ],
   "source": [
    "v = AnalysisNodeVisitor()\n",
    "v.visit(tree)"
   ]
  },
  {
   "cell_type": "code",
   "execution_count": 34,
   "metadata": {},
   "outputs": [
    {
     "name": "stdout",
     "output_type": "stream",
     "text": [
      "Module(\n",
      "  body=[Expr(value=Call(\n",
      "    func=Name(\n",
      "      id='sum',\n",
      "      ctx=Load()),\n",
      "    args=[GeneratorExp(\n",
      "      elt=BinOp(\n",
      "        left=Name(\n",
      "          id='d',\n",
      "          ctx=Load()),\n",
      "        op=Mult(),\n",
      "        right=BinOp(\n",
      "          left=Constant(\n",
      "            value=10,\n",
      "            kind=None),\n",
      "          op=Pow(),\n",
      "          right=Name(\n",
      "            id='i',\n",
      "            ctx=Load()))),\n",
      "      generators=[comprehension(\n",
      "        target=Tuple(\n",
      "          elts=[\n",
      "            Name(\n",
      "              id='i',\n",
      "              ctx=Store()),\n",
      "            Name(\n",
      "              id='d',\n",
      "              ctx=Store())],\n",
      "          ctx=Store()),\n",
      "        iter=Call(\n",
      "          func=Name(\n",
      "            id='enumerate',\n",
      "            ctx=Load()),\n",
      "          args=[Subscript(\n",
      "            value=Name(\n",
      "              id='x',\n",
      "              ctx=Load()),\n",
      "            slice=Slice(\n",
      "              lower=None,\n",
      "              upper=None,\n",
      "              step=UnaryOp(\n",
      "                op=USub(),\n",
      "                operand=Constant(\n",
      "                  value=1,\n",
      "                  kind=None))),\n",
      "            ctx=Load())],\n",
      "          keywords=[]),\n",
      "        ifs=[],\n",
      "        is_async=0)])],\n",
      "    keywords=[]))],\n",
      "  type_ignores=[])\n"
     ]
    }
   ],
   "source": [
    "# get a pretty-printed dump of the AST\n",
    "print(astunparse.dump(ast.parse(train.snippet[0])))"
   ]
  },
  {
   "cell_type": "code",
   "execution_count": null,
   "metadata": {},
   "outputs": [],
   "source": []
  },
  {
   "cell_type": "code",
   "execution_count": 20,
   "metadata": {},
   "outputs": [
    {
     "data": {
      "text/plain": [
       "'How to convert a list of multiple integers into a single integer?'"
      ]
     },
     "execution_count": 20,
     "metadata": {},
     "output_type": "execute_result"
    }
   ],
   "source": [
    "train[train.duplicated('intent')].loc[1]['intent']"
   ]
  },
  {
   "attachments": {},
   "cell_type": "markdown",
   "metadata": {},
   "source": [
    "### Variable Misuse Detection\n",
    "#### Preparing the dataset"
   ]
  },
  {
   "attachments": {},
   "cell_type": "markdown",
   "metadata": {},
   "source": [
    "### Code Summarization\n",
    "#### Preparing the dataset"
   ]
  },
  {
   "attachments": {},
   "cell_type": "markdown",
   "metadata": {},
   "source": [
    "### Code Query Matching\n",
    "#### Preparing the dataset"
   ]
  },
  {
   "cell_type": "code",
   "execution_count": 37,
   "metadata": {},
   "outputs": [
    {
     "ename": "KeyError",
     "evalue": "'Mult'",
     "output_type": "error",
     "traceback": [
      "\u001b[0;31m---------------------------------------------------------------------------\u001b[0m",
      "\u001b[0;31mKeyError\u001b[0m                                  Traceback (most recent call last)",
      "Cell \u001b[0;32mIn[37], line 43\u001b[0m\n\u001b[1;32m     40\u001b[0m tree \u001b[39m=\u001b[39m ast\u001b[39m.\u001b[39mparse(train\u001b[39m.\u001b[39msnippet[\u001b[39m0\u001b[39m])\n\u001b[1;32m     42\u001b[0m \u001b[39m# Embed the AST\u001b[39;00m\n\u001b[0;32m---> 43\u001b[0m embed_ast(tree)\n\u001b[1;32m     45\u001b[0m \u001b[39m# Print the embedding matrix\u001b[39;00m\n\u001b[1;32m     46\u001b[0m \u001b[39mprint\u001b[39m(embedding_matrix)\n",
      "Cell \u001b[0;32mIn[37], line 36\u001b[0m, in \u001b[0;36membed_ast\u001b[0;34m(node)\u001b[0m\n\u001b[1;32m     34\u001b[0m \u001b[39m# Recursively embed child nodes\u001b[39;00m\n\u001b[1;32m     35\u001b[0m \u001b[39mfor\u001b[39;00m child_node \u001b[39min\u001b[39;00m ast\u001b[39m.\u001b[39miter_child_nodes(node):\n\u001b[0;32m---> 36\u001b[0m     embed_ast(child_node)\n",
      "Cell \u001b[0;32mIn[37], line 36\u001b[0m, in \u001b[0;36membed_ast\u001b[0;34m(node)\u001b[0m\n\u001b[1;32m     34\u001b[0m \u001b[39m# Recursively embed child nodes\u001b[39;00m\n\u001b[1;32m     35\u001b[0m \u001b[39mfor\u001b[39;00m child_node \u001b[39min\u001b[39;00m ast\u001b[39m.\u001b[39miter_child_nodes(node):\n\u001b[0;32m---> 36\u001b[0m     embed_ast(child_node)\n",
      "    \u001b[0;31m[... skipping similar frames: embed_ast at line 36 (2 times)]\u001b[0m\n",
      "Cell \u001b[0;32mIn[37], line 36\u001b[0m, in \u001b[0;36membed_ast\u001b[0;34m(node)\u001b[0m\n\u001b[1;32m     34\u001b[0m \u001b[39m# Recursively embed child nodes\u001b[39;00m\n\u001b[1;32m     35\u001b[0m \u001b[39mfor\u001b[39;00m child_node \u001b[39min\u001b[39;00m ast\u001b[39m.\u001b[39miter_child_nodes(node):\n\u001b[0;32m---> 36\u001b[0m     embed_ast(child_node)\n",
      "Cell \u001b[0;32mIn[37], line 26\u001b[0m, in \u001b[0;36membed_ast\u001b[0;34m(node)\u001b[0m\n\u001b[1;32m     24\u001b[0m \u001b[39mif\u001b[39;00m \u001b[39misinstance\u001b[39m(node, ast\u001b[39m.\u001b[39mAST):\n\u001b[1;32m     25\u001b[0m     node_type \u001b[39m=\u001b[39m node\u001b[39m.\u001b[39m\u001b[39m__class__\u001b[39m\u001b[39m.\u001b[39m\u001b[39m__name__\u001b[39m\n\u001b[0;32m---> 26\u001b[0m     node_id \u001b[39m=\u001b[39m node_type_mapping[node_type]\n\u001b[1;32m     28\u001b[0m     \u001b[39m# Embed the current node\u001b[39;00m\n\u001b[1;32m     29\u001b[0m     embedding \u001b[39m=\u001b[39m np\u001b[39m.\u001b[39mrandom\u001b[39m.\u001b[39mrand(\n\u001b[1;32m     30\u001b[0m         embedding_size\n\u001b[1;32m     31\u001b[0m     )  \u001b[39m# Replace with your desired embedding method\u001b[39;00m\n",
      "\u001b[0;31mKeyError\u001b[0m: 'Mult'"
     ]
    }
   ],
   "source": [
    "node_type_set = set()\n",
    "node_type_ID_mapping = {}\n",
    "\n",
    "embedding_size = 10\n",
    "\n",
    "# Initialize the embedding matrix\n",
    "\n",
    "embedding_matrix = np.zeros((len(node_type_ID_mapping), embedding_size))\n",
    "\n",
    "# Recursive function to traverse and embed the AST\n",
    "\n",
    "def encode_ast(node):\n",
    "\n",
    "    if isinstance(node, ast.AST):\n",
    "        \n",
    "        node_type = node.__class__.__name__\n",
    "\n",
    "        if node_type not in node_type_set:\n",
    "            node_type_set.add(node_type)\n",
    "            node_type_ID_mapping[node_type] = len(node_type_ID_mapping)\n",
    "\n",
    "        node_id = node_type_ID_mapping.get(node_type)\n",
    "\n",
    "        # Embed the current node\n",
    "        embedding = np.random.rand(\n",
    "            embedding_size\n",
    "        )  # Replace with your desired embedding method\n",
    "        embedding_matrix[node_id] = embedding\n",
    "\n",
    "        # Recursively iterate for child nodes\n",
    "        for child_node in ast.iter_child_nodes(node):\n",
    "            encode_ast(child_node)\n",
    "\n",
    "\n",
    "# Parse the Python code into an AST\n",
    "tree = ast.parse(train.snippet[0])\n",
    "\n",
    "# Embed the AST\n",
    "encode_ast(tree)\n",
    "\n",
    "# Print the embedding matrix\n",
    "print(embedding_matrix)"
   ]
  },
  {
   "cell_type": "code",
   "execution_count": null,
   "metadata": {},
   "outputs": [],
   "source": []
  }
 ],
 "metadata": {
  "kernelspec": {
   "display_name": "encode_code",
   "language": "python",
   "name": "python3"
  },
  "language_info": {
   "codemirror_mode": {
    "name": "ipython",
    "version": 3
   },
   "file_extension": ".py",
   "mimetype": "text/x-python",
   "name": "python",
   "nbconvert_exporter": "python",
   "pygments_lexer": "ipython3",
   "version": "3.9.12"
  },
  "orig_nbformat": 4
 },
 "nbformat": 4,
 "nbformat_minor": 2
}

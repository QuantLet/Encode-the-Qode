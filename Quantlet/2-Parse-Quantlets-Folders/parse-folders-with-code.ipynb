{
 "cells": [
  {
   "cell_type": "code",
   "execution_count": 1,
   "metadata": {
    "tags": []
   },
   "outputs": [
    {
     "name": "stdout",
     "output_type": "stream",
     "text": [
      "Note: you may need to restart the kernel to use updated packages.\n"
     ]
    }
   ],
   "source": [
    "#!pip install pandas==1.3.5 # for comaparability woth colab\n",
    "#%pip install levenshtein\n",
    "%pip freeze > session_info_sunflower.txt "
   ]
  },
  {
   "cell_type": "code",
   "execution_count": 2,
   "metadata": {
    "tags": []
   },
   "outputs": [
    {
     "data": {
      "text/plain": [
       "<module 'traverse_and_parse' from '/usr/net/zinovyee.hub/IRTG/MLSC/Encode-the-Qode/Quantlet/2-Parse-Quantlets-Folders/traverse_and_parse.py'>"
      ]
     },
     "execution_count": 2,
     "metadata": {},
     "output_type": "execute_result"
    }
   ],
   "source": [
    "import os \n",
    "import pickle \n",
    "import pandas as pd\n",
    "import yaml\n",
    "import sys\n",
    "from datetime import date\n",
    "\n",
    "import importlib\n",
    "sys.path.append('../3-data-preprocessing')\n",
    "import preprocessing_utils\n",
    "importlib.reload(preprocessing_utils)\n",
    "\n",
    "import traverse_and_parse as tp\n",
    "importlib.reload(tp)"
   ]
  },
  {
   "cell_type": "code",
   "execution_count": 3,
   "metadata": {
    "tags": []
   },
   "outputs": [],
   "source": [
    "# VARIABLE PARAMETERS\n",
    "TODAY = '20231104'\n",
    "\n",
    "# PATHS \n",
    "PATH_TO_PARSE = '../../data/QuantLet'\n",
    "FILE_TYPES = ['m', 'py', 'r', 'R', 'M', 'ipynb']\n",
    "TEST_PATH = '../data/Q_test'\n",
    "OUTPUT_PATH = f\"../../data/preprocessed/Quantlet/{TODAY}\"\n",
    "\n",
    "# CONSTANTS\n",
    "IPY_CONVERT = False\n",
    "\n",
    "if not os.path.exists(OUTPUT_PATH):\n",
    "    os.mkdir(OUTPUT_PATH)"
   ]
  },
  {
   "cell_type": "code",
   "execution_count": 4,
   "metadata": {
    "tags": []
   },
   "outputs": [],
   "source": [
    "if IPY_CONVERT:\n",
    "    # q_name, folder_name, code_script, type_script, metainfo_file\n",
    "    language, name = '', ''\n",
    "    for i, (root, directories, files) in enumerate(os.walk(PATH_TO_PARSE)):\n",
    "        \n",
    "        \n",
    "        for file in files:\n",
    "            language = file.split('.')[-1]\n",
    "            \n",
    "            if (language == 'ipynb'):\n",
    "                if not os.path.exists(f\"{root}/{file.replace('ipynb', 'py')}\"):\n",
    "                    print(file)\n",
    "                    os.popen(f\"jupyter nbconvert --to python {root}/{file}\")\n",
    "            else:\n",
    "                continue    "
   ]
  },
  {
   "cell_type": "code",
   "execution_count": 5,
   "metadata": {
    "tags": []
   },
   "outputs": [
    {
     "name": "stderr",
     "output_type": "stream",
     "text": [
      "23it [00:01, 14.82it/s]"
     ]
    },
    {
     "name": "stdout",
     "output_type": "stream",
     "text": [
      "Could not load the metafile as yaml, because of mapping values are not allowed here\n",
      "  in \"../../data/QuantLet/BLEM/BLEMdataGlimpse/Metainfo.txt\", line 4, column 58\n",
      "Could not load the metafile as yaml, because of mapping values are not allowed here\n",
      "  in \"../../data/QuantLet/BLEM/BLEMpredictLASSO/Metainfo.txt\", line 4, column 58\n"
     ]
    },
    {
     "name": "stderr",
     "output_type": "stream",
     "text": [
      "27it [00:01, 10.14it/s]"
     ]
    },
    {
     "name": "stdout",
     "output_type": "stream",
     "text": [
      "Could not load the metafile as yaml, because of mapping values are not allowed here\n",
      "  in \"../../data/QuantLet/BLEM/BLEMplotEnergyPreds/Metainfo.txt\", line 4, column 58\n"
     ]
    },
    {
     "name": "stderr",
     "output_type": "stream",
     "text": [
      "32it [00:03,  6.33it/s]"
     ]
    },
    {
     "name": "stdout",
     "output_type": "stream",
     "text": [
      "Could not load the metafile as yaml, because of mapping values are not allowed here\n",
      "  in \"../../data/QuantLet/BLEM/BLEMplotEnergyData/Metainfo.txt\", line 4, column 58\n"
     ]
    },
    {
     "name": "stderr",
     "output_type": "stream",
     "text": [
      "36it [00:03,  6.07it/s]"
     ]
    },
    {
     "name": "stdout",
     "output_type": "stream",
     "text": [
      "Could not load the metafile as yaml, because of mapping values are not allowed here\n",
      "  in \"../../data/QuantLet/BLEM/BLEMpredictLSTM/Metainfo.txt\", line 4, column 58\n"
     ]
    },
    {
     "name": "stderr",
     "output_type": "stream",
     "text": [
      "43it [00:04,  7.58it/s]"
     ]
    },
    {
     "name": "stdout",
     "output_type": "stream",
     "text": [
      "Could not load the metafile as yaml, because of mapping values are not allowed here\n",
      "  in \"../../data/QuantLet/BLEM/BLEMevaluateEnergyPreds/Metainfo.txt\", line 4, column 58\n"
     ]
    },
    {
     "name": "stderr",
     "output_type": "stream",
     "text": [
      "49it [00:05,  8.08it/s]"
     ]
    },
    {
     "name": "stdout",
     "output_type": "stream",
     "text": [
      "Could not load the metafile as yaml, because of mapping values are not allowed here\n",
      "  in \"../../data/QuantLet/BLEM/BLEMplotPredErrors/Metainfo.txt\", line 4, column 58\n"
     ]
    },
    {
     "name": "stderr",
     "output_type": "stream",
     "text": [
      "54it [00:08,  2.73it/s]"
     ]
    },
    {
     "name": "stdout",
     "output_type": "stream",
     "text": [
      "Could not load the metafile as yaml, because of mapping values are not allowed here\n",
      "  in \"../../data/QuantLet/BLEM/BLEMplotScaling/Metainfo.txt\", line 4, column 58\n",
      "Could not load the metafile as yaml, because of mapping values are not allowed here\n",
      "  in \"../../data/QuantLet/BLEM/BLEMtuneLSTM/Metainfo.txt\", line 4, column 58\n"
     ]
    },
    {
     "name": "stderr",
     "output_type": "stream",
     "text": [
      "58it [00:09,  3.79it/s]"
     ]
    },
    {
     "name": "stdout",
     "output_type": "stream",
     "text": [
      "Could not load the metafile as yaml, because of mapping values are not allowed here\n",
      "  in \"../../data/QuantLet/BLEM/BLEMpredictNaive/Metainfo.txt\", line 4, column 58\n"
     ]
    },
    {
     "name": "stderr",
     "output_type": "stream",
     "text": [
      "62it [00:09,  5.43it/s]"
     ]
    },
    {
     "name": "stdout",
     "output_type": "stream",
     "text": [
      "Could not load the metafile as yaml, because of mapping values are not allowed here\n",
      "  in \"../../data/QuantLet/BLEM/BLEMdescStatEnergyData/Metainfo.txt\", line 4, column 58\n"
     ]
    },
    {
     "name": "stderr",
     "output_type": "stream",
     "text": [
      "118it [00:11, 22.15it/s]"
     ]
    },
    {
     "name": "stdout",
     "output_type": "stream",
     "text": [
      "Could not load the metafile as yaml, because of while scanning for the next token\n",
      "found character '\\t' that cannot start any token\n",
      "  in \"../../data/QuantLet/HFHD/hfhd_marketimpact/Metainfo.txt\", line 4, column 15\n",
      "Could not load the metafile as yaml, because of while scanning for the next token\n",
      "found character '\\t' that cannot start any token\n",
      "  in \"../../data/QuantLet/HFHD/hfhd_cirnet/Metainfo.txt\", line 4, column 15\n",
      "Could not load the metafile as yaml, because of while scanning for the next token\n",
      "found character '\\t' that cannot start any token\n",
      "  in \"../../data/QuantLet/HFHD/hfhd_marketimpact_diff/Metainfo.txt\", line 4, column 15\n",
      "Could not load the metafile as yaml, because of while scanning for the next token\n",
      "found character '\\t' that cannot start any token\n",
      "  in \"../../data/QuantLet/HFHD/hfhd_rob/Metainfo.txt\", line 4, column 15\n",
      "Could not load the metafile as yaml, because of while scanning for the next token\n",
      "found character '\\t' that cannot start any token\n",
      "  in \"../../data/QuantLet/HFHD/hfhd_dataclean/Metainfo.txt\", line 4, column 15\n"
     ]
    },
    {
     "name": "stderr",
     "output_type": "stream",
     "text": [
      "122it [00:11, 13.28it/s]"
     ]
    },
    {
     "name": "stdout",
     "output_type": "stream",
     "text": [
      "Could not load the metafile as yaml, because of while scanning for the next token\n",
      "found character '\\t' that cannot start any token\n",
      "  in \"../../data/QuantLet/HFHD/hfhd_tvnet/Metainfo.txt\", line 4, column 15\n",
      "Could not load the metafile as yaml, because of while scanning for the next token\n",
      "found character '\\t' that cannot start any token\n",
      "  in \"../../data/QuantLet/HFHD/hfhd_risktran/Metainfo.txt\", line 4, column 15\n"
     ]
    },
    {
     "name": "stderr",
     "output_type": "stream",
     "text": [
      "658it [01:08,  4.02it/s]"
     ]
    },
    {
     "name": "stdout",
     "output_type": "stream",
     "text": [
      "Could not load the metafile as yaml, because of while parsing a block mapping\n",
      "  in \"../../data/QuantLet/Metcalfes-Law-and-Cryptocurrencies/Metainfo.txt\", line 1, column 1\n",
      "expected <block end>, but found '<scalar>'\n",
      "  in \"../../data/QuantLet/Metcalfes-Law-and-Cryptocurrencies/Metainfo.txt\", line 5, column 31\n"
     ]
    },
    {
     "name": "stderr",
     "output_type": "stream",
     "text": [
      "812it [01:55,  2.91it/s]"
     ]
    },
    {
     "name": "stdout",
     "output_type": "stream",
     "text": [
      "Could not load the metafile as yaml, because of while scanning for the next token\n",
      "found character '\\t' that cannot start any token\n",
      "  in \"../../data/QuantLet/Q-Kolleg/StemTFIDF_Abstracts/metainfo.txt\", line 1, column 18\n"
     ]
    },
    {
     "name": "stderr",
     "output_type": "stream",
     "text": [
      "813it [01:55,  2.63it/s]"
     ]
    },
    {
     "name": "stdout",
     "output_type": "stream",
     "text": [
      "Could not load the metafile as yaml, because of while scanning for the next token\n",
      "found character '\\t' that cannot start any token\n",
      "  in \"../../data/QuantLet/Q-Kolleg/ScrapeJEL/metainfo.txt\", line 1, column 18\n"
     ]
    },
    {
     "name": "stderr",
     "output_type": "stream",
     "text": [
      "814it [01:56,  2.73it/s]"
     ]
    },
    {
     "name": "stdout",
     "output_type": "stream",
     "text": [
      "Could not load the metafile as yaml, because of while scanning for the next token\n",
      "found character '\\t' that cannot start any token\n",
      "  in \"../../data/QuantLet/Q-Kolleg/StemJEL/metainfo.txt\", line 1, column 18\n"
     ]
    },
    {
     "name": "stderr",
     "output_type": "stream",
     "text": [
      "830it [02:00,  5.26it/s]"
     ]
    },
    {
     "name": "stdout",
     "output_type": "stream",
     "text": [
      "Could not load the metafile as yaml, because of while scanning for the next token\n",
      "found character '\\t' that cannot start any token\n",
      "  in \"../../data/QuantLet/Q-Kolleg/Textmining_Abstracts/metainfo.txt\", line 1, column 18\n"
     ]
    },
    {
     "name": "stderr",
     "output_type": "stream",
     "text": [
      "832it [02:05,  1.22it/s]"
     ]
    },
    {
     "name": "stdout",
     "output_type": "stream",
     "text": [
      "Could not load the metafile as yaml, because of while scanning for the next token\n",
      "found character '\\t' that cannot start any token\n",
      "  in \"../../data/QuantLet/Q-Kolleg/ScrapeAbstracts/metainfo.txt\", line 1, column 18\n"
     ]
    },
    {
     "name": "stderr",
     "output_type": "stream",
     "text": [
      "833it [02:08,  1.07s/it]"
     ]
    },
    {
     "name": "stdout",
     "output_type": "stream",
     "text": [
      "Could not load the metafile as yaml, because of while scanning for the next token\n",
      "found character '\\t' that cannot start any token\n",
      "  in \"../../data/QuantLet/Q-Kolleg/PDF_2_TXT/metainfo.txt\", line 1, column 18\n"
     ]
    },
    {
     "name": "stderr",
     "output_type": "stream",
     "text": [
      "834it [02:12,  1.66s/it]"
     ]
    },
    {
     "name": "stdout",
     "output_type": "stream",
     "text": [
      "Could not load the metafile as yaml, because of while scanning for the next token\n",
      "found character '\\t' that cannot start any token\n",
      "  in \"../../data/QuantLet/Q-Kolleg/TopicModelling_Analysis/metainfo.txt\", line 1, column 18\n"
     ]
    },
    {
     "name": "stderr",
     "output_type": "stream",
     "text": [
      "835it [02:15,  2.12s/it]"
     ]
    },
    {
     "name": "stdout",
     "output_type": "stream",
     "text": [
      "Could not load the metafile as yaml, because of while scanning for the next token\n",
      "found character '\\t' that cannot start any token\n",
      "  in \"../../data/QuantLet/Q-Kolleg/StemTFIDF_Articles/metainfo.txt\", line 1, column 18\n"
     ]
    },
    {
     "name": "stderr",
     "output_type": "stream",
     "text": [
      "836it [02:20,  2.64s/it]"
     ]
    },
    {
     "name": "stdout",
     "output_type": "stream",
     "text": [
      "Could not load the metafile as yaml, because of while scanning for the next token\n",
      "found character '\\t' that cannot start any token\n",
      "  in \"../../data/QuantLet/Q-Kolleg/ScrapeArticles/metainfo.txt\", line 1, column 18\n"
     ]
    },
    {
     "name": "stderr",
     "output_type": "stream",
     "text": [
      "837it [02:21,  2.23s/it]"
     ]
    },
    {
     "name": "stdout",
     "output_type": "stream",
     "text": [
      "Could not load the metafile as yaml, because of while scanning for the next token\n",
      "found character '\\t' that cannot start any token\n",
      "  in \"../../data/QuantLet/Q-Kolleg/TopicModelling_Articles/metainfo.txt\", line 1, column 18\n"
     ]
    },
    {
     "name": "stderr",
     "output_type": "stream",
     "text": [
      "1039it [03:36, 12.92it/s]"
     ]
    },
    {
     "name": "stdout",
     "output_type": "stream",
     "text": [
      "Could not load the metafile as yaml, because of mapping values are not allowed here\n",
      "  in \"../../data/QuantLet/SMS2/SMScancarm1/Metainfo.txt\", line 3, column 38\n",
      "Could not load the metafile as yaml, because of mapping values are not allowed here\n",
      "  in \"../../data/QuantLet/SMS2/SMScapmnyse/Metainfo.txt\", line 3, column 38\n",
      "Could not load the metafile as yaml, because of mapping values are not allowed here\n",
      "  in \"../../data/QuantLet/SMS2/SMSclusbank/Metainfo.txt\", line 3, column 38\n"
     ]
    },
    {
     "name": "stderr",
     "output_type": "stream",
     "text": [
      "1043it [03:37,  8.32it/s]"
     ]
    },
    {
     "name": "stdout",
     "output_type": "stream",
     "text": [
      "Could not load the metafile as yaml, because of mapping values are not allowed here\n",
      "  in \"../../data/QuantLet/SMS2/SMShisheights/Metainfo.txt\", line 4, column 38\n",
      "Could not load the metafile as yaml, because of mapping values are not allowed here\n",
      "  in \"../../data/QuantLet/SMS2/SMScorrhealth/Metainfo.txt\", line 3, column 38\n"
     ]
    },
    {
     "name": "stderr",
     "output_type": "stream",
     "text": [
      "1045it [03:37,  6.46it/s]"
     ]
    },
    {
     "name": "stdout",
     "output_type": "stream",
     "text": [
      "Could not load the metafile as yaml, because of mapping values are not allowed here\n",
      "  in \"../../data/QuantLet/SMS2/SMScartdiag/Metainfo.txt\", line 3, column 38\n",
      "Could not load the metafile as yaml, because of mapping values are not allowed here\n",
      "  in \"../../data/QuantLet/SMS2/SMStestcov4i/Metainfo.txt\", line 3, column 38\n"
     ]
    },
    {
     "name": "stderr",
     "output_type": "stream",
     "text": [
      "1049it [03:38,  7.06it/s]"
     ]
    },
    {
     "name": "stdout",
     "output_type": "stream",
     "text": [
      "Could not load the metafile as yaml, because of mapping values are not allowed here\n",
      "  in \"../../data/QuantLet/SMS2/SMSlinregvocab/Metainfo.txt\", line 3, column 38\n",
      "Could not laod the script because of 'utf-8' codec can't decode byte 0x9f in position 27: invalid start byte \n",
      "Could not load the metafile as yaml, because of mapping values are not allowed here\n",
      "  in \"../../data/QuantLet/SMS2/SMSfactsigma/Metainfo.txt\", line 3, column 38\n"
     ]
    },
    {
     "name": "stderr",
     "output_type": "stream",
     "text": [
      "1051it [03:38,  8.43it/s]"
     ]
    },
    {
     "name": "stdout",
     "output_type": "stream",
     "text": [
      "Could not load the metafile as yaml, because of mapping values are not allowed here\n",
      "  in \"../../data/QuantLet/SMS2/SMSpcpcar/Metainfo.txt\", line 4, column 38\n",
      "Could not load the metafile as yaml, because of mapping values are not allowed here\n",
      "  in \"../../data/QuantLet/SMS2/SMSfacthletic/Metainfo.txt\", line 3, column 38\n",
      "Could not load the metafile as yaml, because of mapping values are not allowed here\n",
      "  in \"../../data/QuantLet/SMS2/SMSsir2simu/Metainfo.txt\", line 3, column 38\n"
     ]
    },
    {
     "name": "stderr",
     "output_type": "stream",
     "text": [
      "1055it [03:38, 10.35it/s]"
     ]
    },
    {
     "name": "stdout",
     "output_type": "stream",
     "text": [
      "Could not load the metafile as yaml, because of mapping values are not allowed here\n",
      "  in \"../../data/QuantLet/SMS2/SMSprofplasma/Metainfo.txt\", line 3, column 38\n",
      "Could not load the metafile as yaml, because of mapping values are not allowed here\n",
      "  in \"../../data/QuantLet/SMS2/SMScluscrime/Metainfo.txt\", line 3, column 38\n"
     ]
    },
    {
     "name": "stderr",
     "output_type": "stream",
     "text": [
      "1058it [03:39,  7.29it/s]"
     ]
    },
    {
     "name": "stdout",
     "output_type": "stream",
     "text": [
      "Could not load the metafile as yaml, because of mapping values are not allowed here\n",
      "  in \"../../data/QuantLet/SMS2/SMSfactfood/Metainfo.txt\", line 3, column 38\n"
     ]
    },
    {
     "name": "stderr",
     "output_type": "stream",
     "text": [
      "1059it [03:39,  6.48it/s]"
     ]
    },
    {
     "name": "stdout",
     "output_type": "stream",
     "text": [
      "Could not load the metafile as yaml, because of mapping values are not allowed here\n",
      "  in \"../../data/QuantLet/SMS2/SMSlassocar/Metainfo.txt\", line 3, column 38\n",
      "Could not load the metafile as yaml, because of mapping values are not allowed here\n",
      "  in \"../../data/QuantLet/SMS2/SMSclushealth/Metainfo.txt\", line 3, column 38\n"
     ]
    },
    {
     "name": "stderr",
     "output_type": "stream",
     "text": [
      "1063it [03:40,  9.09it/s]"
     ]
    },
    {
     "name": "stdout",
     "output_type": "stream",
     "text": [
      "Could not load the metafile as yaml, because of mapping values are not allowed here\n",
      "  in \"../../data/QuantLet/SMS2/SMSanovapull/Metainfo.txt\", line 4, column 38\n",
      "Could not load the metafile as yaml, because of mapping values are not allowed here\n",
      "  in \"../../data/QuantLet/SMS2/SMSdiscbaycar/Metainfo.txt\", line 3, column 38\n"
     ]
    },
    {
     "name": "stderr",
     "output_type": "stream",
     "text": [
      "1065it [03:40,  5.04it/s]"
     ]
    },
    {
     "name": "stdout",
     "output_type": "stream",
     "text": [
      "Could not load the metafile as yaml, because of mapping values are not allowed here\n",
      "  in \"../../data/QuantLet/SMS2/SMSsvmbankrupt/Metainfo.txt\", line 3, column 38\n"
     ]
    },
    {
     "name": "stderr",
     "output_type": "stream",
     "text": [
      "1066it [03:40,  5.19it/s]"
     ]
    },
    {
     "name": "stdout",
     "output_type": "stream",
     "text": [
      "Could not load the metafile as yaml, because of mapping values are not allowed here\n",
      "  in \"../../data/QuantLet/SMS2/SMSnmdsuscrime/Metainfo.txt\", line 3, column 38\n",
      "Could not load the metafile as yaml, because of mapping values are not allowed here\n",
      "  in \"../../data/QuantLet/SMS2/SMSlassoridge/Metainfo.txt\", line 3, column 38\n"
     ]
    },
    {
     "name": "stderr",
     "output_type": "stream",
     "text": [
      "1068it [03:41,  5.39it/s]"
     ]
    },
    {
     "name": "stdout",
     "output_type": "stream",
     "text": [
      "Could not load the metafile as yaml, because of mapping values are not allowed here\n",
      "  in \"../../data/QuantLet/SMS2/SMSsiruscomp/Metainfo.txt\", line 3, column 38\n"
     ]
    },
    {
     "name": "stderr",
     "output_type": "stream",
     "text": [
      "1070it [03:41,  5.41it/s]"
     ]
    },
    {
     "name": "stdout",
     "output_type": "stream",
     "text": [
      "Could not load the metafile as yaml, because of mapping values are not allowed here\n",
      "  in \"../../data/QuantLet/SMS2/SMSnmdsathletic/Metainfo.txt\", line 3, column 38\n"
     ]
    },
    {
     "name": "stderr",
     "output_type": "stream",
     "text": [
      "1072it [03:43,  1.76it/s]"
     ]
    },
    {
     "name": "stdout",
     "output_type": "stream",
     "text": [
      "Could not load the metafile as yaml, because of mapping values are not allowed here\n",
      "  in \"../../data/QuantLet/SMS2/SMSscapopu/Metainfo.txt\", line 4, column 38\n"
     ]
    },
    {
     "name": "stderr",
     "output_type": "stream",
     "text": [
      "1073it [03:44,  1.75it/s]"
     ]
    },
    {
     "name": "stdout",
     "output_type": "stream",
     "text": [
      "Could not load the metafile as yaml, because of mapping values are not allowed here\n",
      "  in \"../../data/QuantLet/SMS2/SMSportfol/Metainfo.txt\", line 3, column 38\n"
     ]
    },
    {
     "name": "stderr",
     "output_type": "stream",
     "text": [
      "1075it [03:45,  1.66it/s]"
     ]
    },
    {
     "name": "stdout",
     "output_type": "stream",
     "text": [
      "Could not load the metafile as yaml, because of mapping values are not allowed here\n",
      "  in \"../../data/QuantLet/SMS2/SMSsircars/Metainfo.txt\", line 3, column 38\n",
      "Could not load the metafile as yaml, because of mapping values are not allowed here\n",
      "  in \"../../data/QuantLet/SMS2/SMSnpcageopol/Metainfo.txt\", line 3, column 38\n"
     ]
    },
    {
     "name": "stderr",
     "output_type": "stream",
     "text": [
      "1077it [03:45,  2.37it/s]"
     ]
    },
    {
     "name": "stdout",
     "output_type": "stream",
     "text": [
      "Could not load the metafile as yaml, because of mapping values are not allowed here\n",
      "  in \"../../data/QuantLet/SMS2/SMSellipse/Metainfo.txt\", line 4, column 38\n"
     ]
    },
    {
     "name": "stderr",
     "output_type": "stream",
     "text": [
      "1079it [03:46,  2.75it/s]"
     ]
    },
    {
     "name": "stdout",
     "output_type": "stream",
     "text": [
      "Could not load the metafile as yaml, because of mapping values are not allowed here\n",
      "  in \"../../data/QuantLet/SMS2/SMSboxbank6/Metainfo.txt\", line 3, column 38\n"
     ]
    },
    {
     "name": "stderr",
     "output_type": "stream",
     "text": [
      "1080it [03:46,  3.06it/s]"
     ]
    },
    {
     "name": "stdout",
     "output_type": "stream",
     "text": [
      "Could not load the metafile as yaml, because of mapping values are not allowed here\n",
      "  in \"../../data/QuantLet/SMS2/SMScorrcrime/Metainfo.txt\", line 3, column 38\n",
      "Could not load the metafile as yaml, because of mapping values are not allowed here\n",
      "  in \"../../data/QuantLet/SMS2/SMSlassologit/Metainfo.txt\", line 3, column 38\n"
     ]
    },
    {
     "name": "stderr",
     "output_type": "stream",
     "text": [
      "1082it [03:47,  2.78it/s]"
     ]
    },
    {
     "name": "stdout",
     "output_type": "stream",
     "text": [
      "Could not load the metafile as yaml, because of mapping values are not allowed here\n",
      "  in \"../../data/QuantLet/SMS2/SMSclusbank3/Metainfo.txt\", line 3, column 38\n"
     ]
    },
    {
     "name": "stderr",
     "output_type": "stream",
     "text": [
      "1085it [03:48,  2.96it/s]"
     ]
    },
    {
     "name": "stdout",
     "output_type": "stream",
     "text": [
      "Could not load the metafile as yaml, because of mapping values are not allowed here\n",
      "  in \"../../data/QuantLet/SMS2/SMSsimpdsimu/Metainfo.txt\", line 3, column 38\n",
      "Could not load the metafile as yaml, because of mapping values are not allowed here\n",
      "  in \"../../data/QuantLet/SMS2/SMSnpcathletic/Metainfo.txt\", line 3, column 38\n"
     ]
    },
    {
     "name": "stderr",
     "output_type": "stream",
     "text": [
      "1087it [03:49,  2.95it/s]"
     ]
    },
    {
     "name": "stdout",
     "output_type": "stream",
     "text": [
      "Could not load the metafile as yaml, because of mapping values are not allowed here\n",
      "  in \"../../data/QuantLet/SMS2/SMSdecotime/Metainfo.txt\", line 4, column 38\n",
      "Could not load the metafile as yaml, because of mapping values are not allowed here\n",
      "  in \"../../data/QuantLet/SMS2/SMSnmdscarm/Metainfo.txt\", line 3, column 38\n"
     ]
    },
    {
     "name": "stderr",
     "output_type": "stream",
     "text": [
      "1089it [03:49,  3.67it/s]"
     ]
    },
    {
     "name": "stdout",
     "output_type": "stream",
     "text": [
      "Could not load the metafile as yaml, because of mapping values are not allowed here\n",
      "  in \"../../data/QuantLet/SMS2/SMSdisccar/Metainfo.txt\", line 3, column 38\n"
     ]
    },
    {
     "name": "stderr",
     "output_type": "stream",
     "text": [
      "1090it [03:50,  3.55it/s]"
     ]
    },
    {
     "name": "stdout",
     "output_type": "stream",
     "text": [
      "Could not load the metafile as yaml, because of mapping values are not allowed here\n",
      "  in \"../../data/QuantLet/SMS2/SMSclus8km/Metainfo.txt\", line 585, column 24\n"
     ]
    },
    {
     "name": "stderr",
     "output_type": "stream",
     "text": [
      "1093it [03:50,  4.76it/s]"
     ]
    },
    {
     "name": "stdout",
     "output_type": "stream",
     "text": [
      "Could not load the metafile as yaml, because of mapping values are not allowed here\n",
      "  in \"../../data/QuantLet/SMS2/SMSscanorm2/Metainfo.txt\", line 4, column 38\n",
      "Could not load the metafile as yaml, because of mapping values are not allowed here\n",
      "  in \"../../data/QuantLet/SMS2/SMSdecofood/Metainfo.txt\", line 4, column 38\n"
     ]
    },
    {
     "name": "stderr",
     "output_type": "stream",
     "text": [
      "1094it [03:50,  4.07it/s]"
     ]
    },
    {
     "name": "stdout",
     "output_type": "stream",
     "text": [
      "Could not load the metafile as yaml, because of mapping values are not allowed here\n",
      "  in \"../../data/QuantLet/SMS2/SMSdecobank/Metainfo.txt\", line 4, column 38\n"
     ]
    },
    {
     "name": "stderr",
     "output_type": "stream",
     "text": [
      "1097it [03:51,  4.65it/s]"
     ]
    },
    {
     "name": "stdout",
     "output_type": "stream",
     "text": [
      "Could not load the metafile as yaml, because of mapping values are not allowed here\n",
      "  in \"../../data/QuantLet/SMS2/SMSsir2cars/Metainfo.txt\", line 3, column 38\n",
      "Could not load the metafile as yaml, because of mapping values are not allowed here\n",
      "  in \"../../data/QuantLet/SMS2/SMScorrfood/Metainfo.txt\", line 3, column 38\n",
      "Could not load the metafile as yaml, because of mapping values are not allowed here\n",
      "  in \"../../data/QuantLet/SMS2/SMSfactvocab/Metainfo.txt\", line 3, column 38\n"
     ]
    },
    {
     "name": "stderr",
     "output_type": "stream",
     "text": [
      "1101it [03:52,  5.57it/s]"
     ]
    },
    {
     "name": "stdout",
     "output_type": "stream",
     "text": [
      "Could not load the metafile as yaml, because of mapping values are not allowed here\n",
      "  in \"../../data/QuantLet/SMS2/SMSsvmspiral/Metainfo.txt\", line 3, column 38\n"
     ]
    },
    {
     "name": "stderr",
     "output_type": "stream",
     "text": [
      "1102it [03:52,  5.31it/s]"
     ]
    },
    {
     "name": "stdout",
     "output_type": "stream",
     "text": [
      "Could not load the metafile as yaml, because of mapping values are not allowed here\n",
      "  in \"../../data/QuantLet/SMS2/SMSpcacarm/Metainfo.txt\", line 3, column 38\n"
     ]
    },
    {
     "name": "stderr",
     "output_type": "stream",
     "text": [
      "1104it [03:53,  4.47it/s]"
     ]
    },
    {
     "name": "stdout",
     "output_type": "stream",
     "text": [
      "Could not load the metafile as yaml, because of mapping values are not allowed here\n",
      "  in \"../../data/QuantLet/SMS2/SMSfactuscrime/Metainfo.txt\", line 3, column 38\n",
      "Could not load the metafile as yaml, because of mapping values are not allowed here\n",
      "  in \"../../data/QuantLet/SMS2/SMSnmdsushealth/Metainfo.txt\", line 3, column 38\n"
     ]
    },
    {
     "name": "stderr",
     "output_type": "stream",
     "text": [
      "1106it [03:53,  3.65it/s]"
     ]
    },
    {
     "name": "stdout",
     "output_type": "stream",
     "text": [
      "Could not load the metafile as yaml, because of mapping values are not allowed here\n",
      "  in \"../../data/QuantLet/SMS2/SMSsimpdbank/Metainfo.txt\", line 3, column 38\n"
     ]
    },
    {
     "name": "stderr",
     "output_type": "stream",
     "text": [
      "1107it [03:53,  4.10it/s]"
     ]
    },
    {
     "name": "stdout",
     "output_type": "stream",
     "text": [
      "Could not load the metafile as yaml, because of mapping values are not allowed here\n",
      "  in \"../../data/QuantLet/SMS2/SMShiscar/Metainfo.txt\", line 4, column 38\n",
      "Could not load the metafile as yaml, because of mapping values are not allowed here\n",
      "  in \"../../data/QuantLet/SMS2/SMSlogitbankrupt/Metainfo.txt\", line 3, column 38\n"
     ]
    },
    {
     "name": "stderr",
     "output_type": "stream",
     "text": [
      "1109it [03:54,  3.49it/s]"
     ]
    },
    {
     "name": "stdout",
     "output_type": "stream",
     "text": [
      "Could not load the metafile as yaml, because of mapping values are not allowed here\n",
      "  in \"../../data/QuantLet/SMS2/SMSchi2bac/Metainfo.txt\", line 3, column 38\n"
     ]
    },
    {
     "name": "stderr",
     "output_type": "stream",
     "text": [
      "1110it [03:54,  3.84it/s]"
     ]
    },
    {
     "name": "stdout",
     "output_type": "stream",
     "text": [
      "Could not load the metafile as yaml, because of mapping values are not allowed here\n",
      "  in \"../../data/QuantLet/SMS2/SMStestsim/Metainfo.txt\", line 3, column 38\n"
     ]
    },
    {
     "name": "stderr",
     "output_type": "stream",
     "text": [
      "1111it [03:55,  3.05it/s]"
     ]
    },
    {
     "name": "stdout",
     "output_type": "stream",
     "text": [
      "Could not load the metafile as yaml, because of mapping values are not allowed here\n",
      "  in \"../../data/QuantLet/SMS2/SMSnmdsathlesub/Metainfo.txt\", line 3, column 38\n",
      "Could not load the metafile as yaml, because of mapping values are not allowed here\n",
      "  in \"../../data/QuantLet/SMS2/SMSlinregcar2/Metainfo.txt\", line 3, column 38\n"
     ]
    },
    {
     "name": "stderr",
     "output_type": "stream",
     "text": [
      "1112it [03:56,  2.00it/s]"
     ]
    },
    {
     "name": "stdout",
     "output_type": "stream",
     "text": [
      "Could not load the metafile as yaml, because of mapping values are not allowed here\n",
      "  in \"../../data/QuantLet/SMS2/SMStestuscomp/Metainfo.txt\", line 3, column 38\n"
     ]
    },
    {
     "name": "stderr",
     "output_type": "stream",
     "text": [
      "1129it [03:57, 12.88it/s]"
     ]
    },
    {
     "name": "stdout",
     "output_type": "stream",
     "text": [
      "Could not load the metafile as yaml, because of mapping values are not allowed here\n",
      "  in \"../../data/QuantLet/SMS2/SMSnpcasimu/Metainfo.txt\", line 3, column 38\n",
      "Could not load the metafile as yaml, because of mapping values are not allowed here\n",
      "  in \"../../data/QuantLet/SMS2/SMSlinregpull/Metainfo.txt\", line 4, column 38\n"
     ]
    },
    {
     "name": "stderr",
     "output_type": "stream",
     "text": [
      "1132it [03:57, 11.93it/s]"
     ]
    },
    {
     "name": "stdout",
     "output_type": "stream",
     "text": [
      "Could not load the metafile as yaml, because of mapping values are not allowed here\n",
      "  in \"../../data/QuantLet/SMS2/SMScluscrimechi2/Metainfo.txt\", line 3, column 38\n"
     ]
    },
    {
     "name": "stderr",
     "output_type": "stream",
     "text": [
      "1134it [03:58,  7.72it/s]"
     ]
    },
    {
     "name": "stdout",
     "output_type": "stream",
     "text": [
      "Could not load the metafile as yaml, because of mapping values are not allowed here\n",
      "  in \"../../data/QuantLet/SMS2/SMSscabank45/Metainfo.txt\", line 3, column 38\n",
      "Could not load the metafile as yaml, because of mapping values are not allowed here\n",
      "  in \"../../data/QuantLet/SMS2/SMSpcahealth/Metainfo.txt\", line 3, column 38\n"
     ]
    },
    {
     "name": "stderr",
     "output_type": "stream",
     "text": [
      "1136it [03:58,  6.87it/s]"
     ]
    },
    {
     "name": "stdout",
     "output_type": "stream",
     "text": [
      "Could not load the metafile as yaml, because of mapping values are not allowed here\n",
      "  in \"../../data/QuantLet/SMS2/SMSprofil/Metainfo.txt\", line 3, column 38\n",
      "Could not load the metafile as yaml, because of mapping values are not allowed here\n",
      "  in \"../../data/QuantLet/SMS2/SMScartsq/Metainfo.txt\", line 3, column 38\n"
     ]
    },
    {
     "name": "stderr",
     "output_type": "stream",
     "text": [
      "1139it [03:59,  7.10it/s]"
     ]
    },
    {
     "name": "stdout",
     "output_type": "stream",
     "text": [
      "Could not load the metafile as yaml, because of mapping values are not allowed here\n",
      "  in \"../../data/QuantLet/SMS2/SMSscanorm3/Metainfo.txt\", line 4, column 38\n",
      "Could not load the metafile as yaml, because of mapping values are not allowed here\n",
      "  in \"../../data/QuantLet/SMS2/SMStestcov/Metainfo.txt\", line 3, column 38\n"
     ]
    },
    {
     "name": "stderr",
     "output_type": "stream",
     "text": [
      "1140it [03:59,  6.50it/s]"
     ]
    },
    {
     "name": "stdout",
     "output_type": "stream",
     "text": [
      "Could not load the metafile as yaml, because of mapping values are not allowed here\n",
      "  in \"../../data/QuantLet/SMS2/SMScluscomp/Metainfo.txt\", line 3, column 38\n"
     ]
    },
    {
     "name": "stderr",
     "output_type": "stream",
     "text": [
      "1141it [03:59,  6.14it/s]"
     ]
    },
    {
     "name": "stdout",
     "output_type": "stream",
     "text": [
      "Could not load the metafile as yaml, because of mapping values are not allowed here\n",
      "  in \"../../data/QuantLet/SMS2/SMSfacenorm/Metainfo.txt\", line 4, column 38\n",
      "Could not load the metafile as yaml, because of mapping values are not allowed here\n",
      "  in \"../../data/QuantLet/SMS2/SMSfactushealth/Metainfo.txt\", line 3, column 38\n"
     ]
    },
    {
     "name": "stderr",
     "output_type": "stream",
     "text": [
      "1142it [03:59,  5.42it/s]"
     ]
    },
    {
     "name": "stdout",
     "output_type": "stream",
     "text": [
      "Could not load the metafile as yaml, because of mapping values are not allowed here\n",
      "  in \"../../data/QuantLet/SMS2/SMSdrafcar/Metainfo.txt\", line 4, column 38\n"
     ]
    },
    {
     "name": "stderr",
     "output_type": "stream",
     "text": [
      "1143it [04:00,  4.32it/s]"
     ]
    },
    {
     "name": "stdout",
     "output_type": "stream",
     "text": [
      "Could not load the metafile as yaml, because of mapping values are not allowed here\n",
      "  in \"../../data/QuantLet/SMS2/SMSboxcar/Metainfo.txt\", line 4, column 38\n"
     ]
    },
    {
     "name": "stderr",
     "output_type": "stream",
     "text": [
      "1148it [04:01,  3.59it/s]"
     ]
    },
    {
     "name": "stdout",
     "output_type": "stream",
     "text": [
      "Could not load the metafile as yaml, because of mapping values are not allowed here\n",
      "  in \"../../data/QuantLet/SMS2/SMSeppbank/Metainfo.txt\", line 3, column 38\n"
     ]
    },
    {
     "name": "stderr",
     "output_type": "stream",
     "text": [
      "1150it [04:02,  3.17it/s]"
     ]
    },
    {
     "name": "stdout",
     "output_type": "stream",
     "text": [
      "Could not load the metafile as yaml, because of mapping values are not allowed here\n",
      "  in \"../../data/QuantLet/SMS2/SMSsvmorange/Metainfo.txt\", line 3, column 38\n",
      "Could not load the metafile as yaml, because of mapping values are not allowed here\n",
      "  in \"../../data/QuantLet/SMS2/SMScancarm/Metainfo.txt\", line 3, column 38\n"
     ]
    },
    {
     "name": "stderr",
     "output_type": "stream",
     "text": [
      "1151it [04:03,  2.07it/s]"
     ]
    },
    {
     "name": "stdout",
     "output_type": "stream",
     "text": [
      "Could not load the metafile as yaml, because of mapping values are not allowed here\n",
      "  in \"../../data/QuantLet/SMS2/SMSboxunemp/Metainfo.txt\", line 4, column 38\n"
     ]
    },
    {
     "name": "stderr",
     "output_type": "stream",
     "text": [
      "1154it [04:32,  5.10s/it]"
     ]
    },
    {
     "name": "stdout",
     "output_type": "stream",
     "text": [
      "Could not load the metafile as yaml, because of mapping values are not allowed here\n",
      "  in \"../../data/QuantLet/SMS2/SMScorrcarm/Metainfo.txt\", line 3, column 38\n",
      "Could not load the metafile as yaml, because of mapping values are not allowed here\n",
      "  in \"../../data/QuantLet/SMS2/SMSjordandec/Metainfo.txt\", line 4, column 38\n"
     ]
    },
    {
     "name": "stderr",
     "output_type": "stream",
     "text": [
      "1155it [04:32,  3.70s/it]"
     ]
    },
    {
     "name": "stdout",
     "output_type": "stream",
     "text": [
      "Could not load the metafile as yaml, because of mapping values are not allowed here\n",
      "  in \"../../data/QuantLet/SMS2/SMSconjars/Metainfo.txt\", line 3, column 38\n"
     ]
    },
    {
     "name": "stderr",
     "output_type": "stream",
     "text": [
      "1157it [04:33,  2.05s/it]"
     ]
    },
    {
     "name": "stdout",
     "output_type": "stream",
     "text": [
      "Could not load the metafile as yaml, because of mapping values are not allowed here\n",
      "  in \"../../data/QuantLet/SMS2/SMSsirsimu/Metainfo.txt\", line 3, column 38\n",
      "Could not load the metafile as yaml, because of mapping values are not allowed here\n",
      "  in \"../../data/QuantLet/SMS2/SMSclusbank2/Metainfo.txt\", line 3, column 38\n"
     ]
    },
    {
     "name": "stderr",
     "output_type": "stream",
     "text": [
      "1159it [04:33,  1.31s/it]"
     ]
    },
    {
     "name": "stdout",
     "output_type": "stream",
     "text": [
      "Could not load the metafile as yaml, because of mapping values are not allowed here\n",
      "  in \"../../data/QuantLet/SMS2/SMSclus8pd/Metainfo.txt\", line 3, column 38\n",
      "Could not load the metafile as yaml, because of mapping values are not allowed here\n",
      "  in \"../../data/QuantLet/SMS2/SMSconjexmp/Metainfo.txt\", line 3, column 38\n"
     ]
    },
    {
     "name": "stderr",
     "output_type": "stream",
     "text": [
      "1160it [04:34,  1.00s/it]"
     ]
    },
    {
     "name": "stdout",
     "output_type": "stream",
     "text": [
      "Could not load the metafile as yaml, because of mapping values are not allowed here\n",
      "  in \"../../data/QuantLet/SMS2/SMSlinregcar/Metainfo.txt\", line 3, column 38\n"
     ]
    },
    {
     "name": "stderr",
     "output_type": "stream",
     "text": [
      "1162it [04:34,  1.45it/s]"
     ]
    },
    {
     "name": "stdout",
     "output_type": "stream",
     "text": [
      "Could not load the metafile as yaml, because of mapping values are not allowed here\n",
      "  in \"../../data/QuantLet/SMS2/SMSmdsbank/Metainfo.txt\", line 3, column 38\n",
      "Could not load the metafile as yaml, because of mapping values are not allowed here\n",
      "  in \"../../data/QuantLet/SMS2/SMSdete2pull/Metainfo.txt\", line 4, column 38\n"
     ]
    },
    {
     "name": "stderr",
     "output_type": "stream",
     "text": [
      "1163it [04:35,  1.65it/s]"
     ]
    },
    {
     "name": "stdout",
     "output_type": "stream",
     "text": [
      "Could not load the metafile as yaml, because of mapping values are not allowed here\n",
      "  in \"../../data/QuantLet/SMS2/SMSdeterpull/Metainfo.txt\", line 4, column 38\n"
     ]
    },
    {
     "name": "stderr",
     "output_type": "stream",
     "text": [
      "1164it [04:35,  1.74it/s]"
     ]
    },
    {
     "name": "stdout",
     "output_type": "stream",
     "text": [
      "Could not load the metafile as yaml, because of mapping values are not allowed here\n",
      "  in \"../../data/QuantLet/SMS2/SMSlinregbank2/Metainfo.txt\", line 3, column 38\n"
     ]
    },
    {
     "name": "stderr",
     "output_type": "stream",
     "text": [
      "2428it [06:32, 68.67it/s]"
     ]
    },
    {
     "name": "stdout",
     "output_type": "stream",
     "text": [
      "Could not load the metafile as yaml, because of while scanning for the next token\n",
      "found character '\\t' that cannot start any token\n",
      "  in \"../../data/QuantLet/COP/COPapp1prices/Metainfo.txt\", line 16, column 10\n"
     ]
    },
    {
     "name": "stderr",
     "output_type": "stream",
     "text": [
      "2462it [06:36, 10.11it/s]"
     ]
    },
    {
     "name": "stdout",
     "output_type": "stream",
     "text": [
      "Could not laod the script because of 'utf-8' codec can't decode byte 0xb4 in position 49: invalid start byte \n"
     ]
    },
    {
     "name": "stderr",
     "output_type": "stream",
     "text": [
      "2736it [06:50, 14.80it/s]"
     ]
    },
    {
     "name": "stdout",
     "output_type": "stream",
     "text": [
      "Could not laod the script because of 'utf-8' codec can't decode byte 0x92 in position 17: invalid start byte \n"
     ]
    },
    {
     "name": "stderr",
     "output_type": "stream",
     "text": [
      "3119it [07:12,  5.04it/s]"
     ]
    },
    {
     "name": "stdout",
     "output_type": "stream",
     "text": [
      "Could not laod the script because of 'utf-8' codec can't decode byte 0xe4 in position 44: invalid continuation byte \n",
      "Could not laod the script because of 'utf-8' codec can't decode byte 0xe4 in position 44: invalid continuation byte \n",
      "Could not laod the script because of 'utf-8' codec can't decode byte 0x96 in position 50: invalid start byte \n",
      "Could not laod the script because of 'utf-8' codec can't decode byte 0xe4 in position 44: invalid continuation byte \n"
     ]
    },
    {
     "name": "stderr",
     "output_type": "stream",
     "text": [
      "3138it [07:14,  9.55it/s]"
     ]
    },
    {
     "name": "stdout",
     "output_type": "stream",
     "text": [
      "Could not laod the script because of 'utf-8' codec can't decode byte 0xe4 in position 44: invalid continuation byte \n",
      "Could not laod the script because of 'utf-8' codec can't decode byte 0x8a in position 33: invalid start byte \n"
     ]
    },
    {
     "name": "stderr",
     "output_type": "stream",
     "text": [
      "3140it [07:15,  8.03it/s]"
     ]
    },
    {
     "name": "stdout",
     "output_type": "stream",
     "text": [
      "Could not laod the script because of 'utf-8' codec can't decode byte 0xe4 in position 44: invalid continuation byte \n",
      "Could not laod the script because of 'utf-8' codec can't decode byte 0x96 in position 50: invalid start byte \n",
      "Could not laod the script because of 'utf-8' codec can't decode byte 0xe4 in position 44: invalid continuation byte \n",
      "Could not laod the script because of 'utf-8' codec can't decode byte 0xe4 in position 44: invalid continuation byte \n"
     ]
    },
    {
     "name": "stderr",
     "output_type": "stream",
     "text": [
      "3152it [07:16,  9.59it/s]"
     ]
    },
    {
     "name": "stdout",
     "output_type": "stream",
     "text": [
      "Could not laod the script because of 'utf-8' codec can't decode byte 0xb3 in position 14: invalid start byte \n",
      "Could not laod the script because of 'utf-8' codec can't decode byte 0xb3 in position 14: invalid start byte \n",
      "Could not laod the script because of 'utf-8' codec can't decode byte 0xf3 in position 3: invalid continuation byte \n",
      "Could not laod the script because of 'utf-8' codec can't decode byte 0xbf in position 19: invalid start byte \n",
      "Could not laod the script because of 'utf-8' codec can't decode byte 0xf3 in position 3: invalid continuation byte \n",
      "Could not laod the script because of 'utf-8' codec can't decode byte 0xf3 in position 3: invalid continuation byte \n",
      "Could not laod the script because of 'utf-8' codec can't decode byte 0xe4 in position 44: invalid continuation byte \n",
      "Could not laod the script because of 'utf-8' codec can't decode byte 0xe4 in position 44: invalid continuation byte \n",
      "Could not laod the script because of 'utf-8' codec can't decode byte 0x96 in position 50: invalid start byte \n",
      "Could not laod the script because of 'utf-8' codec can't decode byte 0xe4 in position 44: invalid continuation byte \n"
     ]
    },
    {
     "name": "stderr",
     "output_type": "stream",
     "text": [
      "3165it [07:17, 14.78it/s]"
     ]
    },
    {
     "name": "stdout",
     "output_type": "stream",
     "text": [
      "Could not laod the script because of 'utf-8' codec can't decode byte 0xf3 in position 3: invalid continuation byte \n",
      "Could not laod the script because of 'utf-8' codec can't decode byte 0xbf in position 19: invalid start byte \n",
      "Could not laod the script because of 'utf-8' codec can't decode byte 0xf3 in position 3: invalid continuation byte \n",
      "Could not laod the script because of 'utf-8' codec can't decode byte 0xf3 in position 3: invalid continuation byte \n",
      "Could not laod the script because of 'utf-8' codec can't decode byte 0xb3 in position 14: invalid start byte \n",
      "Could not laod the script because of 'utf-8' codec can't decode byte 0xb3 in position 14: invalid start byte \n",
      "Could not laod the script because of 'utf-8' codec can't decode byte 0xe4 in position 44: invalid continuation byte \n",
      "Could not laod the script because of 'utf-8' codec can't decode byte 0xe4 in position 44: invalid continuation byte \n",
      "Could not laod the script because of 'utf-8' codec can't decode byte 0x96 in position 50: invalid start byte \n",
      "Could not laod the script because of 'utf-8' codec can't decode byte 0xe4 in position 44: invalid continuation byte \n"
     ]
    },
    {
     "name": "stderr",
     "output_type": "stream",
     "text": [
      "3183it [07:18, 24.17it/s]"
     ]
    },
    {
     "name": "stdout",
     "output_type": "stream",
     "text": [
      "Could not laod the script because of 'utf-8' codec can't decode byte 0x92 in position 13: invalid start byte \n",
      "Could not laod the script because of 'utf-8' codec can't decode byte 0x96 in position 44: invalid start byte \n",
      "Could not laod the script because of 'utf-8' codec can't decode byte 0x92 in position 13: invalid start byte \n",
      "Could not laod the script because of 'utf-8' codec can't decode byte 0x96 in position 44: invalid start byte \n"
     ]
    },
    {
     "name": "stderr",
     "output_type": "stream",
     "text": [
      "3193it [07:19, 12.81it/s]"
     ]
    },
    {
     "name": "stdout",
     "output_type": "stream",
     "text": [
      "Could not laod the script because of 'utf-8' codec can't decode byte 0x96 in position 50: invalid start byte \n",
      "Could not laod the script because of 'utf-8' codec can't decode byte 0xe4 in position 44: invalid continuation byte \n"
     ]
    },
    {
     "name": "stderr",
     "output_type": "stream",
     "text": [
      "3203it [07:20, 15.33it/s]"
     ]
    },
    {
     "name": "stdout",
     "output_type": "stream",
     "text": [
      "Could not laod the script because of 'utf-8' codec can't decode byte 0x96 in position 50: invalid start byte \n",
      "Could not laod the script because of 'utf-8' codec can't decode byte 0xe4 in position 44: invalid continuation byte \n",
      "Could not laod the script because of 'utf-8' codec can't decode byte 0xb3 in position 14: invalid start byte \n",
      "Could not laod the script because of 'utf-8' codec can't decode byte 0xb3 in position 14: invalid start byte \n"
     ]
    },
    {
     "name": "stderr",
     "output_type": "stream",
     "text": [
      "3212it [07:21,  7.40it/s]"
     ]
    },
    {
     "name": "stdout",
     "output_type": "stream",
     "text": [
      "Could not laod the script because of 'utf-8' codec can't decode byte 0xe4 in position 44: invalid continuation byte \n",
      "Could not laod the script because of 'utf-8' codec can't decode byte 0x96 in position 66: invalid start byte \n"
     ]
    },
    {
     "name": "stderr",
     "output_type": "stream",
     "text": [
      "3218it [07:22,  8.73it/s]"
     ]
    },
    {
     "name": "stdout",
     "output_type": "stream",
     "text": [
      "Could not laod the script because of 'utf-8' codec can't decode byte 0xe4 in position 44: invalid continuation byte \n",
      "Could not laod the script because of 'utf-8' codec can't decode byte 0x92 in position 13: invalid start byte \n",
      "Could not laod the script because of 'utf-8' codec can't decode byte 0x96 in position 44: invalid start byte \n"
     ]
    },
    {
     "name": "stderr",
     "output_type": "stream",
     "text": [
      "3226it [07:22, 14.17it/s]"
     ]
    },
    {
     "name": "stdout",
     "output_type": "stream",
     "text": [
      "Could not laod the script because of 'utf-8' codec can't decode byte 0xf3 in position 3: invalid continuation byte \n",
      "Could not laod the script because of 'utf-8' codec can't decode byte 0xbf in position 19: invalid start byte \n",
      "Could not laod the script because of 'utf-8' codec can't decode byte 0xf3 in position 3: invalid continuation byte \n",
      "Could not laod the script because of 'utf-8' codec can't decode byte 0xf3 in position 3: invalid continuation byte \n",
      "Could not laod the script because of 'utf-8' codec can't decode byte 0xe4 in position 44: invalid continuation byte \n"
     ]
    },
    {
     "name": "stderr",
     "output_type": "stream",
     "text": [
      "3238it [07:23, 16.65it/s]"
     ]
    },
    {
     "name": "stdout",
     "output_type": "stream",
     "text": [
      "Could not laod the script because of 'utf-8' codec can't decode byte 0xe4 in position 44: invalid continuation byte \n"
     ]
    },
    {
     "name": "stderr",
     "output_type": "stream",
     "text": [
      "3241it [07:23, 18.22it/s]"
     ]
    },
    {
     "name": "stdout",
     "output_type": "stream",
     "text": [
      "Could not laod the script because of 'utf-8' codec can't decode byte 0x89 in position 0: invalid start byte \n",
      "Could not laod the script because of 'utf-8' codec can't decode byte 0xf4 in position 11: invalid continuation byte \n",
      "Could not laod the script because of 'utf-8' codec can't decode byte 0xba in position 2: invalid start byte \n",
      "Could not laod the script because of 'utf-8' codec can't decode byte 0xb0 in position 1: invalid start byte \n",
      "Could not laod the script because of 'utf-8' codec can't decode byte 0xba in position 2: invalid start byte \n",
      "Could not laod the script because of 'utf-8' codec can't decode byte 0xde in position 0: invalid continuation byte \n",
      "Could not laod the script because of 'utf-8' codec can't decode byte 0xf0 in position 0: invalid continuation byte \n",
      "Could not laod the script because of 'utf-8' codec can't decode byte 0xa5 in position 0: invalid start byte \n",
      "Could not laod the script because of 'utf-8' codec can't decode byte 0x87 in position 2: invalid start byte \n",
      "Could not laod the script because of 'utf-8' codec can't decode byte 0x92 in position 3: invalid start byte \n",
      "Could not laod the script because of 'utf-8' codec can't decode byte 0x85 in position 0: invalid start byte \n",
      "Could not laod the script because of 'utf-8' codec can't decode byte 0x85 in position 0: invalid start byte \n",
      "Could not laod the script because of 'utf-8' codec can't decode byte 0x85 in position 0: invalid start byte \n",
      "Could not laod the script because of 'utf-8' codec can't decode byte 0x83 in position 1: invalid start byte \n",
      "Could not laod the script because of 'utf-8' codec can't decode byte 0xe1 in position 0: invalid continuation byte \n",
      "Could not laod the script because of 'utf-8' codec can't decode byte 0xbc in position 2: invalid start byte \n",
      "Could not laod the script because of 'utf-8' codec can't decode byte 0x86 in position 0: invalid start byte \n",
      "Could not laod the script because of 'utf-8' codec can't decode byte 0x87 in position 4: invalid start byte \n",
      "Could not laod the script because of 'utf-8' codec can't decode byte 0x91 in position 3: invalid start byte \n",
      "Could not laod the script because of 'utf-8' codec can't decode byte 0x8d in position 2: invalid start byte \n",
      "Could not laod the script because of 'utf-8' codec can't decode byte 0x82 in position 0: invalid start byte \n",
      "Could not laod the script because of 'utf-8' codec can't decode bytes in position 0-1: invalid continuation byte \n",
      "Could not laod the script because of 'utf-8' codec can't decode byte 0xb3 in position 2: invalid start byte \n",
      "Could not laod the script because of 'utf-8' codec can't decode byte 0x82 in position 0: invalid start byte \n",
      "Could not laod the script because of 'utf-8' codec can't decode byte 0x92 in position 3: invalid start byte \n",
      "Could not laod the script because of 'utf-8' codec can't decode byte 0x85 in position 0: invalid start byte \n",
      "Could not laod the script because of 'utf-8' codec can't decode byte 0xe2 in position 0: invalid continuation byte \n",
      "Could not laod the script because of 'utf-8' codec can't decode byte 0xdf in position 0: invalid continuation byte \n",
      "Could not laod the script because of 'utf-8' codec can't decode byte 0xbe in position 1: invalid start byte \n",
      "Could not laod the script because of 'utf-8' codec can't decode byte 0x8a in position 0: invalid start byte \n",
      "Could not laod the script because of 'utf-8' codec can't decode byte 0xb4 in position 0: invalid start byte \n",
      "Could not laod the script because of 'utf-8' codec can't decode byte 0x85 in position 0: invalid start byte \n",
      "Could not laod the script because of 'utf-8' codec can't decode byte 0xbc in position 0: invalid start byte \n",
      "Could not laod the script because of 'utf-8' codec can't decode byte 0xfb in position 1: invalid start byte \n",
      "Could not laod the script because of 'utf-8' codec can't decode byte 0xa3 in position 0: invalid start byte \n",
      "Could not laod the script because of 'utf-8' codec can't decode byte 0xc9 in position 1: invalid continuation byte \n",
      "Could not laod the script because of 'utf-8' codec can't decode byte 0x85 in position 0: invalid start byte \n",
      "Could not laod the script because of 'utf-8' codec can't decode byte 0xad in position 0: invalid start byte \n",
      "Could not laod the script because of 'utf-8' codec can't decode byte 0x85 in position 0: invalid start byte \n",
      "Could not laod the script because of 'utf-8' codec can't decode byte 0xaa in position 0: invalid start byte \n",
      "Could not laod the script because of 'utf-8' codec can't decode byte 0xd3 in position 0: invalid continuation byte \n",
      "Could not laod the script because of 'utf-8' codec can't decode byte 0x85 in position 0: invalid start byte \n",
      "Could not laod the script because of 'utf-8' codec can't decode byte 0xfd in position 1: invalid start byte \n",
      "Could not laod the script because of 'utf-8' codec can't decode byte 0x8a in position 4: invalid start byte \n",
      "Could not laod the script because of 'utf-8' codec can't decode byte 0x96 in position 0: invalid start byte \n",
      "Could not laod the script because of 'utf-8' codec can't decode byte 0xe7 in position 2: invalid continuation byte \n",
      "Could not laod the script because of 'utf-8' codec can't decode byte 0xba in position 0: invalid start byte \n",
      "Could not laod the script because of 'utf-8' codec can't decode byte 0xa4 in position 3: invalid start byte \n",
      "Could not laod the script because of 'utf-8' codec can't decode byte 0x98 in position 1: invalid start byte \n",
      "Could not laod the script because of 'utf-8' codec can't decode byte 0xa6 in position 0: invalid start byte \n",
      "Could not laod the script because of 'utf-8' codec can't decode bytes in position 3-4: invalid continuation byte \n",
      "Could not laod the script because of 'utf-8' codec can't decode byte 0x85 in position 0: invalid start byte \n",
      "Could not laod the script because of 'utf-8' codec can't decode byte 0xea in position 3: invalid continuation byte \n",
      "Could not laod the script because of 'utf-8' codec can't decode bytes in position 0-2: invalid continuation byte \n",
      "Could not laod the script because of 'utf-8' codec can't decode byte 0x85 in position 0: invalid start byte \n",
      "Could not laod the script because of 'utf-8' codec can't decode byte 0x85 in position 0: invalid start byte \n",
      "Could not laod the script because of 'utf-8' codec can't decode byte 0x85 in position 0: invalid start byte \n",
      "Could not laod the script because of 'utf-8' codec can't decode byte 0x9d in position 2: invalid start byte \n",
      "Could not laod the script because of 'utf-8' codec can't decode byte 0x85 in position 0: invalid start byte \n",
      "Could not laod the script because of 'utf-8' codec can't decode byte 0x85 in position 0: invalid start byte \n",
      "Could not laod the script because of 'utf-8' codec can't decode byte 0xb6 in position 3: invalid start byte \n",
      "Could not laod the script because of 'utf-8' codec can't decode byte 0xf6 in position 7: invalid start byte \n",
      "Could not laod the script because of 'utf-8' codec can't decode byte 0xb7 in position 5: invalid start byte \n",
      "Could not laod the script because of 'utf-8' codec can't decode byte 0xf8 in position 5: invalid start byte \n",
      "Could not laod the script because of 'utf-8' codec can't decode byte 0x85 in position 0: invalid start byte \n",
      "Could not laod the script because of 'utf-8' codec can't decode byte 0xd6 in position 1: invalid continuation byte \n",
      "Could not laod the script because of 'utf-8' codec can't decode byte 0x85 in position 0: invalid start byte \n",
      "Could not laod the script because of 'utf-8' codec can't decode byte 0xde in position 0: invalid continuation byte \n",
      "Could not laod the script because of 'utf-8' codec can't decode byte 0x85 in position 0: invalid start byte \n",
      "Could not laod the script because of 'utf-8' codec can't decode byte 0xfc in position 1: invalid start byte \n",
      "Could not laod the script because of 'utf-8' codec can't decode byte 0x84 in position 3: invalid start byte \n",
      "Could not laod the script because of 'utf-8' codec can't decode byte 0xa5 in position 4: invalid start byte \n",
      "Could not laod the script because of 'utf-8' codec can't decode byte 0xe9 in position 4: invalid continuation byte \n",
      "Could not laod the script because of 'utf-8' codec can't decode byte 0xdf in position 2: invalid continuation byte \n",
      "Could not laod the script because of 'utf-8' codec can't decode byte 0xa5 in position 1: invalid start byte \n",
      "Could not laod the script because of 'utf-8' codec can't decode byte 0xf0 in position 0: invalid continuation byte \n",
      "Could not laod the script because of 'utf-8' codec can't decode byte 0xf9 in position 4: invalid start byte \n",
      "Could not laod the script because of 'utf-8' codec can't decode byte 0xba in position 0: invalid start byte \n",
      "Could not laod the script because of 'utf-8' codec can't decode byte 0xd5 in position 4: invalid continuation byte \n",
      "Could not laod the script because of 'utf-8' codec can't decode byte 0xd4 in position 5: invalid continuation byte \n",
      "Could not laod the script because of 'utf-8' codec can't decode bytes in position 0-1: invalid continuation byte \n",
      "Could not laod the script because of 'utf-8' codec can't decode byte 0xca in position 2: invalid continuation byte \n",
      "Could not laod the script because of 'utf-8' codec can't decode byte 0xaf in position 1: invalid start byte \n",
      "Could not laod the script because of 'utf-8' codec can't decode byte 0x85 in position 0: invalid start byte \n",
      "Could not laod the script because of 'utf-8' codec can't decode byte 0xf5 in position 6: invalid start byte \n",
      "Could not laod the script because of 'utf-8' codec can't decode byte 0x82 in position 0: invalid start byte \n",
      "Could not laod the script because of 'utf-8' codec can't decode byte 0xe8 in position 0: invalid continuation byte \n",
      "Could not laod the script because of 'utf-8' codec can't decode byte 0xd9 in position 2: invalid continuation byte \n",
      "Could not laod the script because of 'utf-8' codec can't decode byte 0xf0 in position 1: invalid continuation byte \n",
      "Could not laod the script because of 'utf-8' codec can't decode byte 0x9d in position 0: invalid start byte \n",
      "Could not laod the script because of 'utf-8' codec can't decode byte 0xa0 in position 0: invalid start byte \n",
      "Could not laod the script because of 'utf-8' codec can't decode byte 0xcc in position 0: invalid continuation byte \n",
      "Could not laod the script because of 'utf-8' codec can't decode byte 0x86 in position 4: invalid start byte \n",
      "Could not laod the script because of 'utf-8' codec can't decode byte 0xe9 in position 0: invalid continuation byte \n",
      "Could not laod the script because of 'utf-8' codec can't decode byte 0xdd in position 0: invalid continuation byte \n",
      "Could not laod the script because of 'utf-8' codec can't decode byte 0xba in position 0: invalid start byte \n",
      "Could not laod the script because of 'utf-8' codec can't decode byte 0xca in position 2: invalid continuation byte \n",
      "Could not laod the script because of 'utf-8' codec can't decode byte 0xcf in position 0: invalid continuation byte \n",
      "Could not laod the script because of 'utf-8' codec can't decode byte 0xd5 in position 0: invalid continuation byte \n",
      "Could not laod the script because of 'utf-8' codec can't decode byte 0xd5 in position 0: invalid continuation byte \n",
      "Could not laod the script because of 'utf-8' codec can't decode byte 0xa5 in position 1: invalid start byte \n",
      "Could not laod the script because of 'utf-8' codec can't decode byte 0x89 in position 2: invalid start byte \n",
      "Could not laod the script because of 'utf-8' codec can't decode byte 0xaa in position 2: invalid start byte \n",
      "Could not laod the script because of 'utf-8' codec can't decode byte 0xc5 in position 0: invalid continuation byte \n",
      "Could not laod the script because of 'utf-8' codec can't decode byte 0x85 in position 0: invalid start byte \n",
      "Could not laod the script because of 'utf-8' codec can't decode byte 0x9f in position 3: invalid start byte \n",
      "Could not laod the script because of 'utf-8' codec can't decode byte 0x9b in position 3: invalid start byte \n",
      "Could not laod the script because of 'utf-8' codec can't decode byte 0xec in position 0: invalid continuation byte \n",
      "Could not laod the script because of 'utf-8' codec can't decode byte 0xd5 in position 1: invalid continuation byte \n",
      "Could not laod the script because of 'utf-8' codec can't decode byte 0x96 in position 0: invalid start byte \n",
      "Could not laod the script because of 'utf-8' codec can't decode byte 0xcc in position 0: invalid continuation byte \n",
      "Could not laod the script because of 'utf-8' codec can't decode byte 0xd5 in position 1: invalid continuation byte \n",
      "Could not laod the script because of 'utf-8' codec can't decode byte 0x85 in position 0: invalid start byte \n",
      "Could not laod the script because of 'utf-8' codec can't decode byte 0xb1 in position 1: invalid start byte \n",
      "Could not laod the script because of 'utf-8' codec can't decode byte 0x82 in position 1: invalid start byte \n",
      "Could not laod the script because of 'utf-8' codec can't decode byte 0xd0 in position 1: invalid continuation byte \n",
      "Could not laod the script because of 'utf-8' codec can't decode byte 0x85 in position 0: invalid start byte \n",
      "Could not laod the script because of 'utf-8' codec can't decode byte 0xcc in position 0: invalid continuation byte \n",
      "Could not laod the script because of 'utf-8' codec can't decode byte 0xf3 in position 5: invalid continuation byte \n",
      "Could not laod the script because of 'utf-8' codec can't decode byte 0xea in position 1: invalid continuation byte \n",
      "Could not laod the script because of 'utf-8' codec can't decode byte 0xd7 in position 5: invalid continuation byte \n",
      "Could not laod the script because of 'utf-8' codec can't decode byte 0x85 in position 0: invalid start byte \n",
      "Could not laod the script because of 'utf-8' codec can't decode byte 0x9b in position 0: invalid start byte \n",
      "Could not laod the script because of 'utf-8' codec can't decode byte 0x86 in position 3: invalid start byte \n",
      "Could not laod the script because of 'utf-8' codec can't decode byte 0xa8 in position 5: invalid start byte \n",
      "Could not laod the script because of 'utf-8' codec can't decode byte 0x97 in position 0: invalid start byte \n",
      "Could not laod the script because of 'utf-8' codec can't decode byte 0x98 in position 7: invalid start byte \n",
      "Could not laod the script because of 'utf-8' codec can't decode byte 0xe0 in position 2: invalid continuation byte \n",
      "Could not laod the script because of 'utf-8' codec can't decode byte 0xf2 in position 0: invalid continuation byte \n",
      "Could not laod the script because of 'utf-8' codec can't decode byte 0xbb in position 1: invalid start byte \n",
      "Could not laod the script because of 'utf-8' codec can't decode byte 0x9e in position 1: invalid start byte \n",
      "Could not laod the script because of 'utf-8' codec can't decode byte 0xb3 in position 3: invalid start byte \n",
      "Could not laod the script because of 'utf-8' codec can't decode byte 0xbd in position 2: invalid start byte \n",
      "Could not laod the script because of 'utf-8' codec can't decode byte 0xbc in position 6: invalid start byte \n",
      "Could not laod the script because of 'utf-8' codec can't decode byte 0xf6 in position 0: invalid start byte \n",
      "Could not laod the script because of 'utf-8' codec can't decode byte 0xe4 in position 1: invalid continuation byte \n",
      "Could not laod the script because of 'utf-8' codec can't decode byte 0x85 in position 0: invalid start byte \n",
      "Could not laod the script because of 'utf-8' codec can't decode byte 0xd6 in position 1: invalid continuation byte \n",
      "Could not laod the script because of 'utf-8' codec can't decode byte 0x85 in position 0: invalid start byte \n",
      "Could not laod the script because of 'utf-8' codec can't decode byte 0xd0 in position 0: invalid continuation byte \n",
      "Could not laod the script because of 'utf-8' codec can't decode byte 0xb0 in position 0: invalid start byte \n",
      "Could not laod the script because of 'utf-8' codec can't decode byte 0xc7 in position 2: invalid continuation byte \n",
      "Could not laod the script because of 'utf-8' codec can't decode byte 0xc1 in position 0: invalid start byte \n",
      "Could not laod the script because of 'utf-8' codec can't decode byte 0x8e in position 0: invalid start byte \n",
      "Could not laod the script because of 'utf-8' codec can't decode byte 0xd5 in position 0: invalid continuation byte \n",
      "Could not laod the script because of 'utf-8' codec can't decode byte 0x85 in position 0: invalid start byte \n",
      "Could not laod the script because of 'utf-8' codec can't decode byte 0xaf in position 2: invalid start byte \n",
      "Could not laod the script because of 'utf-8' codec can't decode byte 0x8b in position 1: invalid start byte \n",
      "Could not laod the script because of 'utf-8' codec can't decode bytes in position 2-3: invalid continuation byte \n",
      "Could not laod the script because of 'utf-8' codec can't decode byte 0xed in position 3: invalid continuation byte \n",
      "Could not laod the script because of 'utf-8' codec can't decode byte 0xe9 in position 0: invalid continuation byte \n",
      "Could not laod the script because of 'utf-8' codec can't decode byte 0x9c in position 0: invalid start byte \n",
      "Could not laod the script because of 'utf-8' codec can't decode byte 0x96 in position 0: invalid start byte \n",
      "Could not laod the script because of 'utf-8' codec can't decode byte 0x83 in position 0: invalid start byte \n",
      "Could not laod the script because of 'utf-8' codec can't decode byte 0x85 in position 0: invalid start byte \n",
      "Could not laod the script because of 'utf-8' codec can't decode byte 0xea in position 2: invalid continuation byte \n",
      "Could not laod the script because of 'utf-8' codec can't decode byte 0x8f in position 0: invalid start byte \n",
      "Could not laod the script because of 'utf-8' codec can't decode byte 0x97 in position 6: invalid start byte \n",
      "Could not laod the script because of 'utf-8' codec can't decode byte 0xba in position 1: invalid start byte \n",
      "Could not laod the script because of 'utf-8' codec can't decode byte 0x9d in position 0: invalid start byte \n",
      "Could not laod the script because of 'utf-8' codec can't decode byte 0xc5 in position 2: invalid continuation byte \n",
      "Could not laod the script because of 'utf-8' codec can't decode byte 0x93 in position 6: invalid start byte \n",
      "Could not laod the script because of 'utf-8' codec can't decode byte 0xcb in position 3: invalid continuation byte \n",
      "Could not laod the script because of 'utf-8' codec can't decode byte 0x85 in position 0: invalid start byte \n",
      "Could not laod the script because of 'utf-8' codec can't decode byte 0xa6 in position 10: invalid start byte \n",
      "Could not laod the script because of 'utf-8' codec can't decode byte 0x92 in position 0: invalid start byte \n",
      "Could not laod the script because of 'utf-8' codec can't decode byte 0xfe in position 0: invalid start byte \n",
      "Could not laod the script because of 'utf-8' codec can't decode byte 0xa7 in position 0: invalid start byte \n",
      "Could not laod the script because of 'utf-8' codec can't decode byte 0xdb in position 0: invalid continuation byte \n",
      "Could not laod the script because of 'utf-8' codec can't decode byte 0xc0 in position 0: invalid start byte \n",
      "Could not laod the script because of 'utf-8' codec can't decode byte 0x82 in position 2: invalid start byte \n",
      "Could not laod the script because of 'utf-8' codec can't decode byte 0xd0 in position 0: invalid continuation byte \n",
      "Could not laod the script because of 'utf-8' codec can't decode byte 0xcf in position 0: invalid continuation byte \n",
      "Could not laod the script because of 'utf-8' codec can't decode byte 0x9b in position 0: invalid start byte \n",
      "Could not laod the script because of 'utf-8' codec can't decode byte 0xd1 in position 4: invalid continuation byte \n",
      "Could not laod the script because of 'utf-8' codec can't decode byte 0xdf in position 2: invalid continuation byte \n",
      "Could not laod the script because of 'utf-8' codec can't decode byte 0xa3 in position 1: invalid start byte \n",
      "Could not laod the script because of 'utf-8' codec can't decode byte 0xb5 in position 2: invalid start byte \n",
      "Could not laod the script because of 'utf-8' codec can't decode byte 0xb4 in position 1: invalid start byte \n",
      "Could not laod the script because of 'utf-8' codec can't decode byte 0xe4 in position 4: invalid continuation byte \n",
      "Could not laod the script because of 'utf-8' codec can't decode byte 0xeb in position 1: invalid continuation byte \n",
      "Could not laod the script because of 'utf-8' codec can't decode byte 0xf2 in position 1: invalid continuation byte \n",
      "Could not laod the script because of 'utf-8' codec can't decode byte 0x85 in position 0: invalid start byte \n",
      "Could not laod the script because of 'utf-8' codec can't decode byte 0xe1 in position 0: invalid continuation byte \n",
      "Could not laod the script because of 'utf-8' codec can't decode byte 0xb7 in position 1: invalid start byte \n",
      "Could not laod the script because of 'utf-8' codec can't decode byte 0xb6 in position 1: invalid start byte \n",
      "Could not laod the script because of 'utf-8' codec can't decode byte 0x85 in position 0: invalid start byte \n",
      "Could not laod the script because of 'utf-8' codec can't decode byte 0xe2 in position 3: invalid continuation byte \n",
      "Could not laod the script because of 'utf-8' codec can't decode byte 0x99 in position 0: invalid start byte \n",
      "Could not laod the script because of 'utf-8' codec can't decode bytes in position 0-1: invalid continuation byte \n",
      "Could not laod the script because of 'utf-8' codec can't decode byte 0xfe in position 1: invalid start byte \n",
      "Could not laod the script because of 'utf-8' codec can't decode byte 0xa5 in position 0: invalid start byte \n",
      "Could not laod the script because of 'utf-8' codec can't decode byte 0xa8 in position 2: invalid start byte \n",
      "Could not laod the script because of 'utf-8' codec can't decode byte 0x84 in position 1: invalid start byte \n",
      "Could not laod the script because of 'utf-8' codec can't decode byte 0xe4 in position 4: invalid continuation byte \n",
      "Could not laod the script because of 'utf-8' codec can't decode byte 0x85 in position 0: invalid start byte \n",
      "Could not laod the script because of 'utf-8' codec can't decode bytes in position 1-2: invalid continuation byte \n",
      "Could not laod the script because of 'utf-8' codec can't decode byte 0x89 in position 1: invalid start byte \n",
      "Could not laod the script because of 'utf-8' codec can't decode byte 0xa3 in position 2: invalid start byte \n",
      "Could not laod the script because of 'utf-8' codec can't decode byte 0xe7 in position 2: invalid continuation byte \n",
      "Could not laod the script because of 'utf-8' codec can't decode byte 0xe6 in position 0: invalid continuation byte \n",
      "Could not laod the script because of 'utf-8' codec can't decode byte 0xa2 in position 0: invalid start byte \n",
      "Could not laod the script because of 'utf-8' codec can't decode byte 0xd5 in position 2: invalid continuation byte \n",
      "Could not laod the script because of 'utf-8' codec can't decode byte 0xef in position 6: invalid continuation byte \n",
      "Could not laod the script because of 'utf-8' codec can't decode byte 0x85 in position 0: invalid start byte \n",
      "Could not laod the script because of 'utf-8' codec can't decode byte 0xa7 in position 0: invalid start byte \n",
      "Could not laod the script because of 'utf-8' codec can't decode byte 0x9a in position 1: invalid start byte \n",
      "Could not laod the script because of 'utf-8' codec can't decode byte 0xd1 in position 1: invalid continuation byte \n",
      "Could not laod the script because of 'utf-8' codec can't decode byte 0xbc in position 1: invalid start byte \n",
      "Could not laod the script because of 'utf-8' codec can't decode byte 0x8a in position 0: invalid start byte \n",
      "Could not laod the script because of 'utf-8' codec can't decode byte 0xfd in position 1: invalid start byte \n",
      "Could not laod the script because of 'utf-8' codec can't decode byte 0x85 in position 0: invalid start byte \n",
      "Could not laod the script because of 'utf-8' codec can't decode byte 0xbf in position 0: invalid start byte \n",
      "Could not laod the script because of 'utf-8' codec can't decode byte 0xde in position 1: invalid continuation byte \n",
      "Could not laod the script because of 'utf-8' codec can't decode byte 0xb9 in position 2: invalid start byte \n",
      "Could not laod the script because of 'utf-8' codec can't decode byte 0xe0 in position 6: invalid continuation byte \n",
      "Could not laod the script because of 'utf-8' codec can't decode byte 0xf3 in position 0: invalid continuation byte \n",
      "Could not laod the script because of 'utf-8' codec can't decode byte 0x85 in position 0: invalid start byte \n",
      "Could not laod the script because of 'utf-8' codec can't decode byte 0x85 in position 0: invalid start byte \n",
      "Could not laod the script because of 'utf-8' codec can't decode byte 0xbd in position 0: invalid start byte \n",
      "Could not laod the script because of 'utf-8' codec can't decode byte 0xf7 in position 1: invalid start byte \n",
      "Could not laod the script because of 'utf-8' codec can't decode byte 0x82 in position 2: invalid start byte \n",
      "Could not laod the script because of 'utf-8' codec can't decode byte 0xe8 in position 0: invalid continuation byte \n",
      "Could not laod the script because of 'utf-8' codec can't decode byte 0x8d in position 0: invalid start byte \n",
      "Could not laod the script because of 'utf-8' codec can't decode byte 0x88 in position 1: invalid start byte \n",
      "Could not laod the script because of 'utf-8' codec can't decode byte 0xa2 in position 0: invalid start byte \n",
      "Could not laod the script because of 'utf-8' codec can't decode byte 0x8c in position 0: invalid start byte \n",
      "Could not laod the script because of 'utf-8' codec can't decode byte 0xa7 in position 0: invalid start byte \n",
      "Could not laod the script because of 'utf-8' codec can't decode byte 0x86 in position 7: invalid start byte \n",
      "Could not laod the script because of 'utf-8' codec can't decode byte 0xbf in position 0: invalid start byte \n",
      "Could not laod the script because of 'utf-8' codec can't decode byte 0x88 in position 1: invalid start byte \n",
      "Could not laod the script because of 'utf-8' codec can't decode byte 0xa1 in position 1: invalid start byte \n",
      "Could not laod the script because of 'utf-8' codec can't decode byte 0xeb in position 3: invalid continuation byte \n",
      "Could not laod the script because of 'utf-8' codec can't decode byte 0xcc in position 0: invalid continuation byte \n",
      "Could not laod the script because of 'utf-8' codec can't decode byte 0x85 in position 0: invalid start byte \n",
      "Could not laod the script because of 'utf-8' codec can't decode byte 0xa7 in position 0: invalid start byte \n",
      "Could not laod the script because of 'utf-8' codec can't decode byte 0x83 in position 0: invalid start byte \n",
      "Could not laod the script because of 'utf-8' codec can't decode byte 0x85 in position 0: invalid start byte \n",
      "Could not laod the script because of 'utf-8' codec can't decode byte 0x9b in position 7: invalid start byte \n",
      "Could not laod the script because of 'utf-8' codec can't decode byte 0x85 in position 0: invalid start byte \n",
      "Could not laod the script because of 'utf-8' codec can't decode byte 0xbf in position 0: invalid start byte \n",
      "Could not laod the script because of 'utf-8' codec can't decode byte 0x8a in position 0: invalid start byte \n",
      "Could not laod the script because of 'utf-8' codec can't decode byte 0xbe in position 0: invalid start byte \n",
      "Could not laod the script because of 'utf-8' codec can't decode byte 0xc8 in position 3: invalid continuation byte \n",
      "Could not laod the script because of 'utf-8' codec can't decode byte 0x86 in position 0: invalid start byte \n",
      "Could not laod the script because of 'utf-8' codec can't decode byte 0x86 in position 3: invalid start byte \n",
      "Could not laod the script because of 'utf-8' codec can't decode byte 0xe0 in position 1: invalid continuation byte \n",
      "Could not laod the script because of 'utf-8' codec can't decode byte 0x85 in position 0: invalid start byte \n",
      "Could not laod the script because of 'utf-8' codec can't decode byte 0xec in position 1: invalid continuation byte \n",
      "Could not laod the script because of 'utf-8' codec can't decode byte 0x8d in position 4: invalid start byte \n",
      "Could not laod the script because of 'utf-8' codec can't decode byte 0x89 in position 2: invalid start byte \n",
      "Could not laod the script because of 'utf-8' codec can't decode byte 0xd6 in position 2: invalid continuation byte \n",
      "Could not laod the script because of 'utf-8' codec can't decode byte 0x97 in position 1: invalid start byte \n",
      "Could not laod the script because of 'utf-8' codec can't decode byte 0xff in position 0: invalid start byte \n",
      "Could not laod the script because of 'utf-8' codec can't decode byte 0x9c in position 0: invalid start byte \n",
      "Could not laod the script because of 'utf-8' codec can't decode bytes in position 0-1: invalid continuation byte \n",
      "Could not laod the script because of 'utf-8' codec can't decode byte 0x92 in position 1: invalid start byte \n",
      "Could not laod the script because of 'utf-8' codec can't decode byte 0xfc in position 0: invalid start byte \n",
      "Could not laod the script because of 'utf-8' codec can't decode byte 0xaf in position 0: invalid start byte \n",
      "Could not laod the script because of 'utf-8' codec can't decode byte 0xab in position 0: invalid start byte \n",
      "Could not laod the script because of 'utf-8' codec can't decode byte 0xec in position 0: invalid continuation byte \n",
      "Could not laod the script because of 'utf-8' codec can't decode byte 0x9d in position 1: invalid start byte \n",
      "Could not laod the script because of 'utf-8' codec can't decode byte 0x83 in position 2: invalid start byte \n",
      "Could not laod the script because of 'utf-8' codec can't decode byte 0x81 in position 3: invalid start byte \n",
      "Could not laod the script because of 'utf-8' codec can't decode bytes in position 0-1: invalid continuation byte \n",
      "Could not laod the script because of 'utf-8' codec can't decode byte 0x9b in position 4: invalid start byte \n",
      "Could not laod the script because of 'utf-8' codec can't decode byte 0xea in position 0: invalid continuation byte \n",
      "Could not laod the script because of 'utf-8' codec can't decode byte 0xc1 in position 0: invalid start byte \n",
      "Could not laod the script because of 'utf-8' codec can't decode byte 0x95 in position 0: invalid start byte \n",
      "Could not laod the script because of 'utf-8' codec can't decode byte 0xe1 in position 2: invalid continuation byte \n",
      "Could not laod the script because of 'utf-8' codec can't decode byte 0x86 in position 0: invalid start byte \n",
      "Could not laod the script because of 'utf-8' codec can't decode byte 0x93 in position 4: invalid start byte \n",
      "Could not laod the script because of 'utf-8' codec can't decode byte 0x94 in position 0: invalid start byte \n",
      "Could not laod the script because of 'utf-8' codec can't decode byte 0xb4 in position 0: invalid start byte \n",
      "Could not laod the script because of 'utf-8' codec can't decode byte 0xa3 in position 1: invalid start byte \n",
      "Could not laod the script because of 'utf-8' codec can't decode byte 0xe8 in position 1: invalid continuation byte \n",
      "Could not laod the script because of 'utf-8' codec can't decode byte 0xab in position 0: invalid start byte \n",
      "Could not laod the script because of 'utf-8' codec can't decode byte 0xf8 in position 2: invalid start byte \n",
      "Could not laod the script because of 'utf-8' codec can't decode byte 0x81 in position 5: invalid start byte \n",
      "Could not laod the script because of 'utf-8' codec can't decode byte 0x84 in position 2: invalid start byte \n",
      "Could not laod the script because of 'utf-8' codec can't decode byte 0xbe in position 0: invalid start byte \n",
      "Could not laod the script because of 'utf-8' codec can't decode byte 0x85 in position 0: invalid start byte \n",
      "Could not laod the script because of 'utf-8' codec can't decode byte 0xa1 in position 0: invalid start byte \n",
      "Could not laod the script because of 'utf-8' codec can't decode byte 0x9c in position 0: invalid start byte \n",
      "Could not laod the script because of 'utf-8' codec can't decode byte 0x8b in position 3: invalid start byte \n",
      "Could not laod the script because of 'utf-8' codec can't decode byte 0x94 in position 2: invalid start byte \n",
      "Could not laod the script because of 'utf-8' codec can't decode byte 0x85 in position 0: invalid start byte \n",
      "Could not laod the script because of 'utf-8' codec can't decode byte 0x85 in position 0: invalid start byte \n",
      "Could not laod the script because of 'utf-8' codec can't decode byte 0xcd in position 6: invalid continuation byte \n",
      "Could not laod the script because of 'utf-8' codec can't decode byte 0xf4 in position 2: invalid continuation byte \n",
      "Could not laod the script because of 'utf-8' codec can't decode byte 0xc1 in position 0: invalid start byte \n",
      "Could not laod the script because of 'utf-8' codec can't decode byte 0x85 in position 0: invalid start byte \n",
      "Could not laod the script because of 'utf-8' codec can't decode byte 0x92 in position 2: invalid start byte \n",
      "Could not laod the script because of 'utf-8' codec can't decode byte 0xc3 in position 2: invalid continuation byte \n",
      "Could not laod the script because of 'utf-8' codec can't decode byte 0xbe in position 0: invalid start byte \n",
      "Could not laod the script because of 'utf-8' codec can't decode byte 0xab in position 4: invalid start byte \n",
      "Could not laod the script because of 'utf-8' codec can't decode byte 0x89 in position 0: invalid start byte \n",
      "Could not laod the script because of 'utf-8' codec can't decode byte 0xf4 in position 11: invalid continuation byte \n",
      "Could not laod the script because of 'utf-8' codec can't decode byte 0xa9 in position 0: invalid start byte \n",
      "Could not laod the script because of 'utf-8' codec can't decode byte 0xd8 in position 0: invalid continuation byte \n",
      "Could not laod the script because of 'utf-8' codec can't decode byte 0xbb in position 2: invalid start byte \n",
      "Could not laod the script because of 'utf-8' codec can't decode byte 0x9d in position 0: invalid start byte \n",
      "Could not laod the script because of 'utf-8' codec can't decode byte 0xc9 in position 3: invalid continuation byte \n",
      "Could not laod the script because of 'utf-8' codec can't decode byte 0xa1 in position 0: invalid start byte \n",
      "Could not laod the script because of 'utf-8' codec can't decode byte 0x9f in position 0: invalid start byte \n",
      "Could not laod the script because of 'utf-8' codec can't decode byte 0xc1 in position 3: invalid start byte \n",
      "Could not laod the script because of 'utf-8' codec can't decode byte 0x83 in position 1: invalid start byte \n",
      "Could not laod the script because of 'utf-8' codec can't decode byte 0xfd in position 0: invalid start byte \n",
      "Could not laod the script because of 'utf-8' codec can't decode byte 0xc1 in position 0: invalid start byte \n",
      "Could not laod the script because of 'utf-8' codec can't decode byte 0xb4 in position 0: invalid start byte \n",
      "Could not laod the script because of 'utf-8' codec can't decode byte 0x89 in position 7: invalid start byte \n",
      "Could not laod the script because of 'utf-8' codec can't decode byte 0x9d in position 0: invalid start byte \n",
      "Could not laod the script because of 'utf-8' codec can't decode byte 0xf5 in position 2: invalid start byte \n",
      "Could not laod the script because of 'utf-8' codec can't decode byte 0xba in position 2: invalid start byte \n",
      "Could not laod the script because of 'utf-8' codec can't decode byte 0xb6 in position 0: invalid start byte \n",
      "Could not laod the script because of 'utf-8' codec can't decode byte 0xed in position 1: invalid continuation byte \n",
      "Could not laod the script because of 'utf-8' codec can't decode byte 0xe9 in position 0: invalid continuation byte \n",
      "Could not laod the script because of 'utf-8' codec can't decode byte 0xb2 in position 8: invalid start byte \n",
      "Could not laod the script because of 'utf-8' codec can't decode byte 0xf4 in position 1: invalid continuation byte \n",
      "Could not laod the script because of 'utf-8' codec can't decode byte 0xd4 in position 4: invalid continuation byte \n",
      "Could not laod the script because of 'utf-8' codec can't decode byte 0x85 in position 0: invalid start byte \n",
      "Could not laod the script because of 'utf-8' codec can't decode byte 0x95 in position 0: invalid start byte \n",
      "Could not laod the script because of 'utf-8' codec can't decode byte 0xac in position 2: invalid start byte \n",
      "Could not laod the script because of 'utf-8' codec can't decode byte 0x86 in position 10: invalid start byte \n",
      "Could not laod the script because of 'utf-8' codec can't decode byte 0xe2 in position 1: invalid continuation byte \n",
      "Could not laod the script because of 'utf-8' codec can't decode byte 0xa2 in position 4: invalid start byte \n",
      "Could not laod the script because of 'utf-8' codec can't decode byte 0xa2 in position 5: invalid start byte \n",
      "Could not laod the script because of 'utf-8' codec can't decode byte 0x9f in position 3: invalid start byte \n",
      "Could not laod the script because of 'utf-8' codec can't decode byte 0x9d in position 1: invalid start byte \n",
      "Could not laod the script because of 'utf-8' codec can't decode byte 0x9c in position 0: invalid start byte \n",
      "Could not laod the script because of 'utf-8' codec can't decode byte 0xa1 in position 1: invalid start byte \n",
      "Could not laod the script because of 'utf-8' codec can't decode byte 0xaf in position 0: invalid start byte \n",
      "Could not laod the script because of 'utf-8' codec can't decode byte 0x95 in position 0: invalid start byte \n",
      "Could not laod the script because of 'utf-8' codec can't decode byte 0xce in position 0: invalid continuation byte \n",
      "Could not laod the script because of 'utf-8' codec can't decode byte 0xa9 in position 6: invalid start byte \n",
      "Could not laod the script because of 'utf-8' codec can't decode byte 0xce in position 3: invalid continuation byte \n",
      "Could not laod the script because of 'utf-8' codec can't decode byte 0xff in position 1: invalid start byte \n",
      "Could not laod the script because of 'utf-8' codec can't decode byte 0x88 in position 0: invalid start byte \n",
      "Could not laod the script because of 'utf-8' codec can't decode bytes in position 0-1: invalid continuation byte \n",
      "Could not laod the script because of 'utf-8' codec can't decode byte 0x96 in position 0: invalid start byte \n",
      "Could not laod the script because of 'utf-8' codec can't decode byte 0xab in position 2: invalid start byte \n",
      "Could not laod the script because of 'utf-8' codec can't decode byte 0x8a in position 4: invalid start byte \n",
      "Could not laod the script because of 'utf-8' codec can't decode byte 0x92 in position 3: invalid start byte \n",
      "Could not laod the script because of 'utf-8' codec can't decode byte 0xa7 in position 0: invalid start byte \n",
      "Could not laod the script because of 'utf-8' codec can't decode byte 0xa6 in position 2: invalid start byte \n",
      "Could not laod the script because of 'utf-8' codec can't decode byte 0x9a in position 0: invalid start byte \n",
      "Could not laod the script because of 'utf-8' codec can't decode byte 0xfd in position 0: invalid start byte \n",
      "Could not laod the script because of 'utf-8' codec can't decode byte 0xa6 in position 0: invalid start byte \n",
      "Could not laod the script because of 'utf-8' codec can't decode byte 0xe9 in position 0: invalid continuation byte \n",
      "Could not laod the script because of 'utf-8' codec can't decode byte 0xf8 in position 0: invalid start byte \n",
      "Could not laod the script because of 'utf-8' codec can't decode byte 0xc8 in position 8: invalid continuation byte \n",
      "Could not laod the script because of 'utf-8' codec can't decode byte 0xbf in position 4: invalid start byte \n",
      "Could not laod the script because of 'utf-8' codec can't decode bytes in position 0-1: invalid continuation byte \n",
      "Could not laod the script because of 'utf-8' codec can't decode byte 0xbf in position 0: invalid start byte \n",
      "Could not laod the script because of 'utf-8' codec can't decode byte 0xc9 in position 0: invalid continuation byte \n",
      "Could not laod the script because of 'utf-8' codec can't decode byte 0xb0 in position 1: invalid start byte \n",
      "Could not laod the script because of 'utf-8' codec can't decode byte 0xa5 in position 1: invalid start byte \n",
      "Could not laod the script because of 'utf-8' codec can't decode byte 0xd3 in position 0: invalid continuation byte \n",
      "Could not laod the script because of 'utf-8' codec can't decode byte 0xc0 in position 1: invalid start byte \n",
      "Could not laod the script because of 'utf-8' codec can't decode byte 0x9e in position 3: invalid start byte \n",
      "Could not laod the script because of 'utf-8' codec can't decode byte 0xe1 in position 9: invalid continuation byte \n",
      "Could not laod the script because of 'utf-8' codec can't decode byte 0xea in position 2: invalid continuation byte \n",
      "Could not laod the script because of 'utf-8' codec can't decode byte 0xee in position 0: invalid continuation byte \n",
      "Could not laod the script because of 'utf-8' codec can't decode byte 0xee in position 1: invalid continuation byte \n",
      "Could not laod the script because of 'utf-8' codec can't decode byte 0x96 in position 0: invalid start byte \n",
      "Could not laod the script because of 'utf-8' codec can't decode byte 0xb5 in position 1: invalid start byte \n",
      "Could not laod the script because of 'utf-8' codec can't decode byte 0x83 in position 6: invalid start byte \n",
      "Could not laod the script because of 'utf-8' codec can't decode byte 0xe9 in position 3: invalid continuation byte \n",
      "Could not laod the script because of 'utf-8' codec can't decode byte 0xa9 in position 0: invalid start byte \n",
      "Could not laod the script because of 'utf-8' codec can't decode byte 0xf5 in position 2: invalid start byte \n",
      "Could not laod the script because of 'utf-8' codec can't decode byte 0x9b in position 1: invalid start byte \n",
      "Could not laod the script because of 'utf-8' codec can't decode byte 0xcd in position 0: invalid continuation byte \n",
      "Could not laod the script because of 'utf-8' codec can't decode byte 0xaa in position 0: invalid start byte \n",
      "Could not laod the script because of 'utf-8' codec can't decode byte 0x81 in position 0: invalid start byte \n",
      "Could not laod the script because of 'utf-8' codec can't decode byte 0xa0 in position 2: invalid start byte \n",
      "Could not laod the script because of 'utf-8' codec can't decode byte 0x88 in position 2: invalid start byte \n",
      "Could not laod the script because of 'utf-8' codec can't decode byte 0xef in position 0: invalid continuation byte \n",
      "Could not laod the script because of 'utf-8' codec can't decode byte 0xf5 in position 5: invalid start byte \n",
      "Could not laod the script because of 'utf-8' codec can't decode byte 0xab in position 0: invalid start byte \n",
      "Could not laod the script because of 'utf-8' codec can't decode byte 0xf6 in position 5: invalid start byte \n",
      "Could not laod the script because of 'utf-8' codec can't decode byte 0xb4 in position 9: invalid start byte \n",
      "Could not laod the script because of 'utf-8' codec can't decode byte 0x82 in position 0: invalid start byte \n",
      "Could not laod the script because of 'utf-8' codec can't decode byte 0xe3 in position 0: invalid continuation byte \n",
      "Could not laod the script because of 'utf-8' codec can't decode byte 0xe2 in position 0: invalid continuation byte \n",
      "Could not laod the script because of 'utf-8' codec can't decode byte 0xa0 in position 1: invalid start byte \n",
      "Could not laod the script because of 'utf-8' codec can't decode byte 0xa2 in position 0: invalid start byte \n",
      "Could not laod the script because of 'utf-8' codec can't decode byte 0xad in position 1: invalid start byte \n",
      "Could not laod the script because of 'utf-8' codec can't decode byte 0xea in position 3: invalid continuation byte \n",
      "Could not laod the script because of 'utf-8' codec can't decode byte 0xa2 in position 5: invalid start byte \n",
      "Could not laod the script because of 'utf-8' codec can't decode byte 0x9a in position 2: invalid start byte \n",
      "Could not laod the script because of 'utf-8' codec can't decode byte 0xc1 in position 1: invalid start byte \n",
      "Could not laod the script because of 'utf-8' codec can't decode byte 0xe3 in position 1: invalid continuation byte \n",
      "Could not laod the script because of 'utf-8' codec can't decode byte 0xfe in position 3: invalid start byte \n",
      "Could not laod the script because of 'utf-8' codec can't decode byte 0xa8 in position 1: invalid start byte \n",
      "Could not laod the script because of 'utf-8' codec can't decode byte 0x88 in position 0: invalid start byte \n",
      "Could not laod the script because of 'utf-8' codec can't decode byte 0x90 in position 1: invalid start byte \n",
      "Could not laod the script because of 'utf-8' codec can't decode byte 0xa5 in position 0: invalid start byte \n",
      "Could not laod the script because of 'utf-8' codec can't decode byte 0xbb in position 4: invalid start byte \n",
      "Could not laod the script because of 'utf-8' codec can't decode byte 0xa2 in position 1: invalid start byte \n",
      "Could not laod the script because of 'utf-8' codec can't decode byte 0x8c in position 2: invalid start byte \n",
      "Could not laod the script because of 'utf-8' codec can't decode byte 0xbb in position 0: invalid start byte \n",
      "Could not laod the script because of 'utf-8' codec can't decode byte 0x86 in position 2: invalid start byte \n",
      "Could not laod the script because of 'utf-8' codec can't decode byte 0xa2 in position 0: invalid start byte \n",
      "Could not laod the script because of 'utf-8' codec can't decode byte 0x85 in position 4: invalid start byte \n",
      "Could not laod the script because of 'utf-8' codec can't decode byte 0x96 in position 0: invalid start byte \n",
      "Could not laod the script because of 'utf-8' codec can't decode byte 0xe4 in position 3: invalid continuation byte \n",
      "Could not laod the script because of 'utf-8' codec can't decode byte 0x9f in position 5: invalid start byte \n",
      "Could not laod the script because of 'utf-8' codec can't decode byte 0xd0 in position 2: invalid continuation byte \n",
      "Could not laod the script because of 'utf-8' codec can't decode byte 0xea in position 0: invalid continuation byte \n",
      "Could not laod the script because of 'utf-8' codec can't decode byte 0xc8 in position 1: invalid continuation byte \n",
      "Could not laod the script because of 'utf-8' codec can't decode byte 0x97 in position 1: invalid start byte \n",
      "Could not laod the script because of 'utf-8' codec can't decode byte 0x9d in position 0: invalid start byte \n",
      "Could not laod the script because of 'utf-8' codec can't decode byte 0xcd in position 0: invalid continuation byte \n",
      "Could not laod the script because of 'utf-8' codec can't decode byte 0xa4 in position 1: invalid start byte \n",
      "Could not laod the script because of 'utf-8' codec can't decode byte 0x81 in position 1: invalid start byte \n",
      "Could not laod the script because of 'utf-8' codec can't decode byte 0x8b in position 1: invalid start byte \n",
      "Could not laod the script because of 'utf-8' codec can't decode byte 0xc2 in position 3: invalid continuation byte \n",
      "Could not laod the script because of 'utf-8' codec can't decode byte 0x83 in position 0: invalid start byte \n",
      "Could not laod the script because of 'utf-8' codec can't decode byte 0x85 in position 0: invalid start byte \n",
      "Could not laod the script because of 'utf-8' codec can't decode byte 0xa5 in position 4: invalid start byte \n",
      "Could not laod the script because of 'utf-8' codec can't decode byte 0x98 in position 0: invalid start byte \n",
      "Could not laod the script because of 'utf-8' codec can't decode bytes in position 0-1: invalid continuation byte \n",
      "Could not laod the script because of 'utf-8' codec can't decode byte 0x87 in position 2: invalid start byte \n",
      "Could not laod the script because of 'utf-8' codec can't decode byte 0xb2 in position 0: invalid start byte \n",
      "Could not laod the script because of 'utf-8' codec can't decode byte 0xb5 in position 0: invalid start byte \n",
      "Could not laod the script because of 'utf-8' codec can't decode byte 0xbf in position 0: invalid start byte \n",
      "Could not laod the script because of 'utf-8' codec can't decode byte 0x9d in position 0: invalid start byte \n",
      "Could not laod the script because of 'utf-8' codec can't decode byte 0x85 in position 1: invalid start byte \n",
      "Could not laod the script because of 'utf-8' codec can't decode byte 0x8d in position 3: invalid start byte \n",
      "Could not laod the script because of 'utf-8' codec can't decode bytes in position 2-3: invalid continuation byte \n",
      "Could not laod the script because of 'utf-8' codec can't decode byte 0x88 in position 4: invalid start byte \n",
      "Could not laod the script because of 'utf-8' codec can't decode byte 0x8a in position 4: invalid start byte \n",
      "Could not laod the script because of 'utf-8' codec can't decode byte 0xb1 in position 1: invalid start byte \n",
      "Could not laod the script because of 'utf-8' codec can't decode byte 0xfc in position 0: invalid start byte \n",
      "Could not laod the script because of 'utf-8' codec can't decode byte 0xff in position 0: invalid start byte \n",
      "Could not laod the script because of 'utf-8' codec can't decode byte 0xcb in position 0: invalid continuation byte \n",
      "Could not laod the script because of 'utf-8' codec can't decode byte 0xb6 in position 6: invalid start byte \n",
      "Could not laod the script because of 'utf-8' codec can't decode byte 0xf6 in position 2: invalid start byte \n",
      "Could not laod the script because of 'utf-8' codec can't decode byte 0xc5 in position 9: invalid continuation byte \n",
      "Could not laod the script because of 'utf-8' codec can't decode byte 0x9d in position 2: invalid start byte \n",
      "Could not laod the script because of 'utf-8' codec can't decode byte 0xb5 in position 0: invalid start byte \n",
      "Could not laod the script because of 'utf-8' codec can't decode byte 0x98 in position 5: invalid start byte \n",
      "Could not laod the script because of 'utf-8' codec can't decode byte 0x83 in position 4: invalid start byte \n",
      "Could not laod the script because of 'utf-8' codec can't decode byte 0xf9 in position 1: invalid start byte \n",
      "Could not laod the script because of 'utf-8' codec can't decode byte 0xff in position 0: invalid start byte \n",
      "Could not laod the script because of 'utf-8' codec can't decode byte 0x87 in position 0: invalid start byte \n",
      "Could not laod the script because of 'utf-8' codec can't decode byte 0xb5 in position 11: invalid start byte \n",
      "Could not laod the script because of 'utf-8' codec can't decode byte 0xca in position 3: invalid continuation byte \n",
      "Could not laod the script because of 'utf-8' codec can't decode byte 0x90 in position 1: invalid start byte \n",
      "Could not laod the script because of 'utf-8' codec can't decode byte 0xfa in position 1: invalid start byte \n",
      "Could not laod the script because of 'utf-8' codec can't decode byte 0xdf in position 0: invalid continuation byte \n",
      "Could not laod the script because of 'utf-8' codec can't decode byte 0xd8 in position 1: invalid continuation byte \n",
      "Could not laod the script because of 'utf-8' codec can't decode byte 0xa2 in position 3: invalid start byte \n",
      "Could not laod the script because of 'utf-8' codec can't decode byte 0xa0 in position 1: invalid start byte \n",
      "Could not laod the script because of 'utf-8' codec can't decode byte 0x81 in position 0: invalid start byte \n",
      "Could not laod the script because of 'utf-8' codec can't decode byte 0xa7 in position 2: invalid start byte \n",
      "Could not laod the script because of 'utf-8' codec can't decode byte 0x87 in position 0: invalid start byte \n",
      "Could not laod the script because of 'utf-8' codec can't decode byte 0x95 in position 4: invalid start byte \n",
      "Could not laod the script because of 'utf-8' codec can't decode byte 0xdf in position 12: invalid continuation byte \n",
      "Could not laod the script because of 'utf-8' codec can't decode byte 0x88 in position 0: invalid start byte \n",
      "Could not laod the script because of 'utf-8' codec can't decode byte 0xee in position 5: invalid continuation byte \n",
      "Could not laod the script because of 'utf-8' codec can't decode byte 0xd1 in position 0: invalid continuation byte \n",
      "Could not laod the script because of 'utf-8' codec can't decode byte 0xbd in position 1: invalid start byte \n",
      "Could not laod the script because of 'utf-8' codec can't decode byte 0x9d in position 0: invalid start byte \n",
      "Could not laod the script because of 'utf-8' codec can't decode byte 0x8d in position 0: invalid start byte \n",
      "Could not laod the script because of 'utf-8' codec can't decode byte 0xcd in position 0: invalid continuation byte \n",
      "Could not laod the script because of 'utf-8' codec can't decode byte 0xdd in position 0: invalid continuation byte \n",
      "Could not laod the script because of 'utf-8' codec can't decode byte 0x9f in position 0: invalid start byte \n",
      "Could not laod the script because of 'utf-8' codec can't decode byte 0x9e in position 0: invalid start byte \n",
      "Could not laod the script because of 'utf-8' codec can't decode byte 0xfe in position 12: invalid start byte \n",
      "Could not laod the script because of 'utf-8' codec can't decode byte 0xa1 in position 0: invalid start byte \n",
      "Could not laod the script because of 'utf-8' codec can't decode byte 0xcd in position 0: invalid continuation byte \n",
      "Could not laod the script because of 'utf-8' codec can't decode byte 0xf5 in position 0: invalid start byte \n",
      "Could not laod the script because of 'utf-8' codec can't decode byte 0x89 in position 4: invalid start byte \n",
      "Could not laod the script because of 'utf-8' codec can't decode byte 0xda in position 5: invalid continuation byte \n",
      "Could not laod the script because of 'utf-8' codec can't decode byte 0xdf in position 0: invalid continuation byte \n",
      "Could not laod the script because of 'utf-8' codec can't decode byte 0x99 in position 2: invalid start byte \n",
      "Could not laod the script because of 'utf-8' codec can't decode byte 0x8a in position 9: invalid start byte \n",
      "Could not laod the script because of 'utf-8' codec can't decode byte 0xa1 in position 1: invalid start byte \n",
      "Could not laod the script because of 'utf-8' codec can't decode byte 0x9e in position 0: invalid start byte \n",
      "Could not laod the script because of 'utf-8' codec can't decode byte 0xbd in position 1: invalid start byte \n",
      "Could not laod the script because of 'utf-8' codec can't decode byte 0xad in position 2: invalid start byte \n",
      "Could not laod the script because of 'utf-8' codec can't decode byte 0xa0 in position 1: invalid start byte \n",
      "Could not laod the script because of 'utf-8' codec can't decode byte 0xad in position 3: invalid start byte \n",
      "Could not laod the script because of 'utf-8' codec can't decode byte 0x99 in position 0: invalid start byte \n",
      "Could not laod the script because of 'utf-8' codec can't decode bytes in position 0-1: invalid continuation byte \n",
      "Could not laod the script because of 'utf-8' codec can't decode byte 0xa0 in position 2: invalid start byte \n",
      "Could not laod the script because of 'utf-8' codec can't decode byte 0x86 in position 0: invalid start byte \n",
      "Could not laod the script because of 'utf-8' codec can't decode byte 0xa2 in position 0: invalid start byte \n",
      "Could not laod the script because of 'utf-8' codec can't decode byte 0xff in position 0: invalid start byte \n",
      "Could not laod the script because of 'utf-8' codec can't decode byte 0xbf in position 0: invalid start byte \n",
      "Could not laod the script because of 'utf-8' codec can't decode byte 0xba in position 0: invalid start byte \n",
      "Could not laod the script because of 'utf-8' codec can't decode byte 0xb2 in position 0: invalid start byte \n",
      "Could not laod the script because of 'utf-8' codec can't decode byte 0x87 in position 2: invalid start byte \n",
      "Could not laod the script because of 'utf-8' codec can't decode byte 0xc0 in position 1: invalid start byte \n",
      "Could not laod the script because of 'utf-8' codec can't decode byte 0xf3 in position 1: invalid continuation byte \n",
      "Could not laod the script because of 'utf-8' codec can't decode byte 0xf4 in position 0: invalid continuation byte \n",
      "Could not laod the script because of 'utf-8' codec can't decode byte 0xf1 in position 1: invalid continuation byte \n",
      "Could not laod the script because of 'utf-8' codec can't decode byte 0x86 in position 0: invalid start byte \n",
      "Could not laod the script because of 'utf-8' codec can't decode byte 0xb4 in position 0: invalid start byte \n",
      "Could not laod the script because of 'utf-8' codec can't decode byte 0xf8 in position 3: invalid start byte \n",
      "Could not laod the script because of 'utf-8' codec can't decode byte 0xb4 in position 0: invalid start byte \n",
      "Could not laod the script because of 'utf-8' codec can't decode byte 0x8d in position 2: invalid start byte \n",
      "Could not laod the script because of 'utf-8' codec can't decode byte 0x81 in position 1: invalid start byte \n",
      "Could not laod the script because of 'utf-8' codec can't decode byte 0xc4 in position 1: invalid continuation byte \n",
      "Could not laod the script because of 'utf-8' codec can't decode byte 0x92 in position 2: invalid start byte \n",
      "Could not laod the script because of 'utf-8' codec can't decode byte 0xf6 in position 4: invalid start byte \n",
      "Could not laod the script because of 'utf-8' codec can't decode byte 0x9a in position 0: invalid start byte \n",
      "Could not laod the script because of 'utf-8' codec can't decode byte 0x8d in position 0: invalid start byte \n",
      "Could not laod the script because of 'utf-8' codec can't decode byte 0x87 in position 2: invalid start byte \n",
      "Could not laod the script because of 'utf-8' codec can't decode byte 0x83 in position 3: invalid start byte \n",
      "Could not laod the script because of 'utf-8' codec can't decode byte 0x8b in position 10: invalid start byte \n",
      "Could not laod the script because of 'utf-8' codec can't decode byte 0xa8 in position 1: invalid start byte \n",
      "Could not laod the script because of 'utf-8' codec can't decode byte 0xe3 in position 1: invalid continuation byte \n",
      "Could not laod the script because of 'utf-8' codec can't decode byte 0xae in position 7: invalid start byte \n",
      "Could not laod the script because of 'utf-8' codec can't decode byte 0xce in position 0: invalid continuation byte \n",
      "Could not laod the script because of 'utf-8' codec can't decode byte 0x96 in position 4: invalid start byte \n",
      "Could not laod the script because of 'utf-8' codec can't decode byte 0xf5 in position 2: invalid start byte \n",
      "Could not laod the script because of 'utf-8' codec can't decode byte 0xaf in position 0: invalid start byte \n",
      "Could not laod the script because of 'utf-8' codec can't decode byte 0x82 in position 2: invalid start byte \n",
      "Could not laod the script because of 'utf-8' codec can't decode byte 0xfa in position 0: invalid start byte \n",
      "Could not laod the script because of 'utf-8' codec can't decode byte 0x87 in position 1: invalid start byte \n",
      "Could not laod the script because of 'utf-8' codec can't decode byte 0xad in position 0: invalid start byte \n",
      "Could not laod the script because of 'utf-8' codec can't decode byte 0x99 in position 9: invalid start byte \n",
      "Could not laod the script because of 'utf-8' codec can't decode byte 0xd0 in position 0: invalid continuation byte \n",
      "Could not laod the script because of 'utf-8' codec can't decode byte 0x84 in position 1: invalid start byte \n",
      "Could not laod the script because of 'utf-8' codec can't decode byte 0xa4 in position 0: invalid start byte \n",
      "Could not laod the script because of 'utf-8' codec can't decode byte 0x85 in position 1: invalid start byte \n",
      "Could not laod the script because of 'utf-8' codec can't decode byte 0xa8 in position 1: invalid start byte \n",
      "Could not laod the script because of 'utf-8' codec can't decode byte 0xfe in position 0: invalid start byte \n",
      "Could not laod the script because of 'utf-8' codec can't decode byte 0xb1 in position 2: invalid start byte \n",
      "Could not laod the script because of 'utf-8' codec can't decode byte 0xd8 in position 1: invalid continuation byte \n",
      "Could not laod the script because of 'utf-8' codec can't decode byte 0x9e in position 0: invalid start byte \n",
      "Could not laod the script because of 'utf-8' codec can't decode byte 0xba in position 0: invalid start byte \n",
      "Could not laod the script because of 'utf-8' codec can't decode byte 0xb5 in position 0: invalid start byte \n",
      "Could not laod the script because of 'utf-8' codec can't decode byte 0xe8 in position 0: invalid continuation byte \n",
      "Could not laod the script because of 'utf-8' codec can't decode byte 0xa3 in position 0: invalid start byte \n",
      "Could not laod the script because of 'utf-8' codec can't decode byte 0xfc in position 1: invalid start byte \n",
      "Could not laod the script because of 'utf-8' codec can't decode byte 0xd8 in position 0: invalid continuation byte \n",
      "Could not laod the script because of 'utf-8' codec can't decode byte 0xb0 in position 0: invalid start byte \n",
      "Could not laod the script because of 'utf-8' codec can't decode byte 0xb1 in position 2: invalid start byte \n",
      "Could not laod the script because of 'utf-8' codec can't decode byte 0xa3 in position 3: invalid start byte \n",
      "Could not laod the script because of 'utf-8' codec can't decode byte 0xf8 in position 1: invalid start byte \n",
      "Could not laod the script because of 'utf-8' codec can't decode byte 0xc9 in position 0: invalid continuation byte \n",
      "Could not laod the script because of 'utf-8' codec can't decode byte 0xe5 in position 1: invalid continuation byte \n",
      "Could not laod the script because of 'utf-8' codec can't decode byte 0xc6 in position 0: invalid continuation byte \n",
      "Could not laod the script because of 'utf-8' codec can't decode byte 0x91 in position 1: invalid start byte \n",
      "Could not laod the script because of 'utf-8' codec can't decode byte 0x8a in position 0: invalid start byte \n",
      "Could not laod the script because of 'utf-8' codec can't decode byte 0xd4 in position 2: invalid continuation byte \n",
      "Could not laod the script because of 'utf-8' codec can't decode byte 0x95 in position 3: invalid start byte \n",
      "Could not laod the script because of 'utf-8' codec can't decode byte 0xa2 in position 0: invalid start byte \n",
      "Could not laod the script because of 'utf-8' codec can't decode byte 0x84 in position 2: invalid start byte \n",
      "Could not laod the script because of 'utf-8' codec can't decode byte 0xf8 in position 1: invalid start byte \n",
      "Could not laod the script because of 'utf-8' codec can't decode byte 0x82 in position 0: invalid start byte \n",
      "Could not laod the script because of 'utf-8' codec can't decode byte 0x80 in position 5: invalid start byte \n",
      "Could not laod the script because of 'utf-8' codec can't decode byte 0xdd in position 3: invalid continuation byte \n",
      "Could not laod the script because of 'utf-8' codec can't decode byte 0xb6 in position 7: invalid start byte \n",
      "Could not laod the script because of 'utf-8' codec can't decode byte 0xf7 in position 3: invalid start byte \n",
      "Could not laod the script because of 'utf-8' codec can't decode byte 0x90 in position 2: invalid start byte \n",
      "Could not laod the script because of 'utf-8' codec can't decode byte 0x91 in position 0: invalid start byte \n",
      "Could not laod the script because of 'utf-8' codec can't decode byte 0xc6 in position 1: invalid continuation byte \n",
      "Could not laod the script because of 'utf-8' codec can't decode byte 0x82 in position 0: invalid start byte \n",
      "Could not laod the script because of 'utf-8' codec can't decode byte 0x9b in position 0: invalid start byte \n",
      "Could not laod the script because of 'utf-8' codec can't decode byte 0xfc in position 2: invalid start byte \n",
      "Could not laod the script because of 'utf-8' codec can't decode byte 0xbe in position 0: invalid start byte \n",
      "Could not laod the script because of 'utf-8' codec can't decode byte 0xdf in position 3: invalid continuation byte \n",
      "Could not laod the script because of 'utf-8' codec can't decode byte 0xa7 in position 2: invalid start byte \n",
      "Could not laod the script because of 'utf-8' codec can't decode byte 0xa1 in position 1: invalid start byte \n",
      "Could not laod the script because of 'utf-8' codec can't decode byte 0x90 in position 6: invalid start byte \n",
      "Could not laod the script because of 'utf-8' codec can't decode byte 0xb4 in position 2: invalid start byte \n",
      "Could not laod the script because of 'utf-8' codec can't decode bytes in position 6-8: invalid continuation byte \n",
      "Could not laod the script because of 'utf-8' codec can't decode byte 0xc8 in position 2: invalid continuation byte \n",
      "Could not laod the script because of 'utf-8' codec can't decode byte 0xd5 in position 0: invalid continuation byte \n",
      "Could not laod the script because of 'utf-8' codec can't decode byte 0x8a in position 2: invalid start byte \n",
      "Could not laod the script because of 'utf-8' codec can't decode byte 0x9d in position 2: invalid start byte \n",
      "Could not laod the script because of 'utf-8' codec can't decode byte 0xaa in position 0: invalid start byte \n",
      "Could not laod the script because of 'utf-8' codec can't decode byte 0xd1 in position 0: invalid continuation byte \n",
      "Could not laod the script because of 'utf-8' codec can't decode byte 0xc4 in position 1: invalid continuation byte \n",
      "Could not laod the script because of 'utf-8' codec can't decode byte 0x93 in position 1: invalid start byte \n",
      "Could not laod the script because of 'utf-8' codec can't decode byte 0xe5 in position 7: invalid continuation byte \n",
      "Could not laod the script because of 'utf-8' codec can't decode byte 0x87 in position 1: invalid start byte \n",
      "Could not laod the script because of 'utf-8' codec can't decode byte 0xa0 in position 3: invalid start byte \n",
      "Could not laod the script because of 'utf-8' codec can't decode byte 0x9a in position 1: invalid start byte \n",
      "Could not laod the script because of 'utf-8' codec can't decode byte 0xd4 in position 3: invalid continuation byte \n",
      "Could not laod the script because of 'utf-8' codec can't decode byte 0xea in position 4: invalid continuation byte \n",
      "Could not laod the script because of 'utf-8' codec can't decode byte 0xa5 in position 0: invalid start byte \n",
      "Could not laod the script because of 'utf-8' codec can't decode byte 0xda in position 0: invalid continuation byte \n",
      "Could not laod the script because of 'utf-8' codec can't decode byte 0xda in position 1: invalid continuation byte \n",
      "Could not laod the script because of 'utf-8' codec can't decode byte 0xb7 in position 0: invalid start byte \n",
      "Could not laod the script because of 'utf-8' codec can't decode byte 0xaa in position 1: invalid start byte \n",
      "Could not laod the script because of 'utf-8' codec can't decode byte 0xac in position 0: invalid start byte \n",
      "Could not laod the script because of 'utf-8' codec can't decode byte 0x86 in position 1: invalid start byte \n",
      "Could not laod the script because of 'utf-8' codec can't decode byte 0xc2 in position 12: invalid continuation byte \n",
      "Could not laod the script because of 'utf-8' codec can't decode byte 0xae in position 3: invalid start byte \n",
      "Could not laod the script because of 'utf-8' codec can't decode byte 0x8b in position 1: invalid start byte \n",
      "Could not laod the script because of 'utf-8' codec can't decode byte 0xa5 in position 0: invalid start byte \n",
      "Could not laod the script because of 'utf-8' codec can't decode byte 0xdd in position 4: invalid continuation byte \n",
      "Could not laod the script because of 'utf-8' codec can't decode byte 0xe2 in position 0: invalid continuation byte \n",
      "Could not laod the script because of 'utf-8' codec can't decode byte 0xdd in position 4: invalid continuation byte \n",
      "Could not laod the script because of 'utf-8' codec can't decode byte 0xbf in position 0: invalid start byte \n",
      "Could not laod the script because of 'utf-8' codec can't decode byte 0xda in position 1: invalid continuation byte \n",
      "Could not laod the script because of 'utf-8' codec can't decode byte 0xd1 in position 3: invalid continuation byte \n",
      "Could not laod the script because of 'utf-8' codec can't decode byte 0x88 in position 2: invalid start byte \n"
     ]
    },
    {
     "name": "stderr",
     "output_type": "stream",
     "text": [
      "3246it [07:24, 11.76it/s]"
     ]
    },
    {
     "name": "stdout",
     "output_type": "stream",
     "text": [
      "Could not laod the script because of 'utf-8' codec can't decode byte 0x96 in position 50: invalid start byte \n",
      "Could not laod the script because of 'utf-8' codec can't decode byte 0xe4 in position 44: invalid continuation byte \n",
      "Could not laod the script because of 'utf-8' codec can't decode byte 0x96 in position 50: invalid start byte \n",
      "Could not laod the script because of 'utf-8' codec can't decode byte 0xe4 in position 44: invalid continuation byte \n",
      "Could not laod the script because of 'utf-8' codec can't decode byte 0xe4 in position 44: invalid continuation byte \n",
      "Could not laod the script because of 'utf-8' codec can't decode byte 0x96 in position 66: invalid start byte \n",
      "Could not laod the script because of 'utf-8' codec can't decode byte 0xe4 in position 44: invalid continuation byte \n"
     ]
    },
    {
     "name": "stderr",
     "output_type": "stream",
     "text": [
      "3262it [07:24, 26.42it/s]"
     ]
    },
    {
     "name": "stdout",
     "output_type": "stream",
     "text": [
      "Could not laod the script because of 'utf-8' codec can't decode byte 0xe4 in position 34: invalid continuation byte \n"
     ]
    },
    {
     "name": "stderr",
     "output_type": "stream",
     "text": [
      "4139it [07:53, 78.34it/s]"
     ]
    },
    {
     "name": "stdout",
     "output_type": "stream",
     "text": [
      "Could not load the metafile as yaml, because of while parsing a block mapping\n",
      "  in \"../../data/QuantLet/Anomaly-Detection/Univariate Anomaly Detection/metainfo.txt\", line 1, column 1\n",
      "expected <block end>, but found '<scalar>'\n",
      "  in \"../../data/QuantLet/Anomaly-Detection/Univariate Anomaly Detection/metainfo.txt\", line 32, column 36\n"
     ]
    },
    {
     "name": "stderr",
     "output_type": "stream",
     "text": [
      "4424it [08:01, 33.76it/s]"
     ]
    },
    {
     "name": "stdout",
     "output_type": "stream",
     "text": [
      "Could not load the metafile as yaml, because of while scanning for the next token\n",
      "found character '\\t' that cannot start any token\n",
      "  in \"../../data/QuantLet/TEDAS_TAU_SPINE/TEDAS_tau_spine_GS_KDE/Metainfo.txt\", line 23, column 16\n"
     ]
    },
    {
     "name": "stderr",
     "output_type": "stream",
     "text": [
      "4441it [08:02, 29.28it/s]"
     ]
    },
    {
     "name": "stdout",
     "output_type": "stream",
     "text": [
      "Could not load the metafile as yaml, because of while scanning for the next token\n",
      "found character '\\t' that cannot start any token\n",
      "  in \"../../data/QuantLet/TEDAS_TAU_SPINE/TEDAS_tau_spine_GS/Metainfo.txt\", line 23, column 16\n",
      "Could not load the metafile as yaml, because of while scanning for the next token\n",
      "found character '\\t' that cannot start any token\n",
      "  in \"../../data/QuantLet/TEDAS_TAU_SPINE/TEDAS_tau_spine_MF/Metainfo.txt\", line 23, column 16\n"
     ]
    },
    {
     "name": "stderr",
     "output_type": "stream",
     "text": [
      "4987it [08:26, 62.35it/s] "
     ]
    },
    {
     "name": "stdout",
     "output_type": "stream",
     "text": [
      "Could not laod the script because of 'utf-8' codec can't decode byte 0xfc in position 41: invalid start byte \n",
      "Could not laod the script because of 'utf-8' codec can't decode byte 0xfc in position 41: invalid start byte \n",
      "Could not laod the script because of 'utf-8' codec can't decode byte 0xfc in position 41: invalid start byte \n"
     ]
    },
    {
     "name": "stderr",
     "output_type": "stream",
     "text": [
      "5680it [08:43, 42.65it/s]"
     ]
    },
    {
     "name": "stdout",
     "output_type": "stream",
     "text": [
      "Could not load the metafile as yaml, because of while scanning for the next token\n",
      "found character '\\t' that cannot start any token\n",
      "  in \"../../data/QuantLet/SFE_class_2017/SFECrixSimu/Metainfo.txt\", line 15, column 9\n"
     ]
    },
    {
     "name": "stderr",
     "output_type": "stream",
     "text": [
      "5827it [08:45, 122.84it/s]"
     ]
    },
    {
     "name": "stdout",
     "output_type": "stream",
     "text": [
      "Could not load the metafile as yaml, because of while scanning a quoted scalar\n",
      "  in \"../../data/QuantLet/Multifractal_Models_in_Finance/GenHurstExp/metainfo.txt\", line 21, column 3\n",
      "found unexpected end of stream\n",
      "  in \"../../data/QuantLet/Multifractal_Models_in_Finance/GenHurstExp/metainfo.txt\", line 28, column 1\n"
     ]
    },
    {
     "name": "stderr",
     "output_type": "stream",
     "text": [
      "6169it [08:48, 123.67it/s]"
     ]
    },
    {
     "name": "stdout",
     "output_type": "stream",
     "text": [
      "Could not load the metafile as yaml, because of while scanning for the next token\n",
      "found character '\\t' that cannot start any token\n",
      "  in \"../../data/QuantLet/DYTEC/tau_variance/Metainfo.txt\", line 3, column 15\n",
      "Could not load the metafile as yaml, because of while scanning for the next token\n",
      "found character '\\t' that cannot start any token\n",
      "  in \"../../data/QuantLet/SL_Klagenfurt_2019/SL_20190611_Credit_classification/Metainfo.txt\", line 1, column 19\n",
      "Could not laod the script because of 'utf-8' codec can't decode byte 0xfc in position 27: invalid start byte \n",
      "Could not laod the script because of 'utf-8' codec can't decode byte 0xe4 in position 3: invalid continuation byte \n",
      "Could not laod the script because of 'utf-8' codec can't decode byte 0xe4 in position 3: invalid continuation byte \n",
      "Could not laod the script because of 'utf-8' codec can't decode byte 0xe4 in position 3: invalid continuation byte \n",
      "Could not laod the script because of 'utf-8' codec can't decode byte 0xfc in position 26: invalid start byte \n",
      "Could not laod the script because of 'utf-8' codec can't decode byte 0xfc in position 24: invalid start byte \n",
      "Could not laod the script because of 'utf-8' codec can't decode byte 0xfc in position 59: invalid start byte \n",
      "Could not laod the script because of 'utf-8' codec can't decode byte 0xf6 in position 6: invalid start byte \n",
      "Could not laod the script because of 'utf-8' codec can't decode byte 0xe4 in position 27: invalid continuation byte \n",
      "Could not laod the script because of 'utf-8' codec can't decode byte 0xfc in position 20: invalid start byte \n",
      "Could not laod the script because of 'utf-8' codec can't decode byte 0xfc in position 20: invalid start byte \n",
      "Could not laod the script because of 'utf-8' codec can't decode byte 0xf6 in position 43: invalid start byte \n"
     ]
    },
    {
     "name": "stderr",
     "output_type": "stream",
     "text": [
      "6184it [08:48, 111.96it/s]"
     ]
    },
    {
     "name": "stdout",
     "output_type": "stream",
     "text": [
      "Could not load the metafile as yaml, because of while scanning for the next token\n",
      "found character '\\t' that cannot start any token\n",
      "  in \"../../data/QuantLet/SL_Klagenfurt_2019/SL_2019_Alpha_Centauri_Pirates_Wordcloud/Metainfo.txt\", line 1, column 19\n"
     ]
    },
    {
     "name": "stderr",
     "output_type": "stream",
     "text": [
      "7603it [09:55, 77.62it/s] "
     ]
    },
    {
     "name": "stdout",
     "output_type": "stream",
     "text": [
      "Could not load the metafile as yaml, because of while parsing a block mapping\n",
      "  in \"../../data/QuantLet/CCID/CCIDReturns/Metainfo.txt\", line 2, column 1\n",
      "expected <block end>, but found '-'\n",
      "  in \"../../data/QuantLet/CCID/CCIDReturns/Metainfo.txt\", line 11, column 1\n"
     ]
    },
    {
     "name": "stderr",
     "output_type": "stream",
     "text": [
      "9011it [10:14, 89.77it/s] "
     ]
    },
    {
     "name": "stdout",
     "output_type": "stream",
     "text": [
      "Full Model Cryptocompare Data v15c.ipynb\n",
      "Expecting property name enclosed in double quotes: line 625 column 1 (char 18101)\n"
     ]
    },
    {
     "name": "stderr",
     "output_type": "stream",
     "text": [
      "9735it [10:26, 43.64it/s] "
     ]
    },
    {
     "name": "stdout",
     "output_type": "stream",
     "text": [
      "Could not laod the script because of 'utf-8' codec can't decode byte 0xb4 in position 49: invalid start byte \n"
     ]
    },
    {
     "name": "stderr",
     "output_type": "stream",
     "text": [
      "9805it [10:27, 72.21it/s]"
     ]
    },
    {
     "name": "stdout",
     "output_type": "stream",
     "text": [
      "Could not load the metafile as yaml, because of while scanning for the next token\n",
      "found character '\\t' that cannot start any token\n",
      "  in \"../../data/QuantLet/MHE/MHEMetaheuristicEnsembles/Metainfo.txt\", line 6, column 15\n",
      "Could not load the metafile as yaml, because of while scanning for the next token\n",
      "found character '\\t' that cannot start any token\n",
      "  in \"../../data/QuantLet/MHE/MHEEnsembleEvaluation/Metainfo.txt\", line 6, column 15\n"
     ]
    },
    {
     "name": "stderr",
     "output_type": "stream",
     "text": [
      "10068it [10:30, 109.11it/s]"
     ]
    },
    {
     "name": "stdout",
     "output_type": "stream",
     "text": [
      "Could not load the metafile as yaml, because of while parsing a block mapping\n",
      "  in \"../../data/QuantLet/CRIXForecastApp/CRIXCompPlot/Metainfo.txt\", line 1, column 1\n",
      "expected <block end>, but found '<scalar>'\n",
      "  in \"../../data/QuantLet/CRIXForecastApp/CRIXCompPlot/Metainfo.txt\", line 9, column 10\n"
     ]
    },
    {
     "name": "stderr",
     "output_type": "stream",
     "text": [
      "10724it [10:39, 126.72it/s]"
     ]
    },
    {
     "name": "stdout",
     "output_type": "stream",
     "text": [
      "Could not load the metafile as yaml, because of while parsing a block mapping\n",
      "  in \"../../data/QuantLet/TimeVaryingPenalization/TVRPfmri/Metainfo.txt\", line 2, column 1\n",
      "expected <block end>, but found '-'\n",
      "  in \"../../data/QuantLet/TimeVaryingPenalization/TVRPfmri/Metainfo.txt\", line 29, column 1\n",
      "Could not load the metafile as yaml, because of while parsing a block mapping\n",
      "  in \"../../data/QuantLet/TimeVaryingPenalization/TVRPchangeSQR/Metainfo.txt\", line 3, column 1\n",
      "expected <block end>, but found '<scalar>'\n",
      "  in \"../../data/QuantLet/TimeVaryingPenalization/TVRPchangeSQR/Metainfo.txt\", line 22, column 13\n"
     ]
    },
    {
     "name": "stderr",
     "output_type": "stream",
     "text": [
      "10757it [10:39, 101.17it/s]"
     ]
    },
    {
     "name": "stdout",
     "output_type": "stream",
     "text": [
      "Could not load the metafile as yaml, because of while parsing a block mapping\n",
      "  in \"../../data/QuantLet/TimeVaryingPenalization/TVRPfrm/Metainfo.txt\", line 2, column 1\n",
      "expected <block end>, but found '<scalar>'\n",
      "  in \"../../data/QuantLet/TimeVaryingPenalization/TVRPfrm/Metainfo.txt\", line 17, column 13\n",
      "Could not load the metafile as yaml, because of while scanning a quoted scalar\n",
      "  in \"../../data/QuantLet/TimeVaryingPenalization/TVRPchangeB/Metainfo.txt\", line 17, column 12\n",
      "found unexpected end of stream\n",
      "  in \"../../data/QuantLet/TimeVaryingPenalization/TVRPchangeB/Metainfo.txt\", line 35, column 1\n"
     ]
    },
    {
     "name": "stderr",
     "output_type": "stream",
     "text": [
      "10892it [10:42, 76.78it/s] "
     ]
    },
    {
     "name": "stdout",
     "output_type": "stream",
     "text": [
      "Could not load the metafile as yaml, because of while parsing a block mapping\n",
      "  in \"../../data/QuantLet/RiskProfilePortfolio/RiskProfilePortfolio/Metainfo.txt\", line 1, column 1\n",
      "expected <block end>, but found ','\n",
      "  in \"../../data/QuantLet/RiskProfilePortfolio/RiskProfilePortfolio/Metainfo.txt\", line 14, column 36\n"
     ]
    },
    {
     "name": "stderr",
     "output_type": "stream",
     "text": [
      "11318it [10:49, 79.83it/s]"
     ]
    },
    {
     "name": "stdout",
     "output_type": "stream",
     "text": [
      "Could not load the metafile as yaml, because of while scanning for the next token\n",
      "found character '\\t' that cannot start any token\n",
      "  in \"../../data/QuantLet/SPL_class_SS17/SPL_IV_HausmanSarganEmpirical/Metainfo.txt\", line 3, column 108\n"
     ]
    },
    {
     "name": "stderr",
     "output_type": "stream",
     "text": [
      "11848it [10:56, 93.89it/s] "
     ]
    },
    {
     "name": "stdout",
     "output_type": "stream",
     "text": [
      "Could not load the metafile as yaml, because of while parsing a block mapping\n",
      "  in \"../../data/QuantLet/DigitalEconomyDecisionAnalytics/DEDA_StatisticsFinance/Metainfo.txt\", line 1, column 1\n",
      "expected <block end>, but found '-'\n",
      "  in \"../../data/QuantLet/DigitalEconomyDecisionAnalytics/DEDA_StatisticsFinance/Metainfo.txt\", line 4, column 1\n"
     ]
    },
    {
     "name": "stderr",
     "output_type": "stream",
     "text": [
      "11873it [10:57, 43.92it/s]"
     ]
    },
    {
     "name": "stdout",
     "output_type": "stream",
     "text": [
      "Could not load the metafile as yaml, because of while parsing a block mapping\n",
      "  in \"../../data/QuantLet/DigitalEconomyDecisionAnalytics/DEDA - Independent Component Analysis (ICA)/Uncorrelatedness vs independence/metainfo.txt\", line 1, column 1\n",
      "expected <block end>, but found '<scalar>'\n",
      "  in \"../../data/QuantLet/DigitalEconomyDecisionAnalytics/DEDA - Independent Component Analysis (ICA)/Uncorrelatedness vs independence/metainfo.txt\", line 20, column 4\n"
     ]
    },
    {
     "name": "stderr",
     "output_type": "stream",
     "text": [
      "11976it [11:01, 50.65it/s]"
     ]
    },
    {
     "name": "stdout",
     "output_type": "stream",
     "text": [
      "Could not laod the script because of 'utf-8' codec can't decode byte 0xd7 in position 48: invalid continuation byte \n",
      "Could not laod the script because of 'utf-8' codec can't decode byte 0xd7 in position 48: invalid continuation byte \n"
     ]
    },
    {
     "name": "stderr",
     "output_type": "stream",
     "text": [
      "12781it [11:15, 37.80it/s] "
     ]
    },
    {
     "name": "stdout",
     "output_type": "stream",
     "text": [
      "Could not laod the script because of 'utf-8' codec can't decode byte 0xe4 in position 49: invalid continuation byte \n",
      "Could not laod the script because of 'utf-8' codec can't decode byte 0xe4 in position 49: invalid continuation byte \n"
     ]
    },
    {
     "name": "stderr",
     "output_type": "stream",
     "text": [
      "12936it [11:18, 85.12it/s] "
     ]
    },
    {
     "name": "stdout",
     "output_type": "stream",
     "text": [
      "Could not load the metafile as yaml, because of while parsing a block mapping\n",
      "  in \"../../data/QuantLet/GRF/GRF_1D_ucb/metainfo.txt\", line 2, column 1\n",
      "expected <block end>, but found '<scalar>'\n",
      "  in \"../../data/QuantLet/GRF/GRF_1D_ucb/metainfo.txt\", line 6, column 14\n",
      "Could not load the metafile as yaml, because of while parsing a block mapping\n",
      "  in \"../../data/QuantLet/GRF/GRF_confidence_bands_1D/metainfo.txt\", line 2, column 1\n",
      "expected <block end>, but found '<scalar>'\n",
      "  in \"../../data/QuantLet/GRF/GRF_confidence_bands_1D/metainfo.txt\", line 6, column 426\n"
     ]
    },
    {
     "name": "stderr",
     "output_type": "stream",
     "text": [
      "12960it [11:18, 78.55it/s]"
     ]
    },
    {
     "name": "stdout",
     "output_type": "stream",
     "text": [
      "Could not load the metafile as yaml, because of while parsing a block mapping\n",
      "  in \"../../data/QuantLet/GRF/GRF_effective_weights_bootstrap/metainfo.txt\", line 2, column 1\n",
      "expected <block end>, but found '<scalar>'\n",
      "  in \"../../data/QuantLet/GRF/GRF_effective_weights_bootstrap/metainfo.txt\", line 14, column 14\n"
     ]
    },
    {
     "name": "stderr",
     "output_type": "stream",
     "text": [
      "13010it [11:19, 61.86it/s]"
     ]
    },
    {
     "name": "stdout",
     "output_type": "stream",
     "text": [
      "Could not load the metafile as yaml, because of mapping values are not allowed here\n",
      "  in \"../../data/QuantLet/network_BTC_exchanges/metainfo.txt\", line 3, column 63\n"
     ]
    },
    {
     "name": "stderr",
     "output_type": "stream",
     "text": [
      "13232it [11:24, 40.03it/s]"
     ]
    },
    {
     "name": "stdout",
     "output_type": "stream",
     "text": [
      "Could not load the metafile as yaml, because of while scanning for the next token\n",
      "found character '\\t' that cannot start any token\n",
      "  in \"../../data/QuantLet/BCS/BCS_Kernel_nhTemp/Metainfo.txt\", line 3, column 15\n"
     ]
    },
    {
     "name": "stderr",
     "output_type": "stream",
     "text": [
      "13317it [11:26, 35.84it/s]"
     ]
    },
    {
     "name": "stdout",
     "output_type": "stream",
     "text": [
      "DEDA_2020_Sentiment-Analysis-of-Cryptocurrencies.ipynb\n",
      "Expecting value: line 1 column 1 (char 0)\n"
     ]
    },
    {
     "name": "stderr",
     "output_type": "stream",
     "text": [
      "13529it [11:32, 28.58it/s]"
     ]
    },
    {
     "name": "stdout",
     "output_type": "stream",
     "text": [
      "Could not load the metafile as yaml, because of while scanning for the next token\n",
      "found character '\\t' that cannot start any token\n",
      "  in \"../../data/QuantLet/MVA-ToDo/QID-2564-PAVAlgo/Metainfo.txt\", line 1, column 18\n"
     ]
    },
    {
     "name": "stderr",
     "output_type": "stream",
     "text": [
      "13733it [11:36, 72.57it/s]"
     ]
    },
    {
     "name": "stdout",
     "output_type": "stream",
     "text": [
      "Could not load the metafile as yaml, because of mapping values are not allowed here\n",
      "  in \"../../data/QuantLet/PAM/PAMCocPia/Metainfo.txt\", line 5, column 172\n"
     ]
    },
    {
     "name": "stderr",
     "output_type": "stream",
     "text": [
      "13788it [11:36, 79.47it/s]"
     ]
    },
    {
     "name": "stdout",
     "output_type": "stream",
     "text": [
      "Could not load the metafile as yaml, because of while parsing a block mapping\n",
      "  in \"../../data/QuantLet/SDA_2022_St_Gallen/HW_Zhuravlev_Fourrier_Transformation-main/Metainfo.txt\", line 3, column 1\n",
      "expected <block end>, but found ','\n",
      "  in \"../../data/QuantLet/SDA_2022_St_Gallen/HW_Zhuravlev_Fourrier_Transformation-main/Metainfo.txt\", line 15, column 31\n",
      "Could not load the metafile as yaml, because of while parsing a block mapping\n",
      "  in \"../../data/QuantLet/SDA_2022_St_Gallen/HW3_DomenicoMaffei/metainfo.txt\", line 1, column 1\n",
      "expected <block end>, but found '<scalar>'\n",
      "  in \"../../data/QuantLet/SDA_2022_St_Gallen/HW3_DomenicoMaffei/metainfo.txt\", line 5, column 59\n"
     ]
    },
    {
     "name": "stderr",
     "output_type": "stream",
     "text": [
      "14177it [11:43, 47.79it/s]"
     ]
    },
    {
     "name": "stdout",
     "output_type": "stream",
     "text": [
      "Could not load the metafile as yaml, because of while scanning for the next token\n",
      "found character '\\t' that cannot start any token\n",
      "  in \"../../data/QuantLet/SFE_class_2015/SFEpricingkernel/Metainfo.txt\", line 1, column 18\n"
     ]
    },
    {
     "name": "stderr",
     "output_type": "stream",
     "text": [
      "14185it [11:43, 40.76it/s]"
     ]
    },
    {
     "name": "stdout",
     "output_type": "stream",
     "text": [
      "Could not load the metafile as yaml, because of while scanning for the next token\n",
      "found character '\\t' that cannot start any token\n",
      "  in \"../../data/QuantLet/SFE_class_2015/SFE_RND_HD/Metainfo.txt\", line 3, column 15\n",
      "Could not load the metafile as yaml, because of while scanning for the next token\n",
      "found character '\\t' that cannot start any token\n",
      "  in \"../../data/QuantLet/SFE_class_2015/SFErealizedVarianceIPC/Metainfo.txt\", line 14, column 39\n"
     ]
    },
    {
     "name": "stderr",
     "output_type": "stream",
     "text": [
      "14211it [11:44, 58.88it/s]"
     ]
    },
    {
     "name": "stdout",
     "output_type": "stream",
     "text": [
      "Could not load the metafile as yaml, because of while scanning for the next token\n",
      "found character '\\t' that cannot start any token\n",
      "  in \"../../data/QuantLet/SFE_class_2015/SFEVolSurfPlot/metainfo.txt\", line 2, column 18\n",
      "Could not load the metafile as yaml, because of while scanning for the next token\n",
      "found character '\\t' that cannot start any token\n",
      "  in \"../../data/QuantLet/SFE_class_2015/SFEVolSurfFilm/metainfo.txt\", line 2, column 18\n"
     ]
    },
    {
     "name": "stderr",
     "output_type": "stream",
     "text": [
      "14336it [11:46, 81.28it/s]"
     ]
    },
    {
     "name": "stdout",
     "output_type": "stream",
     "text": [
      "Could not load the metafile as yaml, because of while scanning for the next token\n",
      "found character '\\t' that cannot start any token\n",
      "  in \"../../data/QuantLet/XFG-ToDo/_Done/VaRcharfDG/Metainfo.txt\", line 3, column 14\n",
      "Could not load the metafile as yaml, because of while scanning for the next token\n",
      "found character '\\t' that cannot start any token\n",
      "  in \"../../data/QuantLet/XFG-ToDo/_Done/DGdecompS/Metainfo.txt\", line 7, column 10\n"
     ]
    },
    {
     "name": "stderr",
     "output_type": "stream",
     "text": [
      "14353it [11:46, 57.03it/s]"
     ]
    },
    {
     "name": "stdout",
     "output_type": "stream",
     "text": [
      "Could not load the metafile as yaml, because of while scanning for the next token\n",
      "found character '\\t' that cannot start any token\n",
      "  in \"../../data/QuantLet/XFG-ToDo/_Done/VaRcharfDGF2/Metainfo.txt\", line 1, column 19\n",
      "Could not load the metafile as yaml, because of while scanning for the next token\n",
      "found character '\\t' that cannot start any token\n",
      "  in \"../../data/QuantLet/XFG-ToDo/_Done/VaRcumulantsDG/Metainfo.txt\", line 1, column 19\n"
     ]
    },
    {
     "name": "stderr",
     "output_type": "stream",
     "text": [
      "14360it [11:46, 51.20it/s]"
     ]
    },
    {
     "name": "stdout",
     "output_type": "stream",
     "text": [
      "Could not load the metafile as yaml, because of while scanning for the next token\n",
      "found character '\\t' that cannot start any token\n",
      "  in \"../../data/QuantLet/XFG-ToDo/_Done/VaRcorrfDGF2/Metainfo.txt\", line 3, column 14\n"
     ]
    },
    {
     "name": "stderr",
     "output_type": "stream",
     "text": [
      "14372it [11:47, 45.10it/s]"
     ]
    },
    {
     "name": "stdout",
     "output_type": "stream",
     "text": [
      "Could not load the metafile as yaml, because of while scanning for the next token\n",
      "found character '\\t' that cannot start any token\n",
      "  in \"../../data/QuantLet/XFG-ToDo/_Done/StandardNormalCharf/Metainfo.txt\", line 11, column 8\n",
      "Could not load the metafile as yaml, because of while scanning for the next token\n",
      "found character '\\t' that cannot start any token\n",
      "  in \"../../data/QuantLet/XFG-ToDo/_Done/VaRcdfDG/Metainfo.txt\", line 3, column 14\n"
     ]
    },
    {
     "name": "stderr",
     "output_type": "stream",
     "text": [
      "14417it [11:48, 62.25it/s]"
     ]
    },
    {
     "name": "stdout",
     "output_type": "stream",
     "text": [
      "Could not load the metafile as yaml, because of while scanning a simple key\n",
      "  in \"../../data/QuantLet/Outcome-adaptive-Random-Forest/metainfo.txt\", line 6, column 1\n",
      "could not find expected ':'\n",
      "  in \"../../data/QuantLet/Outcome-adaptive-Random-Forest/metainfo.txt\", line 9, column 1\n"
     ]
    },
    {
     "name": "stderr",
     "output_type": "stream",
     "text": [
      "14543it [11:50, 107.05it/s]"
     ]
    },
    {
     "name": "stdout",
     "output_type": "stream",
     "text": [
      "Could not load the metafile as yaml, because of mapping values are not allowed here\n",
      "  in \"../../data/QuantLet/KF_modelres/metainfo.txt\", line 4, column 19\n"
     ]
    },
    {
     "name": "stderr",
     "output_type": "stream",
     "text": [
      "14628it [11:51, 116.80it/s]"
     ]
    },
    {
     "name": "stdout",
     "output_type": "stream",
     "text": [
      "Could not load the metafile as yaml, because of while scanning for the next token\n",
      "found character '\\t' that cannot start any token\n",
      "  in \"../../data/QuantLet/Ms_Th_Predict_Poll_From_Emotions/Metainfo.txt\", line 13, column 10\n"
     ]
    },
    {
     "name": "stderr",
     "output_type": "stream",
     "text": [
      "14739it [11:53, 52.23it/s] "
     ]
    },
    {
     "name": "stdout",
     "output_type": "stream",
     "text": [
      "Could not load the metafile as yaml, because of mapping values are not allowed here\n",
      "  in \"../../data/QuantLet/SVCJ/Metainfo.txt\", line 3, column 45\n"
     ]
    },
    {
     "name": "stderr",
     "output_type": "stream",
     "text": [
      "15427it [12:02, 71.48it/s] "
     ]
    },
    {
     "name": "stdout",
     "output_type": "stream",
     "text": [
      "Could not laod the script because of 'utf-8' codec can't decode byte 0x96 in position 38: invalid start byte \n",
      "Could not laod the script because of 'utf-8' codec can't decode byte 0x94 in position 55: invalid start byte \n",
      "Could not laod the script because of 'utf-8' codec can't decode byte 0x93 in position 26: invalid start byte \n"
     ]
    },
    {
     "name": "stderr",
     "output_type": "stream",
     "text": [
      "15651it [12:05, 54.47it/s] "
     ]
    },
    {
     "name": "stdout",
     "output_type": "stream",
     "text": [
      "Could not load the metafile as yaml, because of while scanning for the next token\n",
      "found character '\\t' that cannot start any token\n",
      "  in \"../../data/QuantLet/SFS/QID-1545-blackscholes/Metainfo.txt\", line 20, column 21\n"
     ]
    },
    {
     "name": "stderr",
     "output_type": "stream",
     "text": [
      "15752it [12:06, 85.49it/s]"
     ]
    },
    {
     "name": "stdout",
     "output_type": "stream",
     "text": [
      "Could not load the metafile as yaml, because of while scanning for the next token\n",
      "found character '\\t' that cannot start any token\n",
      "  in \"../../data/QuantLet/FPCA/FPCAgpu/Metainfo.txt\", line 31, column 23\n"
     ]
    },
    {
     "name": "stderr",
     "output_type": "stream",
     "text": [
      "16449it [12:13, 95.47it/s] "
     ]
    },
    {
     "name": "stdout",
     "output_type": "stream",
     "text": [
      "Could not load the metafile as yaml, because of while parsing a block mapping\n",
      "  in \"../../data/QuantLet/SurrogateModel/SurrogateModel_SciencePolicy/metainfo.txt\", line 1, column 1\n",
      "expected <block end>, but found '<scalar>'\n",
      "  in \"../../data/QuantLet/SurrogateModel/SurrogateModel_SciencePolicy/metainfo.txt\", line 5, column 16\n",
      "Could not load the metafile as yaml, because of while parsing a block mapping\n",
      "  in \"../../data/QuantLet/SurrogateModel/SurrogateModel_PopulationDynamics/metainfo.txt\", line 1, column 1\n",
      "expected <block end>, but found '<scalar>'\n",
      "  in \"../../data/QuantLet/SurrogateModel/SurrogateModel_PopulationDynamics/metainfo.txt\", line 5, column 16\n",
      "Could not load the metafile as yaml, because of while parsing a block mapping\n",
      "  in \"../../data/QuantLet/SurrogateModel/SurrogateModel_Production/metainfo.txt\", line 1, column 1\n",
      "expected <block end>, but found '<scalar>'\n",
      "  in \"../../data/QuantLet/SurrogateModel/SurrogateModel_Production/metainfo.txt\", line 5, column 16\n"
     ]
    },
    {
     "name": "stderr",
     "output_type": "stream",
     "text": [
      "16649it [12:14, 172.15it/s]"
     ]
    },
    {
     "name": "stdout",
     "output_type": "stream",
     "text": [
      "Could not load the metafile as yaml, because of while parsing a block mapping\n",
      "  in \"../../data/QuantLet/DEDA_class_SoSe2023/DEDA_class_SoSe2023_Elon_Musk_Cryptocurrency_Influence/Metainfo.txt\", line 1, column 1\n",
      "expected <block end>, but found '<scalar>'\n",
      "  in \"../../data/QuantLet/DEDA_class_SoSe2023/DEDA_class_SoSe2023_Elon_Musk_Cryptocurrency_Influence/Metainfo.txt\", line 5, column 66\n",
      "Could not load the metafile as yaml, because of while parsing a block mapping\n",
      "  in \"../../data/QuantLet/DEDA_class_SoSe2023/DEDA_class_SoSe2023_Elon_Musk_Cryptocurrency_Influence/DEDA_class_SoSe2023_Elon_Musk_Cryptocurrency_Influence_Jumps/Data Scraping/Metainfo.txt\", line 1, column 1\n",
      "expected <block end>, but found '<scalar>'\n",
      "  in \"../../data/QuantLet/DEDA_class_SoSe2023/DEDA_class_SoSe2023_Elon_Musk_Cryptocurrency_Influence/DEDA_class_SoSe2023_Elon_Musk_Cryptocurrency_Influence_Jumps/Data Scraping/Metainfo.txt\", line 5, column 35\n",
      "Could not load the metafile as yaml, because of while parsing a block mapping\n",
      "  in \"../../data/QuantLet/DEDA_class_SoSe2023/DEDA_class_SoSe2023_NBA_SHAP/DEDA_SoSe23_HU_NBA_SHAP_Modelling_Predict_NBA_Game_Outcome/Metainfo.txt\", line 2, column 1\n",
      "expected <block end>, but found '<scalar>'\n",
      "  in \"../../data/QuantLet/DEDA_class_SoSe2023/DEDA_class_SoSe2023_NBA_SHAP/DEDA_SoSe23_HU_NBA_SHAP_Modelling_Predict_NBA_Game_Outcome/Metainfo.txt\", line 6, column 170\n"
     ]
    },
    {
     "name": "stderr",
     "output_type": "stream",
     "text": [
      "16670it [12:15, 79.52it/s] "
     ]
    },
    {
     "name": "stdout",
     "output_type": "stream",
     "text": [
      "Could not load the metafile as yaml, because of while parsing a block mapping\n",
      "  in \"../../data/QuantLet/DEDA_class_SoSe2023/DEDA_class_SoSe2023_NBA_SHAP/DEDA_SoSe23_HU_NBA_SHAP_Calculate_Shapley_Values_from_NBA_Games/Metainfo.txt\", line 2, column 1\n",
      "expected <block end>, but found '<scalar>'\n",
      "  in \"../../data/QuantLet/DEDA_class_SoSe2023/DEDA_class_SoSe2023_NBA_SHAP/DEDA_SoSe23_HU_NBA_SHAP_Calculate_Shapley_Values_from_NBA_Games/Metainfo.txt\", line 6, column 162\n",
      "LDA_MSc_3_Making_Corpus.ipynb\n",
      "[Errno 2] No such file or directory: '../../data/QuantLet/DEDA_class_SoSe2023/DEDA_class_SoSe2023_LDA_Theses/DEDA_class_SoSe2023_LDA_MSc_Theses/LDA_MSc_3_Making_Corpus/LDA_MSc_3_Making_Corpus.ipynb'\n"
     ]
    },
    {
     "name": "stderr",
     "output_type": "stream",
     "text": [
      "16791it [12:17, 80.11it/s]"
     ]
    },
    {
     "name": "stdout",
     "output_type": "stream",
     "text": [
      "Could not load the metafile as yaml, because of mapping values are not allowed here\n",
      "  in \"../../data/QuantLet/NextUnicorn/NextUnicorn_RandomForest/Metainfo.txt\", line 5, column 120\n",
      "Could not load the metafile as yaml, because of mapping values are not allowed here\n",
      "  in \"../../data/QuantLet/NextUnicorn/NextUnicorn_ConditionalTree/Metainfo.txt\", line 5, column 129\n",
      "Could not load the metafile as yaml, because of mapping values are not allowed here\n",
      "  in \"../../data/QuantLet/NextUnicorn/NextUnicorn_Results/Metainfo.txt\", line 5, column 114\n",
      "Could not load the metafile as yaml, because of mapping values are not allowed here\n",
      "  in \"../../data/QuantLet/NextUnicorn/NextUnicorn_DataCleaning/Metainfo.txt\", line 5, column 119\n",
      "Could not load the metafile as yaml, because of mapping values are not allowed here\n",
      "  in \"../../data/QuantLet/NextUnicorn/NextUnicorn_XGBoost/Metainfo.txt\", line 5, column 132\n",
      "Could not load the metafile as yaml, because of mapping values are not allowed here\n",
      "  in \"../../data/QuantLet/NextUnicorn/NextUnicorn_DescriptiveStats/Metainfo.txt\", line 5, column 123\n",
      "Could not load the metafile as yaml, because of mapping values are not allowed here\n",
      "  in \"../../data/QuantLet/NextUnicorn/NextUnicorn_Sigmoid/Metainfo.txt\", line 5, column 109\n",
      "Could not load the metafile as yaml, because of mapping values are not allowed here\n",
      "  in \"../../data/QuantLet/NextUnicorn/NextUnicorn_RecursivePartitioning/Metainfo.txt\", line 5, column 134\n"
     ]
    },
    {
     "name": "stderr",
     "output_type": "stream",
     "text": [
      "16820it [12:18, 102.52it/s]"
     ]
    },
    {
     "name": "stdout",
     "output_type": "stream",
     "text": [
      "Could not load the metafile as yaml, because of mapping values are not allowed here\n",
      "  in \"../../data/QuantLet/NextUnicorn/NextUnicorn_Scatter/Metainfo.txt\", line 5, column 114\n",
      "Could not load the metafile as yaml, because of mapping values are not allowed here\n",
      "  in \"../../data/QuantLet/NextUnicorn/NextUnicorn_LogisticRegression/Metainfo.txt\", line 5, column 120\n",
      "Could not load the metafile as yaml, because of mapping values are not allowed here\n",
      "  in \"../../data/QuantLet/NextUnicorn/NextUnicorn_helperFunctions/Metainfo.txt\", line 5, column 132\n",
      "Could not load the metafile as yaml, because of mapping values are not allowed here\n",
      "  in \"../../data/QuantLet/NextUnicorn/NextUnicorn_AUC/Metainfo.txt\", line 5, column 121\n",
      "Could not load the metafile as yaml, because of mapping values are not allowed here\n",
      "  in \"../../data/QuantLet/NextUnicorn/NextUnicorn_ExitDeal/Metainfo.txt\", line 5, column 116\n"
     ]
    },
    {
     "name": "stderr",
     "output_type": "stream",
     "text": [
      "17039it [12:23, 23.32it/s] "
     ]
    },
    {
     "name": "stdout",
     "output_type": "stream",
     "text": [
      "Tuning.ipynb\n",
      "Unterminated string starting at: line 1664 column 8 (char 3284300)\n"
     ]
    },
    {
     "name": "stderr",
     "output_type": "stream",
     "text": [
      "17047it [12:23, 25.51it/s]"
     ]
    },
    {
     "name": "stdout",
     "output_type": "stream",
     "text": [
      "Could not load the metafile as yaml, because of while scanning for the next token\n",
      "found character '\\t' that cannot start any token\n",
      "  in \"../../data/QuantLet/XFG/VaRcdfDG/Metainfo.txt\", line 3, column 14\n"
     ]
    },
    {
     "name": "stderr",
     "output_type": "stream",
     "text": [
      "17054it [12:23, 26.86it/s]"
     ]
    },
    {
     "name": "stdout",
     "output_type": "stream",
     "text": [
      "Could not load the metafile as yaml, because of while scanning for the next token\n",
      "found character '\\t' that cannot start any token\n",
      "  in \"../../data/QuantLet/XFG/VaRcharfDGF2/Metainfo.txt\", line 1, column 19\n",
      "Could not load the metafile as yaml, because of while scanning for the next token\n",
      "found character '\\t' that cannot start any token\n",
      "  in \"../../data/QuantLet/XFG/VaRDGdecomp/Metainfo.txt\", line 1, column 18\n"
     ]
    },
    {
     "name": "stderr",
     "output_type": "stream",
     "text": [
      "17070it [12:23, 35.08it/s]"
     ]
    },
    {
     "name": "stdout",
     "output_type": "stream",
     "text": [
      "Could not load the metafile as yaml, because of while scanning for the next token\n",
      "found character '\\t' that cannot start any token\n",
      "  in \"../../data/QuantLet/XFG/VaRcorrfDGF2/Metainfo.txt\", line 3, column 14\n",
      "Could not load the metafile as yaml, because of while scanning for the next token\n",
      "found character '\\t' that cannot start any token\n",
      "  in \"../../data/QuantLet/XFG/VaRcharfDG/Metainfo.txt\", line 3, column 14\n"
     ]
    },
    {
     "name": "stderr",
     "output_type": "stream",
     "text": [
      "17092it [12:24, 43.41it/s]"
     ]
    },
    {
     "name": "stdout",
     "output_type": "stream",
     "text": [
      "Could not load the metafile as yaml, because of while scanning for the next token\n",
      "found character '\\t' that cannot start any token\n",
      "  in \"../../data/QuantLet/XFG/VaRcumulantsDG/Metainfo.txt\", line 1, column 19\n"
     ]
    },
    {
     "name": "stderr",
     "output_type": "stream",
     "text": [
      "17105it [12:24, 38.84it/s]"
     ]
    },
    {
     "name": "stdout",
     "output_type": "stream",
     "text": [
      "Could not load the metafile as yaml, because of while scanning for the next token\n",
      "found character '\\t' that cannot start any token\n",
      "  in \"../../data/QuantLet/XFG/VaRestMC/Metainfo.txt\", line 1, column 19\n",
      "Could not load the metafile as yaml, because of while scanning for the next token\n",
      "found character '\\t' that cannot start any token\n",
      "  in \"../../data/QuantLet/XFG/VaRcumulantDG/Metainfo.txt\", line 1, column 19\n",
      "Could not load the metafile as yaml, because of while scanning for the next token\n",
      "found character '\\t' that cannot start any token\n",
      "  in \"../../data/QuantLet/XFG/DGdecompS/Metainfo.txt\", line 7, column 10\n",
      "Could not load the metafile as yaml, because of while scanning for the next token\n",
      "found character '\\t' that cannot start any token\n",
      "  in \"../../data/QuantLet/XFG/VaRDGdecompG/Metainfo.txt\", line 1, column 19\n"
     ]
    },
    {
     "name": "stderr",
     "output_type": "stream",
     "text": [
      "17116it [12:24, 39.61it/s]"
     ]
    },
    {
     "name": "stdout",
     "output_type": "stream",
     "text": [
      "Could not load the metafile as yaml, because of while scanning for the next token\n",
      "found character '\\t' that cannot start any token\n",
      "  in \"../../data/QuantLet/XFG/StandardNormalCharf/Metainfo.txt\", line 11, column 8\n"
     ]
    },
    {
     "name": "stderr",
     "output_type": "stream",
     "text": [
      "17506it [12:29, 76.78it/s] "
     ]
    },
    {
     "name": "stdout",
     "output_type": "stream",
     "text": [
      "Could not load the metafile as yaml, because of while parsing a block mapping\n",
      "  in \"../../data/QuantLet/MPF-Electricity/MPF-Electricity_JohnsonSUSim/Metainfo.txt\", line 1, column 1\n",
      "expected <block end>, but found '<scalar>'\n",
      "  in \"../../data/QuantLet/MPF-Electricity/MPF-Electricity_JohnsonSUSim/Metainfo.txt\", line 5, column 69\n",
      "Could not load the metafile as yaml, because of while parsing a block mapping\n",
      "  in \"../../data/QuantLet/MPF-Electricity/MPF-Electricity_LASSOQR/Metainfo.txt\", line 1, column 1\n",
      "expected <block end>, but found '<scalar>'\n",
      "  in \"../../data/QuantLet/MPF-Electricity/MPF-Electricity_LASSOQR/Metainfo.txt\", line 5, column 138\n"
     ]
    },
    {
     "name": "stderr",
     "output_type": "stream",
     "text": [
      "17770it [12:33, 95.53it/s] "
     ]
    },
    {
     "name": "stdout",
     "output_type": "stream",
     "text": [
      "Could not load the metafile as yaml, because of while parsing a block mapping\n",
      "  in \"../../data/QuantLet/SFM_Class_2019WS/SFM_CopulaeVariants/metainfo.txt\", line 1, column 1\n",
      "expected <block end>, but found '<scalar>'\n",
      "  in \"../../data/QuantLet/SFM_Class_2019WS/SFM_CopulaeVariants/metainfo.txt\", line 2, column 17\n"
     ]
    },
    {
     "name": "stderr",
     "output_type": "stream",
     "text": [
      "18401it [12:40, 91.62it/s] "
     ]
    },
    {
     "name": "stdout",
     "output_type": "stream",
     "text": [
      "Could not load the metafile as yaml, because of while scanning for the next token\n",
      "found character '\\t' that cannot start any token\n",
      "  in \"../../data/QuantLet/SFM2-SS16-ToDo/SFE_BoxJen/Metainfo.txt\", line 4, column 15\n"
     ]
    },
    {
     "name": "stderr",
     "output_type": "stream",
     "text": [
      "18724it [12:46, 58.35it/s]"
     ]
    },
    {
     "name": "stdout",
     "output_type": "stream",
     "text": [
      "Could not load the metafile as yaml, because of mapping values are not allowed here\n",
      "  in \"../../data/QuantLet/gaplmsbk/Metainfo.txt\", line 13, column 21\n"
     ]
    },
    {
     "name": "stderr",
     "output_type": "stream",
     "text": [
      "19198it [12:52, 131.03it/s]"
     ]
    },
    {
     "name": "stdout",
     "output_type": "stream",
     "text": [
      "Could not laod the script because of 'utf-8' codec can't decode byte 0xb3 in position 14: invalid start byte \n",
      "Could not laod the script because of 'utf-8' codec can't decode byte 0xb3 in position 14: invalid start byte \n",
      "Could not laod the script because of 'utf-8' codec can't decode byte 0xb3 in position 14: invalid start byte \n"
     ]
    },
    {
     "name": "stderr",
     "output_type": "stream",
     "text": [
      "19300it [12:52, 139.13it/s]"
     ]
    },
    {
     "name": "stdout",
     "output_type": "stream",
     "text": [
      "Could not laod the script because of 'utf-8' codec can't decode byte 0xe4 in position 44: invalid continuation byte \n",
      "Could not laod the script because of 'utf-8' codec can't decode byte 0x96 in position 50: invalid start byte \n",
      "Could not laod the script because of 'utf-8' codec can't decode byte 0xe4 in position 44: invalid continuation byte \n",
      "Could not laod the script because of 'utf-8' codec can't decode byte 0xe4 in position 44: invalid continuation byte \n"
     ]
    },
    {
     "name": "stderr",
     "output_type": "stream",
     "text": [
      "19339it [12:54, 47.03it/s] "
     ]
    },
    {
     "name": "stdout",
     "output_type": "stream",
     "text": [
      "Could not laod the script because of 'utf-8' codec can't decode byte 0xe4 in position 44: invalid continuation byte \n",
      "Could not laod the script because of 'utf-8' codec can't decode byte 0xe4 in position 44: invalid continuation byte \n",
      "Could not laod the script because of 'utf-8' codec can't decode byte 0x96 in position 50: invalid start byte \n",
      "Could not laod the script because of 'utf-8' codec can't decode byte 0xe4 in position 44: invalid continuation byte \n"
     ]
    },
    {
     "name": "stderr",
     "output_type": "stream",
     "text": [
      "19347it [12:54, 40.40it/s]"
     ]
    },
    {
     "name": "stdout",
     "output_type": "stream",
     "text": [
      "Could not laod the script because of 'utf-8' codec can't decode byte 0x8a in position 33: invalid start byte \n",
      "Could not laod the script because of 'utf-8' codec can't decode byte 0xe4 in position 44: invalid continuation byte \n"
     ]
    },
    {
     "name": "stderr",
     "output_type": "stream",
     "text": [
      "19359it [12:55, 28.52it/s]"
     ]
    },
    {
     "name": "stdout",
     "output_type": "stream",
     "text": [
      "Could not laod the script because of 'utf-8' codec can't decode byte 0xf3 in position 3: invalid continuation byte \n",
      "Could not laod the script because of 'utf-8' codec can't decode byte 0xbf in position 19: invalid start byte \n",
      "Could not laod the script because of 'utf-8' codec can't decode byte 0xf3 in position 3: invalid continuation byte \n",
      "Could not laod the script because of 'utf-8' codec can't decode byte 0xf3 in position 3: invalid continuation byte \n",
      "Could not laod the script because of 'utf-8' codec can't decode byte 0xb3 in position 14: invalid start byte \n",
      "Could not laod the script because of 'utf-8' codec can't decode byte 0xb3 in position 14: invalid start byte \n",
      "Could not laod the script because of 'utf-8' codec can't decode byte 0xf3 in position 3: invalid continuation byte \n",
      "Could not laod the script because of 'utf-8' codec can't decode byte 0xbf in position 19: invalid start byte \n",
      "Could not laod the script because of 'utf-8' codec can't decode byte 0xf3 in position 3: invalid continuation byte \n",
      "Could not laod the script because of 'utf-8' codec can't decode byte 0xf3 in position 3: invalid continuation byte \n",
      "Could not laod the script because of 'utf-8' codec can't decode byte 0xb3 in position 14: invalid start byte \n",
      "Could not laod the script because of 'utf-8' codec can't decode byte 0xb3 in position 14: invalid start byte \n"
     ]
    },
    {
     "name": "stderr",
     "output_type": "stream",
     "text": [
      "19367it [12:55, 26.59it/s]"
     ]
    },
    {
     "name": "stdout",
     "output_type": "stream",
     "text": [
      "Could not laod the script because of 'utf-8' codec can't decode byte 0xe4 in position 44: invalid continuation byte \n",
      "Could not laod the script because of 'utf-8' codec can't decode byte 0x96 in position 50: invalid start byte \n",
      "Could not laod the script because of 'utf-8' codec can't decode byte 0xe4 in position 44: invalid continuation byte \n",
      "Could not laod the script because of 'utf-8' codec can't decode byte 0xe4 in position 44: invalid continuation byte \n"
     ]
    },
    {
     "name": "stderr",
     "output_type": "stream",
     "text": [
      "19388it [12:56, 35.26it/s]"
     ]
    },
    {
     "name": "stdout",
     "output_type": "stream",
     "text": [
      "Could not laod the script because of 'utf-8' codec can't decode byte 0x96 in position 50: invalid start byte \n",
      "Could not laod the script because of 'utf-8' codec can't decode byte 0xe4 in position 44: invalid continuation byte \n",
      "Could not laod the script because of 'utf-8' codec can't decode byte 0xe4 in position 44: invalid continuation byte \n",
      "Could not laod the script because of 'utf-8' codec can't decode byte 0xe4 in position 44: invalid continuation byte \n"
     ]
    },
    {
     "name": "stderr",
     "output_type": "stream",
     "text": [
      "19627it [12:59, 90.61it/s]"
     ]
    },
    {
     "name": "stdout",
     "output_type": "stream",
     "text": [
      "Could not load the metafile as yaml, because of while scanning for the next token\n",
      "found character '\\t' that cannot start any token\n",
      "  in \"../../data/QuantLet/BCS-1/BCS_RANDU/Metainfo.txt\", line 3, column 15\n",
      "Could not load the metafile as yaml, because of while scanning for the next token\n",
      "found character '\\t' that cannot start any token\n",
      "  in \"../../data/QuantLet/BCS-1/BCS_Kernel_nhTemp/Metainfo.txt\", line 3, column 15\n",
      "Could not load the metafile as yaml, because of while scanning for the next token\n",
      "found character '\\t' that cannot start any token\n",
      "  in \"../../data/QuantLet/BCS-1/BCS_MLRleaps/Metainfo.txt\", line 3, column 15\n"
     ]
    },
    {
     "name": "stderr",
     "output_type": "stream",
     "text": [
      "19915it [13:02, 98.11it/s] "
     ]
    },
    {
     "name": "stdout",
     "output_type": "stream",
     "text": [
      "Could not load the metafile as yaml, because of while scanning for the next token\n",
      "found character '\\t' that cannot start any token\n",
      "  in \"../../data/QuantLet/SFE_class_2016/SFERhoHedging/metainfo.txt\", line 14, column 10\n",
      "Could not load the metafile as yaml, because of while scanning a simple key\n",
      "  in \"../../data/QuantLet/SFE_class_2016/SFEbsfilm/metainfo.txt\", line 7, column 1\n",
      "could not find expected ':'\n",
      "  in \"../../data/QuantLet/SFE_class_2016/SFEbsfilm/metainfo.txt\", line 9, column 1\n"
     ]
    },
    {
     "name": "stderr",
     "output_type": "stream",
     "text": [
      "19948it [13:03, 80.49it/s]"
     ]
    },
    {
     "name": "stdout",
     "output_type": "stream",
     "text": [
      "Could not load the metafile as yaml, because of while scanning for the next token\n",
      "found character '\\t' that cannot start any token\n",
      "  in \"../../data/QuantLet/SFE_class_2016/SFEDeltaVegaHedging/metainfo.txt\", line 13, column 10\n",
      "Could not load the metafile as yaml, because of while scanning for the next token\n",
      "found character '\\t' that cannot start any token\n",
      "  in \"../../data/QuantLet/SFE_class_2016/SFEVegaHedging/metainfo.txt\", line 14, column 10\n"
     ]
    },
    {
     "name": "stderr",
     "output_type": "stream",
     "text": [
      "20186it [13:05, 25.70it/s] "
     ]
    },
    {
     "name": "stdout",
     "output_type": "stream",
     "text": [
      "(5050, 5)\n",
      "(5046, 5)\n",
      "(5018, 6)\n"
     ]
    },
    {
     "name": "stderr",
     "output_type": "stream",
     "text": [
      "\n"
     ]
    }
   ],
   "source": [
    "output = tp.traverse_folder(PATH_TO_PARSE, FILE_TYPES)\n",
    "repos = tp.prepare_repos_df(output['repos'])"
   ]
  },
  {
   "cell_type": "code",
   "execution_count": 6,
   "metadata": {
    "tags": []
   },
   "outputs": [
    {
     "name": "stdout",
     "output_type": "stream",
     "text": [
      "(5018, 6)\n"
     ]
    }
   ],
   "source": [
    "repos.type_script = repos.type_script.str.lower()\n",
    "repos = repos[repos.type_script.isin(\n",
    "            ['py', 'r', 'm', 'ipynb']\n",
    "        )\n",
    "    ]\n",
    "repos_df = repos[~repos.folder_name.str.contains('.ipynb_checkpoints')]\n",
    "repos_df.loc[repos_df.type_script== 'ipynb', 'type_script']='py'\n",
    "repos_df = repos_df.reset_index(drop=True)\n",
    "print(repos_df.shape)"
   ]
  },
  {
   "cell_type": "code",
   "execution_count": 7,
   "metadata": {
    "tags": []
   },
   "outputs": [],
   "source": [
    "NAME = f'{OUTPUT_PATH}/Quantlets_{TODAY}'\n",
    "with open(f'{NAME}.pkl', 'wb') as file:\n",
    "    pickle.dump(repos_df, file)"
   ]
  }
 ],
 "metadata": {
  "kernelspec": {
   "display_name": "encode_code",
   "language": "python",
   "name": "python3"
  },
  "language_info": {
   "codemirror_mode": {
    "name": "ipython",
    "version": 3
   },
   "file_extension": ".py",
   "mimetype": "text/x-python",
   "name": "python",
   "nbconvert_exporter": "python",
   "pygments_lexer": "ipython3",
   "version": "3.9.12"
  }
 },
 "nbformat": 4,
 "nbformat_minor": 4
}

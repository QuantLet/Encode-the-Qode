{
 "cells": [
  {
   "cell_type": "code",
   "execution_count": 1,
   "metadata": {},
   "outputs": [
    {
     "name": "stdout",
     "output_type": "stream",
     "text": [
      "Requirement already satisfied: transformers==4.2.1 in /home/RDC/zinovyee.hub/.local/lib/python3.9/site-packages (4.2.1)\n",
      "Requirement already satisfied: tokenizers==0.9.4 in /home/RDC/zinovyee.hub/.local/lib/python3.9/site-packages (from transformers==4.2.1) (0.9.4)\n",
      "Requirement already satisfied: filelock in /home/RDC/zinovyee.hub/.conda/envs/encode_code/lib/python3.9/site-packages (from transformers==4.2.1) (3.9.0)\n",
      "Requirement already satisfied: requests in /home/RDC/zinovyee.hub/.conda/envs/encode_code/lib/python3.9/site-packages (from transformers==4.2.1) (2.28.2)\n",
      "Requirement already satisfied: packaging in /home/RDC/zinovyee.hub/.conda/envs/encode_code/lib/python3.9/site-packages (from transformers==4.2.1) (23.0)\n",
      "Requirement already satisfied: regex!=2019.12.17 in /home/RDC/zinovyee.hub/.conda/envs/encode_code/lib/python3.9/site-packages (from transformers==4.2.1) (2022.10.31)\n",
      "Requirement already satisfied: sacremoses in /home/RDC/zinovyee.hub/.local/lib/python3.9/site-packages (from transformers==4.2.1) (0.0.53)\n",
      "Requirement already satisfied: tqdm>=4.27 in /home/RDC/zinovyee.hub/.conda/envs/encode_code/lib/python3.9/site-packages (from transformers==4.2.1) (4.64.1)\n",
      "Requirement already satisfied: numpy in /home/RDC/zinovyee.hub/.conda/envs/encode_code/lib/python3.9/site-packages (from transformers==4.2.1) (1.24.1)\n",
      "Requirement already satisfied: urllib3<1.27,>=1.21.1 in /home/RDC/zinovyee.hub/.conda/envs/encode_code/lib/python3.9/site-packages (from requests->transformers==4.2.1) (1.26.14)\n",
      "Requirement already satisfied: certifi>=2017.4.17 in /home/RDC/zinovyee.hub/.conda/envs/encode_code/lib/python3.9/site-packages (from requests->transformers==4.2.1) (2022.12.7)\n",
      "Requirement already satisfied: charset-normalizer<4,>=2 in /home/RDC/zinovyee.hub/.conda/envs/encode_code/lib/python3.9/site-packages (from requests->transformers==4.2.1) (2.1.1)\n",
      "Requirement already satisfied: idna<4,>=2.5 in /home/RDC/zinovyee.hub/.conda/envs/encode_code/lib/python3.9/site-packages (from requests->transformers==4.2.1) (3.4)\n",
      "Requirement already satisfied: six in /home/RDC/zinovyee.hub/.conda/envs/encode_code/lib/python3.9/site-packages (from sacremoses->transformers==4.2.1) (1.16.0)\n",
      "Requirement already satisfied: joblib in /home/RDC/zinovyee.hub/.conda/envs/encode_code/lib/python3.9/site-packages (from sacremoses->transformers==4.2.1) (1.2.0)\n",
      "Requirement already satisfied: click in /home/RDC/zinovyee.hub/.conda/envs/encode_code/lib/python3.9/site-packages (from sacremoses->transformers==4.2.1) (8.1.3)\n",
      "Note: you may need to restart the kernel to use updated packages.\n"
     ]
    }
   ],
   "source": [
    "%pip install transformers==4.2.1"
   ]
  },
  {
   "cell_type": "code",
   "execution_count": 30,
   "metadata": {},
   "outputs": [],
   "source": [
    "import numpy as np\n",
    "import pandas as pd\n",
    "import re\n",
    "import os\n",
    "import sys\n",
    "\n",
    "sys.path.append('../../Quantlet/Create_description/')\n",
    "\n",
    "import importlib\n",
    "import preprocessing_utils\n",
    "importlib.reload(preprocessing_utils)\n",
    "\n",
    "import pickle\n",
    "\n",
    "from sklearn.model_selection import train_test_split, KFold"
   ]
  },
  {
   "cell_type": "code",
   "execution_count": 31,
   "metadata": {},
   "outputs": [],
   "source": [
    "RS = 42"
   ]
  },
  {
   "cell_type": "code",
   "execution_count": 32,
   "metadata": {},
   "outputs": [],
   "source": [
    "parsed_Qs_file = '../../data/preprocessed/Quantlet/Parsed_Qs_19032023.pkl'\n",
    "dataset = preprocessing_utils.QuantletDataset(parsed_Qs_file)\n",
    "\n",
    "dataset = dataset.parsed_Qs_file\n",
    "dataset.type_script = dataset.type_script.str.replace('ipynb', 'py')\n",
    "dataset['most_commen_lang'] = dataset.folder_name.map(dataset.groupby(['folder_name'])['type_script'].agg(pd.Series.mode))\n",
    "dataset['most_commen_lang'] = dataset['most_commen_lang'].astype(str)\n",
    "dataset['desc_idx'] = dataset.index"
   ]
  },
  {
   "cell_type": "code",
   "execution_count": 33,
   "metadata": {},
   "outputs": [],
   "source": [
    "tocheck_data = dataset.copy()\n",
    "tocheck_data.metainfo_file = tocheck_data.metainfo_file.astype(str)\n",
    "tocheck_data['empty'] = (tocheck_data.metainfo_file=='empty').astype(int)\n",
    "tocheck_data['empty_ratio'] = tocheck_data.folder_name.map(tocheck_data.groupby('folder_name').empty.sum()) / tocheck_data.folder_name.map(tocheck_data.groupby('folder_name').empty.count())\n",
    "\n",
    "q_no_meta = tocheck_data[tocheck_data.empty_ratio==1].folder_name.unique()"
   ]
  },
  {
   "cell_type": "code",
   "execution_count": 34,
   "metadata": {},
   "outputs": [],
   "source": [
    "Q_lang = dataset[['folder_name', 'most_commen_lang']].drop_duplicates().reset_index(drop=True)\n",
    "Q_lang = Q_lang[~Q_lang.folder_name.isin(q_no_meta)]"
   ]
  },
  {
   "cell_type": "code",
   "execution_count": 35,
   "metadata": {},
   "outputs": [
    {
     "name": "stdout",
     "output_type": "stream",
     "text": [
      "(2376, 2) (595, 2)\n"
     ]
    }
   ],
   "source": [
    "labelled, test = train_test_split(Q_lang, test_size=0.2, random_state=RS, stratify=Q_lang.most_commen_lang)\n",
    "print(labelled.shape, test.shape)"
   ]
  },
  {
   "cell_type": "code",
   "execution_count": 39,
   "metadata": {},
   "outputs": [
    {
     "name": "stdout",
     "output_type": "stream",
     "text": [
      "(3871, 7) (968, 7)\n",
      "0.7999586691465179 0.20004133085348214\n"
     ]
    }
   ],
   "source": [
    "no_meta_ds = dataset.query('folder_name in @q_no_meta')\n",
    "labelled_ds = dataset.query('folder_name in @labelled.folder_name')\n",
    "unlabelled_ds = dataset.query('folder_name in @test.folder_name')\n",
    "print(labelled_ds.shape, unlabelled_ds.shape)\n",
    "full = labelled_ds.shape[0] + unlabelled_ds.shape[0]\n",
    "print(labelled_ds.shape[0] / full, unlabelled_ds.shape[0]/full)"
   ]
  },
  {
   "cell_type": "code",
   "execution_count": 41,
   "metadata": {},
   "outputs": [],
   "source": [
    "with open('../../data/preprocessed/Quantlet/Descriptions_Qs_19032023.pkl', 'rb') as f:\n",
    "    descriptions = pickle.load(f)"
   ]
  },
  {
   "cell_type": "code",
   "execution_count": null,
   "metadata": {},
   "outputs": [],
   "source": [
    "\n",
    "from transformers import BertTokenizerFast\n",
    "\n",
    "tokenizer = BertTokenizerFast.from_pretrained(\"bert-base-uncased\")\n",
    "tokenizer.bos_token = tokenizer.cls_token\n",
    "tokenizer.eos_token = tokenizer.sep_token\n"
   ]
  }
 ],
 "metadata": {
  "kernelspec": {
   "display_name": "encode_code",
   "language": "python",
   "name": "encode_code"
  },
  "language_info": {
   "codemirror_mode": {
    "name": "ipython",
    "version": 3
   },
   "file_extension": ".py",
   "mimetype": "text/x-python",
   "name": "python",
   "nbconvert_exporter": "python",
   "pygments_lexer": "ipython3",
   "version": "3.9.12"
  },
  "orig_nbformat": 4
 },
 "nbformat": 4,
 "nbformat_minor": 2
}

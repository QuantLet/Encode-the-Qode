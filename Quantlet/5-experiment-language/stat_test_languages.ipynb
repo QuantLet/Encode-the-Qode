{
 "cells": [
  {
   "cell_type": "code",
   "execution_count": 1,
   "metadata": {},
   "outputs": [],
   "source": [
    "import pandas as pd\n",
    "\n",
    "# Example of the Shapiro-Wilk Normality Test\n",
    "from scipy.stats import shapiro\n",
    "from scipy.stats import ttest_rel\n",
    "from scipy.stats import wilcoxon"
   ]
  },
  {
   "cell_type": "code",
   "execution_count": null,
   "metadata": {},
   "outputs": [],
   "source": [
    "COLUMNS_TEST = ['eval_loss', 'eval_rouge1', 'eval_rouge2', 'eval_rougeL',\n",
    "        'eval_rougeLsum', 'eval_bleu']"
   ]
  },
  {
   "cell_type": "code",
   "execution_count": 21,
   "metadata": {},
   "outputs": [],
   "source": [
    "# PYTHON \n",
    "\n",
    "py_results_zs = pd.read_csv('reports/analysis_report_ZS_test_CodeT5_bootstrap_py/results_bootstrap.csv')\n",
    "py_results_zs = py_results_zs[COLUMNS_TEST].head(34)\n",
    "\n",
    "py_results_ft = pd.read_csv('reports/analysis_report_test_CodeT5_bootstrap_py/results_bootstrap.csv')\n",
    "py_results_ft = py_results_ft[COLUMNS_TEST].head(34)\n",
    "\n",
    "\n",
    "# R \n",
    "\n",
    "r_results_zs = pd.read_csv('reports/analysis_report_ZS_test_CodeT5_bootstrap_r/results_bootstrap.csv')\n",
    "r_results_zs = r_results_zs[COLUMNS_TEST].head(34)\n",
    "\n",
    "r_results_ft = pd.read_csv('reports/analysis_report_test_CodeT5_bootstrap_r/results_bootstrap.csv')\n",
    "r_results_ft = r_results_ft[COLUMNS_TEST].head(34)\n",
    "\n",
    "\n",
    "# MATLAB \n",
    "\n",
    "m_results_zs = pd.read_csv('reports/analysis_report_ZS_test_CodeT5_bootstrap_m/results_bootstrap.csv')\n",
    "m_results_zs = m_results_zs[COLUMNS_TEST].head(34)\n",
    "\n",
    "m_results_ft = pd.read_csv('reports/analysis_report_test_CodeT5_bootstrap_m/results_bootstrap.csv')\n",
    "m_results_ft = m_results_ft[COLUMNS_TEST].head(34)"
   ]
  },
  {
   "cell_type": "code",
   "execution_count": 12,
   "metadata": {},
   "outputs": [],
   "source": [
    "# PYTHON\n",
    "#Loss not normal, everything else normal (FT)\n",
    "#BLEU not normal, everything else normal (ZS)\n",
    "\n",
    "#LOSS, BLEU wilcoxon\n",
    "#EVERYTHING ELSE PAIRED T TEST\n",
    "\n",
    "# R\n",
    "# BLEU not normal, wilcoxon, everything else paired T\n",
    "\n",
    "# MATLAB everything normal, paired T"
   ]
  },
  {
   "cell_type": "code",
   "execution_count": 26,
   "metadata": {},
   "outputs": [
    {
     "name": "stdout",
     "output_type": "stream",
     "text": [
      "eval_loss\n",
      "stat=0.979, p=0.725\n",
      "Probably Normal\n",
      "eval_rouge1\n",
      "stat=0.984, p=0.890\n",
      "Probably Normal\n",
      "eval_rouge2\n",
      "stat=0.979, p=0.728\n",
      "Probably Normal\n",
      "eval_rougeL\n",
      "stat=0.982, p=0.821\n",
      "Probably Normal\n",
      "eval_rougeLsum\n",
      "stat=0.981, p=0.815\n",
      "Probably Normal\n",
      "eval_bleu\n",
      "stat=0.976, p=0.636\n",
      "Probably Normal\n"
     ]
    }
   ],
   "source": [
    "for column in COLUMNS_TEST:\n",
    "    print(column)\n",
    "    stat, p = shapiro(m_results_ft[column])\n",
    "    print('stat=%.3f, p=%.3f' % (stat, p))\n",
    "    if p > 0.05:\n",
    "        print('Probably Normal')\n",
    "    else:\n",
    "        print('Probably not Normal')"
   ]
  },
  {
   "cell_type": "code",
   "execution_count": 20,
   "metadata": {},
   "outputs": [
    {
     "name": "stdout",
     "output_type": "stream",
     "text": [
      "eval_loss\n",
      "stat=0.000, p=0.000\n",
      "Probably different distributions\n",
      "eval_rouge1\n",
      "stat=-36.337, p=0.000\n",
      "Probably different distributions\n",
      "eval_rouge2\n",
      "stat=-29.735, p=0.000\n",
      "Probably different distributions\n",
      "eval_rougeL\n",
      "stat=-33.685, p=0.000\n",
      "Probably different distributions\n",
      "eval_rougeLsum\n",
      "stat=-33.208, p=0.000\n",
      "Probably different distributions\n",
      "eval_bleu\n",
      "stat=0.000, p=0.000\n",
      "Probably different distributions\n"
     ]
    }
   ],
   "source": [
    "# PYTHON\n",
    "for column in COLUMNS_TEST:\n",
    "    print(column)\n",
    "    if (column=='eval_loss' or column =='eval_bleu'):\n",
    "        stat, p = wilcoxon(py_results_zs[column], py_results_ft[column])\n",
    "        print('stat=%.3f, p=%.3f' % (stat, p))\n",
    "        if p > 0.05:\n",
    "            print('Probably the same distribution')\n",
    "        else:\n",
    "            print('Probably different distributions')\n",
    "    else:\n",
    "\n",
    "        stat, p = ttest_rel(py_results_zs[column], py_results_ft[column])\n",
    "        print('stat=%.3f, p=%.3f' % (stat, p))\n",
    "        if p > 0.05:\n",
    "            print('Probably the same distribution')\n",
    "        else:\n",
    "            print('Probably different distributions')"
   ]
  },
  {
   "cell_type": "code",
   "execution_count": 27,
   "metadata": {},
   "outputs": [
    {
     "name": "stdout",
     "output_type": "stream",
     "text": [
      "eval_loss\n",
      "stat=114.689, p=0.000\n",
      "Probably different distributions\n",
      "eval_rouge1\n",
      "stat=-80.322, p=0.000\n",
      "Probably different distributions\n",
      "eval_rouge2\n",
      "stat=-63.470, p=0.000\n",
      "Probably different distributions\n",
      "eval_rougeL\n",
      "stat=-77.557, p=0.000\n",
      "Probably different distributions\n",
      "eval_rougeLsum\n",
      "stat=-74.711, p=0.000\n",
      "Probably different distributions\n",
      "eval_bleu\n",
      "stat=0.000, p=0.000\n",
      "Probably different distributions\n"
     ]
    }
   ],
   "source": [
    "# R\n",
    "for column in COLUMNS_TEST:\n",
    "    print(column)\n",
    "    if (column =='eval_bleu'):\n",
    "        stat, p = wilcoxon(r_results_zs[column], r_results_ft[column])\n",
    "        print('stat=%.3f, p=%.3f' % (stat, p))\n",
    "        if p > 0.05:\n",
    "            print('Probably the same distribution')\n",
    "        else:\n",
    "            print('Probably different distributions')\n",
    "    else:\n",
    "\n",
    "        stat, p = ttest_rel(r_results_zs[column], r_results_ft[column])\n",
    "        print('stat=%.3f, p=%.3f' % (stat, p))\n",
    "        if p > 0.05:\n",
    "            print('Probably the same distribution')\n",
    "        else:\n",
    "            print('Probably different distributions')"
   ]
  },
  {
   "cell_type": "code",
   "execution_count": 28,
   "metadata": {},
   "outputs": [
    {
     "name": "stdout",
     "output_type": "stream",
     "text": [
      "eval_loss\n",
      "stat=65.289, p=0.000\n",
      "Probably different distributions\n",
      "eval_rouge1\n",
      "stat=-42.734, p=0.000\n",
      "Probably different distributions\n",
      "eval_rouge2\n",
      "stat=-34.983, p=0.000\n",
      "Probably different distributions\n",
      "eval_rougeL\n",
      "stat=-40.535, p=0.000\n",
      "Probably different distributions\n",
      "eval_rougeLsum\n",
      "stat=-40.374, p=0.000\n",
      "Probably different distributions\n",
      "eval_bleu\n",
      "stat=-21.728, p=0.000\n",
      "Probably different distributions\n"
     ]
    }
   ],
   "source": [
    "# MATLAB\n",
    "for column in COLUMNS_TEST:\n",
    "    print(column)\n",
    "\n",
    "    stat, p = ttest_rel(m_results_zs[column], m_results_ft[column])\n",
    "    print('stat=%.3f, p=%.3f' % (stat, p))\n",
    "    if p > 0.05:\n",
    "        print('Probably the same distribution')\n",
    "    else:\n",
    "        print('Probably different distributions')"
   ]
  },
  {
   "cell_type": "code",
   "execution_count": 40,
   "metadata": {},
   "outputs": [
    {
     "name": "stdout",
     "output_type": "stream",
     "text": [
      "eval_loss\n",
      "stat=-0.115, p=0.455\n",
      "Probably not less\n",
      "eval_rouge1\n",
      "stat=-9.063, p=0.000\n",
      "Probably less\n",
      "eval_rouge2\n",
      "stat=-6.636, p=0.000\n",
      "Probably less\n",
      "eval_rougeL\n",
      "stat=-8.820, p=0.000\n",
      "Probably less\n",
      "eval_rougeLsum\n",
      "stat=-8.852, p=0.000\n",
      "Probably less\n",
      "eval_bleu\n",
      "stat=-2.187, p=0.018\n",
      "Probably less\n"
     ]
    }
   ],
   "source": [
    "# ALL DIFFS ARE NORMAL\n",
    "for column in COLUMNS_TEST:\n",
    "    print(column)\n",
    "    py_diff = abs(py_results_ft[column] - py_results_zs[column])\n",
    "    r_diff = abs(r_results_ft[column] - r_results_zs[column])\n",
    "    m_diff = abs(m_results_ft[column] - m_results_zs[column])\n",
    "\n",
    "    stat, p = ttest_rel(m_diff, r_diff, alternative='less')\n",
    "    print('stat=%.3f, p=%.3f' % (stat, p))\n",
    "    if p > 0.05:\n",
    "        print('Probably not less')\n",
    "    else:\n",
    "        print('Probably less')"
   ]
  },
  {
   "cell_type": "code",
   "execution_count": null,
   "metadata": {},
   "outputs": [],
   "source": []
  }
 ],
 "metadata": {
  "kernelspec": {
   "display_name": "encode_code",
   "language": "python",
   "name": "python3"
  },
  "language_info": {
   "codemirror_mode": {
    "name": "ipython",
    "version": 3
   },
   "file_extension": ".py",
   "mimetype": "text/x-python",
   "name": "python",
   "nbconvert_exporter": "python",
   "pygments_lexer": "ipython3",
   "version": "3.9.12"
  }
 },
 "nbformat": 4,
 "nbformat_minor": 2
}

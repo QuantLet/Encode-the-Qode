{
 "cells": [
  {
   "cell_type": "code",
   "execution_count": null,
   "metadata": {},
   "outputs": [],
   "source": [
    "from github import Github\n",
    "import os\n",
    "import time\n",
    "#import pygit2\n",
    "import subprocess"
   ]
  },
  {
   "cell_type": "code",
   "execution_count": null,
   "metadata": {},
   "outputs": [],
   "source": [
    "# Paths, constants, and configs\n",
    "DATA_PATH = \"../../data\""
   ]
  },
  {
   "cell_type": "code",
   "execution_count": null,
   "metadata": {},
   "outputs": [],
   "source": [
    "# Read the token\n",
    "try: \n",
    "    with open('token.txt') as f:\n",
    "        token = f.readlines()[0]\n",
    "except:\n",
    "    print('Token file not found, please try again')\n",
    "\n",
    "# or paste it here\n",
    "if 'token' not in globals():\n",
    "    token =   'YOUR TOKEN'\n",
    "\n",
    "# authenticate using the token\n",
    "g = Github(token)\n",
    "\n",
    "# Logging into the organization\n",
    "org = g.get_organization(\"QuantLet\")\n",
    "org.login"
   ]
  },
  {
   "cell_type": "code",
   "execution_count": null,
   "metadata": {},
   "outputs": [],
   "source": [
    "names = []\n",
    "for element in org.get_repos(type='public'):\n",
    "   names.append(element.full_name)"
   ]
  },
  {
   "cell_type": "code",
   "execution_count": null,
   "metadata": {},
   "outputs": [],
   "source": [
    "if os.path.exists(os.path.join(DATA_PATH, 'QuantLet')):\n",
    "    existing_Qs = os.listdir(os.path.join(DATA_PATH, 'QuantLet'))\n",
    "    existing_Qs = [f'QuantLet/{quantlet}'for quantlet in existing_Qs]\n",
    "    print(f'Number of existing Quantlets: {len(existing_Qs)}')\n",
    "else:\n",
    "    existing_Qs = []\n",
    "    print(f'Number of existing Quantlets: 0')"
   ]
  },
  {
   "cell_type": "code",
   "execution_count": null,
   "metadata": {},
   "outputs": [],
   "source": [
    "new_Qs = set(names).difference(existing_Qs)\n",
    "print(f'Number of new Quantlets: {len(new_Qs)}')"
   ]
  },
  {
   "cell_type": "code",
   "execution_count": null,
   "metadata": {},
   "outputs": [],
   "source": [
    "for i, name in enumerate(new_Qs):\n",
    "    print(i)\n",
    "    print(name)\n",
    "    subprocess.Popen(f\"git clone https://github.com/{name} {DATA_PATH}/{name}\", shell=True)\n",
    "    if i%10==0:\n",
    "        time.sleep(60)\n",
    "    else:\n",
    "        time.sleep(15)"
   ]
  }
 ],
 "metadata": {
  "kernelspec": {
   "display_name": "encode_code",
   "language": "python",
   "name": "python3"
  },
  "language_info": {
   "codemirror_mode": {
    "name": "ipython",
    "version": 3
   },
   "file_extension": ".py",
   "mimetype": "text/x-python",
   "name": "python",
   "nbconvert_exporter": "python",
   "pygments_lexer": "ipython3",
   "version": "3.9.12"
  },
  "orig_nbformat": 4
 },
 "nbformat": 4,
 "nbformat_minor": 2
}

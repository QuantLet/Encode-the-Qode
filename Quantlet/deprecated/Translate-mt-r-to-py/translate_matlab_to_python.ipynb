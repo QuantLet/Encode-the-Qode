{
 "cells": [
  {
   "cell_type": "code",
   "execution_count": 1,
   "metadata": {},
   "outputs": [
    {
     "name": "stdout",
     "output_type": "stream",
     "text": [
      "Requirement already satisfied: numpy in /Users/izzy/anaconda3/envs/encode_code/lib/python3.9/site-packages (from -r ./matlab2python/requirements.txt (line 1)) (1.21.5)\n",
      "Requirement already satisfied: ply in /Users/izzy/.local/lib/python3.9/site-packages (from -r ./matlab2python/requirements.txt (line 2)) (3.11)\n",
      "Requirement already satisfied: networkx in /Users/izzy/.local/lib/python3.9/site-packages (from -r ./matlab2python/requirements.txt (line 3)) (3.0)\n",
      "Requirement already satisfied: matplotlib in /Users/izzy/anaconda3/envs/encode_code/lib/python3.9/site-packages (from -r ./matlab2python/requirements.txt (line 4)) (3.5.1)\n",
      "Requirement already satisfied: pytest in /Users/izzy/.local/lib/python3.9/site-packages (from -r ./matlab2python/requirements.txt (line 5)) (7.2.2)\n",
      "Requirement already satisfied: scipy in /Users/izzy/anaconda3/envs/encode_code/lib/python3.9/site-packages (from -r ./matlab2python/requirements.txt (line 6)) (1.7.3)\n",
      "Requirement already satisfied: fonttools>=4.22.0 in /Users/izzy/anaconda3/envs/encode_code/lib/python3.9/site-packages (from matplotlib->-r ./matlab2python/requirements.txt (line 4)) (4.25.0)\n",
      "Requirement already satisfied: cycler>=0.10 in /Users/izzy/anaconda3/envs/encode_code/lib/python3.9/site-packages (from matplotlib->-r ./matlab2python/requirements.txt (line 4)) (0.11.0)\n",
      "Requirement already satisfied: pillow>=6.2.0 in /Users/izzy/anaconda3/envs/encode_code/lib/python3.9/site-packages (from matplotlib->-r ./matlab2python/requirements.txt (line 4)) (9.0.1)\n",
      "Requirement already satisfied: pyparsing>=2.2.1 in /Users/izzy/anaconda3/envs/encode_code/lib/python3.9/site-packages (from matplotlib->-r ./matlab2python/requirements.txt (line 4)) (3.0.4)\n",
      "Requirement already satisfied: packaging>=20.0 in /Users/izzy/anaconda3/envs/encode_code/lib/python3.9/site-packages (from matplotlib->-r ./matlab2python/requirements.txt (line 4)) (21.3)\n",
      "Requirement already satisfied: python-dateutil>=2.7 in /Users/izzy/anaconda3/envs/encode_code/lib/python3.9/site-packages (from matplotlib->-r ./matlab2python/requirements.txt (line 4)) (2.8.2)\n",
      "Requirement already satisfied: kiwisolver>=1.0.1 in /Users/izzy/anaconda3/envs/encode_code/lib/python3.9/site-packages (from matplotlib->-r ./matlab2python/requirements.txt (line 4)) (1.3.2)\n",
      "Requirement already satisfied: pluggy<2.0,>=0.12 in /Users/izzy/.local/lib/python3.9/site-packages (from pytest->-r ./matlab2python/requirements.txt (line 5)) (1.0.0)\n",
      "Requirement already satisfied: tomli>=1.0.0 in /Users/izzy/anaconda3/envs/encode_code/lib/python3.9/site-packages (from pytest->-r ./matlab2python/requirements.txt (line 5)) (2.0.1)\n",
      "Requirement already satisfied: iniconfig in /Users/izzy/.local/lib/python3.9/site-packages (from pytest->-r ./matlab2python/requirements.txt (line 5)) (2.0.0)\n",
      "Requirement already satisfied: attrs>=19.2.0 in /Users/izzy/anaconda3/envs/encode_code/lib/python3.9/site-packages (from pytest->-r ./matlab2python/requirements.txt (line 5)) (21.4.0)\n",
      "Requirement already satisfied: exceptiongroup>=1.0.0rc8 in /Users/izzy/.local/lib/python3.9/site-packages (from pytest->-r ./matlab2python/requirements.txt (line 5)) (1.1.0)\n",
      "Requirement already satisfied: six>=1.5 in /Users/izzy/anaconda3/envs/encode_code/lib/python3.9/site-packages (from python-dateutil>=2.7->matplotlib->-r ./matlab2python/requirements.txt (line 4)) (1.16.0)\n",
      "Obtaining file:///Users/izzy/quantnet/quantnet_encodings/Quantlet/Translate-mt-r-to-py/matlab2python\n",
      "Requirement already satisfied: numpy in /Users/izzy/anaconda3/envs/encode_code/lib/python3.9/site-packages (from matlab2python==1.1) (1.21.5)\n",
      "Requirement already satisfied: ply in /Users/izzy/.local/lib/python3.9/site-packages (from matlab2python==1.1) (3.11)\n",
      "Requirement already satisfied: networkx in /Users/izzy/.local/lib/python3.9/site-packages (from matlab2python==1.1) (3.0)\n",
      "Requirement already satisfied: matplotlib in /Users/izzy/anaconda3/envs/encode_code/lib/python3.9/site-packages (from matlab2python==1.1) (3.5.1)\n",
      "Requirement already satisfied: pytest in /Users/izzy/.local/lib/python3.9/site-packages (from matlab2python==1.1) (7.2.2)\n",
      "Requirement already satisfied: scipy in /Users/izzy/anaconda3/envs/encode_code/lib/python3.9/site-packages (from matlab2python==1.1) (1.7.3)\n",
      "Requirement already satisfied: packaging>=20.0 in /Users/izzy/anaconda3/envs/encode_code/lib/python3.9/site-packages (from matplotlib->matlab2python==1.1) (21.3)\n",
      "Requirement already satisfied: pyparsing>=2.2.1 in /Users/izzy/anaconda3/envs/encode_code/lib/python3.9/site-packages (from matplotlib->matlab2python==1.1) (3.0.4)\n",
      "Requirement already satisfied: cycler>=0.10 in /Users/izzy/anaconda3/envs/encode_code/lib/python3.9/site-packages (from matplotlib->matlab2python==1.1) (0.11.0)\n",
      "Requirement already satisfied: python-dateutil>=2.7 in /Users/izzy/anaconda3/envs/encode_code/lib/python3.9/site-packages (from matplotlib->matlab2python==1.1) (2.8.2)\n",
      "Requirement already satisfied: fonttools>=4.22.0 in /Users/izzy/anaconda3/envs/encode_code/lib/python3.9/site-packages (from matplotlib->matlab2python==1.1) (4.25.0)\n",
      "Requirement already satisfied: pillow>=6.2.0 in /Users/izzy/anaconda3/envs/encode_code/lib/python3.9/site-packages (from matplotlib->matlab2python==1.1) (9.0.1)\n",
      "Requirement already satisfied: kiwisolver>=1.0.1 in /Users/izzy/anaconda3/envs/encode_code/lib/python3.9/site-packages (from matplotlib->matlab2python==1.1) (1.3.2)\n",
      "Requirement already satisfied: six>=1.5 in /Users/izzy/anaconda3/envs/encode_code/lib/python3.9/site-packages (from python-dateutil>=2.7->matplotlib->matlab2python==1.1) (1.16.0)\n",
      "Requirement already satisfied: pluggy<2.0,>=0.12 in /Users/izzy/.local/lib/python3.9/site-packages (from pytest->matlab2python==1.1) (1.0.0)\n",
      "Requirement already satisfied: iniconfig in /Users/izzy/.local/lib/python3.9/site-packages (from pytest->matlab2python==1.1) (2.0.0)\n",
      "Requirement already satisfied: exceptiongroup>=1.0.0rc8 in /Users/izzy/.local/lib/python3.9/site-packages (from pytest->matlab2python==1.1) (1.1.0)\n",
      "Requirement already satisfied: tomli>=1.0.0 in /Users/izzy/anaconda3/envs/encode_code/lib/python3.9/site-packages (from pytest->matlab2python==1.1) (2.0.1)\n",
      "Requirement already satisfied: attrs>=19.2.0 in /Users/izzy/anaconda3/envs/encode_code/lib/python3.9/site-packages (from pytest->matlab2python==1.1) (21.4.0)\n",
      "Installing collected packages: matlab2python\n",
      "  Attempting uninstall: matlab2python\n",
      "    Found existing installation: matlab2python 1.1\n",
      "    Uninstalling matlab2python-1.1:\n",
      "      Successfully uninstalled matlab2python-1.1\n",
      "  Running setup.py develop for matlab2python\n",
      "Successfully installed matlab2python\n"
     ]
    }
   ],
   "source": [
    "# Clone the repository\n",
    "#!git clone https://github.com/ebranlard/matlab2python\n",
    "\n",
    "# install dependencies\n",
    "!python -m pip install --user -r ./matlab2python/requirements.txt \n",
    "\n",
    "# install matlab2python\n",
    "!python -m pip install -e ./matlab2python "
   ]
  },
  {
   "cell_type": "code",
   "execution_count": 2,
   "metadata": {},
   "outputs": [
    {
     "name": "stdout",
     "output_type": "stream",
     "text": [
      "Requirement already satisfied: pyensae in /Users/izzy/anaconda3/envs/encode_code/lib/python3.9/site-packages (1.3.967)\n",
      "Requirement already satisfied: matplotlib>=3.0 in /Users/izzy/anaconda3/envs/encode_code/lib/python3.9/site-packages (from pyensae) (3.5.1)\n",
      "Requirement already satisfied: pyquickhelper>=1.8 in /Users/izzy/anaconda3/envs/encode_code/lib/python3.9/site-packages (from pyensae) (1.12.3806)\n",
      "Requirement already satisfied: pandas>=1.0 in /Users/izzy/anaconda3/envs/encode_code/lib/python3.9/site-packages (from pyensae) (1.3.5)\n",
      "Requirement already satisfied: numpy>=1.18 in /Users/izzy/anaconda3/envs/encode_code/lib/python3.9/site-packages (from pyensae) (1.21.5)\n",
      "Requirement already satisfied: pillow>=6.2.0 in /Users/izzy/anaconda3/envs/encode_code/lib/python3.9/site-packages (from matplotlib>=3.0->pyensae) (9.0.1)\n",
      "Requirement already satisfied: fonttools>=4.22.0 in /Users/izzy/anaconda3/envs/encode_code/lib/python3.9/site-packages (from matplotlib>=3.0->pyensae) (4.25.0)\n",
      "Requirement already satisfied: cycler>=0.10 in /Users/izzy/anaconda3/envs/encode_code/lib/python3.9/site-packages (from matplotlib>=3.0->pyensae) (0.11.0)\n",
      "Requirement already satisfied: packaging>=20.0 in /Users/izzy/anaconda3/envs/encode_code/lib/python3.9/site-packages (from matplotlib>=3.0->pyensae) (21.3)\n",
      "Requirement already satisfied: python-dateutil>=2.7 in /Users/izzy/anaconda3/envs/encode_code/lib/python3.9/site-packages (from matplotlib>=3.0->pyensae) (2.8.2)\n",
      "Requirement already satisfied: pyparsing>=2.2.1 in /Users/izzy/anaconda3/envs/encode_code/lib/python3.9/site-packages (from matplotlib>=3.0->pyensae) (3.0.4)\n",
      "Requirement already satisfied: kiwisolver>=1.0.1 in /Users/izzy/anaconda3/envs/encode_code/lib/python3.9/site-packages (from matplotlib>=3.0->pyensae) (1.3.2)\n",
      "Requirement already satisfied: pytz>=2017.3 in /Users/izzy/anaconda3/envs/encode_code/lib/python3.9/site-packages (from pandas>=1.0->pyensae) (2021.3)\n",
      "Requirement already satisfied: fire in /Users/izzy/anaconda3/envs/encode_code/lib/python3.9/site-packages (from pyquickhelper>=1.8->pyensae) (0.5.0)\n",
      "Requirement already satisfied: pyquicksetup>=0.2 in /Users/izzy/anaconda3/envs/encode_code/lib/python3.9/site-packages (from pyquickhelper>=1.8->pyensae) (0.2.4)\n",
      "Requirement already satisfied: setuptools in /Users/izzy/anaconda3/envs/encode_code/lib/python3.9/site-packages (from pyquicksetup>=0.2->pyquickhelper>=1.8->pyensae) (61.2.0)\n",
      "Requirement already satisfied: six>=1.5 in /Users/izzy/anaconda3/envs/encode_code/lib/python3.9/site-packages (from python-dateutil>=2.7->matplotlib>=3.0->pyensae) (1.16.0)\n",
      "Requirement already satisfied: termcolor in /Users/izzy/anaconda3/envs/encode_code/lib/python3.9/site-packages (from fire->pyquickhelper>=1.8->pyensae) (2.2.0)\n",
      "Requirement already satisfied: antlr4-tools in /Users/izzy/anaconda3/envs/encode_code/lib/python3.9/site-packages (0.2)\n",
      "Requirement already satisfied: install-jdk in /Users/izzy/anaconda3/envs/encode_code/lib/python3.9/site-packages (from antlr4-tools) (1.0.1)\n"
     ]
    }
   ],
   "source": [
    "!pip install pyensae\n",
    "\n",
    "!pip install antlr4-tools"
   ]
  },
  {
   "cell_type": "code",
   "execution_count": 3,
   "metadata": {},
   "outputs": [
    {
     "name": "stderr",
     "output_type": "stream",
     "text": [
      "usage: \n",
      "\n",
      "    smop [OPTIONS] [FILE1.m FILE2.m ...]\n",
      "smop: error: unrecognized arguments: --ip=127.0.0.1 --stdin=9008 --control=9006 --hb=9005 --Session.signature_scheme=\"hmac-sha256\" --Session.key=b\"1d7cf956-f779-46ad-9ee9-fa656fad25b4\" --shell=9007 --transport=\"tcp\" --iopub=9009 --f=/Users/izzy/Library/Jupyter/runtime/kernel-v2-846354QLblOYf74D0.json\n"
     ]
    },
    {
     "ename": "SystemExit",
     "evalue": "2",
     "output_type": "error",
     "traceback": [
      "An exception has occurred, use %tb to see the full traceback.\n",
      "\u001b[0;31mSystemExit\u001b[0m\u001b[0;31m:\u001b[0m 2\n"
     ]
    }
   ],
   "source": [
    "import pandas as pd\n",
    "import numpy as np\n",
    "import matplotlib.pyplot as plt\n",
    "import seaborn as sns\n",
    "\n",
    "import os   \n",
    "import sys\n",
    "import time\n",
    "import datetime\n",
    "import warnings\n",
    "warnings.filterwarnings('ignore')\n",
    "\n",
    "import matlabparser as mpars"
   ]
  },
  {
   "cell_type": "code",
   "execution_count": 3,
   "metadata": {},
   "outputs": [],
   "source": [
    "PATH_TO_PARSE = '../../data/QuantLet_to_parse'\n",
    "FILE_TYPES = ['m', 'py', 'r', 'R', 'M']\n",
    "TEST_PATH = '../../data/Q_test'"
   ]
  },
  {
   "cell_type": "code",
   "execution_count": 4,
   "metadata": {},
   "outputs": [
    {
     "ename": "ModuleNotFoundError",
     "evalue": "No module named 'antlr4'",
     "output_type": "error",
     "traceback": [
      "\u001b[0;31m---------------------------------------------------------------------------\u001b[0m",
      "\u001b[0;31mModuleNotFoundError\u001b[0m                       Traceback (most recent call last)",
      "\u001b[1;32m/Users/izzy/quantnet/quantnet_encodings/Quantlet/Translate-mt-r-to-py/translate_matlab_to_python.ipynb Cell 5\u001b[0m in \u001b[0;36m<cell line: 1>\u001b[0;34m()\u001b[0m\n\u001b[0;32m----> <a href='vscode-notebook-cell:/Users/izzy/quantnet/quantnet_encodings/Quantlet/Translate-mt-r-to-py/translate_matlab_to_python.ipynb#X20sZmlsZQ%3D%3D?line=0'>1</a>\u001b[0m \u001b[39mfrom\u001b[39;00m \u001b[39mpyensae\u001b[39;00m\u001b[39m.\u001b[39;00m\u001b[39mlanguages\u001b[39;00m\u001b[39m.\u001b[39;00m\u001b[39mrconverter\u001b[39;00m \u001b[39mimport\u001b[39;00m r2python\n",
      "File \u001b[0;32m~/anaconda3/envs/encode_code/lib/python3.9/site-packages/pyensae/languages/__init__.py:7\u001b[0m, in \u001b[0;36m<module>\u001b[0;34m\u001b[0m\n\u001b[1;32m      1\u001b[0m \u001b[39m\"\"\"\u001b[39;00m\n\u001b[1;32m      2\u001b[0m \u001b[39m@file\u001b[39;00m\n\u001b[1;32m      3\u001b[0m \u001b[39m@brief Shortcuts to languages.\u001b[39;00m\n\u001b[1;32m      4\u001b[0m \u001b[39m\"\"\"\u001b[39;00m\n\u001b[1;32m      6\u001b[0m \u001b[39mfrom\u001b[39;00m \u001b[39m.\u001b[39;00m\u001b[39mantlr_grammar_build\u001b[39;00m \u001b[39mimport\u001b[39;00m build_grammar\n\u001b[0;32m----> 7\u001b[0m \u001b[39mfrom\u001b[39;00m \u001b[39m.\u001b[39;00m\u001b[39mantlr_grammar_use\u001b[39;00m \u001b[39mimport\u001b[39;00m get_parser_lexer, parse_code, get_tree_string, get_tree_graph\n",
      "File \u001b[0;32m~/anaconda3/envs/encode_code/lib/python3.9/site-packages/pyensae/languages/antlr_grammar_use.py:7\u001b[0m, in \u001b[0;36m<module>\u001b[0;34m\u001b[0m\n\u001b[1;32m      1\u001b[0m \u001b[39m\"\"\"\u001b[39;00m\n\u001b[1;32m      2\u001b[0m \u001b[39m@file\u001b[39;00m\n\u001b[1;32m      3\u001b[0m \u001b[39m@brief Use grammar\u001b[39;00m\n\u001b[1;32m      4\u001b[0m \u001b[39mThis module requires `antlr4-python3-runtime <https://pypi.python.org/pypi/antlr4-python3-runtime/>`_.\u001b[39;00m\n\u001b[1;32m      5\u001b[0m \u001b[39m\"\"\"\u001b[39;00m\n\u001b[1;32m      6\u001b[0m \u001b[39mimport\u001b[39;00m \u001b[39mos\u001b[39;00m\n\u001b[0;32m----> 7\u001b[0m \u001b[39mfrom\u001b[39;00m \u001b[39mantlr4\u001b[39;00m \u001b[39mimport\u001b[39;00m ParseTreeWalker, CommonTokenStream, InputStream\n\u001b[1;32m      8\u001b[0m \u001b[39mfrom\u001b[39;00m \u001b[39m.\u001b[39;00m\u001b[39mtree_string_listener\u001b[39;00m \u001b[39mimport\u001b[39;00m TreeStringListener\n\u001b[1;32m      9\u001b[0m \u001b[39mfrom\u001b[39;00m \u001b[39m.\u001b[39;00m\u001b[39mtree_graph_listener\u001b[39;00m \u001b[39mimport\u001b[39;00m TreeGraphListener\n",
      "\u001b[0;31mModuleNotFoundError\u001b[0m: No module named 'antlr4'"
     ]
    }
   ],
   "source": [
    "from pyensae.languages.rconverter import r2python"
   ]
  },
  {
   "cell_type": "code",
   "execution_count": 11,
   "metadata": {},
   "outputs": [],
   "source": [
    "#python matlab2python.py tests/files/fSpectrum.m -o fSpectrum.py"
   ]
  },
  {
   "cell_type": "code",
   "execution_count": 36,
   "metadata": {},
   "outputs": [
    {
     "name": "stdout",
     "output_type": "stream",
     "text": [
      "m\n",
      "m\n",
      "m\n",
      "m\n",
      "m\n",
      "m\n",
      "m\n"
     ]
    }
   ],
   "source": [
    "# q_name, folder_name, code_script, type_script, metainfo_file\n",
    "language, name = '', ''\n",
    "for i, (root, directories, files) in enumerate(os.walk(TEST_PATH)):\n",
    "\n",
    "    if '.git' in root:\n",
    "        continue\n",
    "    for file in files:\n",
    "        language = file.split('.')[-1]\n",
    "        \n",
    "        if (language.lower() == 'm'):\n",
    "            print(language)\n",
    "            file_path = f'{root}/{file}'\n",
    "            new_file_path = f'{root}/{file.replace(\"m\", \"py\")}'\n",
    "            #print(f'Converted {file_path} to {new_file_path}')\n",
    "            if not os.path.exists(new_file_path):\n",
    "                pylines = mpars.matlab2python(file_path, output=new_file_path)\n",
    "                print(f'Converted {file_path} to {new_file_path}')\n",
    "            \n",
    "        else:\n",
    "            continue    "
   ]
  },
  {
   "cell_type": "code",
   "execution_count": null,
   "metadata": {},
   "outputs": [],
   "source": [
    "\n",
    "\n",
    "# --- Convert a matlab file \n",
    "pylines = mpars.matlab2python('path/to/file.m', output='file.py')\n",
    "\n",
    "# --- Convert matlab lines (string or list of strings)\n",
    "mlines=\"\"\"# a comment\n",
    "x = linspace(0,1,100);\n",
    "y = cos(x) + x**2;\n",
    "\"\"\"\n",
    "pylines = mpars.matlablines2python(mlines, output='stdout')"
   ]
  }
 ],
 "metadata": {
  "kernelspec": {
   "display_name": "encode_code",
   "language": "python",
   "name": "python3"
  },
  "language_info": {
   "codemirror_mode": {
    "name": "ipython",
    "version": 3
   },
   "file_extension": ".py",
   "mimetype": "text/x-python",
   "name": "python",
   "nbconvert_exporter": "python",
   "pygments_lexer": "ipython3",
   "version": "3.9.12"
  },
  "orig_nbformat": 4
 },
 "nbformat": 4,
 "nbformat_minor": 2
}

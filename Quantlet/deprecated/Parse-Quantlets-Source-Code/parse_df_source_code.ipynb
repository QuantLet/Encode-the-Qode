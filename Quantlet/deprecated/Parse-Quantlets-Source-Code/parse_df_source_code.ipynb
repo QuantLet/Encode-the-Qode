{
 "cells": [
  {
   "cell_type": "code",
   "execution_count": 5,
   "metadata": {},
   "outputs": [],
   "source": [
    "import os\n",
    "import pandas as pd\n",
    "import time\n",
    "import re\n",
    "import tqdm\n",
    "from ast import literal_eval\n",
    "import pickle"
   ]
  },
  {
   "cell_type": "code",
   "execution_count": 6,
   "metadata": {},
   "outputs": [],
   "source": [
    "PATH = '../data/'\n",
    "\n",
    "DEV = True\n",
    "\n",
    "\n",
    "if DEV: \n",
    "    f = 'DeepLearning'"
   ]
  },
  {
   "cell_type": "code",
   "execution_count": 7,
   "metadata": {},
   "outputs": [],
   "source": [
    "with open(os.path.join(PATH, 'repos_as_pandas_metainfo_20230126.pkl'), 'rb') as file:\n",
    "  df = pickle.load(file)"
   ]
  },
  {
   "cell_type": "code",
   "execution_count": 10,
   "metadata": {},
   "outputs": [],
   "source": [
    "df = df[df.type_script=='py']"
   ]
  },
  {
   "cell_type": "code",
   "execution_count": 15,
   "metadata": {},
   "outputs": [
    {
     "name": "stderr",
     "output_type": "stream",
     "text": [
      "/var/folders/9b/jflbvjp576j7v4px00lmp6000000gn/T/ipykernel_94979/968818999.py:1: SettingWithCopyWarning: \n",
      "A value is trying to be set on a copy of a slice from a DataFrame.\n",
      "Try using .loc[row_indexer,col_indexer] = value instead\n",
      "\n",
      "See the caveats in the documentation: https://pandas.pydata.org/pandas-docs/stable/user_guide/indexing.html#returning-a-view-versus-a-copy\n",
      "  df['code_script'] = df['code_script'].apply(lambda x: [line.decode() for line in x])\n"
     ]
    }
   ],
   "source": [
    "# CONVERT BYTES TO STRINGS \n",
    "\n",
    "df['code_script'] = df['code_script'].apply(lambda x: [line.decode() for line in x])\n"
   ]
  },
  {
   "cell_type": "code",
   "execution_count": 55,
   "metadata": {},
   "outputs": [
    {
     "data": {
      "text/plain": [
       "2        Bitcoin, Pricing Kernel, Bitcoin Option, Optio...\n",
       "3        Bitcoin, Pricing Kernel, Bitcoin Option, Optio...\n",
       "4        Bitcoin, Pricing Kernel, Bitcoin Option, Optio...\n",
       "5        Bitcoin, Pricing Kernel, Bitcoin Option, Optio...\n",
       "6        Bitcoin, Pricing Kernel, Bitcoin Option, Optio...\n",
       "                               ...                        \n",
       "19512    reinforcement learning, neural network, machin...\n",
       "19514    reinforcement learning, neural network, machin...\n",
       "19768                                                empty\n",
       "19865    Shapley, additive model, SHAP, Interpretabilit...\n",
       "19867    Shapley, Boosting, SHAP, Interpretability, Exp...\n",
       "Name: meta_keywords, Length: 1912, dtype: object"
      ]
     },
     "execution_count": 55,
     "metadata": {},
     "output_type": "execute_result"
    }
   ],
   "source": [
    "df.meta_keywords"
   ]
  },
  {
   "cell_type": "code",
   "execution_count": 56,
   "metadata": {},
   "outputs": [
    {
     "data": {
      "text/plain": [
       "Index(['folder_name', 'metainfo_file', 'code_script', 'type_script',\n",
       "       'script_name', 'q_name', 'meta_q_name', 'meta_desc', 'meta_keywords'],\n",
       "      dtype='object')"
      ]
     },
     "execution_count": 56,
     "metadata": {},
     "output_type": "execute_result"
    }
   ],
   "source": [
    "df.columns"
   ]
  },
  {
   "cell_type": "code",
   "execution_count": 58,
   "metadata": {},
   "outputs": [
    {
     "data": {
      "text/plain": [
       "658"
      ]
     },
     "execution_count": 58,
     "metadata": {},
     "output_type": "execute_result"
    }
   ],
   "source": [
    "df.meta_q_name.nunique()"
   ]
  },
  {
   "cell_type": "code",
   "execution_count": 61,
   "metadata": {},
   "outputs": [
    {
     "ename": "AttributeError",
     "evalue": "'StringMethods' object has no attribute 'nunique'",
     "output_type": "error",
     "traceback": [
      "\u001b[0;31m---------------------------------------------------------------------------\u001b[0m",
      "\u001b[0;31mAttributeError\u001b[0m                            Traceback (most recent call last)",
      "\u001b[1;32m/Users/izzy/quantnet/quantnet_encodings/Parse-Quantlets-Source-Code/parse_df_source_code.ipynb Zelle 9\u001b[0m in \u001b[0;36m<cell line: 1>\u001b[0;34m()\u001b[0m\n\u001b[0;32m----> <a href='vscode-notebook-cell:/Users/izzy/quantnet/quantnet_encodings/Parse-Quantlets-Source-Code/parse_df_source_code.ipynb#X46sZmlsZQ%3D%3D?line=0'>1</a>\u001b[0m df\u001b[39m.\u001b[39;49mmetainfo_file\u001b[39m.\u001b[39;49mstr\u001b[39m.\u001b[39;49mnunique()\n",
      "\u001b[0;31mAttributeError\u001b[0m: 'StringMethods' object has no attribute 'nunique'"
     ]
    }
   ],
   "source": [
    "df.metainfo_file.str.nunique()"
   ]
  },
  {
   "cell_type": "code",
   "execution_count": 43,
   "metadata": {},
   "outputs": [],
   "source": [
    "import ast\n",
    "tree = ast.parse(df['code_script'].iloc[0][1])"
   ]
  },
  {
   "cell_type": "code",
   "execution_count": 49,
   "metadata": {},
   "outputs": [
    {
     "ename": "SyntaxError",
     "evalue": "unexpected EOF while parsing (<unknown>, line 1)",
     "output_type": "error",
     "traceback": [
      "Traceback \u001b[0;36m(most recent call last)\u001b[0m:\n",
      "  File \u001b[1;32m~/anaconda3/envs/encode_code/lib/python3.9/site-packages/IPython/core/interactiveshell.py:3369\u001b[0m in \u001b[1;35mrun_code\u001b[0m\n    exec(code_obj, self.user_global_ns, self.user_ns)\n",
      "  Input \u001b[1;32mIn [49]\u001b[0m in \u001b[1;35m<cell line: 1>\u001b[0m\n    f = ast.parse('def plot_MKM(\\n')\n",
      "\u001b[0;36m  File \u001b[0;32m~/anaconda3/envs/encode_code/lib/python3.9/ast.py:50\u001b[0;36m in \u001b[0;35mparse\u001b[0;36m\u001b[0m\n\u001b[0;31m    return compile(source, filename, mode, flags,\u001b[0m\n",
      "\u001b[0;36m  File \u001b[0;32m<unknown>:1\u001b[0;36m\u001b[0m\n\u001b[0;31m    def plot_MKM(\u001b[0m\n\u001b[0m                 ^\u001b[0m\n\u001b[0;31mSyntaxError\u001b[0m\u001b[0;31m:\u001b[0m unexpected EOF while parsing\n"
     ]
    }
   ],
   "source": [
    "f = ast.parse('def plot_MKM(\\n')"
   ]
  },
  {
   "cell_type": "code",
   "execution_count": 44,
   "metadata": {},
   "outputs": [
    {
     "name": "stdout",
     "output_type": "stream",
     "text": [
      "<ast.Module object at 0x7fb67ebd3280>\n",
      "{'body': [<ast.Import object at 0x7fb67ebd32e0>], 'type_ignores': []}\n",
      "children: [<ast.Import object at 0x7fb67ebd32e0>]\\n\n",
      "<ast.Import object at 0x7fb67ebd32e0>\n",
      "{'names': [<ast.alias object at 0x7fb67ebd3550>], 'lineno': 1, 'col_offset': 0, 'end_lineno': 1, 'end_col_offset': 19}\n",
      "children: [<ast.alias object at 0x7fb67ebd3550>]\\n\n",
      "<ast.alias object at 0x7fb67ebd3550>\n",
      "{'name': 'pandas', 'asname': 'pd'}\n",
      "children: []\\n\n"
     ]
    }
   ],
   "source": [
    "for node in ast.walk(tree):\n",
    "    print(node)\n",
    "    print(node.__dict__)\n",
    "    print(\"children: \" + str([x for x in ast.iter_child_nodes(node)]) + \"\\\\n\")"
   ]
  },
  {
   "cell_type": "code",
   "execution_count": 42,
   "metadata": {},
   "outputs": [
    {
     "data": {
      "text/plain": [
       "<ast.alias at 0x7fb67e034430>"
      ]
     },
     "execution_count": 42,
     "metadata": {},
     "output_type": "execute_result"
    }
   ],
   "source": [
    "node"
   ]
  },
  {
   "cell_type": "code",
   "execution_count": 45,
   "metadata": {},
   "outputs": [
    {
     "data": {
      "text/plain": [
       "{'name': 'pandas', 'asname': 'pd'}"
      ]
     },
     "execution_count": 45,
     "metadata": {},
     "output_type": "execute_result"
    }
   ],
   "source": [
    "node.__dict__"
   ]
  },
  {
   "cell_type": "code",
   "execution_count": 39,
   "metadata": {},
   "outputs": [
    {
     "data": {
      "text/plain": [
       "\"Module(body=[Import(names=[alias(name='numpy', asname='np')])], type_ignores=[])\""
      ]
     },
     "execution_count": 39,
     "metadata": {},
     "output_type": "execute_result"
    }
   ],
   "source": [
    "ast.dump(tree)"
   ]
  },
  {
   "cell_type": "code",
   "execution_count": 52,
   "metadata": {},
   "outputs": [
    {
     "name": "stdout",
     "output_type": "stream",
     "text": [
      "Requirement already satisfied: astor in /Users/izzy/anaconda3/envs/encode_code/lib/python3.9/site-packages (0.8.1)\n",
      "Note: you may need to restart the kernel to use updated packages.\n",
      "Requirement already satisfied: showast in /Users/izzy/anaconda3/envs/encode_code/lib/python3.9/site-packages (0.2.4)\n",
      "Requirement already satisfied: graphviz in /Users/izzy/anaconda3/envs/encode_code/lib/python3.9/site-packages (from showast) (0.20.1)\n",
      "Requirement already satisfied: ipython in /Users/izzy/anaconda3/envs/encode_code/lib/python3.9/site-packages (from showast) (8.2.0)\n",
      "Requirement already satisfied: pexpect>4.3 in /Users/izzy/anaconda3/envs/encode_code/lib/python3.9/site-packages (from ipython->showast) (4.8.0)\n",
      "Requirement already satisfied: appnope in /Users/izzy/anaconda3/envs/encode_code/lib/python3.9/site-packages (from ipython->showast) (0.1.2)\n",
      "Requirement already satisfied: pygments>=2.4.0 in /Users/izzy/anaconda3/envs/encode_code/lib/python3.9/site-packages (from ipython->showast) (2.11.2)\n",
      "Requirement already satisfied: traitlets>=5 in /Users/izzy/anaconda3/envs/encode_code/lib/python3.9/site-packages (from ipython->showast) (5.1.1)\n",
      "Requirement already satisfied: setuptools>=18.5 in /Users/izzy/anaconda3/envs/encode_code/lib/python3.9/site-packages (from ipython->showast) (61.2.0)\n",
      "Requirement already satisfied: stack-data in /Users/izzy/anaconda3/envs/encode_code/lib/python3.9/site-packages (from ipython->showast) (0.2.0)\n",
      "Requirement already satisfied: backcall in /Users/izzy/anaconda3/envs/encode_code/lib/python3.9/site-packages (from ipython->showast) (0.2.0)\n",
      "Requirement already satisfied: matplotlib-inline in /Users/izzy/anaconda3/envs/encode_code/lib/python3.9/site-packages (from ipython->showast) (0.1.2)\n",
      "Requirement already satisfied: pickleshare in /Users/izzy/anaconda3/envs/encode_code/lib/python3.9/site-packages (from ipython->showast) (0.7.5)\n",
      "Requirement already satisfied: decorator in /Users/izzy/anaconda3/envs/encode_code/lib/python3.9/site-packages (from ipython->showast) (5.1.1)\n",
      "Requirement already satisfied: jedi>=0.16 in /Users/izzy/anaconda3/envs/encode_code/lib/python3.9/site-packages (from ipython->showast) (0.18.1)\n",
      "Requirement already satisfied: prompt-toolkit!=3.0.0,!=3.0.1,<3.1.0,>=2.0.0 in /Users/izzy/anaconda3/envs/encode_code/lib/python3.9/site-packages (from ipython->showast) (3.0.20)\n",
      "Requirement already satisfied: parso<0.9.0,>=0.8.0 in /Users/izzy/anaconda3/envs/encode_code/lib/python3.9/site-packages (from jedi>=0.16->ipython->showast) (0.8.3)\n",
      "Requirement already satisfied: ptyprocess>=0.5 in /Users/izzy/anaconda3/envs/encode_code/lib/python3.9/site-packages (from pexpect>4.3->ipython->showast) (0.7.0)\n",
      "Requirement already satisfied: wcwidth in /Users/izzy/anaconda3/envs/encode_code/lib/python3.9/site-packages (from prompt-toolkit!=3.0.0,!=3.0.1,<3.1.0,>=2.0.0->ipython->showast) (0.2.5)\n",
      "Requirement already satisfied: asttokens in /Users/izzy/anaconda3/envs/encode_code/lib/python3.9/site-packages (from stack-data->ipython->showast) (2.0.5)\n",
      "Requirement already satisfied: pure-eval in /Users/izzy/anaconda3/envs/encode_code/lib/python3.9/site-packages (from stack-data->ipython->showast) (0.2.2)\n",
      "Requirement already satisfied: executing in /Users/izzy/anaconda3/envs/encode_code/lib/python3.9/site-packages (from stack-data->ipython->showast) (0.8.3)\n",
      "Requirement already satisfied: six in /Users/izzy/anaconda3/envs/encode_code/lib/python3.9/site-packages (from asttokens->stack-data->ipython->showast) (1.16.0)\n",
      "Note: you may need to restart the kernel to use updated packages.\n"
     ]
    }
   ],
   "source": [
    "%pip install astor\n",
    "%pip install showast"
   ]
  },
  {
   "cell_type": "code",
   "execution_count": 33,
   "metadata": {},
   "outputs": [],
   "source": [
    "import astor\n",
    "import showast"
   ]
  },
  {
   "cell_type": "code",
   "execution_count": 27,
   "metadata": {},
   "outputs": [
    {
     "data": {
      "text/plain": [
       "\"Import(names=[alias(name='numpy', asname='np')])\""
      ]
     },
     "execution_count": 27,
     "metadata": {},
     "output_type": "execute_result"
    }
   ],
   "source": [
    "astor.dump_tree(tree.body[0])"
   ]
  },
  {
   "cell_type": "code",
   "execution_count": 35,
   "metadata": {},
   "outputs": [
    {
     "ename": "ExecutableNotFound",
     "evalue": "failed to execute PosixPath('dot'), make sure the Graphviz executables are on your systems' PATH",
     "output_type": "error",
     "traceback": [
      "\u001b[0;31m---------------------------------------------------------------------------\u001b[0m",
      "\u001b[0;31mFileNotFoundError\u001b[0m                         Traceback (most recent call last)",
      "File \u001b[0;32m~/anaconda3/envs/encode_code/lib/python3.9/site-packages/graphviz/backend/execute.py:79\u001b[0m, in \u001b[0;36mrun_check\u001b[0;34m(cmd, input_lines, encoding, quiet, **kwargs)\u001b[0m\n\u001b[1;32m     78\u001b[0m         kwargs[\u001b[39m'\u001b[39m\u001b[39mstdout\u001b[39m\u001b[39m'\u001b[39m] \u001b[39m=\u001b[39m kwargs[\u001b[39m'\u001b[39m\u001b[39mstderr\u001b[39m\u001b[39m'\u001b[39m] \u001b[39m=\u001b[39m subprocess\u001b[39m.\u001b[39mPIPE\n\u001b[0;32m---> 79\u001b[0m     proc \u001b[39m=\u001b[39m _run_input_lines(cmd, input_lines, kwargs\u001b[39m=\u001b[39;49mkwargs)\n\u001b[1;32m     80\u001b[0m \u001b[39melse\u001b[39;00m:\n",
      "File \u001b[0;32m~/anaconda3/envs/encode_code/lib/python3.9/site-packages/graphviz/backend/execute.py:99\u001b[0m, in \u001b[0;36m_run_input_lines\u001b[0;34m(cmd, input_lines, kwargs)\u001b[0m\n\u001b[1;32m     98\u001b[0m \u001b[39mdef\u001b[39;00m \u001b[39m_run_input_lines\u001b[39m(cmd, input_lines, \u001b[39m*\u001b[39m, kwargs):\n\u001b[0;32m---> 99\u001b[0m     popen \u001b[39m=\u001b[39m subprocess\u001b[39m.\u001b[39;49mPopen(cmd, stdin\u001b[39m=\u001b[39;49msubprocess\u001b[39m.\u001b[39;49mPIPE, \u001b[39m*\u001b[39;49m\u001b[39m*\u001b[39;49mkwargs)\n\u001b[1;32m    101\u001b[0m     stdin_write \u001b[39m=\u001b[39m popen\u001b[39m.\u001b[39mstdin\u001b[39m.\u001b[39mwrite\n",
      "File \u001b[0;32m~/anaconda3/envs/encode_code/lib/python3.9/subprocess.py:951\u001b[0m, in \u001b[0;36mPopen.__init__\u001b[0;34m(self, args, bufsize, executable, stdin, stdout, stderr, preexec_fn, close_fds, shell, cwd, env, universal_newlines, startupinfo, creationflags, restore_signals, start_new_session, pass_fds, user, group, extra_groups, encoding, errors, text, umask)\u001b[0m\n\u001b[1;32m    948\u001b[0m             \u001b[39mself\u001b[39m\u001b[39m.\u001b[39mstderr \u001b[39m=\u001b[39m io\u001b[39m.\u001b[39mTextIOWrapper(\u001b[39mself\u001b[39m\u001b[39m.\u001b[39mstderr,\n\u001b[1;32m    949\u001b[0m                     encoding\u001b[39m=\u001b[39mencoding, errors\u001b[39m=\u001b[39merrors)\n\u001b[0;32m--> 951\u001b[0m     \u001b[39mself\u001b[39;49m\u001b[39m.\u001b[39;49m_execute_child(args, executable, preexec_fn, close_fds,\n\u001b[1;32m    952\u001b[0m                         pass_fds, cwd, env,\n\u001b[1;32m    953\u001b[0m                         startupinfo, creationflags, shell,\n\u001b[1;32m    954\u001b[0m                         p2cread, p2cwrite,\n\u001b[1;32m    955\u001b[0m                         c2pread, c2pwrite,\n\u001b[1;32m    956\u001b[0m                         errread, errwrite,\n\u001b[1;32m    957\u001b[0m                         restore_signals,\n\u001b[1;32m    958\u001b[0m                         gid, gids, uid, umask,\n\u001b[1;32m    959\u001b[0m                         start_new_session)\n\u001b[1;32m    960\u001b[0m \u001b[39mexcept\u001b[39;00m:\n\u001b[1;32m    961\u001b[0m     \u001b[39m# Cleanup if the child failed starting.\u001b[39;00m\n",
      "File \u001b[0;32m~/anaconda3/envs/encode_code/lib/python3.9/subprocess.py:1821\u001b[0m, in \u001b[0;36mPopen._execute_child\u001b[0;34m(self, args, executable, preexec_fn, close_fds, pass_fds, cwd, env, startupinfo, creationflags, shell, p2cread, p2cwrite, c2pread, c2pwrite, errread, errwrite, restore_signals, gid, gids, uid, umask, start_new_session)\u001b[0m\n\u001b[1;32m   1820\u001b[0m         err_msg \u001b[39m=\u001b[39m os\u001b[39m.\u001b[39mstrerror(errno_num)\n\u001b[0;32m-> 1821\u001b[0m     \u001b[39mraise\u001b[39;00m child_exception_type(errno_num, err_msg, err_filename)\n\u001b[1;32m   1822\u001b[0m \u001b[39mraise\u001b[39;00m child_exception_type(err_msg)\n",
      "\u001b[0;31mFileNotFoundError\u001b[0m: [Errno 2] No such file or directory: PosixPath('dot')",
      "\nThe above exception was the direct cause of the following exception:\n",
      "\u001b[0;31mExecutableNotFound\u001b[0m                        Traceback (most recent call last)",
      "\u001b[1;32m/Users/izzy/quantnet/quantnet_encodings/Parse-Quantlets-Source-Code/parse_df_source_code.ipynb Zelle 12\u001b[0m in \u001b[0;36m<cell line: 1>\u001b[0;34m()\u001b[0m\n\u001b[0;32m----> <a href='vscode-notebook-cell:/Users/izzy/quantnet/quantnet_encodings/Parse-Quantlets-Source-Code/parse_df_source_code.ipynb#X34sZmlsZQ%3D%3D?line=0'>1</a>\u001b[0m get_ipython()\u001b[39m.\u001b[39;49mrun_cell_magic(\u001b[39m'\u001b[39;49m\u001b[39mshowast\u001b[39;49m\u001b[39m'\u001b[39;49m, \u001b[39m'\u001b[39;49m\u001b[39m'\u001b[39;49m, \u001b[39m'\u001b[39;49m\u001b[39m1+2\u001b[39;49m\u001b[39m\\n\u001b[39;49;00m\u001b[39m'\u001b[39;49m)\n",
      "File \u001b[0;32m~/anaconda3/envs/encode_code/lib/python3.9/site-packages/IPython/core/interactiveshell.py:2347\u001b[0m, in \u001b[0;36mInteractiveShell.run_cell_magic\u001b[0;34m(self, magic_name, line, cell)\u001b[0m\n\u001b[1;32m   2345\u001b[0m \u001b[39mwith\u001b[39;00m \u001b[39mself\u001b[39m\u001b[39m.\u001b[39mbuiltin_trap:\n\u001b[1;32m   2346\u001b[0m     args \u001b[39m=\u001b[39m (magic_arg_s, cell)\n\u001b[0;32m-> 2347\u001b[0m     result \u001b[39m=\u001b[39m fn(\u001b[39m*\u001b[39;49margs, \u001b[39m*\u001b[39;49m\u001b[39m*\u001b[39;49mkwargs)\n\u001b[1;32m   2348\u001b[0m \u001b[39mreturn\u001b[39;00m result\n",
      "File \u001b[0;32m~/anaconda3/envs/encode_code/lib/python3.9/site-packages/showast/__init__.py:55\u001b[0m, in \u001b[0;36mshowast\u001b[0;34m(__, cell)\u001b[0m\n\u001b[1;32m     52\u001b[0m \u001b[39m@register_cell_magic\u001b[39m\n\u001b[1;32m     53\u001b[0m \u001b[39mdef\u001b[39;00m \u001b[39mshowast\u001b[39m(__, cell):\n\u001b[1;32m     54\u001b[0m     m \u001b[39m=\u001b[39m ast\u001b[39m.\u001b[39mparse(cell)\n\u001b[0;32m---> 55\u001b[0m     show_ast(m)\n",
      "File \u001b[0;32m~/anaconda3/envs/encode_code/lib/python3.9/site-packages/showast/__init__.py:49\u001b[0m, in \u001b[0;36mshow_ast\u001b[0;34m(module, settings)\u001b[0m\n\u001b[1;32m     44\u001b[0m     node \u001b[39m=\u001b[39m module\n\u001b[1;32m     45\u001b[0m renderer \u001b[39m=\u001b[39m imp\u001b[39m.\u001b[39mload_module(\n\u001b[1;32m     46\u001b[0m     \u001b[39m'\u001b[39m\u001b[39mrenderer\u001b[39m\u001b[39m'\u001b[39m, \n\u001b[1;32m     47\u001b[0m     \u001b[39m*\u001b[39mimp\u001b[39m.\u001b[39mfind_module(\u001b[39m*\u001b[39msettings[\u001b[39m'\u001b[39m\u001b[39mrenderer\u001b[39m\u001b[39m'\u001b[39m])\n\u001b[1;32m     48\u001b[0m )\n\u001b[0;32m---> 49\u001b[0m display(renderer\u001b[39m.\u001b[39;49mrender(node, settings))\n",
      "File \u001b[0;32m~/anaconda3/envs/encode_code/lib/python3.9/site-packages/showast/rendering/graphviz.py:125\u001b[0m, in \u001b[0;36mrender\u001b[0;34m(node, settings)\u001b[0m\n\u001b[1;32m    108\u001b[0m handle_ast(\n\u001b[1;32m    109\u001b[0m     node,\n\u001b[1;32m    110\u001b[0m     parent_node\u001b[39m=\u001b[39m\u001b[39mNone\u001b[39;00m,\n\u001b[0;32m   (...)\u001b[0m\n\u001b[1;32m    115\u001b[0m     nonterminal_color\u001b[39m=\u001b[39msettings[\u001b[39m'\u001b[39m\u001b[39mnonterminal_color\u001b[39m\u001b[39m'\u001b[39m],\n\u001b[1;32m    116\u001b[0m )\n\u001b[1;32m    118\u001b[0m graph\u001b[39m.\u001b[39mnode_attr\u001b[39m.\u001b[39mupdate(\u001b[39mdict\u001b[39m(\n\u001b[1;32m    119\u001b[0m     fontname\u001b[39m=\u001b[39msettings[\u001b[39m'\u001b[39m\u001b[39mfont\u001b[39m\u001b[39m'\u001b[39m],\n\u001b[1;32m    120\u001b[0m     shape\u001b[39m=\u001b[39msettings[\u001b[39m'\u001b[39m\u001b[39mshape\u001b[39m\u001b[39m'\u001b[39m],\n\u001b[1;32m    121\u001b[0m     \u001b[39m#height='0.25',  # TODO: how to incorporate with scale param?\u001b[39;00m\n\u001b[1;32m    122\u001b[0m     \u001b[39m#fixedsize='true',\u001b[39;00m\n\u001b[1;32m    123\u001b[0m ))\n\u001b[0;32m--> 125\u001b[0m \u001b[39mreturn\u001b[39;00m SVG(graph\u001b[39m.\u001b[39;49mpipe(\u001b[39mformat\u001b[39;49m\u001b[39m=\u001b[39;49m\u001b[39m'\u001b[39;49m\u001b[39msvg\u001b[39;49m\u001b[39m'\u001b[39;49m))\n",
      "File \u001b[0;32m~/anaconda3/envs/encode_code/lib/python3.9/site-packages/graphviz/piping.py:104\u001b[0m, in \u001b[0;36mPipe.pipe\u001b[0;34m(self, format, renderer, formatter, neato_no_op, quiet, engine, encoding)\u001b[0m\n\u001b[1;32m     55\u001b[0m \u001b[39mdef\u001b[39;00m \u001b[39mpipe\u001b[39m(\u001b[39mself\u001b[39m,\n\u001b[1;32m     56\u001b[0m          \u001b[39mformat\u001b[39m: typing\u001b[39m.\u001b[39mOptional[\u001b[39mstr\u001b[39m] \u001b[39m=\u001b[39m \u001b[39mNone\u001b[39;00m,\n\u001b[1;32m     57\u001b[0m          renderer: typing\u001b[39m.\u001b[39mOptional[\u001b[39mstr\u001b[39m] \u001b[39m=\u001b[39m \u001b[39mNone\u001b[39;00m,\n\u001b[0;32m   (...)\u001b[0m\n\u001b[1;32m     61\u001b[0m          engine: typing\u001b[39m.\u001b[39mOptional[\u001b[39mstr\u001b[39m] \u001b[39m=\u001b[39m \u001b[39mNone\u001b[39;00m,\n\u001b[1;32m     62\u001b[0m          encoding: typing\u001b[39m.\u001b[39mOptional[\u001b[39mstr\u001b[39m] \u001b[39m=\u001b[39m \u001b[39mNone\u001b[39;00m) \u001b[39m-\u001b[39m\u001b[39m>\u001b[39m typing\u001b[39m.\u001b[39mUnion[\u001b[39mbytes\u001b[39m, \u001b[39mstr\u001b[39m]:\n\u001b[1;32m     63\u001b[0m     \u001b[39m\"\"\"Return the source piped through the Graphviz layout command.\u001b[39;00m\n\u001b[1;32m     64\u001b[0m \n\u001b[1;32m     65\u001b[0m \u001b[39m    Args:\u001b[39;00m\n\u001b[0;32m   (...)\u001b[0m\n\u001b[1;32m    102\u001b[0m \u001b[39m        '<?xml version='\u001b[39;00m\n\u001b[1;32m    103\u001b[0m \u001b[39m    \"\"\"\u001b[39;00m\n\u001b[0;32m--> 104\u001b[0m     \u001b[39mreturn\u001b[39;00m \u001b[39mself\u001b[39;49m\u001b[39m.\u001b[39;49m_pipe_legacy(\u001b[39mformat\u001b[39;49m,\n\u001b[1;32m    105\u001b[0m                              renderer\u001b[39m=\u001b[39;49mrenderer,\n\u001b[1;32m    106\u001b[0m                              formatter\u001b[39m=\u001b[39;49mformatter,\n\u001b[1;32m    107\u001b[0m                              neato_no_op\u001b[39m=\u001b[39;49mneato_no_op,\n\u001b[1;32m    108\u001b[0m                              quiet\u001b[39m=\u001b[39;49mquiet,\n\u001b[1;32m    109\u001b[0m                              engine\u001b[39m=\u001b[39;49mengine,\n\u001b[1;32m    110\u001b[0m                              encoding\u001b[39m=\u001b[39;49mencoding)\n",
      "File \u001b[0;32m~/anaconda3/envs/encode_code/lib/python3.9/site-packages/graphviz/_tools.py:171\u001b[0m, in \u001b[0;36mdeprecate_positional_args.<locals>.decorator.<locals>.wrapper\u001b[0;34m(*args, **kwargs)\u001b[0m\n\u001b[1;32m    162\u001b[0m     wanted \u001b[39m=\u001b[39m \u001b[39m'\u001b[39m\u001b[39m, \u001b[39m\u001b[39m'\u001b[39m\u001b[39m.\u001b[39mjoin(\u001b[39mf\u001b[39m\u001b[39m'\u001b[39m\u001b[39m{\u001b[39;00mname\u001b[39m}\u001b[39;00m\u001b[39m=\u001b[39m\u001b[39m{\u001b[39;00mvalue\u001b[39m!r}\u001b[39;00m\u001b[39m'\u001b[39m\n\u001b[1;32m    163\u001b[0m                        \u001b[39mfor\u001b[39;00m name, value \u001b[39min\u001b[39;00m deprecated\u001b[39m.\u001b[39mitems())\n\u001b[1;32m    164\u001b[0m     warnings\u001b[39m.\u001b[39mwarn(\u001b[39mf\u001b[39m\u001b[39m'\u001b[39m\u001b[39mThe signature of \u001b[39m\u001b[39m{\u001b[39;00mfunc\u001b[39m.\u001b[39m\u001b[39m__name__\u001b[39m\u001b[39m}\u001b[39;00m\u001b[39m will be reduced\u001b[39m\u001b[39m'\u001b[39m\n\u001b[1;32m    165\u001b[0m                   \u001b[39mf\u001b[39m\u001b[39m'\u001b[39m\u001b[39m to \u001b[39m\u001b[39m{\u001b[39;00msupported_number\u001b[39m}\u001b[39;00m\u001b[39m positional args\u001b[39m\u001b[39m'\u001b[39m\n\u001b[1;32m    166\u001b[0m                   \u001b[39mf\u001b[39m\u001b[39m'\u001b[39m\u001b[39m \u001b[39m\u001b[39m{\u001b[39;00m\u001b[39mlist\u001b[39m(supported)\u001b[39m}\u001b[39;00m\u001b[39m: pass \u001b[39m\u001b[39m{\u001b[39;00mwanted\u001b[39m}\u001b[39;00m\u001b[39m'\u001b[39m\n\u001b[1;32m    167\u001b[0m                   \u001b[39m'\u001b[39m\u001b[39m as keyword arg(s)\u001b[39m\u001b[39m'\u001b[39m,\n\u001b[1;32m    168\u001b[0m                   stacklevel\u001b[39m=\u001b[39mstacklevel,\n\u001b[1;32m    169\u001b[0m                   category\u001b[39m=\u001b[39mcategory)\n\u001b[0;32m--> 171\u001b[0m \u001b[39mreturn\u001b[39;00m func(\u001b[39m*\u001b[39;49margs, \u001b[39m*\u001b[39;49m\u001b[39m*\u001b[39;49mkwargs)\n",
      "File \u001b[0;32m~/anaconda3/envs/encode_code/lib/python3.9/site-packages/graphviz/piping.py:121\u001b[0m, in \u001b[0;36mPipe._pipe_legacy\u001b[0;34m(self, format, renderer, formatter, neato_no_op, quiet, engine, encoding)\u001b[0m\n\u001b[1;32m    112\u001b[0m \u001b[39m@_tools\u001b[39m\u001b[39m.\u001b[39mdeprecate_positional_args(supported_number\u001b[39m=\u001b[39m\u001b[39m2\u001b[39m)\n\u001b[1;32m    113\u001b[0m \u001b[39mdef\u001b[39;00m \u001b[39m_pipe_legacy\u001b[39m(\u001b[39mself\u001b[39m,\n\u001b[1;32m    114\u001b[0m                  \u001b[39mformat\u001b[39m: typing\u001b[39m.\u001b[39mOptional[\u001b[39mstr\u001b[39m] \u001b[39m=\u001b[39m \u001b[39mNone\u001b[39;00m,\n\u001b[0;32m   (...)\u001b[0m\n\u001b[1;32m    119\u001b[0m                  engine: typing\u001b[39m.\u001b[39mOptional[\u001b[39mstr\u001b[39m] \u001b[39m=\u001b[39m \u001b[39mNone\u001b[39;00m,\n\u001b[1;32m    120\u001b[0m                  encoding: typing\u001b[39m.\u001b[39mOptional[\u001b[39mstr\u001b[39m] \u001b[39m=\u001b[39m \u001b[39mNone\u001b[39;00m) \u001b[39m-\u001b[39m\u001b[39m>\u001b[39m typing\u001b[39m.\u001b[39mUnion[\u001b[39mbytes\u001b[39m, \u001b[39mstr\u001b[39m]:\n\u001b[0;32m--> 121\u001b[0m     \u001b[39mreturn\u001b[39;00m \u001b[39mself\u001b[39;49m\u001b[39m.\u001b[39;49m_pipe_future(\u001b[39mformat\u001b[39;49m,\n\u001b[1;32m    122\u001b[0m                              renderer\u001b[39m=\u001b[39;49mrenderer,\n\u001b[1;32m    123\u001b[0m                              formatter\u001b[39m=\u001b[39;49mformatter,\n\u001b[1;32m    124\u001b[0m                              neato_no_op\u001b[39m=\u001b[39;49mneato_no_op,\n\u001b[1;32m    125\u001b[0m                              quiet\u001b[39m=\u001b[39;49mquiet,\n\u001b[1;32m    126\u001b[0m                              engine\u001b[39m=\u001b[39;49mengine,\n\u001b[1;32m    127\u001b[0m                              encoding\u001b[39m=\u001b[39;49mencoding)\n",
      "File \u001b[0;32m~/anaconda3/envs/encode_code/lib/python3.9/site-packages/graphviz/piping.py:161\u001b[0m, in \u001b[0;36mPipe._pipe_future\u001b[0;34m(self, format, renderer, formatter, neato_no_op, quiet, engine, encoding)\u001b[0m\n\u001b[1;32m    159\u001b[0m     \u001b[39melse\u001b[39;00m:\n\u001b[1;32m    160\u001b[0m         \u001b[39mreturn\u001b[39;00m raw\u001b[39m.\u001b[39mdecode(encoding)\n\u001b[0;32m--> 161\u001b[0m \u001b[39mreturn\u001b[39;00m \u001b[39mself\u001b[39;49m\u001b[39m.\u001b[39;49m_pipe_lines(\u001b[39m*\u001b[39;49margs, input_encoding\u001b[39m=\u001b[39;49m\u001b[39mself\u001b[39;49m\u001b[39m.\u001b[39;49mencoding, \u001b[39m*\u001b[39;49m\u001b[39m*\u001b[39;49mkwargs)\n",
      "File \u001b[0;32m~/anaconda3/envs/encode_code/lib/python3.9/site-packages/graphviz/backend/piping.py:161\u001b[0m, in \u001b[0;36mpipe_lines\u001b[0;34m(engine, format, input_lines, input_encoding, renderer, formatter, neato_no_op, quiet)\u001b[0m\n\u001b[1;32m    155\u001b[0m cmd \u001b[39m=\u001b[39m dot_command\u001b[39m.\u001b[39mcommand(engine, \u001b[39mformat\u001b[39m,\n\u001b[1;32m    156\u001b[0m                           renderer\u001b[39m=\u001b[39mrenderer,\n\u001b[1;32m    157\u001b[0m                           formatter\u001b[39m=\u001b[39mformatter,\n\u001b[1;32m    158\u001b[0m                           neato_no_op\u001b[39m=\u001b[39mneato_no_op)\n\u001b[1;32m    159\u001b[0m kwargs \u001b[39m=\u001b[39m {\u001b[39m'\u001b[39m\u001b[39minput_lines\u001b[39m\u001b[39m'\u001b[39m: (line\u001b[39m.\u001b[39mencode(input_encoding) \u001b[39mfor\u001b[39;00m line \u001b[39min\u001b[39;00m input_lines)}\n\u001b[0;32m--> 161\u001b[0m proc \u001b[39m=\u001b[39m execute\u001b[39m.\u001b[39;49mrun_check(cmd, capture_output\u001b[39m=\u001b[39;49m\u001b[39mTrue\u001b[39;49;00m, quiet\u001b[39m=\u001b[39;49mquiet, \u001b[39m*\u001b[39;49m\u001b[39m*\u001b[39;49mkwargs)\n\u001b[1;32m    162\u001b[0m \u001b[39mreturn\u001b[39;00m proc\u001b[39m.\u001b[39mstdout\n",
      "File \u001b[0;32m~/anaconda3/envs/encode_code/lib/python3.9/site-packages/graphviz/backend/execute.py:84\u001b[0m, in \u001b[0;36mrun_check\u001b[0;34m(cmd, input_lines, encoding, quiet, **kwargs)\u001b[0m\n\u001b[1;32m     82\u001b[0m \u001b[39mexcept\u001b[39;00m \u001b[39mOSError\u001b[39;00m \u001b[39mas\u001b[39;00m e:\n\u001b[1;32m     83\u001b[0m     \u001b[39mif\u001b[39;00m e\u001b[39m.\u001b[39merrno \u001b[39m==\u001b[39m errno\u001b[39m.\u001b[39mENOENT:\n\u001b[0;32m---> 84\u001b[0m         \u001b[39mraise\u001b[39;00m ExecutableNotFound(cmd) \u001b[39mfrom\u001b[39;00m \u001b[39me\u001b[39;00m\n\u001b[1;32m     85\u001b[0m     \u001b[39mraise\u001b[39;00m\n\u001b[1;32m     87\u001b[0m \u001b[39mif\u001b[39;00m \u001b[39mnot\u001b[39;00m quiet \u001b[39mand\u001b[39;00m proc\u001b[39m.\u001b[39mstderr:\n",
      "\u001b[0;31mExecutableNotFound\u001b[0m: failed to execute PosixPath('dot'), make sure the Graphviz executables are on your systems' PATH"
     ]
    }
   ],
   "source": [
    "%%showast\n",
    "1+2"
   ]
  },
  {
   "cell_type": "code",
   "execution_count": 17,
   "metadata": {},
   "outputs": [
    {
     "data": {
      "text/plain": [
       "2        [import numpy as np\\n, import pandas as pd\\n, ...\n",
       "3        [import pandas as pd\\n, import os\\n, from date...\n",
       "4        [import dash\\n, from dash.dependencies import ...\n",
       "5                        [# required for QuantLet Graph\\n]\n",
       "6        [import numpy as np\\n, \\n, from spd_trading im...\n",
       "                               ...                        \n",
       "19512    [import pandas as pd\\n, from datetime import d...\n",
       "19514    [import pandas as pd\\n, import numpy as np\\n, ...\n",
       "19768    [import matplotlib.pyplot as plt\\r\\n, import r...\n",
       "19865    [#!/usr/bin/env python\\n, # coding: utf-8\\n, \\...\n",
       "19867    [#!/usr/bin/env python\\n, # coding: utf-8\\n, \\...\n",
       "Name: code_script, Length: 1912, dtype: object"
      ]
     },
     "execution_count": 17,
     "metadata": {},
     "output_type": "execute_result"
    }
   ],
   "source": [
    "df['code_script']"
   ]
  },
  {
   "cell_type": "code",
   "execution_count": 5,
   "metadata": {},
   "outputs": [],
   "source": [
    "def parse_imports(code):\n",
    "    pattern_import = re.compile('(?<=import\\s)\\w+')\n",
    "    matches_import = pattern_import.findall(code)\n",
    "\n",
    "    pattern_from = re.compile('(?<=from\\s)[\\w|.]+(?=\\simport)')\n",
    "    matches_from = pattern_from.findall(df.Sourcecode[0])\n",
    "\n",
    "    matches_import.extend(matches_from)\n",
    "    return ' '.join(matches_import)\n",
    "\n",
    "\n",
    "def parse_func_name(code):\n",
    "    pattern = re.compile('(?<=def\\s)[\\w|.]+(?=\\()')\n",
    "    matches = pattern.findall(code)\n",
    "    return ' '.join(matches)\n",
    "\n",
    "\n",
    "def parse_func_args(code, one_letter_removal=True):\n",
    "    pattern = re.compile('(?<=def).+(?=\\))')\n",
    "    matches = pattern.findall(code)\n",
    "    final_matches = ''\n",
    "    for match in matches:\n",
    "        final_matches += match.split('(')[1]\n",
    "    final_matches = final_matches.replace(',', ' ')\n",
    "\n",
    "    if one_letter_removal:\n",
    "        new_matches = []\n",
    "        for word in final_matches.split(' '):\n",
    "            if len(word)>1:\n",
    "                new_matches.append(word)\n",
    "\n",
    "        final_matches = ' '.join(new_matches)\n",
    "\n",
    "    #print(new_matches)\n",
    "\n",
    "    return final_matches\n",
    "\n",
    "def parse_vars(code):\n",
    "    pass\n",
    "\n",
    "def parse_all(code):\n",
    "    pattern = re.compile('(?<=import\\s)\\w+|(?<=from\\s)[\\w|.]+(?=\\simport)|(?<=def\\s).+(?=\\))|(?<=#).+')\n",
    "    matches = pattern.findall(code)\n",
    "    new_matches = []\n",
    "    for match in matches:\n",
    "        if '(' in match:\n",
    "            new_matches.extend(match.split('('))\n",
    "        else:\n",
    "            new_matches.append(match)\n",
    "        \n",
    "    return ' '.join(new_matches).replace(',', ' ')\n",
    "\n",
    "def parse_comments(code):\n",
    "    pattern = re.compile('(?<=#).+')#|(?<=\\\"\\\"\\\")(?s).+(?=\\\"\\\"\\\")\n",
    "    matches = pattern.findall(code)\n",
    "    return matches\n",
    "\n",
    "def parse_docstrings(code):\n",
    "    pattern = re.compile('(?<=\\\"\\\"\\\")(?s).+?(?=\\\"\\\"\\\")')\n",
    "    matches = pattern.findall(code)\n",
    "    return matches\n",
    "    \n"
   ]
  },
  {
   "cell_type": "code",
   "execution_count": 6,
   "metadata": {},
   "outputs": [],
   "source": [
    "df['ParsedSource'] = df.Sourcecode.apply(parse_all)"
   ]
  },
  {
   "cell_type": "code",
   "execution_count": 7,
   "metadata": {},
   "outputs": [],
   "source": [
    "df['num_parsed_code_tokens'] = df['ParsedSource'].apply(lambda x: len(x.split()))"
   ]
  },
  {
   "cell_type": "code",
   "execution_count": 9,
   "metadata": {},
   "outputs": [],
   "source": [
    "del df['Sourcecode']"
   ]
  },
  {
   "cell_type": "code",
   "execution_count": 10,
   "metadata": {},
   "outputs": [],
   "source": [
    "df.to_csv('../data/parsed_source_code_df_v2.csv', index=False)"
   ]
  },
  {
   "cell_type": "code",
   "execution_count": null,
   "metadata": {},
   "outputs": [],
   "source": [
    "# TODOS:\n",
    "\n",
    "# remove ------- from comments\n",
    "# remove ##### from comments\n",
    "# remove one letter variables\n",
    "# remove \n",
    "# split Camel Cases\n",
    "# split on _ \n",
    "# split on ."
   ]
  },
  {
   "cell_type": "code",
   "execution_count": null,
   "metadata": {},
   "outputs": [],
   "source": [
    "##### ENCODE THE DESCRIPTION"
   ]
  },
  {
   "cell_type": "code",
   "execution_count": null,
   "metadata": {},
   "outputs": [],
   "source": [
    "##### ENCODE THE CODE"
   ]
  },
  {
   "cell_type": "code",
   "execution_count": null,
   "metadata": {},
   "outputs": [],
   "source": [
    "##### ENCODE THE KEYWORDS"
   ]
  }
 ],
 "metadata": {
  "interpreter": {
   "hash": "b5068c5f83f27504f643fbd77082c0ce556ae27ae78fa94fc3f8daafe95bc05c"
  },
  "kernelspec": {
   "display_name": "Python 3.9.12 ('encode_code')",
   "language": "python",
   "name": "python3"
  },
  "language_info": {
   "codemirror_mode": {
    "name": "ipython",
    "version": 3
   },
   "file_extension": ".py",
   "mimetype": "text/x-python",
   "name": "python",
   "nbconvert_exporter": "python",
   "pygments_lexer": "ipython3",
   "version": "3.9.12 (main, Apr  5 2022, 01:53:17) \n[Clang 12.0.0 ]"
  },
  "orig_nbformat": 4
 },
 "nbformat": 4,
 "nbformat_minor": 2
}

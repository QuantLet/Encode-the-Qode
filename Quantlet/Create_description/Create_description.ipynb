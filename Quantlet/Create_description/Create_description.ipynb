{
 "cells": [
  {
   "cell_type": "code",
   "execution_count": 17,
   "metadata": {},
   "outputs": [
    {
     "data": {
      "text/plain": [
       "<module 'preprocessing_utils' from '/Users/izzy/quantnet/quantnet_encodings/Quantlet/Create_description/preprocessing_utils.py'>"
      ]
     },
     "execution_count": 17,
     "metadata": {},
     "output_type": "execute_result"
    }
   ],
   "source": [
    "import pandas as pd\n",
    "import numpy as np\n",
    "\n",
    "import os\n",
    "import pickle\n",
    "import json\n",
    "import re\n",
    "import sys\n",
    "from IPython.display import display\n",
    "\n",
    "import matplotlib.pyplot as plt\n",
    "import seaborn as sns\n",
    "\n",
    "import torch\n",
    "from torch.utils.data import Dataset, DataLoader\n",
    "\n",
    "import importlib\n",
    "\n",
    "import preprocessing_utils\n",
    "\n",
    "importlib.reload(preprocessing_utils)"
   ]
  },
  {
   "cell_type": "code",
   "execution_count": 15,
   "metadata": {},
   "outputs": [],
   "source": [
    "parsed_Qs_file = '../../data/preprocessed/Quantlet/Parsed_Qs_12032023.pkl'\n",
    "dataset = preprocessing_utils.QuantletDataset(parsed_Qs_file)"
   ]
  },
  {
   "cell_type": "code",
   "execution_count": 35,
   "metadata": {},
   "outputs": [],
   "source": [
    "code_script_path = os.path.join(dataset.parsed_Qs_file.folder_name.iloc[30], dataset.parsed_Qs_file.script_name.iloc[30])"
   ]
  },
  {
   "cell_type": "code",
   "execution_count": 23,
   "metadata": {},
   "outputs": [
    {
     "data": {
      "text/plain": [
       "'../../data/QuantLet/UYCTR/LRtest.R'"
      ]
     },
     "execution_count": 23,
     "metadata": {},
     "output_type": "execute_result"
    }
   ],
   "source": [
    "code_script_path"
   ]
  },
  {
   "cell_type": "code",
   "execution_count": 32,
   "metadata": {},
   "outputs": [],
   "source": [
    "g = dataset.parsed_Qs_file"
   ]
  },
  {
   "cell_type": "code",
   "execution_count": 34,
   "metadata": {},
   "outputs": [
    {
     "data": {
      "text/html": [
       "<div>\n",
       "<style scoped>\n",
       "    .dataframe tbody tr th:only-of-type {\n",
       "        vertical-align: middle;\n",
       "    }\n",
       "\n",
       "    .dataframe tbody tr th {\n",
       "        vertical-align: top;\n",
       "    }\n",
       "\n",
       "    .dataframe thead th {\n",
       "        text-align: right;\n",
       "    }\n",
       "</style>\n",
       "<table border=\"1\" class=\"dataframe\">\n",
       "  <thead>\n",
       "    <tr style=\"text-align: right;\">\n",
       "      <th></th>\n",
       "      <th>folder_name</th>\n",
       "      <th>metainfo_file</th>\n",
       "      <th>type_script</th>\n",
       "      <th>script_name</th>\n",
       "      <th>script_name_no_ext</th>\n",
       "    </tr>\n",
       "  </thead>\n",
       "  <tbody>\n",
       "    <tr>\n",
       "      <th>30</th>\n",
       "      <td>../../data/QuantLet/Stable/Stable_LogDensity_F...</td>\n",
       "      <td>{'Name of Quantlet': 'Stable_LogDensity_Financ...</td>\n",
       "      <td>m</td>\n",
       "      <td>Stable_LogDensity_Financials.m</td>\n",
       "      <td>Stable_LogDensity_Financials</td>\n",
       "    </tr>\n",
       "    <tr>\n",
       "      <th>31</th>\n",
       "      <td>../../data/QuantLet/Stable/Stable_Rescaling</td>\n",
       "      <td>{'Name of Quantlet': 'Stable_Rescaling', 'Publ...</td>\n",
       "      <td>m</td>\n",
       "      <td>Stable_Rescaling.m</td>\n",
       "      <td>Stable_Rescaling</td>\n",
       "    </tr>\n",
       "    <tr>\n",
       "      <th>59</th>\n",
       "      <td>../../data/QuantLet/ssmmatlab/SSM_agtrimanssbs_d</td>\n",
       "      <td>{'Name of QuantLet': 'SSM_agrimanssbs_d', 'Pub...</td>\n",
       "      <td>m</td>\n",
       "      <td>SSM_agrimanssbs_d.m</td>\n",
       "      <td>SSM_agrimanssbs_d</td>\n",
       "    </tr>\n",
       "    <tr>\n",
       "      <th>60</th>\n",
       "      <td>../../data/QuantLet/ssmmatlab/SSM_varma2echelon_d</td>\n",
       "      <td>{'Name of QuantLet': 'SSM_varma2echelon_d', 'P...</td>\n",
       "      <td>m</td>\n",
       "      <td>varmax2echelon_d.m</td>\n",
       "      <td>varmax2echelon_d</td>\n",
       "    </tr>\n",
       "    <tr>\n",
       "      <th>61</th>\n",
       "      <td>../../data/QuantLet/ssmmatlab/SSM_viviusa_d</td>\n",
       "      <td>{'Name of QuantLet': 'SSM_viviusa_d', 'Publish...</td>\n",
       "      <td>m</td>\n",
       "      <td>SSM_viviusa_d.m</td>\n",
       "      <td>SSM_viviusa_d</td>\n",
       "    </tr>\n",
       "    <tr>\n",
       "      <th>...</th>\n",
       "      <td>...</td>\n",
       "      <td>...</td>\n",
       "      <td>...</td>\n",
       "      <td>...</td>\n",
       "      <td>...</td>\n",
       "    </tr>\n",
       "    <tr>\n",
       "      <th>8600</th>\n",
       "      <td>../../data/QuantLet/SurrogateModel/SurrogateMo...</td>\n",
       "      <td>{'Name of Quantlet': 'SRM_fig4.2', 'Published ...</td>\n",
       "      <td>m</td>\n",
       "      <td>main.m</td>\n",
       "      <td>main</td>\n",
       "    </tr>\n",
       "    <tr>\n",
       "      <th>8601</th>\n",
       "      <td>../../data/QuantLet/SurrogateModel/SurrogateMo...</td>\n",
       "      <td>{'Name of Quantlet': 'SRM_fig4.2', 'Published ...</td>\n",
       "      <td>m</td>\n",
       "      <td>Plots.m</td>\n",
       "      <td>Plots</td>\n",
       "    </tr>\n",
       "    <tr>\n",
       "      <th>8602</th>\n",
       "      <td>../../data/QuantLet/SurrogateModel/SurrogateMo...</td>\n",
       "      <td>{'Name of Quantlet': 'SRM_fig4.2', 'Published ...</td>\n",
       "      <td>m</td>\n",
       "      <td>Problem.m</td>\n",
       "      <td>Problem</td>\n",
       "    </tr>\n",
       "    <tr>\n",
       "      <th>8603</th>\n",
       "      <td>../../data/QuantLet/SurrogateModel/SurrogateMo...</td>\n",
       "      <td>{'Name of Quantlet': 'SRM_fig4.2', 'Published ...</td>\n",
       "      <td>m</td>\n",
       "      <td>main.m</td>\n",
       "      <td>main</td>\n",
       "    </tr>\n",
       "    <tr>\n",
       "      <th>8604</th>\n",
       "      <td>../../data/QuantLet/SurrogateModel/SurrogateMo...</td>\n",
       "      <td>{'Name of Quantlet': 'SRM_fig4.2', 'Published ...</td>\n",
       "      <td>m</td>\n",
       "      <td>Plots.m</td>\n",
       "      <td>Plots</td>\n",
       "    </tr>\n",
       "  </tbody>\n",
       "</table>\n",
       "<p>2449 rows × 5 columns</p>\n",
       "</div>"
      ],
      "text/plain": [
       "                                            folder_name  \\\n",
       "30    ../../data/QuantLet/Stable/Stable_LogDensity_F...   \n",
       "31          ../../data/QuantLet/Stable/Stable_Rescaling   \n",
       "59     ../../data/QuantLet/ssmmatlab/SSM_agtrimanssbs_d   \n",
       "60    ../../data/QuantLet/ssmmatlab/SSM_varma2echelon_d   \n",
       "61          ../../data/QuantLet/ssmmatlab/SSM_viviusa_d   \n",
       "...                                                 ...   \n",
       "8600  ../../data/QuantLet/SurrogateModel/SurrogateMo...   \n",
       "8601  ../../data/QuantLet/SurrogateModel/SurrogateMo...   \n",
       "8602  ../../data/QuantLet/SurrogateModel/SurrogateMo...   \n",
       "8603  ../../data/QuantLet/SurrogateModel/SurrogateMo...   \n",
       "8604  ../../data/QuantLet/SurrogateModel/SurrogateMo...   \n",
       "\n",
       "                                          metainfo_file type_script  \\\n",
       "30    {'Name of Quantlet': 'Stable_LogDensity_Financ...           m   \n",
       "31    {'Name of Quantlet': 'Stable_Rescaling', 'Publ...           m   \n",
       "59    {'Name of QuantLet': 'SSM_agrimanssbs_d', 'Pub...           m   \n",
       "60    {'Name of QuantLet': 'SSM_varma2echelon_d', 'P...           m   \n",
       "61    {'Name of QuantLet': 'SSM_viviusa_d', 'Publish...           m   \n",
       "...                                                 ...         ...   \n",
       "8600  {'Name of Quantlet': 'SRM_fig4.2', 'Published ...           m   \n",
       "8601  {'Name of Quantlet': 'SRM_fig4.2', 'Published ...           m   \n",
       "8602  {'Name of Quantlet': 'SRM_fig4.2', 'Published ...           m   \n",
       "8603  {'Name of Quantlet': 'SRM_fig4.2', 'Published ...           m   \n",
       "8604  {'Name of Quantlet': 'SRM_fig4.2', 'Published ...           m   \n",
       "\n",
       "                         script_name            script_name_no_ext  \n",
       "30    Stable_LogDensity_Financials.m  Stable_LogDensity_Financials  \n",
       "31                Stable_Rescaling.m              Stable_Rescaling  \n",
       "59               SSM_agrimanssbs_d.m             SSM_agrimanssbs_d  \n",
       "60                varmax2echelon_d.m              varmax2echelon_d  \n",
       "61                   SSM_viviusa_d.m                 SSM_viviusa_d  \n",
       "...                              ...                           ...  \n",
       "8600                          main.m                          main  \n",
       "8601                         Plots.m                         Plots  \n",
       "8602                       Problem.m                       Problem  \n",
       "8603                          main.m                          main  \n",
       "8604                         Plots.m                         Plots  \n",
       "\n",
       "[2449 rows x 5 columns]"
      ]
     },
     "execution_count": 34,
     "metadata": {},
     "output_type": "execute_result"
    }
   ],
   "source": [
    "g.query('type_script == \"m\"')"
   ]
  },
  {
   "cell_type": "code",
   "execution_count": 36,
   "metadata": {},
   "outputs": [
    {
     "name": "stdout",
     "output_type": "stream",
     "text": [
      "%% Stable_LogDensity_Financials\n",
      "    % Compares parametric densities of Normal, Stable and Cauchy with\n",
      "    % empirical financial market returns on log-scale to emphasize\n",
      "    % non-normal behavior.\n",
      "\n",
      "%% Global Commands\n",
      "\n",
      "% ver % verify the version of Matlab\n",
      "clear;clc; % clear\n",
      "\n",
      "% set global commands for font size and line width\n",
      "size_font=12;\n",
      "size_line=2;\n",
      "set(0,'DefaultAxesFontSize',size_font,'DefaultTextFontSize',size_font);\n",
      "set(0,'defaultlinelinewidth',size_line)\n",
      "\n",
      "%% Data and dimensions\n",
      "\n",
      "load data.mat\n",
      "ret=price2ret(prices);\n",
      "[A,B]=size(ret);\n",
      "\n",
      "%% Plotting\n",
      "\n",
      "scale=0.0001;\n",
      "line_width=3;\n",
      "\n",
      "h=figure();\n",
      "\n",
      "% closed form pdfs for normal\n",
      "x=-10:0.01:10;\n",
      "pd_gauss = makedist('Normal',0,1);\n",
      "pdf_gaussian = pdf(pd_gauss,x);\n",
      "semilogy(x,pdf_gaussian+scale,'Color',[0 102 204]./255,'linewidth',line_width); hold on;\n",
      "\n",
      "% closed form pdfs for cauchy\n",
      "pdf_cauchy = tpdf(x,1);\n",
      "semilogy(x,pdf_cauchy+scale,'Color',[204 0 0]./255,'linewidth',line_width)\n",
      "\n",
      "% approx for stable\n",
      "%ret_choice=ret(:,1);\n",
      "pd_stable = makedist('Stable',1.7,0,1/sqrt(2),0);\n",
      "pdf_stable=pdf(pd_stable,x);\n",
      "semilogy(x,pdf_stable+scale,'Color',[0 204 102]./255,'linewidth',line_width)\n",
      "\n",
      "% assets\n",
      "for i=1:B % reduce B to make the plot simpler\n",
      "    [y,t]=ksdensity((ret(:,i)-mean(ret(:,i)))./std(ret(:,i)),x); %,'bandwidth',0.005\n",
      "    semilogy(t,y+scale,'Color',[128 128 128]./255,'linewidth',1);hold on;\n",
      "end\n",
      "\n",
      "xlabel('Normalized Log-returns')\n",
      "ylabel('Log-Frequency')\n",
      "xlim([-10,10])\n",
      "\n"
     ]
    }
   ],
   "source": [
    "\n",
    "importlib.reload(preprocessing_utils)\n",
    "print(preprocessing_utils.load_script(code_script_path))"
   ]
  },
  {
   "cell_type": "code",
   "execution_count": null,
   "metadata": {},
   "outputs": [],
   "source": []
  }
 ],
 "metadata": {
  "kernelspec": {
   "display_name": "encode_code",
   "language": "python",
   "name": "python3"
  },
  "language_info": {
   "codemirror_mode": {
    "name": "ipython",
    "version": 3
   },
   "file_extension": ".py",
   "mimetype": "text/x-python",
   "name": "python",
   "nbconvert_exporter": "python",
   "pygments_lexer": "ipython3",
   "version": "3.9.12"
  },
  "orig_nbformat": 4
 },
 "nbformat": 4,
 "nbformat_minor": 2
}

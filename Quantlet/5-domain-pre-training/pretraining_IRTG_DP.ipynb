{
 "cells": [
  {
   "cell_type": "code",
   "execution_count": 1,
   "metadata": {
    "id": "FT4ah19dzgvl",
    "tags": []
   },
   "outputs": [
    {
     "ename": "ModuleNotFoundError",
     "evalue": "No module named 'google.colab'",
     "output_type": "error",
     "traceback": [
      "\u001b[0;31m---------------------------------------------------------------------------\u001b[0m",
      "\u001b[0;31mModuleNotFoundError\u001b[0m                       Traceback (most recent call last)",
      "Cell \u001b[0;32mIn[1], line 1\u001b[0m\n\u001b[0;32m----> 1\u001b[0m \u001b[38;5;28;01mfrom\u001b[39;00m \u001b[38;5;21;01mgoogle\u001b[39;00m\u001b[38;5;21;01m.\u001b[39;00m\u001b[38;5;21;01mcolab\u001b[39;00m \u001b[38;5;28;01mimport\u001b[39;00m drive\n\u001b[1;32m      2\u001b[0m drive\u001b[38;5;241m.\u001b[39mmount(\u001b[38;5;124m'\u001b[39m\u001b[38;5;124m/content/drive\u001b[39m\u001b[38;5;124m'\u001b[39m)\n",
      "\u001b[0;31mModuleNotFoundError\u001b[0m: No module named 'google.colab'"
     ]
    }
   ],
   "source": [
    "#from google.colab import drive\n",
    "#drive.mount('/content/drive')"
   ]
  },
  {
   "cell_type": "code",
   "execution_count": 4,
   "metadata": {
    "id": "AqIKOMpbzugg",
    "tags": []
   },
   "outputs": [],
   "source": [
    "QPATH = \"Quantlet/5-domain-pre-training\"\n",
    "MODE = 'test'\n",
    "\n",
    "import sys\n",
    "#IN_COLAB = 'google.colab' in sys.modules\n",
    "\n",
    "import os\n",
    "#if IN_COLAB:\n",
    "#  os.chdir(f'/content/drive/MyDrive/ColabNotebooks/IRTG/Encode_the_Qode/Encode-the-Qode/{QPATH}')\n",
    "\n",
    "sys.path.append('../src')"
   ]
  },
  {
   "cell_type": "code",
   "execution_count": 5,
   "metadata": {
    "id": "ZDVRAGWj_F-6",
    "tags": []
   },
   "outputs": [
    {
     "name": "stdout",
     "output_type": "stream",
     "text": [
      "Requirement already satisfied: transformers[torch] in /home/RDC/zinovyee.hub/.local/lib/python3.9/site-packages (4.28.1)\n",
      "Requirement already satisfied: regex!=2019.12.17 in /home/RDC/zinovyee.hub/.conda/envs/encode_code/lib/python3.9/site-packages (from transformers[torch]) (2022.10.31)\n",
      "Requirement already satisfied: packaging>=20.0 in /home/RDC/zinovyee.hub/.conda/envs/encode_code/lib/python3.9/site-packages (from transformers[torch]) (23.0)\n",
      "Requirement already satisfied: huggingface-hub<1.0,>=0.11.0 in /home/RDC/zinovyee.hub/.local/lib/python3.9/site-packages (from transformers[torch]) (0.13.3)\n",
      "Requirement already satisfied: filelock in /home/RDC/zinovyee.hub/.conda/envs/encode_code/lib/python3.9/site-packages (from transformers[torch]) (3.9.0)\n",
      "Requirement already satisfied: requests in /home/RDC/zinovyee.hub/.conda/envs/encode_code/lib/python3.9/site-packages (from transformers[torch]) (2.28.2)\n",
      "Requirement already satisfied: pyyaml>=5.1 in /home/RDC/zinovyee.hub/.conda/envs/encode_code/lib/python3.9/site-packages (from transformers[torch]) (6.0)\n",
      "Requirement already satisfied: tokenizers!=0.11.3,<0.14,>=0.11.1 in /home/RDC/zinovyee.hub/.local/lib/python3.9/site-packages (from transformers[torch]) (0.13.3)\n",
      "Requirement already satisfied: numpy>=1.17 in /home/RDC/zinovyee.hub/.conda/envs/encode_code/lib/python3.9/site-packages (from transformers[torch]) (1.24.1)\n",
      "Requirement already satisfied: tqdm>=4.27 in /home/RDC/zinovyee.hub/.conda/envs/encode_code/lib/python3.9/site-packages (from transformers[torch]) (4.64.1)\n",
      "Requirement already satisfied: torch!=1.12.0,>=1.9 in /home/RDC/zinovyee.hub/.conda/envs/encode_code/lib/python3.9/site-packages (from transformers[torch]) (2.0.1)\n",
      "Requirement already satisfied: typing-extensions>=3.7.4.3 in /home/RDC/zinovyee.hub/.local/lib/python3.9/site-packages (from huggingface-hub<1.0,>=0.11.0->transformers[torch]) (4.5.0)\n",
      "Requirement already satisfied: nvidia-cufft-cu11==10.9.0.58 in /home/RDC/zinovyee.hub/.conda/envs/encode_code/lib/python3.9/site-packages (from torch!=1.12.0,>=1.9->transformers[torch]) (10.9.0.58)\n",
      "Requirement already satisfied: nvidia-nccl-cu11==2.14.3 in /home/RDC/zinovyee.hub/.conda/envs/encode_code/lib/python3.9/site-packages (from torch!=1.12.0,>=1.9->transformers[torch]) (2.14.3)\n",
      "Requirement already satisfied: nvidia-cusparse-cu11==11.7.4.91 in /home/RDC/zinovyee.hub/.conda/envs/encode_code/lib/python3.9/site-packages (from torch!=1.12.0,>=1.9->transformers[torch]) (11.7.4.91)\n",
      "Requirement already satisfied: nvidia-nvtx-cu11==11.7.91 in /home/RDC/zinovyee.hub/.conda/envs/encode_code/lib/python3.9/site-packages (from torch!=1.12.0,>=1.9->transformers[torch]) (11.7.91)\n",
      "Requirement already satisfied: nvidia-cuda-nvrtc-cu11==11.7.99 in /home/RDC/zinovyee.hub/.local/lib/python3.9/site-packages (from torch!=1.12.0,>=1.9->transformers[torch]) (11.7.99)\n",
      "Requirement already satisfied: triton==2.0.0 in /home/RDC/zinovyee.hub/.conda/envs/encode_code/lib/python3.9/site-packages (from torch!=1.12.0,>=1.9->transformers[torch]) (2.0.0)\n",
      "Requirement already satisfied: nvidia-cudnn-cu11==8.5.0.96 in /home/RDC/zinovyee.hub/.local/lib/python3.9/site-packages (from torch!=1.12.0,>=1.9->transformers[torch]) (8.5.0.96)\n",
      "Requirement already satisfied: sympy in /home/RDC/zinovyee.hub/.conda/envs/encode_code/lib/python3.9/site-packages (from torch!=1.12.0,>=1.9->transformers[torch]) (1.12)\n",
      "Requirement already satisfied: nvidia-cusolver-cu11==11.4.0.1 in /home/RDC/zinovyee.hub/.conda/envs/encode_code/lib/python3.9/site-packages (from torch!=1.12.0,>=1.9->transformers[torch]) (11.4.0.1)\n",
      "Requirement already satisfied: jinja2 in /home/RDC/zinovyee.hub/.conda/envs/encode_code/lib/python3.9/site-packages (from torch!=1.12.0,>=1.9->transformers[torch]) (3.1.2)\n",
      "Requirement already satisfied: nvidia-cuda-runtime-cu11==11.7.99 in /home/RDC/zinovyee.hub/.local/lib/python3.9/site-packages (from torch!=1.12.0,>=1.9->transformers[torch]) (11.7.99)\n",
      "Requirement already satisfied: networkx in /home/RDC/zinovyee.hub/.conda/envs/encode_code/lib/python3.9/site-packages (from torch!=1.12.0,>=1.9->transformers[torch]) (3.1)\n",
      "Requirement already satisfied: nvidia-cuda-cupti-cu11==11.7.101 in /home/RDC/zinovyee.hub/.conda/envs/encode_code/lib/python3.9/site-packages (from torch!=1.12.0,>=1.9->transformers[torch]) (11.7.101)\n",
      "Requirement already satisfied: nvidia-cublas-cu11==11.10.3.66 in /home/RDC/zinovyee.hub/.local/lib/python3.9/site-packages (from torch!=1.12.0,>=1.9->transformers[torch]) (11.10.3.66)\n",
      "Requirement already satisfied: nvidia-curand-cu11==10.2.10.91 in /home/RDC/zinovyee.hub/.conda/envs/encode_code/lib/python3.9/site-packages (from torch!=1.12.0,>=1.9->transformers[torch]) (10.2.10.91)\n",
      "Requirement already satisfied: setuptools in /home/RDC/zinovyee.hub/.conda/envs/encode_code/lib/python3.9/site-packages (from nvidia-cublas-cu11==11.10.3.66->torch!=1.12.0,>=1.9->transformers[torch]) (67.1.0)\n",
      "Requirement already satisfied: wheel in /home/RDC/zinovyee.hub/.conda/envs/encode_code/lib/python3.9/site-packages (from nvidia-cublas-cu11==11.10.3.66->torch!=1.12.0,>=1.9->transformers[torch]) (0.37.1)\n",
      "Requirement already satisfied: lit in /home/RDC/zinovyee.hub/.conda/envs/encode_code/lib/python3.9/site-packages (from triton==2.0.0->torch!=1.12.0,>=1.9->transformers[torch]) (16.0.5.post0)\n",
      "Requirement already satisfied: cmake in /home/RDC/zinovyee.hub/.conda/envs/encode_code/lib/python3.9/site-packages (from triton==2.0.0->torch!=1.12.0,>=1.9->transformers[torch]) (3.26.4)\n",
      "Requirement already satisfied: certifi>=2017.4.17 in /home/RDC/zinovyee.hub/.conda/envs/encode_code/lib/python3.9/site-packages (from requests->transformers[torch]) (2022.12.7)\n",
      "Requirement already satisfied: idna<4,>=2.5 in /home/RDC/zinovyee.hub/.conda/envs/encode_code/lib/python3.9/site-packages (from requests->transformers[torch]) (3.4)\n",
      "Requirement already satisfied: urllib3<1.27,>=1.21.1 in /home/RDC/zinovyee.hub/.local/lib/python3.9/site-packages (from requests->transformers[torch]) (1.26.15)\n",
      "Requirement already satisfied: charset-normalizer<4,>=2 in /home/RDC/zinovyee.hub/.conda/envs/encode_code/lib/python3.9/site-packages (from requests->transformers[torch]) (2.1.1)\n",
      "Requirement already satisfied: MarkupSafe>=2.0 in /home/RDC/zinovyee.hub/.conda/envs/encode_code/lib/python3.9/site-packages (from jinja2->torch!=1.12.0,>=1.9->transformers[torch]) (2.1.1)\n",
      "Requirement already satisfied: mpmath>=0.19 in /home/RDC/zinovyee.hub/.conda/envs/encode_code/lib/python3.9/site-packages (from sympy->torch!=1.12.0,>=1.9->transformers[torch]) (1.3.0)\n",
      "\n",
      "\u001b[1m[\u001b[0m\u001b[34;49mnotice\u001b[0m\u001b[1;39;49m]\u001b[0m\u001b[39;49m A new release of pip is available: \u001b[0m\u001b[31;49m23.0.1\u001b[0m\u001b[39;49m -> \u001b[0m\u001b[32;49m23.3.1\u001b[0m\n",
      "\u001b[1m[\u001b[0m\u001b[34;49mnotice\u001b[0m\u001b[1;39;49m]\u001b[0m\u001b[39;49m To update, run: \u001b[0m\u001b[32;49mpip install --upgrade pip\u001b[0m\n",
      "Note: you may need to restart the kernel to use updated packages.\n",
      "\n",
      "\u001b[1m[\u001b[0m\u001b[34;49mnotice\u001b[0m\u001b[1;39;49m]\u001b[0m\u001b[39;49m A new release of pip is available: \u001b[0m\u001b[31;49m23.0.1\u001b[0m\u001b[39;49m -> \u001b[0m\u001b[32;49m23.3.1\u001b[0m\n",
      "\u001b[1m[\u001b[0m\u001b[34;49mnotice\u001b[0m\u001b[1;39;49m]\u001b[0m\u001b[39;49m To update, run: \u001b[0m\u001b[32;49mpip install --upgrade pip\u001b[0m\n",
      "Note: you may need to restart the kernel to use updated packages.\n",
      "Requirement already satisfied: datasets==2.13.1 in /home/RDC/zinovyee.hub/.conda/envs/encode_code/lib/python3.9/site-packages (2.13.1)\n",
      "Requirement already satisfied: multiprocess in /home/RDC/zinovyee.hub/.local/lib/python3.9/site-packages (from datasets==2.13.1) (0.70.14)\n",
      "Requirement already satisfied: pyyaml>=5.1 in /home/RDC/zinovyee.hub/.conda/envs/encode_code/lib/python3.9/site-packages (from datasets==2.13.1) (6.0)\n",
      "Requirement already satisfied: numpy>=1.17 in /home/RDC/zinovyee.hub/.conda/envs/encode_code/lib/python3.9/site-packages (from datasets==2.13.1) (1.24.1)\n",
      "Requirement already satisfied: pandas in /home/RDC/zinovyee.hub/.local/lib/python3.9/site-packages (from datasets==2.13.1) (1.3.5)\n",
      "Requirement already satisfied: xxhash in /home/RDC/zinovyee.hub/.local/lib/python3.9/site-packages (from datasets==2.13.1) (3.2.0)\n",
      "Requirement already satisfied: tqdm>=4.62.1 in /home/RDC/zinovyee.hub/.conda/envs/encode_code/lib/python3.9/site-packages (from datasets==2.13.1) (4.64.1)\n",
      "Requirement already satisfied: huggingface-hub<1.0.0,>=0.11.0 in /home/RDC/zinovyee.hub/.local/lib/python3.9/site-packages (from datasets==2.13.1) (0.13.3)\n",
      "Requirement already satisfied: requests>=2.19.0 in /home/RDC/zinovyee.hub/.conda/envs/encode_code/lib/python3.9/site-packages (from datasets==2.13.1) (2.28.2)\n",
      "Requirement already satisfied: dill<0.3.7,>=0.3.0 in /home/RDC/zinovyee.hub/.local/lib/python3.9/site-packages (from datasets==2.13.1) (0.3.6)\n",
      "Requirement already satisfied: packaging in /home/RDC/zinovyee.hub/.conda/envs/encode_code/lib/python3.9/site-packages (from datasets==2.13.1) (23.0)\n",
      "Requirement already satisfied: fsspec[http]>=2021.11.1 in /home/RDC/zinovyee.hub/.conda/envs/encode_code/lib/python3.9/site-packages (from datasets==2.13.1) (2023.1.0)\n",
      "Requirement already satisfied: aiohttp in /home/RDC/zinovyee.hub/.conda/envs/encode_code/lib/python3.9/site-packages (from datasets==2.13.1) (3.8.3)\n",
      "Requirement already satisfied: pyarrow>=8.0.0 in /home/RDC/zinovyee.hub/.local/lib/python3.9/site-packages (from datasets==2.13.1) (11.0.0)\n",
      "Requirement already satisfied: attrs>=17.3.0 in /home/RDC/zinovyee.hub/.conda/envs/encode_code/lib/python3.9/site-packages (from aiohttp->datasets==2.13.1) (22.1.0)\n",
      "Requirement already satisfied: frozenlist>=1.1.1 in /home/RDC/zinovyee.hub/.conda/envs/encode_code/lib/python3.9/site-packages (from aiohttp->datasets==2.13.1) (1.3.3)\n",
      "Requirement already satisfied: aiosignal>=1.1.2 in /home/RDC/zinovyee.hub/.conda/envs/encode_code/lib/python3.9/site-packages (from aiohttp->datasets==2.13.1) (1.3.1)\n",
      "Requirement already satisfied: yarl<2.0,>=1.0 in /home/RDC/zinovyee.hub/.conda/envs/encode_code/lib/python3.9/site-packages (from aiohttp->datasets==2.13.1) (1.8.2)\n",
      "Requirement already satisfied: multidict<7.0,>=4.5 in /home/RDC/zinovyee.hub/.conda/envs/encode_code/lib/python3.9/site-packages (from aiohttp->datasets==2.13.1) (6.0.4)\n",
      "Requirement already satisfied: async-timeout<5.0,>=4.0.0a3 in /home/RDC/zinovyee.hub/.conda/envs/encode_code/lib/python3.9/site-packages (from aiohttp->datasets==2.13.1) (4.0.2)\n",
      "Requirement already satisfied: charset-normalizer<3.0,>=2.0 in /home/RDC/zinovyee.hub/.conda/envs/encode_code/lib/python3.9/site-packages (from aiohttp->datasets==2.13.1) (2.1.1)\n",
      "Requirement already satisfied: typing-extensions>=3.7.4.3 in /home/RDC/zinovyee.hub/.local/lib/python3.9/site-packages (from huggingface-hub<1.0.0,>=0.11.0->datasets==2.13.1) (4.5.0)\n",
      "Requirement already satisfied: filelock in /home/RDC/zinovyee.hub/.conda/envs/encode_code/lib/python3.9/site-packages (from huggingface-hub<1.0.0,>=0.11.0->datasets==2.13.1) (3.9.0)\n",
      "Requirement already satisfied: certifi>=2017.4.17 in /home/RDC/zinovyee.hub/.conda/envs/encode_code/lib/python3.9/site-packages (from requests>=2.19.0->datasets==2.13.1) (2022.12.7)\n",
      "Requirement already satisfied: urllib3<1.27,>=1.21.1 in /home/RDC/zinovyee.hub/.local/lib/python3.9/site-packages (from requests>=2.19.0->datasets==2.13.1) (1.26.15)\n",
      "Requirement already satisfied: idna<4,>=2.5 in /home/RDC/zinovyee.hub/.conda/envs/encode_code/lib/python3.9/site-packages (from requests>=2.19.0->datasets==2.13.1) (3.4)\n",
      "Requirement already satisfied: python-dateutil>=2.7.3 in /home/RDC/zinovyee.hub/.conda/envs/encode_code/lib/python3.9/site-packages (from pandas->datasets==2.13.1) (2.8.2)\n",
      "Requirement already satisfied: pytz>=2017.3 in /home/RDC/zinovyee.hub/.conda/envs/encode_code/lib/python3.9/site-packages (from pandas->datasets==2.13.1) (2022.7.1)\n",
      "Requirement already satisfied: six>=1.5 in /home/RDC/zinovyee.hub/.conda/envs/encode_code/lib/python3.9/site-packages (from python-dateutil>=2.7.3->pandas->datasets==2.13.1) (1.16.0)\n",
      "\n",
      "\u001b[1m[\u001b[0m\u001b[34;49mnotice\u001b[0m\u001b[1;39;49m]\u001b[0m\u001b[39;49m A new release of pip is available: \u001b[0m\u001b[31;49m23.0.1\u001b[0m\u001b[39;49m -> \u001b[0m\u001b[32;49m23.3.1\u001b[0m\n",
      "\u001b[1m[\u001b[0m\u001b[34;49mnotice\u001b[0m\u001b[1;39;49m]\u001b[0m\u001b[39;49m To update, run: \u001b[0m\u001b[32;49mpip install --upgrade pip\u001b[0m\n",
      "Note: you may need to restart the kernel to use updated packages.\n",
      "Requirement already satisfied: evaluate in /home/RDC/zinovyee.hub/.local/lib/python3.9/site-packages (0.4.0)\n",
      "Requirement already satisfied: multiprocess in /home/RDC/zinovyee.hub/.local/lib/python3.9/site-packages (from evaluate) (0.70.14)\n",
      "Requirement already satisfied: pandas in /home/RDC/zinovyee.hub/.local/lib/python3.9/site-packages (from evaluate) (1.3.5)\n",
      "Requirement already satisfied: tqdm>=4.62.1 in /home/RDC/zinovyee.hub/.conda/envs/encode_code/lib/python3.9/site-packages (from evaluate) (4.64.1)\n",
      "Requirement already satisfied: xxhash in /home/RDC/zinovyee.hub/.local/lib/python3.9/site-packages (from evaluate) (3.2.0)\n",
      "Requirement already satisfied: responses<0.19 in /home/RDC/zinovyee.hub/.local/lib/python3.9/site-packages (from evaluate) (0.18.0)\n",
      "Requirement already satisfied: requests>=2.19.0 in /home/RDC/zinovyee.hub/.conda/envs/encode_code/lib/python3.9/site-packages (from evaluate) (2.28.2)\n",
      "Requirement already satisfied: dill in /home/RDC/zinovyee.hub/.local/lib/python3.9/site-packages (from evaluate) (0.3.6)\n",
      "Requirement already satisfied: packaging in /home/RDC/zinovyee.hub/.conda/envs/encode_code/lib/python3.9/site-packages (from evaluate) (23.0)\n",
      "Requirement already satisfied: datasets>=2.0.0 in /home/RDC/zinovyee.hub/.conda/envs/encode_code/lib/python3.9/site-packages (from evaluate) (2.13.1)\n",
      "Requirement already satisfied: fsspec[http]>=2021.05.0 in /home/RDC/zinovyee.hub/.conda/envs/encode_code/lib/python3.9/site-packages (from evaluate) (2023.1.0)\n",
      "Requirement already satisfied: huggingface-hub>=0.7.0 in /home/RDC/zinovyee.hub/.local/lib/python3.9/site-packages (from evaluate) (0.13.3)\n",
      "Requirement already satisfied: numpy>=1.17 in /home/RDC/zinovyee.hub/.conda/envs/encode_code/lib/python3.9/site-packages (from evaluate) (1.24.1)\n",
      "Requirement already satisfied: pyarrow>=8.0.0 in /home/RDC/zinovyee.hub/.local/lib/python3.9/site-packages (from datasets>=2.0.0->evaluate) (11.0.0)\n",
      "Requirement already satisfied: aiohttp in /home/RDC/zinovyee.hub/.conda/envs/encode_code/lib/python3.9/site-packages (from datasets>=2.0.0->evaluate) (3.8.3)\n",
      "Requirement already satisfied: pyyaml>=5.1 in /home/RDC/zinovyee.hub/.conda/envs/encode_code/lib/python3.9/site-packages (from datasets>=2.0.0->evaluate) (6.0)\n",
      "Requirement already satisfied: typing-extensions>=3.7.4.3 in /home/RDC/zinovyee.hub/.local/lib/python3.9/site-packages (from huggingface-hub>=0.7.0->evaluate) (4.5.0)\n",
      "Requirement already satisfied: filelock in /home/RDC/zinovyee.hub/.conda/envs/encode_code/lib/python3.9/site-packages (from huggingface-hub>=0.7.0->evaluate) (3.9.0)\n",
      "Requirement already satisfied: urllib3<1.27,>=1.21.1 in /home/RDC/zinovyee.hub/.local/lib/python3.9/site-packages (from requests>=2.19.0->evaluate) (1.26.15)\n",
      "Requirement already satisfied: certifi>=2017.4.17 in /home/RDC/zinovyee.hub/.conda/envs/encode_code/lib/python3.9/site-packages (from requests>=2.19.0->evaluate) (2022.12.7)\n",
      "Requirement already satisfied: idna<4,>=2.5 in /home/RDC/zinovyee.hub/.conda/envs/encode_code/lib/python3.9/site-packages (from requests>=2.19.0->evaluate) (3.4)\n",
      "Requirement already satisfied: charset-normalizer<4,>=2 in /home/RDC/zinovyee.hub/.conda/envs/encode_code/lib/python3.9/site-packages (from requests>=2.19.0->evaluate) (2.1.1)\n",
      "Requirement already satisfied: pytz>=2017.3 in /home/RDC/zinovyee.hub/.conda/envs/encode_code/lib/python3.9/site-packages (from pandas->evaluate) (2022.7.1)\n",
      "Requirement already satisfied: python-dateutil>=2.7.3 in /home/RDC/zinovyee.hub/.conda/envs/encode_code/lib/python3.9/site-packages (from pandas->evaluate) (2.8.2)\n",
      "Requirement already satisfied: attrs>=17.3.0 in /home/RDC/zinovyee.hub/.conda/envs/encode_code/lib/python3.9/site-packages (from aiohttp->datasets>=2.0.0->evaluate) (22.1.0)\n",
      "Requirement already satisfied: async-timeout<5.0,>=4.0.0a3 in /home/RDC/zinovyee.hub/.conda/envs/encode_code/lib/python3.9/site-packages (from aiohttp->datasets>=2.0.0->evaluate) (4.0.2)\n",
      "Requirement already satisfied: frozenlist>=1.1.1 in /home/RDC/zinovyee.hub/.conda/envs/encode_code/lib/python3.9/site-packages (from aiohttp->datasets>=2.0.0->evaluate) (1.3.3)\n",
      "Requirement already satisfied: aiosignal>=1.1.2 in /home/RDC/zinovyee.hub/.conda/envs/encode_code/lib/python3.9/site-packages (from aiohttp->datasets>=2.0.0->evaluate) (1.3.1)\n",
      "Requirement already satisfied: multidict<7.0,>=4.5 in /home/RDC/zinovyee.hub/.conda/envs/encode_code/lib/python3.9/site-packages (from aiohttp->datasets>=2.0.0->evaluate) (6.0.4)\n",
      "Requirement already satisfied: yarl<2.0,>=1.0 in /home/RDC/zinovyee.hub/.conda/envs/encode_code/lib/python3.9/site-packages (from aiohttp->datasets>=2.0.0->evaluate) (1.8.2)\n",
      "Requirement already satisfied: six>=1.5 in /home/RDC/zinovyee.hub/.conda/envs/encode_code/lib/python3.9/site-packages (from python-dateutil>=2.7.3->pandas->evaluate) (1.16.0)\n",
      "\n",
      "\u001b[1m[\u001b[0m\u001b[34;49mnotice\u001b[0m\u001b[1;39;49m]\u001b[0m\u001b[39;49m A new release of pip is available: \u001b[0m\u001b[31;49m23.0.1\u001b[0m\u001b[39;49m -> \u001b[0m\u001b[32;49m23.3.1\u001b[0m\n",
      "\u001b[1m[\u001b[0m\u001b[34;49mnotice\u001b[0m\u001b[1;39;49m]\u001b[0m\u001b[39;49m To update, run: \u001b[0m\u001b[32;49mpip install --upgrade pip\u001b[0m\n",
      "Note: you may need to restart the kernel to use updated packages.\n",
      "Requirement already satisfied: rouge_score in /home/RDC/zinovyee.hub/.local/lib/python3.9/site-packages (0.1.2)\n",
      "Requirement already satisfied: nltk in /home/RDC/zinovyee.hub/.conda/envs/encode_code/lib/python3.9/site-packages (from rouge_score) (3.8.1)\n",
      "Requirement already satisfied: six>=1.14.0 in /home/RDC/zinovyee.hub/.conda/envs/encode_code/lib/python3.9/site-packages (from rouge_score) (1.16.0)\n",
      "Requirement already satisfied: absl-py in /home/RDC/zinovyee.hub/.local/lib/python3.9/site-packages (from rouge_score) (1.4.0)\n",
      "Requirement already satisfied: numpy in /home/RDC/zinovyee.hub/.conda/envs/encode_code/lib/python3.9/site-packages (from rouge_score) (1.24.1)\n",
      "Requirement already satisfied: tqdm in /home/RDC/zinovyee.hub/.conda/envs/encode_code/lib/python3.9/site-packages (from nltk->rouge_score) (4.64.1)\n",
      "Requirement already satisfied: joblib in /home/RDC/zinovyee.hub/.conda/envs/encode_code/lib/python3.9/site-packages (from nltk->rouge_score) (1.2.0)\n",
      "Requirement already satisfied: click in /home/RDC/zinovyee.hub/.conda/envs/encode_code/lib/python3.9/site-packages (from nltk->rouge_score) (8.1.3)\n",
      "Requirement already satisfied: regex>=2021.8.3 in /home/RDC/zinovyee.hub/.conda/envs/encode_code/lib/python3.9/site-packages (from nltk->rouge_score) (2022.10.31)\n",
      "\n",
      "\u001b[1m[\u001b[0m\u001b[34;49mnotice\u001b[0m\u001b[1;39;49m]\u001b[0m\u001b[39;49m A new release of pip is available: \u001b[0m\u001b[31;49m23.0.1\u001b[0m\u001b[39;49m -> \u001b[0m\u001b[32;49m23.3.1\u001b[0m\n",
      "\u001b[1m[\u001b[0m\u001b[34;49mnotice\u001b[0m\u001b[1;39;49m]\u001b[0m\u001b[39;49m To update, run: \u001b[0m\u001b[32;49mpip install --upgrade pip\u001b[0m\n",
      "Note: you may need to restart the kernel to use updated packages.\n"
     ]
    }
   ],
   "source": [
    "#%pip install protobuf==3.20.1\n",
    "%pip install transformers[torch]\n",
    "%pip install -q sentencepiece\n",
    "%pip install datasets==2.13.1\n",
    "%pip install evaluate\n",
    "%pip install rouge_score\n",
    "#%pip install wandb\n",
    "#%pip install git+https://github.com/huggingface/nlp.git@fix-bad-type-in-overflow-check"
   ]
  },
  {
   "cell_type": "code",
   "execution_count": 6,
   "metadata": {
    "id": "yfphDSXv_F-8",
    "tags": []
   },
   "outputs": [],
   "source": [
    "import numpy as np\n",
    "import pandas as pd\n",
    "import re\n",
    "import os\n",
    "import sys\n",
    "import json\n",
    "import ast\n",
    "import pickle\n",
    "import random\n",
    "\n",
    "sys.path.append('../../Quantlet/Domain_PreTraining/')\n",
    "from abstracts import abstracts\n",
    "\n",
    "import importlib\n",
    "\n",
    "\n",
    "#import preprocessing_utils\n",
    "#importlib.reload(preprocessing_utils)\n",
    "\n",
    "import torch\n",
    "import numpy as np\n",
    "import datasets\n",
    "\n",
    "from transformers import (\n",
    "    AutoModelForSeq2SeqLM,\n",
    "    AutoTokenizer,\n",
    "    Seq2SeqTrainingArguments,\n",
    "    Seq2SeqTrainer,\n",
    "    DataCollatorForSeq2Seq\n",
    ")\n",
    "\n",
    "import nltk\n",
    "from datetime import datetime\n",
    "\n",
    "import evaluate\n",
    "nltk.download(\"punkt\", quiet=True)\n",
    "\n",
    "\n",
    "from datasets import Dataset\n",
    "from datasets import load_dataset\n",
    "\n",
    "\n",
    "import evaluate\n",
    "metric = evaluate.load(\"rouge\")\n",
    "\n",
    "from sklearn.model_selection import train_test_split, KFold\n",
    "\n",
    "os.environ[\"WANDB_DISABLED\"] = \"true\"\n",
    "os.environ[\"CUDA_VISIBLE_DEVICES\"]=\"1\"\n",
    "\n",
    "\n",
    "RS = 42"
   ]
  },
  {
   "cell_type": "code",
   "execution_count": 7,
   "metadata": {
    "id": "awsNw0KZFmyZ",
    "tags": []
   },
   "outputs": [],
   "source": [
    "torch.manual_seed(RS)\n",
    "random.seed(RS)\n",
    "np.random.seed(RS)\n",
    "torch.use_deterministic_algorithms(True)\n",
    "os.environ[\"CUBLAS_WORKSPACE_CONFIG\"]=':16:8'"
   ]
  },
  {
   "cell_type": "code",
   "execution_count": 8,
   "metadata": {
    "id": "LWY6IbDK3E1X",
    "tags": []
   },
   "outputs": [],
   "source": [
    "abstract_pattern = re.compile(r'(?<=Abstract)(.+)(?=Keywords)', re.DOTALL)\n",
    "keywords_pattern = re.compile(r'(?<=Keywords)(.+)', re.DOTALL)"
   ]
  },
  {
   "cell_type": "code",
   "execution_count": 9,
   "metadata": {
    "id": "rtQVp0fZ36mw",
    "tags": []
   },
   "outputs": [],
   "source": [
    "papers = []\n",
    "for paper in abstracts.split('IRTG1792DP'):\n",
    "    paper_dict = {}\n",
    "    keywords = re.findall(keywords_pattern, paper)\n",
    "    if len(keywords) > 0:\n",
    "       keywords = keywords[0]\n",
    "       keywords = keywords.split('JEL Classification')[0]\n",
    "       paper_dict['keywords'] = keywords\n",
    "\n",
    "    abstract = re.findall(abstract_pattern, paper)\n",
    "    if len(abstract) > 0:\n",
    "       abstract = abstract[0]\n",
    "       paper_dict['abstract'] = abstract\n",
    "\n",
    "    if ('abstract' in list(paper_dict.keys())) & ('keywords' in list(paper_dict.keys())):\n",
    "      papers.append(paper_dict)"
   ]
  },
  {
   "cell_type": "code",
   "execution_count": 10,
   "metadata": {
    "id": "-GlL0ND06eqL",
    "tags": []
   },
   "outputs": [],
   "source": [
    "EVAL_COLUMNS = ['eval_loss',\n",
    "                'eval_rouge1',\n",
    "                'eval_rouge2',\n",
    "                'eval_rougeL',\n",
    "                'eval_rougeLsum',\n",
    "                'eval_bleu',\n",
    "                'eval_gen_len']"
   ]
  },
  {
   "cell_type": "code",
   "execution_count": 11,
   "metadata": {
    "id": "De1ZEYxk3hu2",
    "tags": []
   },
   "outputs": [],
   "source": [
    "test_idx  = random.sample(range(len(papers)), k=int(0.3*len(papers)))\n",
    "train_idx = list(set(range(len(papers))).difference(test_idx))"
   ]
  },
  {
   "cell_type": "code",
   "execution_count": 14,
   "metadata": {
    "id": "IFdga3AZ_F-_",
    "tags": []
   },
   "outputs": [],
   "source": [
    "\n",
    "train_dataset_json = {'version' : '0.1.0',\n",
    "                     'data' : [{'input_sequence': papers[i]['abstract'],\n",
    "                                'output_sequence' : papers[i]['keywords']} for i in train_idx]}\n",
    "\n",
    "test_dataset_json = {'version' : '0.1.0',\n",
    "                     'data' : [{'input_sequence': papers[i]['abstract'],\n",
    "                                'output_sequence' : papers[i]['keywords']} for i in test_idx]}\n",
    "\n",
    "full = {'version' : '0.1.0',\n",
    "         'data' : [{'input_sequence': papers[i]['abstract'],\n",
    "                    'output_sequence' : papers[i]['keywords']} for i in range(len(papers))]}\n",
    "\n",
    "\n",
    "with open('../../data/preprocessed/Quantlet/DP_pretrain_train.json', 'w') as f:\n",
    "    json.dump(train_dataset_json, f)\n",
    "\n",
    "with open('../../data/preprocessed/Quantlet/DP_pretrain_test.json', 'w') as f:\n",
    "    json.dump(test_dataset_json, f)\n",
    "    \n",
    "with open('../../data/preprocessed/Quantlet/DP_pretrain_full.json', 'w') as f:\n",
    "    json.dump(test_dataset_json, f)"
   ]
  },
  {
   "cell_type": "code",
   "execution_count": null,
   "metadata": {
    "id": "igNnZO0X_F-_"
   },
   "outputs": [],
   "source": [
    "train_dataset = load_dataset(\"json\", data_files=\"../../data/preprocessed/Quantlet/domain_pretrain_train.json\", field=\"data\")['train']\n",
    "test_dataset = load_dataset(\"json\", data_files=\"../../data/preprocessed/Quantlet/domain_pretrain_test.json\", field=\"data\")['train']"
   ]
  },
  {
   "cell_type": "code",
   "execution_count": null,
   "metadata": {
    "id": "tg39PoJn_F-_"
   },
   "outputs": [],
   "source": [
    "model_name = \"sshleifer/distilbart-xsum-12-3\"\n",
    "\n",
    "model = AutoModelForSeq2SeqLM.from_pretrained(model_name)\n",
    "tokenizer = AutoTokenizer.from_pretrained(model_name)\n",
    "\n",
    "# tokenization\n",
    "encoder_max_length = 512  # demo\n",
    "decoder_max_length = 10"
   ]
  },
  {
   "cell_type": "code",
   "execution_count": null,
   "metadata": {
    "id": "htGlnUcJ_F_A"
   },
   "outputs": [],
   "source": [
    "def batch_tokenize_preprocess(batch, tokenizer, max_source_length, max_target_length):\n",
    "    source, target = batch[\"description\"], batch[\"summary\"]\n",
    "    source_tokenized = tokenizer(\n",
    "        source, padding=\"max_length\", truncation=True, max_length=max_source_length\n",
    "    )\n",
    "    target_tokenized = tokenizer(\n",
    "        target, padding=\"max_length\", truncation=True, max_length=max_target_length\n",
    "    )\n",
    "\n",
    "    batch = {k: v for k, v in source_tokenized.items()}\n",
    "    # Ignore padding in the loss\n",
    "    batch[\"labels\"] = [\n",
    "        [-100 if token == tokenizer.pad_token_id else token for token in l]\n",
    "        for l in target_tokenized[\"input_ids\"]\n",
    "    ]\n",
    "    return batch\n",
    "\n",
    "\n",
    "train_data = train_dataset.map(\n",
    "    lambda batch: batch_tokenize_preprocess(\n",
    "        batch, tokenizer, encoder_max_length, decoder_max_length\n",
    "    ),\n",
    "    batched=True,\n",
    "    remove_columns=train_dataset.column_names,\n",
    ")\n",
    "\n",
    "test_data = test_dataset.map(\n",
    "    lambda batch: batch_tokenize_preprocess(\n",
    "        batch, tokenizer, encoder_max_length, decoder_max_length\n",
    "    ),\n",
    "    batched=True,\n",
    "    remove_columns=test_dataset.column_names,\n",
    ")"
   ]
  },
  {
   "cell_type": "code",
   "execution_count": null,
   "metadata": {
    "id": "nvTcdEg6_F_A"
   },
   "outputs": [],
   "source": [
    "def postprocess_text(preds, labels):\n",
    "\n",
    "    preds = [pred.strip() for pred in preds]\n",
    "    labels = [label.strip() for label in labels]\n",
    "\n",
    "    # rougeLSum expects newline after each sentence\n",
    "    preds = [\"\\n\".join(nltk.sent_tokenize(pred)) for pred in preds]\n",
    "    labels = [\"\\n\".join(nltk.sent_tokenize(label)) for label in labels]\n",
    "\n",
    "    return preds, labels"
   ]
  },
  {
   "cell_type": "code",
   "execution_count": null,
   "metadata": {
    "id": "mvmcxmTI_F_A"
   },
   "outputs": [],
   "source": [
    "def compute_metrics(eval_preds, metrics_list=['rouge', 'bleu']):\n",
    "\n",
    "    preds, labels = eval_preds\n",
    "\n",
    "    if isinstance(preds, tuple):\n",
    "        preds = preds[0]\n",
    "\n",
    "    decoded_preds = tokenizer.batch_decode(preds, skip_special_tokens=True)\n",
    "\n",
    "    # Replace -100 in the labels as we can't decode them.\n",
    "    labels = np.where(labels != -100, labels, tokenizer.pad_token_id)\n",
    "    decoded_labels = tokenizer.batch_decode(labels, skip_special_tokens=True)\n",
    "\n",
    "    # POST PROCESSING\n",
    "    decoded_preds, decoded_labels = postprocess_text(decoded_preds, decoded_labels)\n",
    "\n",
    "    results_dict = {}\n",
    "    for m in metrics_list:\n",
    "        metric = evaluate.load(m)\n",
    "\n",
    "        if m=='bleu':\n",
    "            result = metric.compute(\n",
    "              predictions=decoded_preds, references=decoded_labels\n",
    "           )\n",
    "        elif m=='rouge':\n",
    "            result = metric.compute(\n",
    "                predictions=decoded_preds, references=decoded_labels, use_stemmer=True\n",
    "            )\n",
    "        result = {key: value for key, value in result.items() if key!='precisions'}\n",
    "\n",
    "        prediction_lens = [\n",
    "            np.count_nonzero(pred != tokenizer.pad_token_id) for pred in preds\n",
    "        ]\n",
    "        result[\"gen_len\"] = np.mean(prediction_lens)\n",
    "        result = {k: round(v, 4) for k, v in result.items()}\n",
    "        results_dict.update(result)\n",
    "    return results_dict"
   ]
  },
  {
   "cell_type": "code",
   "execution_count": null,
   "metadata": {
    "id": "lpIuZ5JMAMGB"
   },
   "outputs": [],
   "source": [
    "if MODE=='test':\n",
    "  eval_data = test_data"
   ]
  },
  {
   "cell_type": "code",
   "execution_count": null,
   "metadata": {
    "id": "F1sS4AlU_F_A"
   },
   "outputs": [],
   "source": [
    "training_args = Seq2SeqTrainingArguments(\n",
    "    output_dir=\"results\",\n",
    "    num_train_epochs=5,  # demo\n",
    "    do_train=True,\n",
    "    do_eval=True,\n",
    "    per_device_train_batch_size=16,  # demo\n",
    "    per_device_eval_batch_size=16,\n",
    "    # learning_rate=3e-05,\n",
    "    warmup_steps=500,\n",
    "    weight_decay=0.1,\n",
    "    label_smoothing_factor=0.1,\n",
    "    predict_with_generate=True,\n",
    "    logging_dir=\"logs\",\n",
    "    logging_steps=100,\n",
    "    report_to=None,\n",
    "    seed=RS,\n",
    "    save_total_limit = 1,\n",
    "    load_best_model_at_end= True,\n",
    "    evaluation_strategy='epoch',\n",
    "    save_strategy='epoch',\n",
    ")\n",
    "\n",
    "data_collator = DataCollatorForSeq2Seq(tokenizer, model=model)\n",
    "\n",
    "trainer = Seq2SeqTrainer(\n",
    "    model=model,\n",
    "    args=training_args,\n",
    "    data_collator=data_collator,\n",
    "    train_dataset=train_data,\n",
    "    eval_dataset=eval_data,\n",
    "    tokenizer=tokenizer,\n",
    "    compute_metrics=compute_metrics,\n",
    ")"
   ]
  },
  {
   "cell_type": "code",
   "execution_count": null,
   "metadata": {
    "id": "gUOcVWSp_F_A"
   },
   "outputs": [],
   "source": [
    "results_zero_shot = trainer.evaluate()\n",
    "\n",
    "results_zero_shot_df = pd.DataFrame(data=results_zero_shot, index=[0])[EVAL_COLUMNS]\n",
    "results_zero_shot_df.loc[0, :] = results_zero_shot_df.loc[0, :].apply(lambda x: round(x, 3))\n",
    "display(results_zero_shot_df)"
   ]
  },
  {
   "cell_type": "code",
   "execution_count": null,
   "metadata": {
    "id": "I6yJFARb_F_A"
   },
   "outputs": [],
   "source": [
    "trainer.train()"
   ]
  },
  {
   "cell_type": "code",
   "execution_count": null,
   "metadata": {
    "id": "_f3aCMn36EJ5"
   },
   "outputs": [],
   "source": [
    "results_fine_tune = trainer.evaluate()\n",
    "\n",
    "results_fine_tune_df = pd.DataFrame(data=results_fine_tune, index=[0])[EVAL_COLUMNS]\n",
    "\n",
    "results_fine_tune_df.loc[0, :] = results_fine_tune_df.loc[0, :].apply(lambda x: round(x, 3))\n",
    "\n",
    "\n",
    "display(results_fine_tune_df)"
   ]
  },
  {
   "cell_type": "code",
   "execution_count": null,
   "metadata": {
    "id": "wyk6Vkpd68sD"
   },
   "outputs": [],
   "source": [
    "best_ckpt_path = trainer.state.best_model_checkpoint"
   ]
  },
  {
   "cell_type": "code",
   "execution_count": null,
   "metadata": {
    "id": "5akstbO569eo"
   },
   "outputs": [],
   "source": [
    "best_ckpt_path"
   ]
  },
  {
   "cell_type": "code",
   "execution_count": null,
   "metadata": {
    "id": "LbqAx2BL_F_A"
   },
   "outputs": [],
   "source": [
    "def generate_summary(test_samples, model):\n",
    "    inputs = tokenizer(\n",
    "        test_samples[\"description\"],\n",
    "        padding=\"max_length\",\n",
    "        truncation=True,\n",
    "        max_length=encoder_max_length,\n",
    "        return_tensors=\"pt\",\n",
    "    )\n",
    "    input_ids = inputs.input_ids.to(model.device)\n",
    "    attention_mask = inputs.attention_mask.to(model.device)\n",
    "    outputs = model.generate(input_ids, attention_mask=attention_mask)\n",
    "    output_str = tokenizer.batch_decode(outputs, skip_special_tokens=True)\n",
    "    return outputs, output_str\n",
    "\n",
    "\n",
    "model_before_tuning = AutoModelForSeq2SeqLM.from_pretrained(model_name)\n",
    "\n",
    "test_samples = test_dataset.select(range(20))\n",
    "\n",
    "summaries_before_tuning = generate_summary(test_samples, model_before_tuning)[1]\n",
    "summaries_after_tuning = generate_summary(test_samples, model)[1]"
   ]
  },
  {
   "cell_type": "code",
   "execution_count": null,
   "metadata": {
    "id": "bNYWWTgJ6IxC"
   },
   "outputs": [],
   "source": [
    "for i, description in enumerate(test_samples[\"summary\"]):\n",
    "  print('_'*10)\n",
    "  print(f'Original: {description}')\n",
    "  print(f'Summary before Tuning: {summaries_before_tuning[i]}')\n",
    "  print(f'Summary after Tuning: {summaries_after_tuning[i]}')\n",
    "  print('_'*10)\n",
    "  print('\\n')"
   ]
  }
 ],
 "metadata": {
  "accelerator": "GPU",
  "colab": {
   "gpuType": "A100",
   "machine_shape": "hm",
   "private_outputs": true,
   "provenance": []
  },
  "kernelspec": {
   "display_name": "Python 3 (ipykernel)",
   "language": "python",
   "name": "python3"
  },
  "language_info": {
   "codemirror_mode": {
    "name": "ipython",
    "version": 3
   },
   "file_extension": ".py",
   "mimetype": "text/x-python",
   "name": "python",
   "nbconvert_exporter": "python",
   "pygments_lexer": "ipython3",
   "version": "3.9.12"
  }
 },
 "nbformat": 4,
 "nbformat_minor": 4
}

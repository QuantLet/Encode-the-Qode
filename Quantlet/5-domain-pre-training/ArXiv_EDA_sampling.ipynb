{
 "cells": [
  {
   "cell_type": "code",
   "execution_count": 9,
   "metadata": {
    "colab": {
     "base_uri": "https://localhost:8080/"
    },
    "executionInfo": {
     "elapsed": 3213,
     "status": "ok",
     "timestamp": 1695671844602,
     "user": {
      "displayName": "Elizaveta Zinovyeva",
      "userId": "01253993997636551956"
     },
     "user_tz": -120
    },
    "id": "BwUa1F6ZU57S",
    "outputId": "8c67ac41-9d27-40c1-a5d2-af6f5979a46a",
    "tags": []
   },
   "outputs": [
    {
     "name": "stdout",
     "output_type": "stream",
     "text": [
      "Archive:  ../../data/raw/ArXiv/archive (1).zip\n",
      "  inflating: arxiv_data.csv          \n",
      "  inflating: arxiv_data_210930-054931.csv  \n"
     ]
    }
   ],
   "source": [
    "#!unzip '/content/drive/MyDrive/ColabNotebooks/IRTG/Encode_the_Qode/Encode-the-Qode/data/raw/ArXiv/archive (1).zip'\n",
    "!unzip '../../data/raw/ArXiv/archive (1).zip'"
   ]
  },
  {
   "cell_type": "code",
   "execution_count": 10,
   "metadata": {
    "executionInfo": {
     "elapsed": 2121,
     "status": "ok",
     "timestamp": 1695671846718,
     "user": {
      "displayName": "Elizaveta Zinovyeva",
      "userId": "01253993997636551956"
     },
     "user_tz": -120
    },
    "id": "8BRA8ihKV037",
    "tags": []
   },
   "outputs": [],
   "source": [
    "import pandas as pd\n",
    "from sklearn.model_selection import train_test_split\n",
    "\n",
    "import json"
   ]
  },
  {
   "cell_type": "code",
   "execution_count": 11,
   "metadata": {
    "executionInfo": {
     "elapsed": 7,
     "status": "ok",
     "timestamp": 1695671846718,
     "user": {
      "displayName": "Elizaveta Zinovyeva",
      "userId": "01253993997636551956"
     },
     "user_tz": -120
    },
    "id": "N02sAIpQZP0H",
    "tags": []
   },
   "outputs": [],
   "source": [
    "RS = 42\n",
    "#DATA_PATH = '/content/drive/MyDrive/ColabNotebooks/IRTG/Encode_the_Qode/Encode-the-Qode/data'"
   ]
  },
  {
   "cell_type": "code",
   "execution_count": 12,
   "metadata": {
    "executionInfo": {
     "elapsed": 2607,
     "status": "ok",
     "timestamp": 1695671849320,
     "user": {
      "displayName": "Elizaveta Zinovyeva",
      "userId": "01253993997636551956"
     },
     "user_tz": -120
    },
    "id": "GSyXo9kWVkJD",
    "tags": []
   },
   "outputs": [],
   "source": [
    "data = pd.read_csv('arxiv_data_210930-054931.csv')"
   ]
  },
  {
   "cell_type": "code",
   "execution_count": 13,
   "metadata": {
    "executionInfo": {
     "elapsed": 1395,
     "status": "ok",
     "timestamp": 1695671850709,
     "user": {
      "displayName": "Elizaveta Zinovyeva",
      "userId": "01253993997636551956"
     },
     "user_tz": -120
    },
    "id": "Xi8mD7j9Vsgc",
    "tags": []
   },
   "outputs": [],
   "source": [
    "data['titles_n_words'] = data['titles'].apply(lambda x: len(x.split()))\n",
    "data['titles_len'] = data['titles'].apply(lambda x: len(x))\n",
    "\n",
    "data['abstracts_n_words'] = data['abstracts'].apply(lambda x: len(x.split()))\n",
    "data['abstracts_len'] = data['abstracts'].apply(lambda x: len(x))"
   ]
  },
  {
   "cell_type": "code",
   "execution_count": 18,
   "metadata": {
    "tags": []
   },
   "outputs": [],
   "source": [
    "data = data.sample(n=25000, random_state=RS)"
   ]
  },
  {
   "cell_type": "code",
   "execution_count": 19,
   "metadata": {
    "executionInfo": {
     "elapsed": 244,
     "status": "ok",
     "timestamp": 1695671850934,
     "user": {
      "displayName": "Elizaveta Zinovyeva",
      "userId": "01253993997636551956"
     },
     "user_tz": -120
    },
    "id": "A04Rk1hYWfAZ",
    "tags": []
   },
   "outputs": [],
   "source": [
    "# 300\n",
    "# 15"
   ]
  },
  {
   "cell_type": "code",
   "execution_count": 20,
   "metadata": {
    "executionInfo": {
     "elapsed": 4,
     "status": "ok",
     "timestamp": 1695671850935,
     "user": {
      "displayName": "Elizaveta Zinovyeva",
      "userId": "01253993997636551956"
     },
     "user_tz": -120
    },
    "id": "VEACkMuRYXts",
    "tags": []
   },
   "outputs": [],
   "source": [
    "train, test = train_test_split(data, test_size=0.3, random_state=RS)"
   ]
  },
  {
   "cell_type": "code",
   "execution_count": 22,
   "metadata": {
    "executionInfo": {
     "elapsed": 5671,
     "status": "ok",
     "timestamp": 1695671856603,
     "user": {
      "displayName": "Elizaveta Zinovyeva",
      "userId": "01253993997636551956"
     },
     "user_tz": -120
    },
    "id": "AAVPXdk_ZSFJ",
    "tags": []
   },
   "outputs": [],
   "source": [
    "train_dataset_json = {'version' : '0.1.0',\n",
    "                     'data' : [{'input_sequence': train['abstracts'].iloc[i],\n",
    "                                'output_sequence' : train['titles'].iloc[i]} for i in range(train.shape[0])]}\n",
    "\n",
    "test_dataset_json = {'version' : '0.1.0',\n",
    "                     'data' : [{'input_sequence': test['abstracts'].iloc[i],\n",
    "                                'output_sequence' : test['titles'].iloc[i]} for i in range(test.shape[0])]}\n",
    "\n",
    "\n",
    "\n",
    "with open(f'../../data/preprocessed/ArXiv/arxiv_pretrain_train_20231021.json', 'w') as f:\n",
    "    json.dump(train_dataset_json, f)\n",
    "\n",
    "with open(f'../../data/preprocessed/ArXiv/arxiv_pretrain_test_20231021.json', 'w') as f:\n",
    "    json.dump(test_dataset_json, f)"
   ]
  }
 ],
 "metadata": {
  "colab": {
   "authorship_tag": "ABX9TyO29uJcwb0wmX3emxbQ59w8",
   "mount_file_id": "1-uGnoa4Wm4564vxiSjRaVzArB5gUFB81",
   "provenance": []
  },
  "kernelspec": {
   "display_name": "Python 3 (ipykernel)",
   "language": "python",
   "name": "python3"
  },
  "language_info": {
   "codemirror_mode": {
    "name": "ipython",
    "version": 3
   },
   "file_extension": ".py",
   "mimetype": "text/x-python",
   "name": "python",
   "nbconvert_exporter": "python",
   "pygments_lexer": "ipython3",
   "version": "3.9.12"
  }
 },
 "nbformat": 4,
 "nbformat_minor": 4
}

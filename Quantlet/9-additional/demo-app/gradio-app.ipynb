{
 "cells": [
  {
   "cell_type": "code",
   "execution_count": 1,
   "metadata": {},
   "outputs": [
    {
     "name": "stdout",
     "output_type": "stream",
     "text": [
      "Requirement already satisfied: toolz in /home/RDC/zinovyee.hub/.conda/envs/encode_code/lib/python3.9/site-packages (0.12.0)\n",
      "\n",
      "\u001b[1m[\u001b[0m\u001b[34;49mnotice\u001b[0m\u001b[1;39;49m]\u001b[0m\u001b[39;49m A new release of pip is available: \u001b[0m\u001b[31;49m23.0.1\u001b[0m\u001b[39;49m -> \u001b[0m\u001b[32;49m23.1.2\u001b[0m\n",
      "\u001b[1m[\u001b[0m\u001b[34;49mnotice\u001b[0m\u001b[1;39;49m]\u001b[0m\u001b[39;49m To update, run: \u001b[0m\u001b[32;49mpip install --upgrade pip\u001b[0m\n",
      "Note: you may need to restart the kernel to use updated packages.\n",
      "Requirement already satisfied: gradio in /home/RDC/zinovyee.hub/.local/lib/python3.9/site-packages (3.23.0)\n",
      "Requirement already satisfied: jinja2 in /home/RDC/zinovyee.hub/.conda/envs/encode_code/lib/python3.9/site-packages (from gradio) (3.1.2)\n",
      "Requirement already satisfied: fastapi in /home/RDC/zinovyee.hub/.local/lib/python3.9/site-packages (from gradio) (0.95.0)\n",
      "Requirement already satisfied: httpx in /home/RDC/zinovyee.hub/.local/lib/python3.9/site-packages (from gradio) (0.23.3)\n",
      "Requirement already satisfied: pyyaml in /home/RDC/zinovyee.hub/.conda/envs/encode_code/lib/python3.9/site-packages (from gradio) (6.0)\n",
      "Requirement already satisfied: fsspec in /home/RDC/zinovyee.hub/.conda/envs/encode_code/lib/python3.9/site-packages (from gradio) (2023.1.0)\n",
      "Requirement already satisfied: pydub in /home/RDC/zinovyee.hub/.local/lib/python3.9/site-packages (from gradio) (0.25.1)\n",
      "Requirement already satisfied: orjson in /home/RDC/zinovyee.hub/.local/lib/python3.9/site-packages (from gradio) (3.8.8)\n",
      "Requirement already satisfied: huggingface-hub in /home/RDC/zinovyee.hub/.local/lib/python3.9/site-packages (from gradio) (0.13.3)\n",
      "Requirement already satisfied: aiofiles in /home/RDC/zinovyee.hub/.local/lib/python3.9/site-packages (from gradio) (23.1.0)\n",
      "Requirement already satisfied: pandas in /home/RDC/zinovyee.hub/.local/lib/python3.9/site-packages (from gradio) (1.3.5)\n",
      "Requirement already satisfied: pillow in /home/RDC/zinovyee.hub/.conda/envs/encode_code/lib/python3.9/site-packages (from gradio) (9.4.0)\n",
      "Requirement already satisfied: numpy in /home/RDC/zinovyee.hub/.conda/envs/encode_code/lib/python3.9/site-packages (from gradio) (1.24.1)\n",
      "Requirement already satisfied: typing-extensions in /home/RDC/zinovyee.hub/.local/lib/python3.9/site-packages (from gradio) (4.5.0)\n",
      "Requirement already satisfied: python-multipart in /home/RDC/zinovyee.hub/.local/lib/python3.9/site-packages (from gradio) (0.0.6)\n",
      "Requirement already satisfied: mdit-py-plugins<=0.3.3 in /home/RDC/zinovyee.hub/.local/lib/python3.9/site-packages (from gradio) (0.3.3)\n",
      "Requirement already satisfied: websockets>=10.0 in /home/RDC/zinovyee.hub/.local/lib/python3.9/site-packages (from gradio) (10.4)\n",
      "Requirement already satisfied: ffmpy in /home/RDC/zinovyee.hub/.local/lib/python3.9/site-packages (from gradio) (0.3.0)\n",
      "Requirement already satisfied: uvicorn in /home/RDC/zinovyee.hub/.local/lib/python3.9/site-packages (from gradio) (0.21.1)\n",
      "Requirement already satisfied: matplotlib in /home/RDC/zinovyee.hub/.conda/envs/encode_code/lib/python3.9/site-packages (from gradio) (3.6.3)\n",
      "Requirement already satisfied: pydantic in /home/RDC/zinovyee.hub/.local/lib/python3.9/site-packages (from gradio) (1.10.7)\n",
      "Requirement already satisfied: markupsafe in /home/RDC/zinovyee.hub/.conda/envs/encode_code/lib/python3.9/site-packages (from gradio) (2.1.1)\n",
      "Requirement already satisfied: altair>=4.2.0 in /home/RDC/zinovyee.hub/.local/lib/python3.9/site-packages (from gradio) (4.2.2)\n",
      "Requirement already satisfied: aiohttp in /home/RDC/zinovyee.hub/.conda/envs/encode_code/lib/python3.9/site-packages (from gradio) (3.8.3)\n",
      "Requirement already satisfied: semantic-version in /home/RDC/zinovyee.hub/.local/lib/python3.9/site-packages (from gradio) (2.10.0)\n",
      "Requirement already satisfied: requests in /home/RDC/zinovyee.hub/.conda/envs/encode_code/lib/python3.9/site-packages (from gradio) (2.28.2)\n",
      "Requirement already satisfied: markdown-it-py[linkify]>=2.0.0 in /home/RDC/zinovyee.hub/.local/lib/python3.9/site-packages (from gradio) (2.2.0)\n",
      "Requirement already satisfied: toolz in /home/RDC/zinovyee.hub/.conda/envs/encode_code/lib/python3.9/site-packages (from altair>=4.2.0->gradio) (0.12.0)\n",
      "Requirement already satisfied: jsonschema>=3.0 in /home/RDC/zinovyee.hub/.conda/envs/encode_code/lib/python3.9/site-packages (from altair>=4.2.0->gradio) (4.17.3)\n",
      "Requirement already satisfied: entrypoints in /home/RDC/zinovyee.hub/.conda/envs/encode_code/lib/python3.9/site-packages (from altair>=4.2.0->gradio) (0.4)\n",
      "Requirement already satisfied: tqdm>=4.42.1 in /home/RDC/zinovyee.hub/.conda/envs/encode_code/lib/python3.9/site-packages (from huggingface-hub->gradio) (4.64.1)\n",
      "Requirement already satisfied: filelock in /home/RDC/zinovyee.hub/.conda/envs/encode_code/lib/python3.9/site-packages (from huggingface-hub->gradio) (3.9.0)\n",
      "Requirement already satisfied: packaging>=20.9 in /home/RDC/zinovyee.hub/.conda/envs/encode_code/lib/python3.9/site-packages (from huggingface-hub->gradio) (23.0)\n",
      "Requirement already satisfied: mdurl~=0.1 in /home/RDC/zinovyee.hub/.local/lib/python3.9/site-packages (from markdown-it-py[linkify]>=2.0.0->gradio) (0.1.2)\n",
      "Requirement already satisfied: linkify-it-py<3,>=1 in /home/RDC/zinovyee.hub/.local/lib/python3.9/site-packages (from markdown-it-py[linkify]>=2.0.0->gradio) (2.0.0)\n",
      "Requirement already satisfied: python-dateutil>=2.7.3 in /home/RDC/zinovyee.hub/.conda/envs/encode_code/lib/python3.9/site-packages (from pandas->gradio) (2.8.2)\n",
      "Requirement already satisfied: pytz>=2017.3 in /home/RDC/zinovyee.hub/.conda/envs/encode_code/lib/python3.9/site-packages (from pandas->gradio) (2022.7.1)\n",
      "Requirement already satisfied: async-timeout<5.0,>=4.0.0a3 in /home/RDC/zinovyee.hub/.conda/envs/encode_code/lib/python3.9/site-packages (from aiohttp->gradio) (4.0.2)\n",
      "Requirement already satisfied: aiosignal>=1.1.2 in /home/RDC/zinovyee.hub/.conda/envs/encode_code/lib/python3.9/site-packages (from aiohttp->gradio) (1.3.1)\n",
      "Requirement already satisfied: attrs>=17.3.0 in /home/RDC/zinovyee.hub/.conda/envs/encode_code/lib/python3.9/site-packages (from aiohttp->gradio) (22.1.0)\n",
      "Requirement already satisfied: multidict<7.0,>=4.5 in /home/RDC/zinovyee.hub/.conda/envs/encode_code/lib/python3.9/site-packages (from aiohttp->gradio) (6.0.4)\n",
      "Requirement already satisfied: yarl<2.0,>=1.0 in /home/RDC/zinovyee.hub/.conda/envs/encode_code/lib/python3.9/site-packages (from aiohttp->gradio) (1.8.2)\n",
      "Requirement already satisfied: charset-normalizer<3.0,>=2.0 in /home/RDC/zinovyee.hub/.conda/envs/encode_code/lib/python3.9/site-packages (from aiohttp->gradio) (2.1.1)\n",
      "Requirement already satisfied: frozenlist>=1.1.1 in /home/RDC/zinovyee.hub/.conda/envs/encode_code/lib/python3.9/site-packages (from aiohttp->gradio) (1.3.3)\n",
      "Requirement already satisfied: starlette<0.27.0,>=0.26.1 in /home/RDC/zinovyee.hub/.local/lib/python3.9/site-packages (from fastapi->gradio) (0.26.1)\n",
      "Requirement already satisfied: httpcore<0.17.0,>=0.15.0 in /home/RDC/zinovyee.hub/.local/lib/python3.9/site-packages (from httpx->gradio) (0.16.3)\n",
      "Requirement already satisfied: sniffio in /home/RDC/zinovyee.hub/.conda/envs/encode_code/lib/python3.9/site-packages (from httpx->gradio) (1.2.0)\n",
      "Requirement already satisfied: rfc3986[idna2008]<2,>=1.3 in /home/RDC/zinovyee.hub/.local/lib/python3.9/site-packages (from httpx->gradio) (1.5.0)\n",
      "Requirement already satisfied: certifi in /home/RDC/zinovyee.hub/.conda/envs/encode_code/lib/python3.9/site-packages (from httpx->gradio) (2022.12.7)\n",
      "Requirement already satisfied: fonttools>=4.22.0 in /home/RDC/zinovyee.hub/.conda/envs/encode_code/lib/python3.9/site-packages (from matplotlib->gradio) (4.38.0)\n",
      "Requirement already satisfied: kiwisolver>=1.0.1 in /home/RDC/zinovyee.hub/.conda/envs/encode_code/lib/python3.9/site-packages (from matplotlib->gradio) (1.4.4)\n",
      "Requirement already satisfied: cycler>=0.10 in /home/RDC/zinovyee.hub/.conda/envs/encode_code/lib/python3.9/site-packages (from matplotlib->gradio) (0.11.0)\n",
      "Requirement already satisfied: contourpy>=1.0.1 in /home/RDC/zinovyee.hub/.conda/envs/encode_code/lib/python3.9/site-packages (from matplotlib->gradio) (1.0.7)\n",
      "Requirement already satisfied: pyparsing>=2.2.1 in /home/RDC/zinovyee.hub/.conda/envs/encode_code/lib/python3.9/site-packages (from matplotlib->gradio) (3.0.9)\n",
      "Requirement already satisfied: idna<4,>=2.5 in /home/RDC/zinovyee.hub/.conda/envs/encode_code/lib/python3.9/site-packages (from requests->gradio) (3.4)\n",
      "Requirement already satisfied: urllib3<1.27,>=1.21.1 in /home/RDC/zinovyee.hub/.local/lib/python3.9/site-packages (from requests->gradio) (1.26.15)\n",
      "Requirement already satisfied: click>=7.0 in /home/RDC/zinovyee.hub/.conda/envs/encode_code/lib/python3.9/site-packages (from uvicorn->gradio) (8.1.3)\n",
      "Requirement already satisfied: h11>=0.8 in /home/RDC/zinovyee.hub/.local/lib/python3.9/site-packages (from uvicorn->gradio) (0.14.0)\n",
      "Requirement already satisfied: anyio<5.0,>=3.0 in /home/RDC/zinovyee.hub/.conda/envs/encode_code/lib/python3.9/site-packages (from httpcore<0.17.0,>=0.15.0->httpx->gradio) (3.5.0)\n",
      "Requirement already satisfied: pyrsistent!=0.17.0,!=0.17.1,!=0.17.2,>=0.14.0 in /home/RDC/zinovyee.hub/.conda/envs/encode_code/lib/python3.9/site-packages (from jsonschema>=3.0->altair>=4.2.0->gradio) (0.18.0)\n",
      "Requirement already satisfied: uc-micro-py in /home/RDC/zinovyee.hub/.local/lib/python3.9/site-packages (from linkify-it-py<3,>=1->markdown-it-py[linkify]>=2.0.0->gradio) (1.0.1)\n",
      "Requirement already satisfied: six>=1.5 in /home/RDC/zinovyee.hub/.conda/envs/encode_code/lib/python3.9/site-packages (from python-dateutil>=2.7.3->pandas->gradio) (1.16.0)\n",
      "\n",
      "\u001b[1m[\u001b[0m\u001b[34;49mnotice\u001b[0m\u001b[1;39;49m]\u001b[0m\u001b[39;49m A new release of pip is available: \u001b[0m\u001b[31;49m23.0.1\u001b[0m\u001b[39;49m -> \u001b[0m\u001b[32;49m23.1.2\u001b[0m\n",
      "\u001b[1m[\u001b[0m\u001b[34;49mnotice\u001b[0m\u001b[1;39;49m]\u001b[0m\u001b[39;49m To update, run: \u001b[0m\u001b[32;49mpip install --upgrade pip\u001b[0m\n",
      "Note: you may need to restart the kernel to use updated packages.\n"
     ]
    }
   ],
   "source": [
    "%pip install toolz\n",
    "%pip install gradio\n",
    "\n",
    "import json\n",
    "import pandas as pd"
   ]
  },
  {
   "cell_type": "code",
   "execution_count": null,
   "metadata": {},
   "outputs": [],
   "source": [
    "def read_raw_git_file(url):\n",
    "    \"\"\"Reads a raw file from github and returns the content as a string.\"\"\"\n",
    "    import requests\n",
    "    response = requests.get(url)\n",
    "    return response.text"
   ]
  },
  {
   "cell_type": "code",
   "execution_count": null,
   "metadata": {},
   "outputs": [],
   "source": [
    "#'https://raw.githubusercontent.com/QuantLet/Encode-the-Qode/main/BART_learning/BART.ipynb?token=GHSAT0AAAAAABQSSIVUV74YDZCRY3ZI6BC2ZB4IJCA'\n",
    "response = read_raw_git_file('https://raw.githubusercontent.com/QuantLet/Encode-the-Qode/main/BART_learning/BART.ipynb?token=GHSAT0AAAAAABQSSIVUV74YDZCRY3ZI6BC2ZB4IJCA')\n"
   ]
  },
  {
   "cell_type": "code",
   "execution_count": null,
   "metadata": {},
   "outputs": [
    {
     "name": "stderr",
     "output_type": "stream",
     "text": [
      "/home/RDC/zinovyee.hub/.local/lib/python3.9/site-packages/transformers/models/auto/modeling_auto.py:1322: FutureWarning: The class `AutoModelWithLMHead` is deprecated and will be removed in a future version. Please use `AutoModelForCausalLM` for causal language models, `AutoModelForMaskedLM` for masked language models and `AutoModelForSeq2SeqLM` for encoder-decoder models.\n",
      "  warnings.warn(\n",
      "/home/RDC/zinovyee.hub/.local/lib/python3.9/site-packages/gradio/inputs.py:27: UserWarning: Usage of gradio.inputs is deprecated, and will not be supported in the future, please import your component from gradio.components\n",
      "  warnings.warn(\n",
      "/home/RDC/zinovyee.hub/.local/lib/python3.9/site-packages/gradio/deprecation.py:40: UserWarning: `optional` parameter is deprecated, and it has no effect\n",
      "  warnings.warn(value)\n",
      "/home/RDC/zinovyee.hub/.local/lib/python3.9/site-packages/gradio/deprecation.py:40: UserWarning: `numeric` parameter is deprecated, and it has no effect\n",
      "  warnings.warn(value)\n",
      "/home/RDC/zinovyee.hub/.local/lib/python3.9/site-packages/gradio/outputs.py:22: UserWarning: Usage of gradio.outputs is deprecated, and will not be supported in the future, please import your components from gradio.components\n",
      "  warnings.warn(\n"
     ]
    },
    {
     "name": "stdout",
     "output_type": "stream",
     "text": [
      "Running on local URL:  http://127.0.0.1:7862\n",
      "Running on public URL: https://7c3df94e8321134a8b.gradio.live\n",
      "\n",
      "This share link expires in 72 hours. For free permanent hosting and GPU upgrades (NEW!), check out Spaces: https://huggingface.co/spaces\n"
     ]
    },
    {
     "data": {
      "text/html": [
       "<div><iframe src=\"https://7c3df94e8321134a8b.gradio.live\" width=\"100%\" height=\"500\" allow=\"autoplay; camera; microphone; clipboard-read; clipboard-write;\" frameborder=\"0\" allowfullscreen></iframe></div>"
      ],
      "text/plain": [
       "<IPython.core.display.HTML object>"
      ]
     },
     "metadata": {},
     "output_type": "display_data"
    },
    {
     "data": {
      "text/plain": []
     },
     "execution_count": 41,
     "metadata": {},
     "output_type": "execute_result"
    }
   ],
   "source": [
    "import gradio as gr\n",
    "from transformers import pipeline, SummarizationPipeline, AutoModelWithLMHead, AutoTokenizer\n",
    "\n",
    "generator = SummarizationPipeline(\n",
    "    model=AutoModelWithLMHead.from_pretrained(\"SEBIS/code_trans_t5_large_source_code_summarization_python_multitask\"),\n",
    "    tokenizer=AutoTokenizer.from_pretrained(\"SEBIS/code_trans_t5_large_source_code_summarization_python_multitask\",\n",
    "    skip_special_tokens=False),\n",
    "    device=0\n",
    ")\n",
    "\n",
    "def read_raw_git_file(url):\n",
    "\n",
    "    \"\"\"Reads a raw file from github and returns the content as a string.\"\"\"\n",
    "    \n",
    "    import requests\n",
    "    response = requests.get(url)\n",
    "    return response.text\n",
    "\n",
    "def generate(url):\n",
    "    import json\n",
    "    CLEAN_UP = True\n",
    "    response = read_raw_git_file(url)\n",
    "    data = json.loads(response)\n",
    "    data = pd.json_normalize(data, record_path='cells')\n",
    "\n",
    "    data = data[data['cell_type'].isin(['code', 'markdown'])]\n",
    "    data = data[data['source'].notna()]\n",
    "    data = data[data['source'].apply(lambda x: len(x) > 0)]\n",
    "\n",
    "    data = [item for sublist in data.source.values for item in sublist]\n",
    "    data = [item.replace('\\n', '') for item in data if item.endswith('\\n')]\n",
    "    data = [item for item in data if len(item)>0]\n",
    "\n",
    "    samples = [f'{item}\\n' for item in data]\n",
    "\n",
    "    if isinstance(samples, str):\n",
    "        nl_description = generator([samples])\n",
    "    else:\n",
    "        nl_description = generator([codeline for codeline in samples])\n",
    "    #result = generator(text, max_length=30, num_return_sequences=1)\n",
    "    #nl_description = pipeline([codeline[0] for codeline in samples])\n",
    "    if CLEAN_UP:\n",
    "            nl_description = [re.sub(r'[^a-zA-Z0-9\\s]', '', summary['summary_text']) for summary in nl_description]\n",
    "            nl_description = [re.sub(r'\\s+', ' ', summary).strip() for summary in nl_description]\n",
    "            nl_description = [summary for summary in nl_description if len(summary) > 0]\n",
    "    return nl_description\n",
    "\n",
    "\n",
    "demo = gr.Interface(\n",
    "    fn=generate,\n",
    "    inputs=gr.inputs.Textbox(lines=5, label=\"Input Code URL\"),\n",
    "    outputs=gr.outputs.Textbox(label=\"Generated Description\"),\n",
    ")\n",
    "\n",
    "demo.launch(share=True)"
   ]
  },
  {
   "cell_type": "code",
   "execution_count": null,
   "metadata": {},
   "outputs": [],
   "source": []
  }
 ],
 "metadata": {
  "kernelspec": {
   "display_name": "encode_code",
   "language": "python",
   "name": "encode_code"
  },
  "language_info": {
   "codemirror_mode": {
    "name": "ipython",
    "version": 3
   },
   "file_extension": ".py",
   "mimetype": "text/x-python",
   "name": "python",
   "nbconvert_exporter": "python",
   "pygments_lexer": "ipython3",
   "version": "3.9.12"
  },
  "orig_nbformat": 4
 },
 "nbformat": 4,
 "nbformat_minor": 2
}

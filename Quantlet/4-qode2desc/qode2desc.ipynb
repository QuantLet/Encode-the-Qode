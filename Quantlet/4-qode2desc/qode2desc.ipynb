{
 "cells": [
  {
   "cell_type": "code",
   "execution_count": 42,
   "metadata": {
    "id": "JZal6ahJZQBU",
    "tags": []
   },
   "outputs": [],
   "source": [
    "%%capture\n",
    "#%pip install protobuf==3.20.1\n",
    "%pip install transformers[torch]\n",
    "%pip install -q sentencepiece\n",
    "%pip install datasets==2.13.1\n",
    "%pip install evaluate\n",
    "%pip install rouge_score"
   ]
  },
  {
   "cell_type": "code",
   "execution_count": 4,
   "metadata": {
    "id": "O5Mlzgdzaliu",
    "tags": []
   },
   "outputs": [],
   "source": [
    "QPATH = \"Quantlet/4-qode2desc\""
   ]
  },
  {
   "cell_type": "code",
   "execution_count": 5,
   "metadata": {
    "id": "iaAT_m3NaEzp",
    "tags": []
   },
   "outputs": [
    {
     "name": "stdout",
     "output_type": "stream",
     "text": [
      "The lab_black extension is already loaded. To reload it, use:\n",
      "  %reload_ext lab_black\n"
     ]
    }
   ],
   "source": [
    "import sys\n",
    "\n",
    "IN_COLAB = \"google.colab\" in sys.modules\n",
    "\n",
    "import os\n",
    "\n",
    "if IN_COLAB:\n",
    "    os.chdir(\n",
    "        f\"/content/drive/MyDrive/ColabNotebooks/IRTG/Encode_the_Qode/Encode-the-Qode/{QPATH}\"\n",
    "    )\n",
    "else:\n",
    "    %load_ext lab_black\n",
    "\n",
    "os.environ[\"TOKENIZERS_PARALLELISM\"] = \"false\"\n",
    "os.environ[\"WANDB_DISABLED\"] = \"true\"\n",
    "os.environ[\"CUDA_VISIBLE_DEVICES\"] = \"1\""
   ]
  },
  {
   "cell_type": "code",
   "execution_count": 27,
   "metadata": {
    "id": "oRmp1O7SZgaI",
    "tags": []
   },
   "outputs": [],
   "source": [
    "%%capture\n",
    "import pandas as pd\n",
    "from tqdm import tqdm\n",
    "\n",
    "tqdm.pandas()\n",
    "\n",
    "import torch\n",
    "import torch, gc\n",
    "import nltk\n",
    "\n",
    "nltk.download(\"punkt\")\n",
    "\n",
    "import importlib\n",
    "import analysis_modules\n",
    "\n",
    "importlib.reload(analysis_modules)"
   ]
  },
  {
   "cell_type": "code",
   "execution_count": 39,
   "metadata": {
    "tags": []
   },
   "outputs": [
    {
     "name": "stdout",
     "output_type": "stream",
     "text": [
      "CodeT5_repo_test_20231027\n"
     ]
    }
   ],
   "source": [
    "for MODE in [\"no_context\", \"repo\", \"domain\", \"author\"]:\n",
    "    analysis_config = {\n",
    "        \"DATE\": \"20231027\",\n",
    "        \"MODE\": MODE,\n",
    "        \"model_name\": \"CodeT5\",\n",
    "        \"encoder_max_length\": 512,\n",
    "        \"decoder_max_length\": 75,\n",
    "        \"random_state\": 42,\n",
    "        \"learning_rate\": 5e-4,\n",
    "        \"epochs\": 15,\n",
    "        \"train_batch\": 16,\n",
    "        \"eval_batch\": 4,\n",
    "        \"warmup_steps\": 100,\n",
    "        \"weight_decay\": 0.1,\n",
    "        \"logging_stes\": 100,\n",
    "        \"save_total_lim\": 1,\n",
    "        \"save_strategy\": \"steps\",\n",
    "        \"label_smooting\": 0.1,\n",
    "        \"predict_generate\": True,\n",
    "        \"load_best_model_at_end\": False,\n",
    "        \"evaluation_strategy\": \"epoch\",\n",
    "        \"freeze\": True,\n",
    "    }\n",
    "    if analysis_config[\"MODE\"] == \"domain\":\n",
    "        analysis_config[\n",
    "            \"train_data_path\"\n",
    "        ] = f\"../../data/preprocessed/Quantlet/{analysis_config['DATE']}/no_context/\"\n",
    "    else:\n",
    "        analysis_config[\n",
    "            \"train_data_path\"\n",
    "        ] = f\"../../data/preprocessed/Quantlet/{analysis_config['DATE']}/{analysis_config['MODE']}/\"\n",
    "\n",
    "    analysis_config[\"train_data_name\"] = (\n",
    "        f\"full_train_dataset_{analysis_config['DATE']}_sample0.json\",\n",
    "    )\n",
    "    if analysis_config[\"MODE\"] == \"domain\":\n",
    "        analysis_config[\n",
    "            \"val_data_path\"\n",
    "        ] = f\"../../data/preprocessed/Quantlet/{analysis_config['DATE']}/no_context/\"\n",
    "    else:\n",
    "        analysis_config[\n",
    "            \"val_data_path\"\n",
    "        ] = f\"../../data/preprocessed/Quantlet/{analysis_config['DATE']}/{analysis_config['MODE']}/\"\n",
    "    analysis_config[\n",
    "        \"val_data_name\"\n",
    "    ] = f\"test_dataset_{analysis_config['DATE']}_sample0.json\"\n",
    "    analysis_config[\"analysis_name\"] = create_name(analysis_config)\n",
    "    print(analysis_config[\"analysis_name\"])\n",
    "\n",
    "    if analysis_config[\"MODE\"] == \"domain\":\n",
    "        if analysis_config[\"model_name\"] == \"CodeT5\":\n",
    "            analysis_config[\n",
    "                \"model_name\"\n",
    "            ] = \"../../data/pretrained/analysis_report_CodeT5-test-12-300-4-2023-09-26-v2/results/checkpoint-88488\"\n",
    "        if analysis_config[\"model_name\"] == \"CodeTrans\":\n",
    "            analysis_config[\n",
    "                \"model_name\"\n",
    "            ] = \"../../data/pretrained/CodeTrans/results/checkpoint-12290\"\n",
    "\n",
    "    gc.collect()\n",
    "    torch.cuda.empty_cache()\n",
    "\n",
    "    trainer = analysis_modules.scs_analyze(**analysis_config)\n",
    "\n",
    "    gc.collect()\n",
    "    torch.cuda.empty_cache()\n",
    "\n",
    "    logs = parse_logs(trainer).drop_duplicates()\n",
    "\n",
    "    ANALYSIS_FOLDER=f'reports/analysis_report_{analysis_name}'\n",
    "\n",
    "    logs.to_csv(f'{ANALYSIS_FOLDER}/logs.csv', index=False)\n",
    "\n",
    "    print('Analysis finished')"
   ]
  }
 ],
 "metadata": {
  "accelerator": "GPU",
  "colab": {
   "authorship_tag": "ABX9TyPZowVhs+ksZzaIPG80pu3+",
   "gpuType": "A100",
   "machine_shape": "hm",
   "mount_file_id": "119XCh3Q64Zw4MGlsZQuGrMLS78o5MeWS",
   "private_outputs": true,
   "provenance": []
  },
  "kernelspec": {
   "display_name": "encode_code",
   "language": "python",
   "name": "python3"
  },
  "language_info": {
   "codemirror_mode": {
    "name": "ipython",
    "version": 3
   },
   "file_extension": ".py",
   "mimetype": "text/x-python",
   "name": "python",
   "nbconvert_exporter": "python",
   "pygments_lexer": "ipython3",
   "version": "3.9.12"
  }
 },
 "nbformat": 4,
 "nbformat_minor": 4
}

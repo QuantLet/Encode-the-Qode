{
 "cells": [
  {
   "cell_type": "code",
   "execution_count": 1,
   "metadata": {},
   "outputs": [],
   "source": [
    "from github import Github\n",
    "import os\n",
    "import pygit2\n",
    "import time"
   ]
  },
  {
   "cell_type": "code",
   "execution_count": 2,
   "metadata": {},
   "outputs": [],
   "source": [
    "# Paths, constants, and configs\n",
    "DATA_PATH = \"../../data\""
   ]
  },
  {
   "cell_type": "code",
   "execution_count": 3,
   "metadata": {},
   "outputs": [
    {
     "data": {
      "text/plain": [
       "'QuantLet'"
      ]
     },
     "execution_count": 3,
     "metadata": {},
     "output_type": "execute_result"
    }
   ],
   "source": [
    "# Read the token\n",
    "with open('token.txt') as f:\n",
    "    token = f.readlines()\n",
    "\n",
    "# authenticate using the token\n",
    "g = Github(token[0])\n",
    "\n",
    "# Logging into the organization\n",
    "org = g.get_organization(\"QuantLet\")\n",
    "org.login"
   ]
  },
  {
   "cell_type": "code",
   "execution_count": 4,
   "metadata": {},
   "outputs": [],
   "source": [
    "names = []\n",
    "for element in org.get_repos(type='public'):\n",
    "   names.append(element.full_name)"
   ]
  },
  {
   "cell_type": "code",
   "execution_count": 5,
   "metadata": {},
   "outputs": [
    {
     "name": "stdout",
     "output_type": "stream",
     "text": [
      "Number of existing Quantlets: 399\n"
     ]
    }
   ],
   "source": [
    "existing_Qs = os.listdir(os.path.join(DATA_PATH, 'QuantLet'))\n",
    "existing_Qs = [f'QuantLet/{quantlet}'for quantlet in existing_Qs]\n",
    "print(f'Number of existing Quantlets: {len(existing_Qs)}')"
   ]
  },
  {
   "cell_type": "code",
   "execution_count": 6,
   "metadata": {},
   "outputs": [
    {
     "name": "stdout",
     "output_type": "stream",
     "text": [
      "Number of new Quantlets: 0\n"
     ]
    }
   ],
   "source": [
    "new_Qs = set(names).difference(existing_Qs)\n",
    "print(f'Number of new Quantlets: {len(new_Qs)}')"
   ]
  },
  {
   "cell_type": "code",
   "execution_count": 7,
   "metadata": {},
   "outputs": [],
   "source": [
    "for i, name in enumerate(new_Qs):\n",
    "    print(i)\n",
    "    print(name)\n",
    "    pygit2.clone_repository(f\"https://github.com/{name}\",\n",
    "                        f\"{DATA_PATH}/{name}\",\n",
    "                        bare=False) \n",
    "    if i%10==0:\n",
    "        time.sleep(60)\n",
    "    else:\n",
    "        time.sleep(15)"
   ]
  }
 ],
 "metadata": {
  "kernelspec": {
   "display_name": "Python 3.9.12 ('encode_code')",
   "language": "python",
   "name": "python3"
  },
  "language_info": {
   "codemirror_mode": {
    "name": "ipython",
    "version": 3
   },
   "file_extension": ".py",
   "mimetype": "text/x-python",
   "name": "python",
   "nbconvert_exporter": "python",
   "pygments_lexer": "ipython3",
   "version": "3.9.12"
  },
  "orig_nbformat": 4,
  "vscode": {
   "interpreter": {
    "hash": "b5068c5f83f27504f643fbd77082c0ce556ae27ae78fa94fc3f8daafe95bc05c"
   }
  }
 },
 "nbformat": 4,
 "nbformat_minor": 2
}

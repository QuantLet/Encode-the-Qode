{
 "cells": [
  {
   "cell_type": "code",
   "execution_count": 2,
   "metadata": {},
   "outputs": [],
   "source": [
    "from github import Github\n",
    "import os\n",
    "from email.mime.text import MIMEText\n",
    "import datetime\n",
    "import pandas as pd\n",
    "import pygit2\n",
    "import time"
   ]
  },
  {
   "cell_type": "code",
   "execution_count": 3,
   "metadata": {},
   "outputs": [],
   "source": [
    "# Paths, constants, and configs\n",
    "DATA_PATH = \"../../data/QuantLet_to_parse\""
   ]
  },
  {
   "cell_type": "code",
   "execution_count": 4,
   "metadata": {},
   "outputs": [
    {
     "data": {
      "text/plain": [
       "'QuantLet'"
      ]
     },
     "execution_count": 4,
     "metadata": {},
     "output_type": "execute_result"
    }
   ],
   "source": [
    "# Read the token\n",
    "with open('token.txt') as f:\n",
    "    token = f.readlines()\n",
    "\n",
    "# authenticate using the token\n",
    "g = Github(token[0])\n",
    "\n",
    "# Logging into the organization\n",
    "org = g.get_organization(\"QuantLet\")\n",
    "org.login"
   ]
  },
  {
   "cell_type": "code",
   "execution_count": 5,
   "metadata": {},
   "outputs": [],
   "source": [
    "names = []\n",
    "for element in org.get_repos(type='public'):\n",
    "   names.append(element.full_name)"
   ]
  },
  {
   "cell_type": "code",
   "execution_count": 6,
   "metadata": {},
   "outputs": [],
   "source": [
    "existing_Qs = os.listdir(f'../../data/QuantLet')\n",
    "existing_Qs = [f'QuantLet/{quantlet}'for quantlet in existing_Qs]"
   ]
  },
  {
   "cell_type": "code",
   "execution_count": 8,
   "metadata": {},
   "outputs": [],
   "source": [
    "new_Qs = set(names).difference(existing_Qs)"
   ]
  },
  {
   "cell_type": "code",
   "execution_count": 10,
   "metadata": {},
   "outputs": [
    {
     "name": "stdout",
     "output_type": "stream",
     "text": [
      "0\n",
      "QuantLet/Multifractal_Models_in_Finance\n"
     ]
    }
   ],
   "source": [
    "for i, name in enumerate(new_Qs):\n",
    "    print(i)\n",
    "    print(name)\n",
    "    pygit2.clone_repository(f\"https://github.com/{name}\",\n",
    "                        f\"../../data/{name}\",\n",
    "                        bare=False) \n",
    "    if i%10==0:\n",
    "        time.sleep(60)\n",
    "    else:\n",
    "        time.sleep(15)"
   ]
  },
  {
   "cell_type": "code",
   "execution_count": null,
   "metadata": {},
   "outputs": [],
   "source": []
  }
 ],
 "metadata": {
  "kernelspec": {
   "display_name": "Python 3.9.12 ('encode_code')",
   "language": "python",
   "name": "python3"
  },
  "language_info": {
   "codemirror_mode": {
    "name": "ipython",
    "version": 3
   },
   "file_extension": ".py",
   "mimetype": "text/x-python",
   "name": "python",
   "nbconvert_exporter": "python",
   "pygments_lexer": "ipython3",
   "version": "3.9.12"
  },
  "orig_nbformat": 4,
  "vscode": {
   "interpreter": {
    "hash": "b5068c5f83f27504f643fbd77082c0ce556ae27ae78fa94fc3f8daafe95bc05c"
   }
  }
 },
 "nbformat": 4,
 "nbformat_minor": 2
}

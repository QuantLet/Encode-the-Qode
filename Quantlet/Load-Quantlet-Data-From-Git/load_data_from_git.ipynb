{
 "cells": [
  {
   "cell_type": "code",
   "execution_count": 1,
   "metadata": {},
   "outputs": [],
   "source": [
    "from github import Github\n",
    "import os\n",
    "import time\n",
    "#import pygit2\n",
    "import subprocess"
   ]
  },
  {
   "cell_type": "code",
   "execution_count": 2,
   "metadata": {},
   "outputs": [],
   "source": [
    "# Paths, constants, and configs\n",
    "DATA_PATH = \"../../data\""
   ]
  },
  {
   "cell_type": "code",
   "execution_count": 3,
   "metadata": {},
   "outputs": [
    {
     "data": {
      "text/plain": [
       "'QuantLet'"
      ]
     },
     "execution_count": 3,
     "metadata": {},
     "output_type": "execute_result"
    }
   ],
   "source": [
    "# Read the token\n",
    "with open('token.txt') as f:\n",
    "    token = f.readlines()[0]\n",
    "\n",
    "# or paste it here\n",
    "if 'token' not in globals():\n",
    "    token =   'PASTE YOUR TOKEN HERE'\n",
    "\n",
    "# authenticate using the token\n",
    "g = Github(token)\n",
    "\n",
    "# Logging into the organization\n",
    "org = g.get_organization(\"QuantLet\")\n",
    "org.login"
   ]
  },
  {
   "cell_type": "code",
   "execution_count": 4,
   "metadata": {},
   "outputs": [],
   "source": [
    "names = []\n",
    "for element in org.get_repos(type='public'):\n",
    "   names.append(element.full_name)"
   ]
  },
  {
   "cell_type": "code",
   "execution_count": 5,
   "metadata": {},
   "outputs": [
    {
     "name": "stdout",
     "output_type": "stream",
     "text": [
      "Number of existing Quantlets: 396\n"
     ]
    }
   ],
   "source": [
    "if os.path.exists(os.path.join(DATA_PATH, 'QuantLet')):\n",
    "    existing_Qs = os.listdir(os.path.join(DATA_PATH, 'QuantLet'))\n",
    "    existing_Qs = [f'QuantLet/{quantlet}'for quantlet in existing_Qs]\n",
    "    print(f'Number of existing Quantlets: {len(existing_Qs)}')\n",
    "else:\n",
    "    existing_Qs = []\n",
    "    print(f'Number of existing Quantlets: 0')"
   ]
  },
  {
   "cell_type": "code",
   "execution_count": 6,
   "metadata": {},
   "outputs": [
    {
     "name": "stdout",
     "output_type": "stream",
     "text": [
      "Number of new Quantlets: 1\n"
     ]
    }
   ],
   "source": [
    "new_Qs = set(names).difference(existing_Qs)\n",
    "print(f'Number of new Quantlets: {len(new_Qs)}')"
   ]
  },
  {
   "cell_type": "code",
   "execution_count": 7,
   "metadata": {},
   "outputs": [
    {
     "name": "stdout",
     "output_type": "stream",
     "text": [
      "0\n",
      "QuantLet/Regulatory-risk-cryptocurrency\n",
      "Klone nach '../../data/QuantLet/Regulatory-risk-cryptocurrency'...\n"
     ]
    },
    {
     "name": "stderr",
     "output_type": "stream",
     "text": [
      "error: unable to create file Regulatory_risk_coindesk/news_counts.csv (Die Datei existiert bereits)\n",
      "Checking out files: 100% (37/37), done.\n",
      "fatal: Arbeitsbaum konnte nicht ausgecheckt werden\n",
      "warning: Klonen erfolgreich, Auschecken ist aber fehlgeschlagen.\n",
      "Sie können mit 'git status' prüfen, was ausgecheckt worden ist\n",
      "und das Auschecken mit 'git checkout -f HEAD' erneut versuchen.\n",
      "\n"
     ]
    }
   ],
   "source": [
    "for i, name in enumerate(new_Qs):\n",
    "    print(i)\n",
    "    print(name)\n",
    "    subprocess.Popen(f\"git clone https://github.com/{name} {DATA_PATH}/{name}\", shell=True)\n",
    "    if i%10==0:\n",
    "        time.sleep(60)\n",
    "    else:\n",
    "        time.sleep(15)"
   ]
  },
  {
   "cell_type": "code",
   "execution_count": null,
   "metadata": {},
   "outputs": [],
   "source": []
  }
 ],
 "metadata": {
  "kernelspec": {
   "display_name": "encode_code",
   "language": "python",
   "name": "encode_code"
  },
  "language_info": {
   "codemirror_mode": {
    "name": "ipython",
    "version": 3
   },
   "file_extension": ".py",
   "mimetype": "text/x-python",
   "name": "python",
   "nbconvert_exporter": "python",
   "pygments_lexer": "ipython3",
   "version": "3.9.12"
  },
  "orig_nbformat": 4,
  "vscode": {
   "interpreter": {
    "hash": "b5068c5f83f27504f643fbd77082c0ce556ae27ae78fa94fc3f8daafe95bc05c"
   }
  }
 },
 "nbformat": 4,
 "nbformat_minor": 2
}

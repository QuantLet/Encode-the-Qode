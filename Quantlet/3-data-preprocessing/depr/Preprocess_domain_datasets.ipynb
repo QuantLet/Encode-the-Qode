{
 "cells": [
  {
   "cell_type": "code",
   "execution_count": null,
   "metadata": {
    "id": "Vf9AW_mfb9P5"
   },
   "outputs": [],
   "source": [
    "%%capture\n",
    "%pip install transformers[torch]\n",
    "%pip install -q sentencepiece\n",
    "%pip install datasets==2.13.1"
   ]
  },
  {
   "cell_type": "code",
   "execution_count": null,
   "metadata": {
    "id": "F1MRqiwvb7LE"
   },
   "outputs": [],
   "source": [
    "import pandas as pd\n",
    "import json"
   ]
  },
  {
   "cell_type": "code",
   "execution_count": null,
   "metadata": {
    "id": "plEUmB9Jblmd"
   },
   "outputs": [],
   "source": [
    "QPATH = \"Quantlet/3-data-preprocessing\"\n",
    "import sys\n",
    "IN_COLAB = 'google.colab' in sys.modules\n",
    "\n",
    "import os\n",
    "if IN_COLAB:\n",
    "  os.chdir(f'/content/drive/MyDrive/ColabNotebooks/IRTG/Encode_the_Qode/Encode-the-Qode/{QPATH}')"
   ]
  },
  {
   "cell_type": "code",
   "execution_count": null,
   "metadata": {
    "id": "vjMXX_oMbkqX"
   },
   "outputs": [],
   "source": [
    "train = pd.read_csv('../../data/preprocessed/Quantlet/train_df_with_domain_20231002.csv')\n",
    "val = pd.read_csv('../../data/preprocessed/Quantlet/val_df_with_domain_20231002.csv')\n",
    "test = pd.read_csv('../../data/preprocessed/Quantlet/test_df_with_domain_20231002.csv')"
   ]
  },
  {
   "cell_type": "code",
   "execution_count": null,
   "metadata": {
    "id": "baTfxbUAc7BW"
   },
   "outputs": [],
   "source": [
    "val['id']  = val.index\n",
    "test['id'] = test.index"
   ]
  },
  {
   "cell_type": "markdown",
   "metadata": {
    "id": "fWOxfOqWd-cd"
   },
   "source": [
    "### DOMAIN GROUPS"
   ]
  },
  {
   "cell_type": "code",
   "execution_count": null,
   "metadata": {
    "id": "YKJjba3vdEc4"
   },
   "outputs": [],
   "source": [
    "for domain_group in val.domain_group.unique():\n",
    "  group_val = val.loc[val.domain_group == domain_group, : ]\n",
    "  val_dataset_json = {'version' : str(domain_group),\n",
    "                      'data' : [{'input_sequence'  : group_val['code_script'].iloc[i],\n",
    "                                'output_sequence' : group_val['Description'].iloc[i]} for i in range(group_val.shape[0])]}\n",
    "  with open(f'../../data/preprocessed/Quantlet/val_dataset_{domain_group}_20231007.json', 'w') as f:\n",
    "    json.dump(val_dataset_json, f)"
   ]
  },
  {
   "cell_type": "code",
   "execution_count": null,
   "metadata": {
    "id": "K8t9Ew_cdYuC"
   },
   "outputs": [],
   "source": [
    "for domain_group in test.domain_group.unique():\n",
    "  group_test = test.loc[test.domain_group == domain_group, : ]\n",
    "  test_dataset_json = {'version' : str(domain_group),\n",
    "                      'data' : [{'input_sequence'  : group_test['code_script'].iloc[i],\n",
    "                                'output_sequence' : group_test['Description'].iloc[i]} for i in range(group_test.shape[0])]}\n",
    "  with open(f'../../data/preprocessed/Quantlet/test_dataset_{domain_group}_20231007.json', 'w') as f:\n",
    "    json.dump(test_dataset_json, f)"
   ]
  },
  {
   "cell_type": "markdown",
   "metadata": {
    "id": "llD0JCkkeCKH"
   },
   "source": [
    "### PROGRAMMING LANGUAGES"
   ]
  },
  {
   "cell_type": "code",
   "execution_count": null,
   "metadata": {
    "id": "ahP_ckECeB3L"
   },
   "outputs": [],
   "source": [
    "for type_script in val.type_script.unique():\n",
    "  group_val = val.loc[val.type_script == type_script, : ]\n",
    "  val_dataset_json = {'version' : type_script,\n",
    "                      'data' : [{'input_sequence'  : group_val['code_script'].iloc[i],\n",
    "                                'output_sequence' : group_val['Description'].iloc[i]} for i in range(group_val.shape[0])]}\n",
    "  with open(f'../../data/preprocessed/Quantlet/val_dataset_{type_script}_20231007.json', 'w') as f:\n",
    "    json.dump(val_dataset_json, f)"
   ]
  },
  {
   "cell_type": "code",
   "execution_count": null,
   "metadata": {
    "id": "TSVJ2ybWeOJK"
   },
   "outputs": [],
   "source": [
    "for type_script in test.type_script.unique():\n",
    "  group_test = test.loc[test.type_script == type_script, : ]\n",
    "  test_dataset_json = {'version' : type_script,\n",
    "                      'data' : [{'input_sequence'  : group_test['code_script'].iloc[i],\n",
    "                                'output_sequence' : group_test['Description'].iloc[i]} for i in range(group_test.shape[0])]}\n",
    "  with open(f'../../data/preprocessed/Quantlet/test_dataset_{type_script}_20231007.json', 'w') as f:\n",
    "    json.dump(test_dataset_json, f)"
   ]
  },
  {
   "cell_type": "code",
   "execution_count": null,
   "metadata": {
    "id": "HFVWgtByeXRw"
   },
   "outputs": [],
   "source": []
  }
 ],
 "metadata": {
  "colab": {
   "authorship_tag": "ABX9TyMa7Oyu2TZGM6hEwthvWT6d",
   "mount_file_id": "1B1dJK4iYOhhs7I7Qk-JfN3B43Yvdn6SK",
   "provenance": []
  },
  "kernelspec": {
   "display_name": "Python 3 (ipykernel)",
   "language": "python",
   "name": "python3"
  },
  "language_info": {
   "codemirror_mode": {
    "name": "ipython",
    "version": 3
   },
   "file_extension": ".py",
   "mimetype": "text/x-python",
   "name": "python",
   "nbconvert_exporter": "python",
   "pygments_lexer": "ipython3",
   "version": "3.9.12"
  }
 },
 "nbformat": 4,
 "nbformat_minor": 4
}

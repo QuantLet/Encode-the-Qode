{
 "cells": [
  {
   "cell_type": "code",
   "execution_count": 10,
   "metadata": {},
   "outputs": [],
   "source": [
    "from github import Github\n",
    "import os\n",
    "from email.mime.text import MIMEText\n",
    "import datetime\n",
    "import pandas as pd\n",
    "import pygit2\n",
    "import time"
   ]
  },
  {
   "cell_type": "code",
   "execution_count": 11,
   "metadata": {},
   "outputs": [],
   "source": [
    "# Paths, constants, and configs\n",
    "DATA_PATH = \"../data/QuantLet_to_parse\""
   ]
  },
  {
   "cell_type": "code",
   "execution_count": 12,
   "metadata": {},
   "outputs": [
    {
     "data": {
      "text/plain": [
       "'QuantLet'"
      ]
     },
     "execution_count": 12,
     "metadata": {},
     "output_type": "execute_result"
    }
   ],
   "source": [
    "# Read the token\n",
    "with open('token.txt') as f:\n",
    "    token = f.readlines()\n",
    "\n",
    "# authenticate using the token\n",
    "g = Github(token[0])\n",
    "\n",
    "# Logging into the organization\n",
    "org = g.get_organization(\"QuantLet\")\n",
    "org.login"
   ]
  },
  {
   "cell_type": "code",
   "execution_count": 13,
   "metadata": {},
   "outputs": [],
   "source": [
    "names = []\n",
    "for element in org.get_repos(type='public'):\n",
    "   names.append(element.full_name)"
   ]
  },
  {
   "cell_type": "code",
   "execution_count": 33,
   "metadata": {},
   "outputs": [],
   "source": [
    "existing_Qs = os.listdir(f'../data/QuantLet')\n",
    "existing_Qs = [f'QuantLet/{quantlet}'for quantlet in existing_Qs]"
   ]
  },
  {
   "cell_type": "code",
   "execution_count": 34,
   "metadata": {},
   "outputs": [],
   "source": [
    "new_Qs = set(names).difference(existing_Qs)"
   ]
  },
  {
   "cell_type": "code",
   "execution_count": 36,
   "metadata": {},
   "outputs": [
    {
     "name": "stdout",
     "output_type": "stream",
     "text": [
      "0\n",
      "QuantLet/Solidity-Lottery\n",
      "1\n",
      "QuantLet/UStatistics\n",
      "2\n",
      "QuantLet/Encode-the-Qode\n",
      "3\n",
      "QuantLet/SDA_2022_St_Gallen\n",
      "4\n",
      "QuantLet/py-RobustM\n",
      "5\n",
      "QuantLet/SMLSM\n",
      "6\n",
      "QuantLet/FRM_RO\n",
      "7\n",
      "QuantLet/BitcoinOptions\n",
      "8\n",
      "QuantLet/DEDA_2022_Elon_Word_Cloud\n",
      "9\n",
      "QuantLet/IV_implied_fair_premium_curves\n",
      "10\n",
      "QuantLet/fit_IV_DEJD\n",
      "11\n",
      "QuantLet/quantinar-keycloak-theme\n",
      "12\n",
      "QuantLet/DAI_digital_art_index\n",
      "13\n",
      "QuantLet/icc.isvm\n",
      "14\n",
      "QuantLet/Hedging-Cryptos-with-Bitcoin-Futures\n",
      "15\n",
      "QuantLet/Shapley_Smoothing\n",
      "16\n",
      "QuantLet/CardSpentplot\n",
      "17\n",
      "QuantLet/quantinar-rep\n",
      "18\n",
      "QuantLet/p2pInterestRate\n",
      "19\n",
      "QuantLet/network_BTC_exchanges\n",
      "20\n",
      "QuantLet/Quantinar-Staking-Simulation\n",
      "21\n",
      "QuantLet/Deribit_inverse_BTC_options_hedging\n",
      "22\n",
      "QuantLet/Nonparametric_Shapley\n",
      "23\n",
      "QuantLet/RoboAdvisors\n",
      "24\n",
      "QuantLet/Network-portfolio\n",
      "25\n",
      "QuantLet/DEDA_2022_NYCU\n",
      "26\n",
      "QuantLet/Network-Structure-Portfolio\n",
      "27\n",
      "QuantLet/CRIX_ETF\n",
      "28\n",
      "QuantLet/hf.econometrics\n",
      "29\n",
      "QuantLet/Deribit_inverse_BTC_options\n"
     ]
    }
   ],
   "source": [
    "for i, name in enumerate(new_Qs):\n",
    "    print(i)\n",
    "    print(name)\n",
    "    pygit2.clone_repository(f\"https://github.com/{name}\",\n",
    "                        f\"../data/{name}\",\n",
    "                        bare=False) \n",
    "    if i%10==0:\n",
    "        time.sleep(60)\n",
    "    else:\n",
    "        time.sleep(15)"
   ]
  },
  {
   "cell_type": "code",
   "execution_count": null,
   "metadata": {},
   "outputs": [],
   "source": []
  }
 ],
 "metadata": {
  "kernelspec": {
   "display_name": "Python 3.9.12 ('encode_code')",
   "language": "python",
   "name": "python3"
  },
  "language_info": {
   "codemirror_mode": {
    "name": "ipython",
    "version": 3
   },
   "file_extension": ".py",
   "mimetype": "text/x-python",
   "name": "python",
   "nbconvert_exporter": "python",
   "pygments_lexer": "ipython3",
   "version": "3.9.12"
  },
  "orig_nbformat": 4,
  "vscode": {
   "interpreter": {
    "hash": "b5068c5f83f27504f643fbd77082c0ce556ae27ae78fa94fc3f8daafe95bc05c"
   }
  }
 },
 "nbformat": 4,
 "nbformat_minor": 2
}
